{
 "cells": [
  {
   "cell_type": "markdown",
   "metadata": {},
   "source": [
    "\n",
    "# Example notebook for the functions contained into plot.py()"
   ]
  },
  {
   "cell_type": "markdown",
   "metadata": {},
   "source": [
    "## Bands"
   ]
  },
  {
   "cell_type": "code",
   "execution_count": 9,
   "metadata": {},
   "outputs": [
    {
     "ename": "ModuleNotFoundError",
     "evalue": "No module named 'crystal_functions'",
     "output_type": "error",
     "traceback": [
      "\u001b[0;31m---------------------------------------------------------------------------\u001b[0m",
      "\u001b[0;31mModuleNotFoundError\u001b[0m                       Traceback (most recent call last)",
      "\u001b[0;32m/var/folders/sg/zkmv2k2s1qs2g3vt9zc_lllc0000gn/T/ipykernel_33819/1311366056.py\u001b[0m in \u001b[0;36m<module>\u001b[0;34m\u001b[0m\n\u001b[0;32m----> 1\u001b[0;31m \u001b[0;32mfrom\u001b[0m \u001b[0mcrystal_functions\u001b[0m\u001b[0;34m.\u001b[0m\u001b[0mfile_readwrite\u001b[0m \u001b[0;32mimport\u001b[0m \u001b[0mProperties_output\u001b[0m\u001b[0;34m\u001b[0m\u001b[0;34m\u001b[0m\u001b[0m\n\u001b[0m\u001b[1;32m      2\u001b[0m \u001b[0;32mimport\u001b[0m \u001b[0mcrystal_functions\u001b[0m\u001b[0;34m.\u001b[0m\u001b[0mplot\u001b[0m \u001b[0;32mas\u001b[0m \u001b[0mcfplt\u001b[0m\u001b[0;34m\u001b[0m\u001b[0;34m\u001b[0m\u001b[0m\n",
      "\u001b[0;31mModuleNotFoundError\u001b[0m: No module named 'crystal_functions'"
     ]
    }
   ],
   "source": [
    "from crystal_functions.file_readwrite import Properties_output\n",
    "import crystal_functions.plot as cfplt "
   ]
  },
  {
   "cell_type": "markdown",
   "metadata": {},
   "source": [
    "### Single Band Structure "
   ]
  },
  {
   "cell_type": "code",
   "execution_count": null,
   "metadata": {},
   "outputs": [
    {
     "ename": "NameError",
     "evalue": "name 'Properties_output' is not defined",
     "output_type": "error",
     "traceback": [
      "\u001b[0;31m---------------------------------------------------------------------------\u001b[0m",
      "\u001b[0;31mNameError\u001b[0m                                 Traceback (most recent call last)",
      "\u001b[0;32m/var/folders/sg/zkmv2k2s1qs2g3vt9zc_lllc0000gn/T/ipykernel_33819/3758960896.py\u001b[0m in \u001b[0;36m<module>\u001b[0;34m\u001b[0m\n\u001b[0;32m----> 1\u001b[0;31m \u001b[0mData\u001b[0m \u001b[0;34m=\u001b[0m \u001b[0mProperties_output\u001b[0m\u001b[0;34m(\u001b[0m\u001b[0;34m'data/hTaAs_lda_bande44.BAND'\u001b[0m\u001b[0;34m)\u001b[0m\u001b[0;34m.\u001b[0m\u001b[0mread_cry_bands\u001b[0m\u001b[0;34m(\u001b[0m\u001b[0;34m)\u001b[0m\u001b[0;34m\u001b[0m\u001b[0;34m\u001b[0m\u001b[0m\n\u001b[0m\u001b[1;32m      2\u001b[0m \u001b[0mcfplt\u001b[0m\u001b[0;34m.\u001b[0m\u001b[0mplot_cry_bands\u001b[0m\u001b[0;34m(\u001b[0m\u001b[0mData\u001b[0m\u001b[0;34m,\u001b[0m \u001b[0menergy_range\u001b[0m\u001b[0;34m=\u001b[0m\u001b[0;34m[\u001b[0m\u001b[0;34m-\u001b[0m\u001b[0;36m5\u001b[0m\u001b[0;34m,\u001b[0m \u001b[0;36m5\u001b[0m\u001b[0;34m]\u001b[0m\u001b[0;34m,\u001b[0m \u001b[0mk_labels\u001b[0m\u001b[0;34m=\u001b[0m\u001b[0;34m[\u001b[0m\u001b[0;34m'Gamma'\u001b[0m\u001b[0;34m,\u001b[0m \u001b[0;34m'M'\u001b[0m\u001b[0;34m,\u001b[0m \u001b[0;34m'K'\u001b[0m\u001b[0;34m,\u001b[0m \u001b[0;34m'A'\u001b[0m\u001b[0;34m,\u001b[0m \u001b[0;34m'L'\u001b[0m\u001b[0;34m,\u001b[0m \u001b[0;34m'H'\u001b[0m\u001b[0;34m,\u001b[0m \u001b[0;34m'K'\u001b[0m\u001b[0;34m]\u001b[0m\u001b[0;34m,\u001b[0m \u001b[0mtitle\u001b[0m\u001b[0;34m=\u001b[0m\u001b[0;34m'hTaAs'\u001b[0m\u001b[0;34m)\u001b[0m\u001b[0;34m\u001b[0m\u001b[0;34m\u001b[0m\u001b[0m\n",
      "\u001b[0;31mNameError\u001b[0m: name 'Properties_output' is not defined"
     ]
    }
   ],
   "source": [
    "Data = Properties_output('data/hTaAs_lda_bande44.BAND').read_cry_bands()\n",
    "cfplt.plot_cry_bands(Data, energy_range=[-5, 5], k_labels=['Gamma', 'M', 'K', 'A', 'L', 'H', 'K'], title='hTaAs')\n"
   ]
  },
  {
   "cell_type": "markdown",
   "metadata": {},
   "source": [
    "You can also change the defaults bands color, line style, line width, range of k points, color of the Fermi level, and figsize as follows: "
   ]
  },
  {
   "cell_type": "code",
   "execution_count": null,
   "metadata": {},
   "outputs": [
    {
     "ename": "NameError",
     "evalue": "name 'cfplt' is not defined",
     "output_type": "error",
     "traceback": [
      "\u001b[0;31m---------------------------------------------------------------------------\u001b[0m",
      "\u001b[0;31mNameError\u001b[0m                                 Traceback (most recent call last)",
      "\u001b[0;32m/var/folders/sg/zkmv2k2s1qs2g3vt9zc_lllc0000gn/T/ipykernel_33819/2951329855.py\u001b[0m in \u001b[0;36m<module>\u001b[0;34m\u001b[0m\n\u001b[0;32m----> 1\u001b[0;31m cfplt.plot_cry_bands(Data, energy_range=[-5, 5], k_labels=['Gamma', 'M', 'K', 'A', 'L', 'H', 'K'], title='hTaAs', linestl='--',linewidth=1.5, \n\u001b[0m\u001b[1;32m      2\u001b[0m                      color='green', fermi='black', k_range=['Gamma', 'L'], figsize=(16,9))\n",
      "\u001b[0;31mNameError\u001b[0m: name 'cfplt' is not defined"
     ]
    }
   ],
   "source": [
    "cfplt.plot_cry_bands(Data, energy_range=[-5, 5], k_labels=['Gamma', 'M', 'K', 'A', 'L', 'H', 'K'], title='hTaAs', linestl='--',linewidth=1.5, \n",
    "                     color='green', fermi='black', k_range=['Gamma', 'L'], figsize=(16,9))\n"
   ]
  },
  {
   "cell_type": "markdown",
   "metadata": {},
   "source": [
    "### Multiple Band Structures"
   ]
  },
  {
   "cell_type": "markdown",
   "metadata": {},
   "source": [
    "With the plot_cry_bands() fuction you can plot multiple band structures in two ways: Overlapping the structures, and side by side plots"
   ]
  },
  {
   "cell_type": "markdown",
   "metadata": {},
   "source": [
    "#### Overlapping Structures"
   ]
  },
  {
   "cell_type": "code",
   "execution_count": null,
   "metadata": {},
   "outputs": [
    {
     "ename": "NameError",
     "evalue": "name 'Properties_output' is not defined",
     "output_type": "error",
     "traceback": [
      "\u001b[0;31m---------------------------------------------------------------------------\u001b[0m",
      "\u001b[0;31mNameError\u001b[0m                                 Traceback (most recent call last)",
      "\u001b[0;32m/var/folders/sg/zkmv2k2s1qs2g3vt9zc_lllc0000gn/T/ipykernel_33819/401646072.py\u001b[0m in \u001b[0;36m<module>\u001b[0;34m\u001b[0m\n\u001b[1;32m      1\u001b[0m \u001b[0mData\u001b[0m \u001b[0;34m=\u001b[0m \u001b[0;34m[\u001b[0m\u001b[0;34m'data/hTaAs_lda_noso_bande.band'\u001b[0m\u001b[0;34m,\u001b[0m \u001b[0;34m'data/hTaAs_lda_bande44.BAND'\u001b[0m\u001b[0;34m,\u001b[0m \u001b[0;34m'data/hTaAs_lda_P15_bande.band'\u001b[0m\u001b[0;34m,\u001b[0m \u001b[0;34m'data/hTaAs_lda_P25_bande.band'\u001b[0m\u001b[0;34m]\u001b[0m\u001b[0;34m\u001b[0m\u001b[0;34m\u001b[0m\u001b[0m\n\u001b[1;32m      2\u001b[0m \u001b[0;32mfor\u001b[0m \u001b[0mindex\u001b[0m\u001b[0;34m,\u001b[0m \u001b[0mfile\u001b[0m \u001b[0;32min\u001b[0m \u001b[0menumerate\u001b[0m\u001b[0;34m(\u001b[0m\u001b[0mData\u001b[0m\u001b[0;34m)\u001b[0m\u001b[0;34m:\u001b[0m\u001b[0;34m\u001b[0m\u001b[0;34m\u001b[0m\u001b[0m\n\u001b[0;32m----> 3\u001b[0;31m     \u001b[0mData\u001b[0m\u001b[0;34m[\u001b[0m\u001b[0mindex\u001b[0m\u001b[0;34m]\u001b[0m\u001b[0;34m=\u001b[0m\u001b[0mProperties_output\u001b[0m\u001b[0;34m(\u001b[0m\u001b[0mfile\u001b[0m\u001b[0;34m)\u001b[0m\u001b[0;34m.\u001b[0m\u001b[0mread_cry_bands\u001b[0m\u001b[0;34m\u001b[0m\u001b[0;34m\u001b[0m\u001b[0m\n\u001b[0m\u001b[1;32m      4\u001b[0m \u001b[0;34m\u001b[0m\u001b[0m\n\u001b[1;32m      5\u001b[0m \u001b[0mcfplt\u001b[0m\u001b[0;34m.\u001b[0m\u001b[0mplot_cry_bands\u001b[0m\u001b[0;34m(\u001b[0m\u001b[0mData\u001b[0m\u001b[0;34m,\u001b[0m \u001b[0mmode\u001b[0m\u001b[0;34m=\u001b[0m\u001b[0;34m'multi'\u001b[0m\u001b[0;34m,\u001b[0m \u001b[0menergy_range\u001b[0m\u001b[0;34m=\u001b[0m\u001b[0;34m[\u001b[0m\u001b[0;34m-\u001b[0m\u001b[0;36m5\u001b[0m\u001b[0;34m,\u001b[0m \u001b[0;36m5\u001b[0m\u001b[0;34m]\u001b[0m\u001b[0;34m,\u001b[0m \u001b[0mk_labels\u001b[0m\u001b[0;34m=\u001b[0m\u001b[0;34m[\u001b[0m\u001b[0;34m'Gamma'\u001b[0m\u001b[0;34m,\u001b[0m \u001b[0;34m'M'\u001b[0m\u001b[0;34m,\u001b[0m \u001b[0;34m'K'\u001b[0m\u001b[0;34m,\u001b[0m \u001b[0;34m'A'\u001b[0m\u001b[0;34m,\u001b[0m \u001b[0;34m'L'\u001b[0m\u001b[0;34m,\u001b[0m \u001b[0;34m'H'\u001b[0m\u001b[0;34m,\u001b[0m \u001b[0;34m'K'\u001b[0m\u001b[0;34m]\u001b[0m\u001b[0;34m,\u001b[0m \u001b[0mtitle\u001b[0m\u001b[0;34m=\u001b[0m\u001b[0;34m'hTaAs'\u001b[0m\u001b[0;34m,\u001b[0m \u001b[0mlabels\u001b[0m\u001b[0;34m=\u001b[0m\u001b[0;34m[\u001b[0m\u001b[0;34m'NOSOC'\u001b[0m\u001b[0;34m,\u001b[0m \u001b[0;34m'SCDFT'\u001b[0m\u001b[0;34m,\u001b[0m \u001b[0;34m'P15'\u001b[0m\u001b[0;34m,\u001b[0m \u001b[0;34m'P25'\u001b[0m\u001b[0;34m]\u001b[0m\u001b[0;34m)\u001b[0m\u001b[0;34m\u001b[0m\u001b[0;34m\u001b[0m\u001b[0m\n",
      "\u001b[0;31mNameError\u001b[0m: name 'Properties_output' is not defined"
     ]
    }
   ],
   "source": [
    "Data = ['data/hTaAs_lda_noso_bande.band', 'data/hTaAs_lda_bande44.BAND', 'data/hTaAs_lda_P15_bande.band', 'data/hTaAs_lda_P25_bande.band']\n",
    "for index, file in enumerate(Data):\n",
    "    Data[index]=Properties_output(file).read_cry_bands\n",
    "    \n",
    "cfplt.plot_cry_bands(Data, mode='multi', energy_range=[-5, 5], k_labels=['Gamma', 'M', 'K', 'A', 'L', 'H', 'K'], title='hTaAs', labels=['NOSOC', 'SCDFT', 'P15', 'P25'])"
   ]
  },
  {
   "cell_type": "markdown",
   "metadata": {},
   "source": [
    "As for the single band plots the default bands color, line style, line width, range of k points, Fermi level color, and figsize:"
   ]
  },
  {
   "cell_type": "code",
   "execution_count": null,
   "metadata": {},
   "outputs": [
    {
     "ename": "NameError",
     "evalue": "name 'cfplt' is not defined",
     "output_type": "error",
     "traceback": [
      "\u001b[0;31m---------------------------------------------------------------------------\u001b[0m",
      "\u001b[0;31mNameError\u001b[0m                                 Traceback (most recent call last)",
      "\u001b[0;32m/var/folders/sg/zkmv2k2s1qs2g3vt9zc_lllc0000gn/T/ipykernel_33819/3659317295.py\u001b[0m in \u001b[0;36m<module>\u001b[0;34m\u001b[0m\n\u001b[0;32m----> 1\u001b[0;31m cfplt.plot_cry_bands(Data, mode='multi', energy_range=[-5, 5], k_labels=['Gamma', 'M', 'K', 'A', 'L', 'H', 'K'], title='hTaAs',\n\u001b[0m\u001b[1;32m      2\u001b[0m                      \u001b[0mlabels\u001b[0m\u001b[0;34m=\u001b[0m\u001b[0;34m[\u001b[0m\u001b[0;34m'NOSOC'\u001b[0m\u001b[0;34m,\u001b[0m \u001b[0;34m'SCDFT'\u001b[0m\u001b[0;34m,\u001b[0m \u001b[0;34m'P15'\u001b[0m\u001b[0;34m,\u001b[0m \u001b[0;34m'P25'\u001b[0m\u001b[0;34m]\u001b[0m\u001b[0;34m,\u001b[0m \u001b[0mcolor\u001b[0m\u001b[0;34m=\u001b[0m\u001b[0;34m[\u001b[0m\u001b[0;34m'dimgrey'\u001b[0m\u001b[0;34m,\u001b[0m \u001b[0;34m'blue'\u001b[0m\u001b[0;34m,\u001b[0m \u001b[0;34m'indigo'\u001b[0m\u001b[0;34m,\u001b[0m \u001b[0;34m'crimson'\u001b[0m\u001b[0;34m]\u001b[0m\u001b[0;34m,\u001b[0m \u001b[0mfermi\u001b[0m\u001b[0;34m=\u001b[0m\u001b[0;34m'greenyellow'\u001b[0m\u001b[0;34m,\u001b[0m\u001b[0;34m\u001b[0m\u001b[0;34m\u001b[0m\u001b[0m\n\u001b[1;32m      3\u001b[0m                      k_range=['A', 'K1'], linestl=['-','--','dotted','dashdot'], linewidth=2)\n",
      "\u001b[0;31mNameError\u001b[0m: name 'cfplt' is not defined"
     ]
    }
   ],
   "source": [
    "cfplt.plot_cry_bands(Data, mode='multi', energy_range=[-5, 5], k_labels=['Gamma', 'M', 'K', 'A', 'L', 'H', 'K'], title='hTaAs',\n",
    "                     labels=['NOSOC', 'SCDFT', 'P15', 'P25'], color=['dimgrey', 'blue', 'indigo', 'crimson'], fermi='greenyellow',\n",
    "                     k_range=['A', 'K1'], linestl=['-','--','dotted','dashdot'], linewidth=2, figsize=(16,10))"
   ]
  },
  {
   "cell_type": "markdown",
   "metadata": {},
   "source": [
    "#### Side by Side Plots"
   ]
  },
  {
   "cell_type": "code",
   "execution_count": null,
   "metadata": {},
   "outputs": [
    {
     "ename": "NameError",
     "evalue": "name 'cfplt' is not defined",
     "output_type": "error",
     "traceback": [
      "\u001b[0;31m---------------------------------------------------------------------------\u001b[0m",
      "\u001b[0;31mNameError\u001b[0m                                 Traceback (most recent call last)",
      "\u001b[0;32m/var/folders/sg/zkmv2k2s1qs2g3vt9zc_lllc0000gn/T/ipykernel_33819/562002596.py\u001b[0m in \u001b[0;36m<module>\u001b[0;34m\u001b[0m\n\u001b[0;32m----> 1\u001b[0;31m \u001b[0mcfplt\u001b[0m\u001b[0;34m.\u001b[0m\u001b[0mplot_cry_bands\u001b[0m\u001b[0;34m(\u001b[0m\u001b[0mData\u001b[0m\u001b[0;34m,\u001b[0m \u001b[0mmode\u001b[0m\u001b[0;34m=\u001b[0m\u001b[0;34m'compare'\u001b[0m\u001b[0;34m,\u001b[0m \u001b[0menergy_range\u001b[0m\u001b[0;34m=\u001b[0m\u001b[0;34m[\u001b[0m\u001b[0;34m-\u001b[0m\u001b[0;36m5\u001b[0m\u001b[0;34m,\u001b[0m \u001b[0;36m5\u001b[0m\u001b[0;34m]\u001b[0m\u001b[0;34m,\u001b[0m \u001b[0mk_labels\u001b[0m\u001b[0;34m=\u001b[0m\u001b[0;34m[\u001b[0m\u001b[0;34m'Gamma'\u001b[0m\u001b[0;34m,\u001b[0m \u001b[0;34m'M'\u001b[0m\u001b[0;34m,\u001b[0m \u001b[0;34m'K'\u001b[0m\u001b[0;34m,\u001b[0m \u001b[0;34m'A'\u001b[0m\u001b[0;34m,\u001b[0m \u001b[0;34m'L'\u001b[0m\u001b[0;34m,\u001b[0m \u001b[0;34m'H'\u001b[0m\u001b[0;34m,\u001b[0m \u001b[0;34m'K'\u001b[0m\u001b[0;34m]\u001b[0m\u001b[0;34m)\u001b[0m\u001b[0;34m\u001b[0m\u001b[0;34m\u001b[0m\u001b[0m\n\u001b[0m",
      "\u001b[0;31mNameError\u001b[0m: name 'cfplt' is not defined"
     ]
    }
   ],
   "source": [
    "cfplt.plot_cry_bands(Data, mode='compare', energy_range=[-5, 5], k_labels=['Gamma', 'M', 'K', 'A', 'L', 'H', 'K'])\n"
   ]
  },
  {
   "cell_type": "markdown",
   "metadata": {},
   "source": [
    "As seen for the overlapped structures, we can change bands color, line style, line width, color of the fermi level and figsize. In addition you'll be able to change the display scheme "
   ]
  },
  {
   "cell_type": "code",
   "execution_count": null,
   "metadata": {},
   "outputs": [],
   "source": [
    "cfplt.plot_cry_bands(Data, mode='compare',energy_range=[-5, 5], k_labels=['Gamma', 'M', 'K', 'A', 'L', 'H', 'K'], color='forestgreen', fermi='red',\n",
    "                     linestl='--', linewidth=0.5, figsize=(15,15))\n"
   ]
  }
 ],
 "metadata": {
  "interpreter": {
   "hash": "40d3a090f54c6569ab1632332b64b2c03c39dcf918b08424e98f38b5ae0af88f"
  },
  "kernelspec": {
   "display_name": "Python 3.9.7 ('base')",
   "language": "python",
   "name": "python3"
  },
  "language_info": {
   "codemirror_mode": {
    "name": "ipython",
    "version": 3
   },
   "file_extension": ".py",
   "mimetype": "text/x-python",
   "name": "python",
   "nbconvert_exporter": "python",
   "pygments_lexer": "ipython3",
   "version": "3.9.7"
  },
  "orig_nbformat": 4
 },
 "nbformat": 4,
 "nbformat_minor": 2
}
