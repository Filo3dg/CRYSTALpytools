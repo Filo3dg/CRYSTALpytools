{
 "cells": [
  {
   "cell_type": "markdown",
   "id": "68158073",
   "metadata": {},
   "source": [
    "# Example notebook for the functions contained in CRYSTALpytools.crystal_io"
   ]
  },
  {
   "cell_type": "markdown",
   "id": "56179e55",
   "metadata": {},
   "source": [
    "### Crystal_input class"
   ]
  },
  {
   "cell_type": "code",
   "execution_count": 1,
   "id": "032121ab",
   "metadata": {
    "tags": []
   },
   "outputs": [],
   "source": [
    "from CRYSTALpytools.crystal_io import Crystal_input"
   ]
  },
  {
   "cell_type": "markdown",
   "id": "7ffc106f-e696-4a0a-92f4-f8b73c158e73",
   "metadata": {},
   "source": [
    "#### Create a crystal input object by directly calling methods"
   ]
  },
  {
   "cell_type": "code",
   "execution_count": 2,
   "id": "4938ba48-2a8d-4b31-b777-bf641fc327fe",
   "metadata": {
    "tags": []
   },
   "outputs": [
    {
     "name": "stdout",
     "output_type": "stream",
     "text": [
      "MGO BULK - GEOMETRY TEST\n",
      "CRYSTAL\n",
      "0   0   0   \n",
      "225 \n",
      "4.217000     \n",
      "2 \n",
      "12     0.00000000   0.00000000   0.00000000 \n",
      "8      0.50000000   0.50000000   0.50000000 \n",
      "ENDGEOM\n",
      "BASISSET\n",
      "POB-DZVP \n",
      "DFT\n",
      "XXLGRID\n",
      "B3LYP \n",
      "ENDDFT\n",
      "DIIS\n",
      "FMIXING\n",
      "70 \n",
      "TOLINTEG\n",
      "7 7 7 7 14 \n",
      "SHRINK\n",
      "12 24 \n",
      "ENDSCF\n",
      "\n"
     ]
    }
   ],
   "source": [
    "mgo_input = Crystal_input()\n",
    "mgo_input.geom.title('MGO BULK - GEOMETRY TEST')\n",
    "mgo_input.geom.crystal(225, # Space group\n",
    "                      [4.217], # Minimal set of lattice parameters\n",
    "                      [[12, 0., 0., 0.], # Atomic labels and coordinates\n",
    "                       [8, 0.5, 0.5, 0.5]]\n",
    "                      )\n",
    "mgo_input.basisset.basisset('POB-DZVP')\n",
    "mgo_input.scf.dft.xcfunc('B3LYP')\n",
    "mgo_input.scf.dft.xxlgrid()\n",
    "mgo_input.scf.tolinteg(7, 7, 7, 7, 14)\n",
    "mgo_input.scf.shrink(12, 24)\n",
    "mgo_input.scf.maxcycle(70)\n",
    "mgo_input.scf.fmixing(70)\n",
    "mgo_input.scf.diis()\n",
    "\n",
    "print(mgo_input.data)"
   ]
  },
  {
   "cell_type": "markdown",
   "id": "cbfdbe40",
   "metadata": {},
   "source": [
    "#### Create a crystal input object from blocks"
   ]
  },
  {
   "cell_type": "code",
   "execution_count": 3,
   "id": "1bd7a743",
   "metadata": {
    "tags": []
   },
   "outputs": [
    {
     "name": "stdout",
     "output_type": "stream",
     "text": [
      "MGO BULK - GEOMETRY TEST\n",
      "CRYSTAL\n",
      "0 0 0\n",
      "225\n",
      "4.217\n",
      "2\n",
      "12 0.    0.    0.\n",
      "8 0.5   0.5   0.5\n",
      "ENDGEOM\n",
      "BASISSET\n",
      "POB-DZVP\n",
      "ENDBS\n",
      "DIIS\n",
      "MAXCYCLE\n",
      "200\n",
      "FMIXING\n",
      "70\n",
      "TOLINTEG\n",
      "7 7 7 7 14\n",
      "SHRINK\n",
      "12 24\n",
      "ENDSCF\n",
      "\n"
     ]
    }
   ],
   "source": [
    "geom_block = \\\n",
    "\"\"\"MGO BULK - GEOMETRY TEST\n",
    "CRYSTAL\n",
    "0 0 0\n",
    "225\n",
    "4.217\n",
    "2\n",
    "12 0.    0.    0.\n",
    "8 0.5   0.5   0.5\n",
    "END\n",
    "\"\"\"\n",
    "\n",
    "bs_block   = \\\n",
    "\"\"\"BASISSET\n",
    "POB-DZVP\n",
    "\"\"\"\n",
    "func_block = \\\n",
    "\"\"\"DFT\n",
    "B3LYP\n",
    "XXLGRID\n",
    "ENDDFT\n",
    "\"\"\"\n",
    "scf_block  = \\\n",
    "\"\"\"TOLINTEG\n",
    "7 7 7 7 14\n",
    "SHRINK\n",
    "12 24\n",
    "MAXCYCLE\n",
    "200\n",
    "FMIXING\n",
    "70\n",
    "DIIS\n",
    "ENDSCF\n",
    "\"\"\"\n",
    "mgo_input = Crystal_input()\n",
    "mgo_input.set_geom(geom_block)\n",
    "mgo_input.set_basisset(bs_block)\n",
    "mgo_input.scf.set_dft(func_block) # DFT is a sub-block of SCF block\n",
    "mgo_input.set_scf(scf_block)\n",
    "print(mgo_input.data)"
   ]
  },
  {
   "cell_type": "markdown",
   "id": "01c1e947",
   "metadata": {},
   "source": [
    "#### Create a crystal input object from an existing input file\n",
    "\n",
    "The existing file can act as a template. By calling the corresponding method one can change, delete and substitute keywords."
   ]
  },
  {
   "cell_type": "code",
   "execution_count": 4,
   "id": "ed435d4f",
   "metadata": {
    "tags": []
   },
   "outputs": [
    {
     "name": "stdout",
     "output_type": "stream",
     "text": [
      "MGO BULK - GEOMETRY TEST\n",
      "CRYSTAL\n",
      "0 0 0\n",
      "225\n",
      "4.217\n",
      "2\n",
      "12 0.    0.    0.\n",
      "8 0.5   0.5   0.5\n",
      "OPTGEOM\n",
      "TOLDEG\n",
      "0.0003 \n",
      "TOLDEX\n",
      "0.0012 \n",
      "ENDOPT\n",
      "ENDGEOM\n",
      "\n",
      "OPTGEOM\n",
      "TOLDEX\n",
      "0.0012 \n",
      "ENDOPT\n",
      "\n"
     ]
    }
   ],
   "source": [
    "mgo_input = Crystal_input().from_file('data/mgo.d12')\n",
    "# Set Optgeom block\n",
    "mgo_input.geom.optgeom.toldex(0.0012)\n",
    "mgo_input.geom.optgeom.toldeg(0.0003)\n",
    "print(mgo_input.geom.data)\n",
    "# Clean TOLDEG command\n",
    "mgo_input.geom.optgeom.toldeg('')\n",
    "print(mgo_input.geom.optgeom.data)\n",
    "# Write the updated object to file\n",
    "mgo_input.to_file('data/mgo_inputtest.d12')"
   ]
  },
  {
   "cell_type": "markdown",
   "id": "486403f1-d31d-426b-b0f4-6d0c492e3d4d",
   "metadata": {},
   "source": [
    "#### Set geometry\n",
    "\n",
    "The user can set the geometry input by a CIF file or a pymatgen structure when needed. There are 2 available options:\n",
    "\n",
    "1. Use the 'EXTERNAL' keyword and `Crystal_input` object automatically convert the geometry entry to a gui file with default settings (recommended)  \n",
    "2. Use the 'CRYSTAL' keyword. Limited to 3D structures."
   ]
  },
  {
   "cell_type": "code",
   "execution_count": 5,
   "id": "f98b64ce-c8c2-4090-8dde-eb60e33ec527",
   "metadata": {
    "tags": []
   },
   "outputs": [
    {
     "name": "stdout",
     "output_type": "stream",
     "text": [
      "Generated by CRYSTALpytools\n",
      "CRYSTAL\n",
      "0   0   0   \n",
      "14  \n",
      "7.073000     9.166000     12.667000    115.510000   \n",
      "20 \n",
      "1      0.37160000   0.92980000   0.49880000 \n",
      "1      0.24220000   0.76340000   0.33040000 \n",
      "1      0.77660000   0.60000000   0.43090000 \n",
      "1      0.90770000   0.76640000   0.60050000 \n",
      "1      0.79990000   0.53530000   0.25760000 \n",
      "1      0.10820000   0.95930000   0.69510000 \n",
      "1      0.56840000   0.08530000   0.89610000 \n",
      "1      0.29390000   0.07980000   0.85010000 \n",
      "1      0.40860000   0.21910000   0.80230000 \n",
      "6      0.14960000   0.85790000   0.56187000 \n",
      "6      0.24320000   0.85758000   0.48526000 \n",
      "6      0.17040000   0.76206000   0.39004000 \n",
      "6      0.00430000   0.66838000   0.37078000 \n",
      "6      0.90790000   0.67092000   0.44601000 \n",
      "6      0.98060000   0.76560000   0.54106000 \n",
      "6      0.39830000   0.01599000   0.71975000 \n",
      "6      0.41680000   0.10369000   0.82440000 \n",
      "7      0.21229000   0.94984000   0.66089000 \n",
      "8      0.94130000   0.57511000   0.27811000 \n",
      "8      0.54450000   0.00741000   0.69146000 \n",
      "ENDGEOM\n",
      "\n"
     ]
    }
   ],
   "source": [
    "paracetamol = Crystal_input()\n",
    "paracetamol.geom_from_cif('data/paracetamol.cif', keyword='CRYSTAL')\n",
    "print(paracetamol.geom.data)\n",
    "paracetamol = Crystal_input().geom_from_cif('data/paracetamol.cif',\n",
    "                                            gui_name='data/paracetamol.gui')"
   ]
  },
  {
   "cell_type": "markdown",
   "id": "d763dde4-d00c-4c32-89d4-8b7fe7580646",
   "metadata": {},
   "source": [
    "#### Set basis set\n",
    "\n",
    "The user can set basis set by string (as shown before), a text file, downloading it from [Basis Set Exchange (BSE)](https://www.basissetexchange.org/) or a `CRYSTALpytools.base.basisset.BasisSetBASE` object. CRYSTALpytools calls BSE's API to convert and format basis set files, so file/string in other formats (Gaussian, for example) can also be used.\n",
    "\n",
    "Effective core pesudopotentials are supported except the free-format definitions ('INPUT' and 'INPSOC')."
   ]
  },
  {
   "cell_type": "code",
   "execution_count": 6,
   "id": "dbe1f740-c284-4aed-b76b-9f8f13195261",
   "metadata": {
    "tags": []
   },
   "outputs": [
    {
     "name": "stdout",
     "output_type": "stream",
     "text": [
      "8    5    \n",
      "0 0 6  0.00  1.00  \n",
      "   8.5885000000E+03     1.8951500000E-03\n",
      "   1.2972300000E+03     1.4385900000E-02\n",
      "   2.9929600000E+02     7.0732000000E-02\n",
      "   8.7377100000E+01     2.4000100000E-01\n",
      "   2.5678900000E+01     5.9479700000E-01\n",
      "   3.7400400000E+00     2.8080200000E-01\n",
      "0 1 3  0.00  1.00  \n",
      "   4.2117500000E+01     1.1388900000E-01     3.6511400000E-02\n",
      "   9.6283700000E+00     9.2081100000E-01     2.3715300000E-01\n",
      "   2.8533200000E+00    -3.2744700000E-03     8.1970200000E-01\n",
      "0 1 1  0.00  1.00  \n",
      "   9.0566100000E-01     1.0000000000E+00     1.0000000000E+00\n",
      "0 1 1  0.00  1.00  \n",
      "   2.5561100000E-01     1.0000000000E+00     1.0000000000E+00\n",
      "0 3 1  0.00  1.00  \n",
      "   1.2920000000E+00     1.0000000000E+00\n",
      "12   12   \n",
      "0 0 6  0.00  1.00  \n",
      "   4.3866500000E+04     9.1800000000E-04\n",
      "   6.6053700000E+03     7.0470000000E-03\n",
      "   1.5132600000E+03     3.5941000000E-02\n",
      "   4.3231700000E+02     1.4146100000E-01\n",
      "   1.4214900000E+02     4.2676400000E-01\n",
      "   5.1398300000E+01     4.9797500000E-01\n",
      "0 0 3  0.00  1.00  \n",
      "   5.1398300000E+01     2.5135500000E-01\n",
      "   1.9919600000E+01     6.1867100000E-01\n",
      "   8.0247400000E+00     1.8841700000E-01\n",
      "0 0 1  0.00  1.00  \n",
      "   2.5081700000E+00     1.0000000000E+00\n",
      "0 0 1  0.00  1.00  \n",
      "   8.7153100000E-01     1.0000000000E+00\n",
      "0 0 1  0.00  1.00  \n",
      "   1.0818800000E-01     1.0000000000E+00\n",
      "0 0 1  0.00  1.00  \n",
      "   4.0130000000E-02     1.0000000000E+00\n",
      "0 2 4  0.00  1.00  \n",
      "   1.9385400000E+02     1.0188000000E-02\n",
      "   4.5442000000E+01     7.5360000000E-02\n",
      "   1.4186400000E+01     3.0741900000E-01\n",
      "   5.0575100000E+00     7.1757500000E-01\n",
      "0 2 2  0.00  1.00  \n",
      "   1.8886100000E+00     6.6733900000E-01\n",
      "   7.2265200000E-01     3.9464900000E-01\n",
      "0 2 1  0.00  1.00  \n",
      "   2.3641700000E-01     1.0000000000E+00\n",
      "0 2 1  0.00  1.00  \n",
      "   9.3358000000E-02     1.0000000000E+00\n",
      "0 2 1  0.00  1.00  \n",
      "   3.4809000000E-02     1.0000000000E+00\n",
      "0 3 1  0.00  1.00  \n",
      "   1.7500000000E-01     1.0000000000E+00\n",
      "99   0\n",
      "ENDBS\n",
      "\n"
     ]
    },
    {
     "name": "stderr",
     "output_type": "stream",
     "text": [
      "/home/e89/e89/hyz20ic/app/anaconda3/envs/crystal_py3.9/lib/python3.9/site-packages/CRYSTALpytools/base/crysd12.py:880: UserWarning: The previous basis set will be erased.\n",
      "  self._check_bs(append)\n"
     ]
    }
   ],
   "source": [
    "# Downlaod basis set from BSE\n",
    "mgo_input.basisset.from_bse('6-311G*', ['Mg', 'O'])\n",
    "print(mgo_input.basisset.data)"
   ]
  },
  {
   "cell_type": "code",
   "execution_count": 7,
   "id": "4f82a27e-105d-4d98-976c-b802dab94b10",
   "metadata": {
    "tags": []
   },
   "outputs": [
    {
     "name": "stdout",
     "output_type": "stream",
     "text": [
      "8    2    \n",
      "0 0 3  0.00  1.00  \n",
      "   1.3070932140E+02     1.5432896730E-01\n",
      "   2.3808866050E+01     5.3532814230E-01\n",
      "   6.4436083130E+00     4.4463454220E-01\n",
      "0 1 3  0.00  1.00  \n",
      "   5.0331513190E+00    -9.9967229190E-02     1.5591627500E-01\n",
      "   1.1695961250E+00     3.9951282610E-01     6.0768371860E-01\n",
      "   3.8038896000E-01     7.0011546890E-01     3.9195739310E-01\n",
      "12   3    \n",
      "0 0 3  0.00  1.00  \n",
      "   2.9923741370E+02     1.5432896730E-01\n",
      "   5.4506468450E+01     5.3532814230E-01\n",
      "   1.4751577520E+01     4.4463454220E-01\n",
      "0 1 3  0.00  1.00  \n",
      "   1.5121823520E+01    -9.9967229190E-02     1.5591627500E-01\n",
      "   3.5139865790E+00     3.9951282610E-01     6.0768371860E-01\n",
      "   1.1428574980E+00     7.0011546890E-01     3.9195739310E-01\n",
      "0 1 3  0.00  1.00  \n",
      "   1.3954482930E+00    -2.1962036900E-01     1.0587604290E-02\n",
      "   3.8932653180E-01     2.2559543360E-01     5.9516700530E-01\n",
      "   1.5237976590E-01     9.0039842600E-01     4.6200101200E-01\n",
      "99   0\n",
      "ENDBS\n",
      "\n"
     ]
    },
    {
     "name": "stderr",
     "output_type": "stream",
     "text": [
      "/home/e89/e89/hyz20ic/app/anaconda3/envs/crystal_py3.9/lib/python3.9/site-packages/CRYSTALpytools/base/crysd12.py:928: UserWarning: The previous basis set will be erased.\n",
      "  self._check_bs(append)\n"
     ]
    }
   ],
   "source": [
    "# Read a Gaussian STO-3G basis set\n",
    "mgo_input.basisset.from_file('data/mgo_inputbs.gbs', 'gaussian94')\n",
    "print(mgo_input.basisset.data)"
   ]
  },
  {
   "cell_type": "markdown",
   "id": "2d2eb231-019a-409d-b3ef-2088e907a4c8",
   "metadata": {},
   "source": [
    "#### Set conventional atomic numbers\n",
    "\n",
    "It is strongly recommended to set conventional atomic numbers by calling methods such as `Crystal_input.geom.crystal()` and manually type corresponding atomic numbers. Even though `zconv` entry can be provided when using `Crystal_input.geom_from_cif` and `Crystal_input.geom_from_pmg`, sequences of atoms in the input file might not be consistent with sequences in output.\n",
    "\n",
    "To set conventional atomic numbers for basis sets, the user can either explicitly define them in string / file, or call BSE twice:"
   ]
  },
  {
   "cell_type": "code",
   "execution_count": 8,
   "id": "d41385f6-e866-4151-afcf-41b62daeb291",
   "metadata": {
    "tags": []
   },
   "outputs": [
    {
     "name": "stdout",
     "output_type": "stream",
     "text": [
      "1    3    \n",
      "0 0 3  0.00  1.00  \n",
      "   3.3865000000E+01     2.5493800000E-02\n",
      "   5.0947900000E+00     1.9037300000E-01\n",
      "   1.1587900000E+00     8.5216100000E-01\n",
      "0 0 1  0.00  1.00  \n",
      "   3.2584000000E-01     1.0000000000E+00\n",
      "0 0 1  0.00  1.00  \n",
      "   1.0274100000E-01     1.0000000000E+00\n",
      "6    5    \n",
      "0 0 6  0.00  1.00  \n",
      "   4.5632400000E+03     1.9666500000E-03\n",
      "   6.8202400000E+02     1.5230600000E-02\n",
      "   1.5497300000E+02     7.6126900000E-02\n",
      "   4.4455300000E+01     2.6080100000E-01\n",
      "   1.3029000000E+01     6.1646200000E-01\n",
      "   1.8277300000E+00     2.2100600000E-01\n",
      "0 1 3  0.00  1.00  \n",
      "   2.0964200000E+01     1.1466000000E-01     4.0248700000E-02\n",
      "   4.8033100000E+00     9.1999900000E-01     2.3759400000E-01\n",
      "   1.4593300000E+00    -3.0306800000E-03     8.1585400000E-01\n",
      "0 1 1  0.00  1.00  \n",
      "   4.8345600000E-01     1.0000000000E+00     1.0000000000E+00\n",
      "0 1 1  0.00  1.00  \n",
      "   1.4558500000E-01     1.0000000000E+00     1.0000000000E+00\n",
      "0 3 1  0.00  1.00  \n",
      "   6.2600000000E-01     1.0000000000E+00\n",
      "101  4    \n",
      "0 0 3  0.00  1.00  \n",
      "   3.4061341000E+01     6.0251978000E-03\n",
      "   5.1235746000E+00     4.5021094000E-02\n",
      "   1.1646626000E+00     2.0189726000E-01\n",
      "0 0 1  0.00  1.00  \n",
      "   3.2723041000E-01     1.0000000000E+00\n",
      "0 0 1  0.00  1.00  \n",
      "   1.0307241000E-01     1.0000000000E+00\n",
      "0 2 1  0.00  1.00  \n",
      "   8.0000000000E-01     1.0000000000E+00\n",
      "99   0\n",
      "ENDBS\n",
      "\n"
     ]
    }
   ],
   "source": [
    "obj = Crystal_input()\n",
    "obj.basisset.from_bse('6-311G*', ['C', 'H']) # Normal definition\n",
    "obj.basisset.from_bse('def2-TZVP', [['H', 101]], append=True) # Define a second basis set for H with label 101\n",
    "print(obj.basisset.data)"
   ]
  },
  {
   "cell_type": "markdown",
   "id": "fe2d3647",
   "metadata": {},
   "source": [
    "### Crystal_output class"
   ]
  },
  {
   "cell_type": "code",
   "execution_count": 9,
   "id": "0a495139",
   "metadata": {
    "tags": []
   },
   "outputs": [],
   "source": [
    "from CRYSTALpytools.crystal_io import Crystal_output"
   ]
  },
  {
   "cell_type": "markdown",
   "id": "6c93a21e",
   "metadata": {},
   "source": [
    "#### Read output case 1: Periodic system"
   ]
  },
  {
   "cell_type": "code",
   "execution_count": 10,
   "id": "bfb6e6f8",
   "metadata": {
    "tags": []
   },
   "outputs": [
    {
     "data": {
      "text/plain": [
       "<CRYSTALpytools.crystal_io.Crystal_output at 0x7f3d3441ccd0>"
      ]
     },
     "execution_count": 10,
     "metadata": {},
     "output_type": "execute_result"
    }
   ],
   "source": [
    "mgo_output = Crystal_output().read_cry_output('data/mgo_optgeom.out')\n",
    "mgo_output"
   ]
  },
  {
   "cell_type": "markdown",
   "id": "58b3f761",
   "metadata": {},
   "source": [
    "- Substracting basice energy and electronic information"
   ]
  },
  {
   "cell_type": "code",
   "execution_count": 11,
   "id": "be5bb4eb-b17c-4bf3-8f80-557739f878a7",
   "metadata": {
    "tags": []
   },
   "outputs": [
    {
     "name": "stdout",
     "output_type": "stream",
     "text": [
      "Final energy = -7495.340914150903 eV \n",
      "\n",
      "Final energy = -7495.340914150903 eV \n",
      "\n",
      "Fermi energy = -4.136710311917215 eV \n",
      "\n",
      "Band gap = 7.1237 eV \n",
      "\n",
      "Mulliken charge (e) =  [10.129  9.871]\n"
     ]
    }
   ],
   "source": [
    "# Initial SCF energy\n",
    "print(\"Final energy = %s eV \\n\" % mgo_output.get_final_energy())\n",
    "# Initial SCF energy, an alternative way\n",
    "mgo_output.get_convergence(history=False)\n",
    "print(\"Final energy = %s eV \\n\" % mgo_output.final_energy)\n",
    "\n",
    "# Initial SCF Fermi energy\n",
    "print(\"Fermi energy = %s eV \\n\" % mgo_output.get_fermi_energy())\n",
    "\n",
    "# Initial SCF Band gap\n",
    "print(\"Band gap = %s eV \\n\" % mgo_output.get_band_gap())\n",
    "\n",
    "# Mulliken charge, Note that is based on the optimized geometry\n",
    "print(\"Mulliken charge (e) = \", mgo_output.get_mulliken_charges())"
   ]
  },
  {
   "cell_type": "markdown",
   "id": "bd3adc66-dcd2-4656-81ff-3eb3649e80ce",
   "metadata": {},
   "source": [
    "- Substracting SCF convergence"
   ]
  },
  {
   "cell_type": "code",
   "execution_count": 12,
   "id": "3a68c6bb-2f33-4cd3-829b-b3f01c57b122",
   "metadata": {
    "tags": []
   },
   "outputs": [
    {
     "name": "stdout",
     "output_type": "stream",
     "text": [
      "SCF convergence status = converged\n",
      "\n",
      "SCF number of cycles = 8\n",
      "\n",
      "Total energy (eV) = \n",
      " [-7476.82733948 -7489.97945008 -7494.91919331 -7495.33640687\n",
      " -7495.33787794 -7495.33800249 -7495.33800425 -7495.33800435] \n",
      "\n",
      "Energy difference (eV)= \n",
      " [-7.48313122e+03 -1.31430996e+01 -4.95247230e+00 -4.16334210e-01\n",
      " -1.47213600e-03 -1.24628149e-04 -1.75513441e-06 -1.02586926e-07] \n",
      "\n",
      "Fermi level (eV) = \n",
      " [-8.24883759 -4.59365942 -4.10322534 -4.12058103 -4.14111121 -4.13676256\n",
      " -4.13671031] \n",
      "\n",
      "Band gap (eV) = \n",
      " [8.4379 6.6125 7.0523 7.1034 7.1228 7.1235 7.1237] \n",
      "\n"
     ]
    }
   ],
   "source": [
    "mgo_output.get_scf_convergence()\n",
    "# Convergence status\n",
    "print('SCF convergence status = {}\\n'.format(mgo_output.scf_status))\n",
    "print('SCF number of cycles = {:d}\\n'.format(mgo_output.scf_cycles))\n",
    "\n",
    "# Energy iteration history\n",
    "print('Total energy (eV) = \\n', mgo_output.scf_energy, '\\n')\n",
    "print('Energy difference (eV)= \\n', mgo_output.scf_deltae, '\\n')\n",
    "\n",
    "# Fermi level iteration history\n",
    "print('Fermi level (eV) = \\n', mgo_output.get_fermi_energy(history=True), '\\n')\n",
    "\n",
    "# Band gap iteration history\n",
    "print('Band gap (eV) = \\n', mgo_output.get_band_gap(history=True), '\\n')"
   ]
  },
  {
   "cell_type": "markdown",
   "id": "438e85aa-95c6-4f82-87d7-fbc3a826a474",
   "metadata": {},
   "source": [
    "- Substracting forces\n",
    "\n",
    "Note that the forces computed at the initial SCF step is read. To read the final forces, set `initial=False` and use 'ONELOG' keyword in CRYSTAL input file. `grad=True` is valid for optimizations only."
   ]
  },
  {
   "cell_type": "code",
   "execution_count": 13,
   "id": "51c96b9b-41bf-437c-8638-428edb65c9ee",
   "metadata": {
    "tags": []
   },
   "outputs": [
    {
     "name": "stdout",
     "output_type": "stream",
     "text": [
      "Unit: Hartree/Bohr\n",
      "\n",
      "Forces on cell = \n",
      " [[-0.00148273  0.00148273  0.00148273]\n",
      " [ 0.00148273 -0.00148273  0.00148273]\n",
      " [ 0.00148273  0.00148273 -0.00148273]] \n",
      "\n",
      " Forces on atoms = \n",
      " [[-4.18889278e-16 -4.11372640e-16 -4.14981546e-16]\n",
      " [ 4.14263349e-16  4.13107364e-16  4.14981546e-16]] \n",
      "\n",
      " RMS Gradient = \n",
      " [2.0466e-02 4.6930e-03 6.9000e-05 3.2000e-05] \n",
      "\n",
      "\n"
     ]
    }
   ],
   "source": [
    "mgo_output.get_forces(initial=True, grad=True)\n",
    "\n",
    "print('Unit: Hartree/Bohr\\n')\n",
    "print(\"Forces on cell = \\n %s \\n\\n Forces on atoms = \\n %s \\n\\n RMS Gradient = \\n %s \\n\\n\" %\n",
    "      (mgo_output.forces_cell, mgo_output.forces_atoms, mgo_output.opt_rmsgrad))"
   ]
  },
  {
   "cell_type": "markdown",
   "id": "bc11d78b-e1b1-48f5-9467-e8f3c11472d2",
   "metadata": {},
   "source": [
    "- Substracting basic geometry information\n",
    "\n",
    "Option 1: From `get_*` methods\n",
    "\n",
    "By setting `initial=False` the optimized geometry can be printed. In other cases such as SCF calculations, `initial=False` has no effect but takes slightly longer to get results"
   ]
  },
  {
   "cell_type": "code",
   "execution_count": 14,
   "id": "2a3b5a22-15d1-480f-a5a1-3aff73cd98d7",
   "metadata": {
    "tags": []
   },
   "outputs": [
    {
     "name": "stdout",
     "output_type": "stream",
     "text": [
      "Symmetry operators = \n",
      " [[[ 1.  0.  0.]\n",
      "  [ 0.  1.  0.]\n",
      "  [ 0.  0.  1.]\n",
      "  [ 0.  0.  0.]]\n",
      "\n",
      " [[ 0.  1.  0.]\n",
      "  [ 1.  0.  0.]\n",
      "  [-1. -1. -1.]\n",
      "  [ 0.  0.  0.]]\n",
      "\n",
      " [[-1. -1. -1.]\n",
      "  [ 0.  0.  1.]\n",
      "  [ 0.  1.  0.]\n",
      "  [ 0.  0.  0.]]\n",
      "\n",
      " [[ 0.  0.  1.]\n",
      "  [-1. -1. -1.]\n",
      "  [ 1.  0.  0.]\n",
      "  [ 0.  0.  0.]]\n",
      "\n",
      " [[ 0.  0.  1.]\n",
      "  [ 1.  0.  0.]\n",
      "  [ 0.  1.  0.]\n",
      "  [ 0.  0.  0.]]\n",
      "\n",
      " [[ 0.  1.  0.]\n",
      "  [ 0.  0.  1.]\n",
      "  [ 1.  0.  0.]\n",
      "  [ 0.  0.  0.]]\n",
      "\n",
      " [[ 1.  0.  0.]\n",
      "  [ 0.  0.  1.]\n",
      "  [-1. -1. -1.]\n",
      "  [ 0.  0.  0.]]\n",
      "\n",
      " [[ 1.  0.  0.]\n",
      "  [-1. -1. -1.]\n",
      "  [ 0.  1.  0.]\n",
      "  [ 0.  0.  0.]]\n",
      "\n",
      " [[-1. -1. -1.]\n",
      "  [ 0.  1.  0.]\n",
      "  [ 1.  0.  0.]\n",
      "  [ 0.  0.  0.]]\n",
      "\n",
      " [[ 0.  0.  1.]\n",
      "  [ 0.  1.  0.]\n",
      "  [-1. -1. -1.]\n",
      "  [ 0.  0.  0.]]\n",
      "\n",
      " [[ 0.  1.  0.]\n",
      "  [-1. -1. -1.]\n",
      "  [ 0.  0.  1.]\n",
      "  [ 0.  0.  0.]]\n",
      "\n",
      " [[-1. -1. -1.]\n",
      "  [ 1.  0.  0.]\n",
      "  [ 0.  0.  1.]\n",
      "  [ 0.  0.  0.]]\n",
      "\n",
      " [[ 0. -1.  0.]\n",
      "  [-1.  0.  0.]\n",
      "  [ 0.  0. -1.]\n",
      "  [ 0.  0.  0.]]\n",
      "\n",
      " [[-1.  0.  0.]\n",
      "  [ 0. -1.  0.]\n",
      "  [ 1.  1.  1.]\n",
      "  [ 0.  0.  0.]]\n",
      "\n",
      " [[ 0.  0. -1.]\n",
      "  [ 1.  1.  1.]\n",
      "  [ 0. -1.  0.]\n",
      "  [ 0.  0.  0.]]\n",
      "\n",
      " [[ 1.  1.  1.]\n",
      "  [ 0.  0. -1.]\n",
      "  [-1.  0.  0.]\n",
      "  [ 0.  0.  0.]]\n",
      "\n",
      " [[-1.  0.  0.]\n",
      "  [ 0.  0. -1.]\n",
      "  [ 0. -1.  0.]\n",
      "  [ 0.  0.  0.]]\n",
      "\n",
      " [[ 0.  0. -1.]\n",
      "  [ 0. -1.  0.]\n",
      "  [-1.  0.  0.]\n",
      "  [ 0.  0.  0.]]\n",
      "\n",
      " [[ 0.  0. -1.]\n",
      "  [-1.  0.  0.]\n",
      "  [ 1.  1.  1.]\n",
      "  [ 0.  0.  0.]]\n",
      "\n",
      " [[ 1.  1.  1.]\n",
      "  [-1.  0.  0.]\n",
      "  [ 0. -1.  0.]\n",
      "  [ 0.  0.  0.]]\n",
      "\n",
      " [[ 0. -1.  0.]\n",
      "  [ 1.  1.  1.]\n",
      "  [-1.  0.  0.]\n",
      "  [ 0.  0.  0.]]\n",
      "\n",
      " [[ 0. -1.  0.]\n",
      "  [ 0.  0. -1.]\n",
      "  [ 1.  1.  1.]\n",
      "  [ 0.  0.  0.]]\n",
      "\n",
      " [[ 1.  1.  1.]\n",
      "  [ 0. -1.  0.]\n",
      "  [ 0.  0. -1.]\n",
      "  [ 0.  0.  0.]]\n",
      "\n",
      " [[-1.  0.  0.]\n",
      "  [ 1.  1.  1.]\n",
      "  [ 0.  0. -1.]\n",
      "  [ 0.  0.  0.]]\n",
      "\n",
      " [[-1.  0.  0.]\n",
      "  [ 0. -1.  0.]\n",
      "  [ 0.  0. -1.]\n",
      "  [ 0.  0.  0.]]\n",
      "\n",
      " [[ 0. -1.  0.]\n",
      "  [-1.  0.  0.]\n",
      "  [ 1.  1.  1.]\n",
      "  [ 0.  0.  0.]]\n",
      "\n",
      " [[ 1.  1.  1.]\n",
      "  [ 0.  0. -1.]\n",
      "  [ 0. -1.  0.]\n",
      "  [ 0.  0.  0.]]\n",
      "\n",
      " [[ 0.  0. -1.]\n",
      "  [ 1.  1.  1.]\n",
      "  [-1.  0.  0.]\n",
      "  [ 0.  0.  0.]]\n",
      "\n",
      " [[ 0.  0. -1.]\n",
      "  [-1.  0.  0.]\n",
      "  [ 0. -1.  0.]\n",
      "  [ 0.  0.  0.]]\n",
      "\n",
      " [[ 0. -1.  0.]\n",
      "  [ 0.  0. -1.]\n",
      "  [-1.  0.  0.]\n",
      "  [ 0.  0.  0.]]\n",
      "\n",
      " [[-1.  0.  0.]\n",
      "  [ 0.  0. -1.]\n",
      "  [ 1.  1.  1.]\n",
      "  [ 0.  0.  0.]]\n",
      "\n",
      " [[-1.  0.  0.]\n",
      "  [ 1.  1.  1.]\n",
      "  [ 0. -1.  0.]\n",
      "  [ 0.  0.  0.]]\n",
      "\n",
      " [[ 1.  1.  1.]\n",
      "  [ 0. -1.  0.]\n",
      "  [-1.  0.  0.]\n",
      "  [ 0.  0.  0.]]\n",
      "\n",
      " [[ 0.  0. -1.]\n",
      "  [ 0. -1.  0.]\n",
      "  [ 1.  1.  1.]\n",
      "  [ 0.  0.  0.]]\n",
      "\n",
      " [[ 0. -1.  0.]\n",
      "  [ 1.  1.  1.]\n",
      "  [ 0.  0. -1.]\n",
      "  [ 0.  0.  0.]]\n",
      "\n",
      " [[ 1.  1.  1.]\n",
      "  [-1.  0.  0.]\n",
      "  [ 0.  0. -1.]\n",
      "  [ 0.  0.  0.]]\n",
      "\n",
      " [[ 0.  1.  0.]\n",
      "  [ 1.  0.  0.]\n",
      "  [ 0.  0.  1.]\n",
      "  [ 0.  0.  0.]]\n",
      "\n",
      " [[ 1.  0.  0.]\n",
      "  [ 0.  1.  0.]\n",
      "  [-1. -1. -1.]\n",
      "  [ 0.  0.  0.]]\n",
      "\n",
      " [[ 0.  0.  1.]\n",
      "  [-1. -1. -1.]\n",
      "  [ 0.  1.  0.]\n",
      "  [ 0.  0.  0.]]\n",
      "\n",
      " [[-1. -1. -1.]\n",
      "  [ 0.  0.  1.]\n",
      "  [ 1.  0.  0.]\n",
      "  [ 0.  0.  0.]]\n",
      "\n",
      " [[ 1.  0.  0.]\n",
      "  [ 0.  0.  1.]\n",
      "  [ 0.  1.  0.]\n",
      "  [ 0.  0.  0.]]\n",
      "\n",
      " [[ 0.  0.  1.]\n",
      "  [ 0.  1.  0.]\n",
      "  [ 1.  0.  0.]\n",
      "  [ 0.  0.  0.]]\n",
      "\n",
      " [[ 0.  0.  1.]\n",
      "  [ 1.  0.  0.]\n",
      "  [-1. -1. -1.]\n",
      "  [ 0.  0.  0.]]\n",
      "\n",
      " [[-1. -1. -1.]\n",
      "  [ 1.  0.  0.]\n",
      "  [ 0.  1.  0.]\n",
      "  [ 0.  0.  0.]]\n",
      "\n",
      " [[ 0.  1.  0.]\n",
      "  [-1. -1. -1.]\n",
      "  [ 1.  0.  0.]\n",
      "  [ 0.  0.  0.]]\n",
      "\n",
      " [[ 0.  1.  0.]\n",
      "  [ 0.  0.  1.]\n",
      "  [-1. -1. -1.]\n",
      "  [ 0.  0.  0.]]\n",
      "\n",
      " [[-1. -1. -1.]\n",
      "  [ 0.  1.  0.]\n",
      "  [ 0.  0.  1.]\n",
      "  [ 0.  0.  0.]]\n",
      "\n",
      " [[ 1.  0.  0.]\n",
      "  [-1. -1. -1.]\n",
      "  [ 0.  0.  1.]\n",
      "  [ 0.  0.  0.]]] \n",
      "\n",
      "Pre-optimized geometry\n",
      " Full Formula (Mg1 O1)\n",
      "Reduced Formula: MgO\n",
      "abc   :   2.981869   2.981869   2.981869\n",
      "angles:  60.000000  60.000000  60.000000\n",
      "pbc   :       True       True       True\n",
      "Sites (2)\n",
      "  #  SP      a    b    c\n",
      "---  ----  ---  ---  ---\n",
      "  0  Mg    0    0    0\n",
      "  1  O     0.5  0.5  0.5 \n",
      "\n",
      "Optimized geometry\n",
      " Full Formula (Mg1 O1)\n",
      "Reduced Formula: MgO\n",
      "abc   :   2.998288   2.998288   2.998288\n",
      "angles:  60.000000  60.000000  60.000000\n",
      "pbc   :       True       True       True\n",
      "Sites (2)\n",
      "  #  SP       a     b     c\n",
      "---  ----  ----  ----  ----\n",
      "  0  Mg     0     0     0\n",
      "  1  O     -0.5  -0.5  -0.5 \n",
      "\n",
      "Using get_last_geom()\n",
      " [[[-1.6166126940732852e-17, 2.12011000819, 2.12011000819], [2.12011000819, -1.6166126940732852e-17, 2.12011000819], [2.12011000819, 2.12011000819, 0.0]], array([12,  8]), [[0.0, 0.0, 0.0], [2.1085, 2.1084999999999994, 2.1084999999999994]]] \n",
      "\n",
      "Lattice matrix:\n",
      " [[-7.65837636e-17  2.10850000e+00  2.10850000e+00]\n",
      " [ 2.10850000e+00 -2.98628369e-16  2.10850000e+00]\n",
      " [ 2.10850000e+00  2.10850000e+00  0.00000000e+00]] \n",
      "\n",
      "Reprocal lattice matrix\n",
      " [[-1.48996569  1.48996569  1.48996569]\n",
      " [ 1.48996569 -1.48996569  1.48996569]\n",
      " [ 1.48996569  1.48996569 -1.48996569]] \n",
      "\n",
      "Cell expansion matrix\n",
      " [[1. 0. 0.]\n",
      " [0. 1. 0.]\n",
      " [0. 0. 1.]] \n",
      "\n",
      "Primitive optimized geometry\n",
      " Full Formula (Mg1 O1)\n",
      "Reduced Formula: MgO\n",
      "abc   :   2.998288   2.998288   2.998288\n",
      "angles:  60.000000  60.000000  60.000000\n",
      "pbc   :       True       True       True\n",
      "Sites (2)\n",
      "  #  SP       a     b     c\n",
      "---  ----  ----  ----  ----\n",
      "  0  Mg    -0.5  -0.5  -0.5\n",
      "  1  O      0     0     0 \n",
      "\n",
      "Primitive lattice matrix\n",
      " [[-7.65837636e-17  2.10850000e+00  2.10850000e+00]\n",
      " [ 2.10850000e+00 -2.98628369e-16  2.10850000e+00]\n",
      " [ 2.10850000e+00  2.10850000e+00  0.00000000e+00]] \n",
      "\n",
      "Primitive reciprocal lattice matrix\n",
      " [[-1.48996569  1.48996569  1.48996569]\n",
      " [ 1.48996569 -1.48996569  1.48996569]\n",
      " [ 1.48996569  1.48996569 -1.48996569]] \n",
      "\n"
     ]
    }
   ],
   "source": [
    "# Symmetry operators\n",
    "print(\"Symmetry operators = \\n %s \\n\" % mgo_output.get_symmops())\n",
    "\n",
    "# Pre-optimized geometry\n",
    "print('Pre-optimized geometry\\n', mgo_output.get_geometry(initial=True), '\\n')\n",
    "\n",
    "# Optimized geometry\n",
    "print('Optimized geometry\\n', mgo_output.get_geometry(initial=False), '\\n')\n",
    "# Optimized geometry, an alternative, which returns a list of key informations\n",
    "print('Using get_last_geom()\\n', mgo_output.get_last_geom(write_gui_file=False), '\\n')\n",
    "\n",
    "# Lattice matrix\n",
    "print('Lattice matrix:\\n', mgo_output.get_lattice(initial=True), '\\n')\n",
    "\n",
    "# Reprocal lattice matrix\n",
    "print('Reprocal lattice matrix\\n', mgo_output.get_reciprocal_lattice(initial=True), '\\n')\n",
    "\n",
    "# Cell expansion matrix\n",
    "print('Cell expansion matrix\\n', mgo_output.get_trans_matrix(), '\\n')\n",
    "\n",
    "# Primitive optimized geometry (If supercell expansion is applied)\n",
    "print('Primitive optimized geometry\\n', mgo_output.get_primitive_geometry(initial=False), '\\n')\n",
    "\n",
    "# Primitive lattice matrix (If supercell expansion is applied)\n",
    "print('Primitive lattice matrix\\n', mgo_output.get_primitive_lattice(initial=True), '\\n')\n",
    "\n",
    "# Primitive reciprocal lattice matrix (If supercell expansion is applied)\n",
    "print('Primitive reciprocal lattice matrix\\n', mgo_output.get_primitive_reciprocal_lattice(initial=True), '\\n')"
   ]
  },
  {
   "cell_type": "markdown",
   "id": "4f0a873d-890d-4811-bdbf-a62763209ebd",
   "metadata": {},
   "source": [
    "Option 2: Basic properties can be directly called as properties\n",
    "\n",
    "For atomic coordinates, that is equivalent to `get_geometry(initial=True)`, i.e., the initial geometry."
   ]
  },
  {
   "cell_type": "code",
   "execution_count": 15,
   "id": "26a62b31-3d17-4d4d-be07-5c5e15b0f947",
   "metadata": {
    "tags": []
   },
   "outputs": [
    {
     "name": "stdout",
     "output_type": "stream",
     "text": [
      "Space group = 225 F M 3 M\n",
      "\n",
      "Number of atoms = 2\n",
      "\n",
      "Species =  ['Mg', 'O'] \n",
      "\n",
      "Conventional atomic numbers =  [12  8] \n",
      "\n",
      "Atomic positions = \n",
      " [[0.  0.  0. ]\n",
      " [0.5 0.5 0.5]] \n",
      "\n",
      "Fractional atomic positions = \n",
      " [[0.  0.  0. ]\n",
      " [0.5 0.5 0.5]] \n",
      "\n",
      "Cartesian atomic positions = \n",
      " [[0.     0.     0.    ]\n",
      " [2.1085 2.1085 2.1085]] \n",
      "\n"
     ]
    }
   ],
   "source": [
    "# Space group number and symbol\n",
    "print('Space group = {:d} {:s}\\n'.format(mgo_output.sg_number, mgo_output.sg_symbol))\n",
    "# Number of atoms\n",
    "print('Number of atoms = {:d}\\n'.format(mgo_output.n_atoms))\n",
    "# Atomic symbols\n",
    "print('Species = ', mgo_output.atom_symbols, '\\n')\n",
    "# Conventional atomic numbers, consistent with CRYSTAL (e.g., 101 for H with pesudopotentials)\n",
    "print('Conventional atomic numbers = ', mgo_output.atom_numbers, '\\n')\n",
    "# Atomic positions, consistent with CRYSTAL (e.g., Fractional, Fractional, Cartesian for 2D periodic systems)\n",
    "print('Atomic positions = \\n', mgo_output.atom_positions, '\\n')\n",
    "# Fractional atomic positions\n",
    "print('Fractional atomic positions = \\n', mgo_output.atom_positions_frac, '\\n')\n",
    "# Cartesian atomic positions\n",
    "print('Cartesian atomic positions = \\n', mgo_output.atom_positions_cart, '\\n')"
   ]
  },
  {
   "cell_type": "markdown",
   "id": "a46384ad-af5e-47ed-9be1-6a668112604d",
   "metadata": {},
   "source": [
    "- Substracting Optimization convergence and trajectory\n",
    "\n",
    "Trajectory is written in 'data/mgo_optgeom.opttraj' in CRYSTAL gui format."
   ]
  },
  {
   "cell_type": "code",
   "execution_count": 17,
   "id": "3c4f5cac-2a16-4208-9976-d70a0063e9a9",
   "metadata": {
    "tags": []
   },
   "outputs": [
    {
     "name": "stdout",
     "output_type": "stream",
     "text": [
      "Optimization convergence status = converged\n",
      "\n",
      "Optimization cycles = 4\n",
      "\n",
      "Optimization energy history (eV) = \n",
      " [ -275.44859114 -7495.3406783  -7495.34087403 -7495.34091415] \n",
      "\n",
      "Optimization energy difference (eV) = \n",
      " [-2.75448591e+02 -2.67406293e-03 -1.95731501e-04 -4.01367947e-05] \n",
      "\n",
      "Optimization max gradient (Hartree/Bohr) = \n",
      " [2.0466e-02 4.6930e-03 6.9000e-05 3.2000e-05] \n",
      "\n",
      "Optimization RMS gradient (Hartree/Bohr) = \n",
      " [2.0466e-02 4.6930e-03 6.9000e-05 3.2000e-05] \n",
      "\n",
      "Optimization max displacement (Bohr) = \n",
      " [0.000e+00 2.177e-03 3.200e-05 1.500e-05] \n",
      "\n",
      "Optimization RMS displacement (Bohr) = \n",
      " [0.000e+00 2.177e-03 3.200e-05 1.500e-05] \n",
      "\n"
     ]
    }
   ],
   "source": [
    "!mkdir data/mgo_optgeom.opttraj\n",
    "mgo_output.get_opt_convergence(write_gui=True, gui_name='data/mgo_optgeom.opttraj/mgo')\n",
    "\n",
    "print('Optimization convergence status = {:s}\\n'.format(mgo_output.opt_status))\n",
    "print('Optimization cycles = {:d}\\n'.format(mgo_output.opt_cycles))\n",
    "print('Optimization energy history (eV) = \\n', mgo_output.opt_energy, '\\n')\n",
    "print('Optimization energy difference (eV) = \\n', mgo_output.opt_deltae, '\\n')\n",
    "print('Optimization max gradient (Hartree/Bohr) = \\n', mgo_output.opt_maxgrad, '\\n')\n",
    "print('Optimization RMS gradient (Hartree/Bohr) = \\n', mgo_output.opt_rmsgrad, '\\n')\n",
    "print('Optimization max displacement (Bohr) = \\n', mgo_output.opt_maxdisp, '\\n')\n",
    "print('Optimization RMS displacement (Bohr) = \\n', mgo_output.opt_rmsdisp, '\\n')"
   ]
  },
  {
   "cell_type": "markdown",
   "id": "97ab3742",
   "metadata": {},
   "source": [
    "#### 0D system"
   ]
  },
  {
   "cell_type": "code",
   "execution_count": 18,
   "id": "1cc03b02",
   "metadata": {
    "tags": []
   },
   "outputs": [],
   "source": [
    "co_output = Crystal_output().read_cry_output('data/co.out')"
   ]
  },
  {
   "cell_type": "code",
   "execution_count": 19,
   "id": "7798fb5e",
   "metadata": {
    "tags": []
   },
   "outputs": [
    {
     "name": "stdout",
     "output_type": "stream",
     "text": [
      "Number of atoms = 2\n",
      "\n",
      "Species =  ['C', 'O'] \n",
      "\n",
      "Atomic positions = \n",
      " [[0.  0.  0. ]\n",
      " [0.8 0.5 0.4]] \n",
      "\n",
      "Final energy = -3040.063479187389 eV \n",
      "\n",
      "Fermi energy = -7.247933954451301 eV \n",
      "\n",
      "Primitive lattice \n",
      " None \n",
      "\n",
      "Reciprocal lattice \n",
      " None \n",
      "\n",
      "Band gap = 10.9012 eV \n",
      "\n",
      "Last geometry = \n",
      " [[[500.0, 0.0, 0.0], [0.0, 500.0, 0.0], [0.0, 0.0, 500.0]], array([6, 8]), [[0.0, 0.0, 0.0], [0.8, 0.5, 0.4]]] \n",
      "\n",
      "Symmetry operators = \n",
      " [] \n",
      "\n",
      "Forces on cell = \n",
      " [] \n",
      "\n",
      " Forces on atoms = \n",
      " [[-0.48652346 -0.30407721 -0.24326191]\n",
      " [ 0.48652346  0.30407721  0.24326191]] \n",
      "\n",
      "\n",
      "SCF energy history = \n",
      " [-3050.41709057 -3037.8127751  -3037.86317042 -3037.87780122\n",
      " -3037.87917172 -3037.87917184 -3037.87917184] \n",
      "\n",
      " Energy difference = \n",
      " [-3.04767526e+03  1.25988718e+01 -5.03410646e-02 -1.46397258e-02\n",
      " -1.37145387e-03 -1.17281075e-07 -7.48313122e-10] \n",
      "\n",
      "\n"
     ]
    },
    {
     "name": "stderr",
     "output_type": "stream",
     "text": [
      "/home/e89/e89/hyz20ic/app/anaconda3/envs/crystal_py3.9/lib/python3.9/site-packages/CRYSTALpytools/crystal_io.py:716: UserWarning: 0D system. No lattice.\n",
      "  warnings.warn('0D system. No lattice.')\n",
      "/home/e89/e89/hyz20ic/app/anaconda3/envs/crystal_py3.9/lib/python3.9/site-packages/CRYSTALpytools/crystal_io.py:431: UserWarning: 0D system. No lattice.\n",
      "  warnings.warn('0D system. No lattice.')\n"
     ]
    }
   ],
   "source": [
    "# Number of atoms\n",
    "print('Number of atoms = {:d}\\n'.format(co_output.n_atoms))\n",
    "# Atomic symbols\n",
    "print('Species = ', co_output.atom_symbols, '\\n')\n",
    "# Atomic positions, consistent with CRYSTAL (e.g., Fractional, Fractional, Cartesian for 2D periodic systems)\n",
    "print('Atomic positions = \\n', co_output.atom_positions, '\\n')\n",
    "\n",
    "# Final energy\n",
    "print(\"Final energy = %s eV \\n\" % co_output.get_final_energy())\n",
    "\n",
    "# Fermi energy\n",
    "print(\"Fermi energy = %s eV \\n\" % co_output.get_fermi_energy())\n",
    "\n",
    "# Primitive lattice\n",
    "print(\"Primitive lattice \\n %s \\n\" % co_output.get_primitive_lattice())\n",
    "\n",
    "# Reciprocal lattice\n",
    "print(\"Reciprocal lattice \\n %s \\n\" % co_output.get_reciprocal_lattice())\n",
    "\n",
    "# Band gap\n",
    "print(\"Band gap = %s eV \\n\" % co_output.get_band_gap())\n",
    "\n",
    "# Last geometry\n",
    "print(\"Last geometry = \\n %s \\n\" % co_output.get_last_geom())\n",
    "\n",
    "# Symmetry operators\n",
    "print(\"Symmetry operators = \\n %s \\n\" % co_output.get_symmops())\n",
    "\n",
    "# Forces\n",
    "co_output.get_forces()\n",
    "print(\"Forces on cell = \\n %s \\n\\n Forces on atoms = \\n %s \\n\\n\" %\n",
    "      (co_output.forces_cell, co_output.forces_atoms))\n",
    "\n",
    "# Scf convergence\n",
    "co_output.get_scf_convergence()\n",
    "print(\"SCF energy history = \\n %s \\n\\n Energy difference = \\n %s \\n\\n\" %\n",
    "      (co_output.scf_energy, co_output.scf_deltae))"
   ]
  },
  {
   "cell_type": "markdown",
   "id": "ac37f16d",
   "metadata": {},
   "source": [
    "### Properties_input class"
   ]
  },
  {
   "cell_type": "markdown",
   "id": "1c9d3903",
   "metadata": {},
   "source": [
    "#### bands from k points coordinates"
   ]
  },
  {
   "cell_type": "code",
   "execution_count": 20,
   "id": "1aa05d78",
   "metadata": {
    "tags": []
   },
   "outputs": [],
   "source": [
    "from CRYSTALpytools.crystal_io import Properties_input\n",
    "\n",
    "#Create the bands input object\n",
    "bands_input = Properties_input()\n",
    "#Add the newk block to the input object\n",
    "bands_input.make_newk_block(12,24)\n",
    "\n",
    "#Prepare the band_block\n",
    "k_path = [[0,0,0],[0.5,0,0],[0.5,0.5,0.5],[0.25,0,0.5]]\n",
    "n_kpoints = 200\n",
    "first_band = 1\n",
    "last_band = 26\n",
    "bands_input.make_bands_block(k_path,n_kpoints,first_band,last_band)\n",
    "\n",
    "#Write the input\n",
    "bands_input.write_properties_input('data/bands_input_1.d3')"
   ]
  },
  {
   "cell_type": "code",
   "execution_count": 21,
   "id": "22d53374",
   "metadata": {
    "tags": []
   },
   "outputs": [
    {
     "data": {
      "text/plain": [
       "['BAND\\n',\n",
       " 'BAND STRUCTURE CALCULATION\\n',\n",
       " '3 4 200 1 26 1 0\\n',\n",
       " '0 0 0  2 0 0\\n',\n",
       " '2 0 0  2 2 2\\n',\n",
       " '2 2 2  1 0 2\\n',\n",
       " 'END\\n']"
      ]
     },
     "execution_count": 21,
     "metadata": {},
     "output_type": "execute_result"
    }
   ],
   "source": [
    "bands_input.property_block"
   ]
  },
  {
   "cell_type": "markdown",
   "id": "b74efb1e",
   "metadata": {},
   "source": [
    "#### bands from pymatgen HighSymmKpath object"
   ]
  },
  {
   "cell_type": "code",
   "execution_count": 23,
   "id": "9698e3ba",
   "metadata": {
    "tags": []
   },
   "outputs": [],
   "source": [
    "from pymatgen.symmetry.bandstructure import HighSymmKpath\n",
    "from pymatgen.symmetry.analyzer import SpacegroupAnalyzer\n",
    "\n",
    "from CRYSTALpytools.crystal_io import Crystal_output\n",
    "from CRYSTALpytools.crystal_io import Properties_input\n",
    "from CRYSTALpytools.convert import cry_out2pmg\n",
    "\n",
    "\n",
    "#Create the bands input object\n",
    "bands_input = Properties_input()\n",
    "#Add the newk block to the input object\n",
    "bands_input.make_newk_block(12,24)\n",
    "\n",
    "#Read the structure\n",
    "mgo = cry_out2pmg('data/mgo.out')\n",
    "mgo_prim = SpacegroupAnalyzer(mgo).get_primitive_standard_structure(international_monoclinic=False)\n",
    "\n",
    "#Obtain the k path object\n",
    "k_path = HighSymmKpath(mgo_prim)\n",
    "\n",
    "n_kpoints = 200\n",
    "first_band = 1\n",
    "last_band = 26\n",
    "bands_input.make_bands_block(k_path,n_kpoints,first_band,last_band)\n",
    "\n",
    "#Write the input\n",
    "bands_input.write_properties_input('data/bands_input_2.d3')"
   ]
  },
  {
   "cell_type": "code",
   "execution_count": 24,
   "id": "90cba974",
   "metadata": {
    "tags": []
   },
   "outputs": [
    {
     "data": {
      "text/plain": [
       "['BAND\\n',\n",
       " 'BAND STRUCTURE CALCULATION\\n',\n",
       " '11 8 200 1 26 1 0\\n',\n",
       " '0 0 0  4 0 4\\n',\n",
       " '4 0 4  4 2 5\\n',\n",
       " '4 2 5  2 2 5\\n',\n",
       " '2 2 5  0 0 0\\n',\n",
       " '0 0 0  4 4 4\\n',\n",
       " '4 4 4  5 2 5\\n',\n",
       " '5 2 5  4 2 5\\n',\n",
       " '4 2 5  4 4 4\\n',\n",
       " '4 4 4  2 2 5\\n',\n",
       " '2 2 5  5 2 5\\n',\n",
       " '5 2 5  4 0 4\\n',\n",
       " 'END\\n']"
      ]
     },
     "execution_count": 24,
     "metadata": {},
     "output_type": "execute_result"
    }
   ],
   "source": [
    "bands_input.property_block"
   ]
  },
  {
   "cell_type": "markdown",
   "id": "1b252258",
   "metadata": {},
   "source": [
    "#### doss"
   ]
  },
  {
   "cell_type": "code",
   "execution_count": 25,
   "id": "1ce65af5",
   "metadata": {
    "tags": []
   },
   "outputs": [],
   "source": [
    "from CRYSTALpytools.crystal_io import Properties_input\n",
    "\n",
    "#Create the doss input object\n",
    "doss_input = Properties_input()\n",
    "#Add the newk block to the input object\n",
    "doss_input.make_newk_block(12,24)\n",
    "\n",
    "#Prepare the doss_block\n",
    "\n",
    "doss_input.make_doss_block(n_points=200,e_range=[-5,15],plotting_option=2,poly=12,print_option=1)\n",
    "\n",
    "#Write the input\n",
    "doss_input.write_properties_input('data/doss_input.d3')"
   ]
  },
  {
   "cell_type": "code",
   "execution_count": 26,
   "id": "933b281c",
   "metadata": {
    "tags": []
   },
   "outputs": [
    {
     "name": "stdout",
     "output_type": "stream",
     "text": [
      "NEWK\n",
      "12 24\n",
      "1 0\n",
      "DOSS\n",
      "0 200 -1 -1 2 12 1\n",
      "-0.18374661087827499 0.551239832634825\n",
      "END\n"
     ]
    }
   ],
   "source": [
    "!cat data/doss_input.d3"
   ]
  },
  {
   "cell_type": "markdown",
   "id": "503866da",
   "metadata": {},
   "source": [
    "#### pdoss (atoms)"
   ]
  },
  {
   "cell_type": "code",
   "execution_count": 27,
   "id": "62c51e8e",
   "metadata": {
    "tags": []
   },
   "outputs": [],
   "source": [
    "from CRYSTALpytools.crystal_io import Properties_input\n",
    "\n",
    "#Create the doss input object\n",
    "pdoss_input = Properties_input()\n",
    "#Add the newk block to the input object\n",
    "pdoss_input.make_newk_block(12,24)\n",
    "\n",
    "#Prepare the pdoss_block\n",
    "projections = [[1],[2]]\n",
    "pdoss_input.make_pdoss_block(projections,proj_type='atom',n_points=200,band_range=[1,26],\n",
    "                       plotting_option=2,poly=12,print_option=1)\n",
    "\n",
    "#Write the input\n",
    "pdoss_input.write_properties_input('data/pdoss_input.d3')"
   ]
  },
  {
   "cell_type": "code",
   "execution_count": 28,
   "id": "42fd2517",
   "metadata": {
    "tags": []
   },
   "outputs": [
    {
     "name": "stdout",
     "output_type": "stream",
     "text": [
      "NEWK\n",
      "12 24\n",
      "1 0\n",
      "DOSS\n",
      "2 200 1 26 2 12 1\n",
      "-1 1\n",
      "-1 2\n",
      "END\n"
     ]
    }
   ],
   "source": [
    "!cat data/pdoss_input.d3"
   ]
  },
  {
   "cell_type": "markdown",
   "id": "30fa6e6e",
   "metadata": {},
   "source": [
    "#### pdoss (ao)"
   ]
  },
  {
   "cell_type": "code",
   "execution_count": 29,
   "id": "89f9c099",
   "metadata": {
    "tags": []
   },
   "outputs": [],
   "source": [
    "from CRYSTALpytools.crystal_io import Properties_input\n",
    "\n",
    "#Create the doss input object\n",
    "pdoss_input = Properties_input()\n",
    "#Add the newk block to the input object\n",
    "pdoss_input.make_newk_block(12,24)\n",
    "\n",
    "#Prepare the pdoss_block\n",
    "projections = [[1, 2, 3, 4, 5, 6, 7, 8, 9, 10, 11, 12, 13],\n",
    "              [14, 15, 16, 17, 18, 19, 20, 21, 22, 23, 24, 25, 26]]\n",
    "pdoss_input.make_pdoss_block(projections,proj_type='ao',n_points=200,band_range=[1,26],\n",
    "                       plotting_option=2,poly=12,print_option=1)\n",
    "\n",
    "#Write the input\n",
    "pdoss_input.write_properties_input('data/pdoss_input_ao.d3')"
   ]
  },
  {
   "cell_type": "code",
   "execution_count": 30,
   "id": "4cbf8ebd",
   "metadata": {
    "tags": []
   },
   "outputs": [
    {
     "name": "stdout",
     "output_type": "stream",
     "text": [
      "NEWK\n",
      "12 24\n",
      "1 0\n",
      "DOSS\n",
      "2 200 1 26 2 12 1\n",
      "13 1 2 3 4 5 6 7 8 9 10 11 12 13\n",
      "13 14 15 16 17 18 19 20 21 22 23 24 25 26\n",
      "END\n"
     ]
    }
   ],
   "source": [
    "!cat data/pdoss_input_ao.d3"
   ]
  },
  {
   "cell_type": "markdown",
   "id": "bb1f72fe",
   "metadata": {},
   "source": [
    "### Properties_output class"
   ]
  },
  {
   "cell_type": "code",
   "execution_count": 31,
   "id": "844eb99c",
   "metadata": {
    "tags": []
   },
   "outputs": [],
   "source": [
    "from CRYSTALpytools.crystal_io import Properties_output"
   ]
  },
  {
   "cell_type": "markdown",
   "id": "31c14b9a",
   "metadata": {},
   "source": [
    "#### Band structure\n",
    "Either 'BAND.DAT' or 'fort.25' format can be used."
   ]
  },
  {
   "cell_type": "code",
   "execution_count": 32,
   "id": "7525ccbb",
   "metadata": {
    "tags": []
   },
   "outputs": [
    {
     "data": {
      "text/plain": [
       "<CRYSTALpytools.crystal_io.Properties_output at 0x7f3d2fd2cca0>"
      ]
     },
     "execution_count": 32,
     "metadata": {},
     "output_type": "execute_result"
    }
   ],
   "source": [
    "mgo_bands = Properties_output()\n",
    "mgo_bands.read_electron_band('data/mgo_BAND_dat.BAND')\n",
    "mgo_bands"
   ]
  },
  {
   "cell_type": "markdown",
   "id": "17e06d40",
   "metadata": {},
   "source": [
    "#### Density of states (DOS)\n",
    "Either 'DOSS.DAT' or 'fort.25' format can be used."
   ]
  },
  {
   "cell_type": "code",
   "execution_count": 33,
   "id": "ec69cfae",
   "metadata": {
    "scrolled": true,
    "tags": []
   },
   "outputs": [
    {
     "data": {
      "text/plain": [
       "<CRYSTALpytools.base.propout.DOSBASE at 0x7f3d327e5100>"
      ]
     },
     "execution_count": 33,
     "metadata": {},
     "output_type": "execute_result"
    }
   ],
   "source": [
    "mgo_doss = Properties_output()\n",
    "mgo_doss = mgo_doss.read_electron_dos('data/mgo_DOSS_dat.DOSS')\n",
    "mgo_doss"
   ]
  },
  {
   "cell_type": "markdown",
   "id": "8666bd36",
   "metadata": {},
   "source": [
    "### Crystal_gui class"
   ]
  },
  {
   "cell_type": "code",
   "execution_count": 34,
   "id": "a2c9ec2a-e36d-4812-9b6f-7095c8ebb295",
   "metadata": {
    "tags": []
   },
   "outputs": [],
   "source": [
    "from CRYSTALpytools.crystal_io import Crystal_gui"
   ]
  },
  {
   "cell_type": "markdown",
   "id": "ea6f4e55-96b3-4c4c-bc40-95d6073faf38",
   "metadata": {},
   "source": [
    "#### Read CRYSTAL GUI file\n",
    "A gui file is read by `Crystal_gui().read_gui()` method. The file can be converted into other geometry data formats including Pymatgen Structure/Molecule object and CIF file using functions in `CRYSTALpytools.convert`."
   ]
  },
  {
   "cell_type": "code",
   "execution_count": 36,
   "id": "286c6a39-fb2a-4120-bf05-06ffc7325fe2",
   "metadata": {
    "tags": []
   },
   "outputs": [
    {
     "name": "stdout",
     "output_type": "stream",
     "text": [
      "Dimensionality = 3\n",
      "\n",
      "Space group = 225\n",
      "\n",
      "N atoms = 2\n",
      "\n",
      "N symmetry operations = 48\n",
      "\n"
     ]
    }
   ],
   "source": [
    "gui = Crystal_gui().read_gui('data/mgo_optgeom.opttraj/mgo-opt004.gui')\n",
    "print('Dimensionality = {:d}\\n'.format(gui.dimensionality))\n",
    "print('Space group = {:d}\\n'.format(gui.space_group))\n",
    "print('N atoms = {:d}\\n'.format(gui.n_atoms))\n",
    "print('N symmetry operations = {:d}\\n'.format(gui.n_symmops))"
   ]
  },
  {
   "cell_type": "markdown",
   "id": "0b70b5b3",
   "metadata": {},
   "source": [
    "#### Write data as CRYSTAL GUI file\n",
    "Other geometry data formats including Pymatgen Structure/Molecule object and CIF can be read and converted into CRYSTAL gui file.\n",
    "\n",
    "* 3D structure\n",
    "\n",
    "A conventional MgO cell is generated here, which will not be reduced to ensure consistency. To get the irreducible representation, use `CRYSTALpytools.geometry.refine_geometry()` function"
   ]
  },
  {
   "cell_type": "code",
   "execution_count": 37,
   "id": "36f7ffd0",
   "metadata": {
    "tags": []
   },
   "outputs": [],
   "source": [
    "from CRYSTALpytools.convert import cry_pmg2gui\n",
    "from pymatgen.core import Structure, Lattice\n",
    "\n",
    "# A conventional cell is generated here, which will not be reduced to maintain consistency\n",
    "substrate = Structure.from_spacegroup(\"Fm-3m\", Lattice.cubic(4.217), [\"Mg\",'O'], [[0, 0, 0],[0.5,0.5,0.5]])\n",
    "mgo_gui = cry_pmg2gui(substrate, gui_file=None)\n",
    "mgo_gui.write_gui('data/mgo_write_gui.gui')"
   ]
  },
  {
   "cell_type": "code",
   "execution_count": 38,
   "id": "e6bae971",
   "metadata": {
    "tags": []
   },
   "outputs": [
    {
     "name": "stdout",
     "output_type": "stream",
     "text": [
      "   3   1   1\n",
      "  4.217000000000E+00  0.000000000000E+00  0.000000000000E+00\n",
      "  0.000000000000E+00  4.217000000000E+00  0.000000000000E+00\n",
      "  0.000000000000E+00  0.000000000000E+00  4.217000000000E+00\n",
      "   48\n",
      "      1.000000000000      0.000000000000      0.000000000000\n",
      "      0.000000000000      1.000000000000      0.000000000000\n",
      "      0.000000000000      0.000000000000      1.000000000000\n",
      "      0.000000000000      0.000000000000      0.000000000000\n",
      "     -1.000000000000      0.000000000000      0.000000000000\n",
      "      0.000000000000     -1.000000000000      0.000000000000\n",
      "      0.000000000000      0.000000000000     -1.000000000000\n",
      "      0.000000000000      0.000000000000      0.000000000000\n",
      "      0.000000000000     -1.000000000000      0.000000000000\n",
      "      1.000000000000      0.000000000000      0.000000000000\n",
      "      0.000000000000      0.000000000000      1.000000000000\n",
      "      0.000000000000      0.000000000000      0.000000000000\n",
      "      0.000000000000      1.000000000000      0.000000000000\n",
      "     -1.000000000000      0.000000000000      0.000000000000\n",
      "      0.000000000000      0.000000000000     -1.000000000000\n",
      "      0.000000000000      0.000000000000      0.000000000000\n",
      "     -1.000000000000      0.000000000000      0.000000000000\n",
      "      0.000000000000     -1.000000000000      0.000000000000\n",
      "      0.000000000000      0.000000000000      1.000000000000\n",
      "      0.000000000000      0.000000000000      0.000000000000\n",
      "      1.000000000000      0.000000000000      0.000000000000\n",
      "      0.000000000000      1.000000000000      0.000000000000\n",
      "      0.000000000000      0.000000000000     -1.000000000000\n",
      "      0.000000000000      0.000000000000      0.000000000000\n",
      "      0.000000000000      1.000000000000      0.000000000000\n",
      "     -1.000000000000      0.000000000000      0.000000000000\n",
      "      0.000000000000      0.000000000000      1.000000000000\n",
      "      0.000000000000      0.000000000000      0.000000000000\n",
      "      0.000000000000     -1.000000000000      0.000000000000\n",
      "      1.000000000000      0.000000000000      0.000000000000\n",
      "      0.000000000000      0.000000000000     -1.000000000000\n",
      "      0.000000000000      0.000000000000      0.000000000000\n",
      "      1.000000000000      0.000000000000      0.000000000000\n",
      "      0.000000000000     -1.000000000000      0.000000000000\n",
      "      0.000000000000      0.000000000000     -1.000000000000\n",
      "      0.000000000000      0.000000000000      0.000000000000\n",
      "     -1.000000000000      0.000000000000      0.000000000000\n",
      "      0.000000000000      1.000000000000      0.000000000000\n",
      "      0.000000000000      0.000000000000      1.000000000000\n",
      "      0.000000000000      0.000000000000      0.000000000000\n",
      "      0.000000000000     -1.000000000000      0.000000000000\n",
      "     -1.000000000000      0.000000000000      0.000000000000\n",
      "      0.000000000000      0.000000000000     -1.000000000000\n",
      "      0.000000000000      0.000000000000      0.000000000000\n",
      "      0.000000000000      1.000000000000      0.000000000000\n",
      "      1.000000000000      0.000000000000      0.000000000000\n",
      "      0.000000000000      0.000000000000      1.000000000000\n",
      "      0.000000000000      0.000000000000      0.000000000000\n",
      "     -1.000000000000      0.000000000000      0.000000000000\n",
      "      0.000000000000      1.000000000000      0.000000000000\n",
      "      0.000000000000      0.000000000000     -1.000000000000\n",
      "      0.000000000000      0.000000000000      0.000000000000\n",
      "      1.000000000000      0.000000000000      0.000000000000\n",
      "      0.000000000000     -1.000000000000      0.000000000000\n",
      "      0.000000000000      0.000000000000      1.000000000000\n",
      "      0.000000000000      0.000000000000      0.000000000000\n",
      "      0.000000000000      1.000000000000      0.000000000000\n",
      "      1.000000000000      0.000000000000      0.000000000000\n",
      "      0.000000000000      0.000000000000     -1.000000000000\n",
      "      0.000000000000      0.000000000000      0.000000000000\n",
      "      0.000000000000     -1.000000000000      0.000000000000\n",
      "     -1.000000000000      0.000000000000      0.000000000000\n",
      "      0.000000000000      0.000000000000      1.000000000000\n",
      "      0.000000000000      0.000000000000      0.000000000000\n",
      "      0.000000000000      0.000000000000      1.000000000000\n",
      "      1.000000000000      0.000000000000      0.000000000000\n",
      "      0.000000000000      1.000000000000      0.000000000000\n",
      "      0.000000000000      0.000000000000      0.000000000000\n",
      "      0.000000000000      0.000000000000     -1.000000000000\n",
      "     -1.000000000000      0.000000000000      0.000000000000\n",
      "      0.000000000000     -1.000000000000      0.000000000000\n",
      "      0.000000000000      0.000000000000      0.000000000000\n",
      "      0.000000000000      0.000000000000      1.000000000000\n",
      "      0.000000000000     -1.000000000000      0.000000000000\n",
      "      1.000000000000      0.000000000000      0.000000000000\n",
      "      0.000000000000      0.000000000000      0.000000000000\n",
      "      0.000000000000      0.000000000000     -1.000000000000\n",
      "      0.000000000000      1.000000000000      0.000000000000\n",
      "     -1.000000000000      0.000000000000      0.000000000000\n",
      "      0.000000000000      0.000000000000      0.000000000000\n",
      "      0.000000000000      0.000000000000      1.000000000000\n",
      "     -1.000000000000      0.000000000000      0.000000000000\n",
      "      0.000000000000     -1.000000000000      0.000000000000\n",
      "      0.000000000000      0.000000000000      0.000000000000\n",
      "      0.000000000000      0.000000000000     -1.000000000000\n",
      "      1.000000000000      0.000000000000      0.000000000000\n",
      "      0.000000000000      1.000000000000      0.000000000000\n",
      "      0.000000000000      0.000000000000      0.000000000000\n",
      "      0.000000000000      0.000000000000      1.000000000000\n",
      "      0.000000000000      1.000000000000      0.000000000000\n",
      "     -1.000000000000      0.000000000000      0.000000000000\n",
      "      0.000000000000      0.000000000000      0.000000000000\n",
      "      0.000000000000      0.000000000000     -1.000000000000\n",
      "      0.000000000000     -1.000000000000      0.000000000000\n",
      "      1.000000000000      0.000000000000      0.000000000000\n",
      "      0.000000000000      0.000000000000      0.000000000000\n",
      "      0.000000000000      0.000000000000     -1.000000000000\n",
      "      1.000000000000      0.000000000000      0.000000000000\n",
      "      0.000000000000     -1.000000000000      0.000000000000\n",
      "      0.000000000000      0.000000000000      0.000000000000\n",
      "      0.000000000000      0.000000000000      1.000000000000\n",
      "     -1.000000000000      0.000000000000      0.000000000000\n",
      "      0.000000000000      1.000000000000      0.000000000000\n",
      "      0.000000000000      0.000000000000      0.000000000000\n",
      "      0.000000000000      0.000000000000     -1.000000000000\n",
      "      0.000000000000     -1.000000000000      0.000000000000\n",
      "     -1.000000000000      0.000000000000      0.000000000000\n",
      "      0.000000000000      0.000000000000      0.000000000000\n",
      "      0.000000000000      0.000000000000      1.000000000000\n",
      "      0.000000000000      1.000000000000      0.000000000000\n",
      "      1.000000000000      0.000000000000      0.000000000000\n",
      "      0.000000000000      0.000000000000      0.000000000000\n",
      "      0.000000000000      0.000000000000     -1.000000000000\n",
      "     -1.000000000000      0.000000000000      0.000000000000\n",
      "      0.000000000000      1.000000000000      0.000000000000\n",
      "      0.000000000000      0.000000000000      0.000000000000\n",
      "      0.000000000000      0.000000000000      1.000000000000\n",
      "      1.000000000000      0.000000000000      0.000000000000\n",
      "      0.000000000000     -1.000000000000      0.000000000000\n",
      "      0.000000000000      0.000000000000      0.000000000000\n",
      "      0.000000000000      0.000000000000     -1.000000000000\n",
      "      0.000000000000      1.000000000000      0.000000000000\n",
      "      1.000000000000      0.000000000000      0.000000000000\n",
      "      0.000000000000      0.000000000000      0.000000000000\n",
      "      0.000000000000      0.000000000000      1.000000000000\n",
      "      0.000000000000     -1.000000000000      0.000000000000\n",
      "     -1.000000000000      0.000000000000      0.000000000000\n",
      "      0.000000000000      0.000000000000      0.000000000000\n",
      "      0.000000000000      1.000000000000      0.000000000000\n",
      "      0.000000000000      0.000000000000      1.000000000000\n",
      "      1.000000000000      0.000000000000      0.000000000000\n",
      "      0.000000000000      0.000000000000      0.000000000000\n",
      "      0.000000000000     -1.000000000000      0.000000000000\n",
      "      0.000000000000      0.000000000000     -1.000000000000\n",
      "     -1.000000000000      0.000000000000      0.000000000000\n",
      "      0.000000000000      0.000000000000      0.000000000000\n",
      "      1.000000000000      0.000000000000      0.000000000000\n",
      "      0.000000000000      0.000000000000      1.000000000000\n",
      "      0.000000000000     -1.000000000000      0.000000000000\n",
      "      0.000000000000      0.000000000000      0.000000000000\n",
      "     -1.000000000000      0.000000000000      0.000000000000\n",
      "      0.000000000000      0.000000000000     -1.000000000000\n",
      "      0.000000000000      1.000000000000      0.000000000000\n",
      "      0.000000000000      0.000000000000      0.000000000000\n",
      "      0.000000000000     -1.000000000000      0.000000000000\n",
      "      0.000000000000      0.000000000000      1.000000000000\n",
      "     -1.000000000000      0.000000000000      0.000000000000\n",
      "      0.000000000000      0.000000000000      0.000000000000\n",
      "      0.000000000000      1.000000000000      0.000000000000\n",
      "      0.000000000000      0.000000000000     -1.000000000000\n",
      "      1.000000000000      0.000000000000      0.000000000000\n",
      "      0.000000000000      0.000000000000      0.000000000000\n",
      "     -1.000000000000      0.000000000000      0.000000000000\n",
      "      0.000000000000      0.000000000000      1.000000000000\n",
      "      0.000000000000      1.000000000000      0.000000000000\n",
      "      0.000000000000      0.000000000000      0.000000000000\n",
      "      1.000000000000      0.000000000000      0.000000000000\n",
      "      0.000000000000      0.000000000000     -1.000000000000\n",
      "      0.000000000000     -1.000000000000      0.000000000000\n",
      "      0.000000000000      0.000000000000      0.000000000000\n",
      "      0.000000000000     -1.000000000000      0.000000000000\n",
      "      0.000000000000      0.000000000000     -1.000000000000\n",
      "      1.000000000000      0.000000000000      0.000000000000\n",
      "      0.000000000000      0.000000000000      0.000000000000\n",
      "      0.000000000000      1.000000000000      0.000000000000\n",
      "      0.000000000000      0.000000000000      1.000000000000\n",
      "     -1.000000000000      0.000000000000      0.000000000000\n",
      "      0.000000000000      0.000000000000      0.000000000000\n",
      "     -1.000000000000      0.000000000000      0.000000000000\n",
      "      0.000000000000      0.000000000000     -1.000000000000\n",
      "      0.000000000000     -1.000000000000      0.000000000000\n",
      "      0.000000000000      0.000000000000      0.000000000000\n",
      "      1.000000000000      0.000000000000      0.000000000000\n",
      "      0.000000000000      0.000000000000      1.000000000000\n",
      "      0.000000000000      1.000000000000      0.000000000000\n",
      "      0.000000000000      0.000000000000      0.000000000000\n",
      "      0.000000000000      1.000000000000      0.000000000000\n",
      "      0.000000000000      0.000000000000     -1.000000000000\n",
      "     -1.000000000000      0.000000000000      0.000000000000\n",
      "      0.000000000000      0.000000000000      0.000000000000\n",
      "      0.000000000000     -1.000000000000      0.000000000000\n",
      "      0.000000000000      0.000000000000      1.000000000000\n",
      "      1.000000000000      0.000000000000      0.000000000000\n",
      "      0.000000000000      0.000000000000      0.000000000000\n",
      "      1.000000000000      0.000000000000      0.000000000000\n",
      "      0.000000000000      0.000000000000     -1.000000000000\n",
      "      0.000000000000      1.000000000000      0.000000000000\n",
      "      0.000000000000      0.000000000000      0.000000000000\n",
      "     -1.000000000000      0.000000000000      0.000000000000\n",
      "      0.000000000000      0.000000000000      1.000000000000\n",
      "      0.000000000000     -1.000000000000      0.000000000000\n",
      "      0.000000000000      0.000000000000      0.000000000000\n",
      "    8\n",
      "   12  0.000000000000E+00  0.000000000000E+00  0.000000000000E+00\n",
      "   12  0.000000000000E+00  2.108500000000E+00  2.108500000000E+00\n",
      "   12  2.108500000000E+00  0.000000000000E+00  2.108500000000E+00\n",
      "   12  2.108500000000E+00  2.108500000000E+00  0.000000000000E+00\n",
      "    8  0.000000000000E+00  0.000000000000E+00  2.108500000000E+00\n",
      "    8  0.000000000000E+00  2.108500000000E+00  0.000000000000E+00\n",
      "    8  2.108500000000E+00  0.000000000000E+00  0.000000000000E+00\n",
      "    8  2.108500000000E+00  2.108500000000E+00  2.108500000000E+00\n",
      "  225   48\n"
     ]
    }
   ],
   "source": [
    "! cat data/mgo_write_gui.gui"
   ]
  },
  {
   "cell_type": "markdown",
   "id": "1133ed57",
   "metadata": {},
   "source": [
    "* 2D slab\n",
    "\n",
    "A MgO (100) slab is generated. The thickness of vacuum layer (which is not very meaningful since CRYSTAL is based on atomic orbitals) is set to be 25 Angstrom, instead of the default of 500 Angstrom in z direction. "
   ]
  },
  {
   "cell_type": "code",
   "execution_count": 39,
   "id": "502ec530",
   "metadata": {
    "tags": []
   },
   "outputs": [],
   "source": [
    "from pymatgen.core import Structure, Lattice\n",
    "from pymatgen.core.surface import SlabGenerator\n",
    "\n",
    "#Generate bulk structure\n",
    "substrate = Structure.from_spacegroup(\"Fm-3m\", Lattice.cubic(4.217), [\"Mg\",'O'], [[0, 0, 0],[0.5,0.5,0.5]])\n",
    "#Generate slab\n",
    "substrate = SlabGenerator(substrate, (1,0,0), 5., 10., center_slab=True).get_slab()\n",
    "\n",
    "# Pymatgen get_slab will return to a 3D structure. Use pbc to force the\n",
    "# implementation of 2D periodicity otherwise the vaccum input is invalid\n",
    "mgo_slab_gui = cry_pmg2gui(substrate, gui_file=None, pbc=[True, True, False], vacuum=25)\n",
    "mgo_slab_gui.write_gui('data/mgo_100_write_gui.gui',mgo_slab_gui)"
   ]
  },
  {
   "cell_type": "code",
   "execution_count": 40,
   "id": "dc48a185",
   "metadata": {
    "tags": []
   },
   "outputs": [
    {
     "name": "stdout",
     "output_type": "stream",
     "text": [
      "   2   1   1\n",
      "  2.981869296264E+00  0.000000000000E+00  0.000000000000E+00\n",
      "  0.000000000000E+00  2.981869296264E+00  0.000000000000E+00\n",
      "  0.000000000000E+00  0.000000000000E+00  3.132550000000E+01\n",
      "   16\n",
      "      1.000000000000      0.000000000000      0.000000000000\n",
      "      0.000000000000      1.000000000000      0.000000000000\n",
      "     -0.000000000000     -0.000000000000      1.000000000000\n",
      "      0.000000000000      0.000000000000      0.000000000000\n",
      "      0.000000000000     -1.000000000000      0.000000000000\n",
      "      1.000000000000     -0.000000000000      0.000000000000\n",
      "     -0.000000000000     -0.000000000000      1.000000000000\n",
      "      0.000000000000      0.000000000000      0.000000000000\n",
      "     -1.000000000000     -0.000000000000      0.000000000000\n",
      "      0.000000000000     -1.000000000000      0.000000000000\n",
      "     -0.000000000000     -0.000000000000      1.000000000000\n",
      "      0.000000000000      0.000000000000      0.000000000000\n",
      "     -0.000000000000      1.000000000000      0.000000000000\n",
      "     -1.000000000000      0.000000000000      0.000000000000\n",
      "     -0.000000000000      0.000000000000      1.000000000000\n",
      "      0.000000000000      0.000000000000      0.000000000000\n",
      "      1.000000000000     -0.000000000000      0.000000000000\n",
      "      0.000000000000     -1.000000000000      0.000000000000\n",
      "      0.000000000000     -0.000000000000     -1.000000000000\n",
      "      1.490934648132      1.490934648132      0.000000000000\n",
      "     -0.000000000000     -1.000000000000      0.000000000000\n",
      "     -1.000000000000      0.000000000000      0.000000000000\n",
      "      0.000000000000      0.000000000000     -1.000000000000\n",
      "      1.490934648132      1.490934648132      0.000000000000\n",
      "     -1.000000000000      0.000000000000      0.000000000000\n",
      "      0.000000000000      1.000000000000      0.000000000000\n",
      "      0.000000000000      0.000000000000     -1.000000000000\n",
      "      1.490934648132      1.490934648132      0.000000000000\n",
      "      0.000000000000      1.000000000000      0.000000000000\n",
      "      1.000000000000     -0.000000000000      0.000000000000\n",
      "      0.000000000000      0.000000000000     -1.000000000000\n",
      "      1.490934648132      1.490934648132      0.000000000000\n",
      "     -1.000000000000     -0.000000000000      0.000000000000\n",
      "      0.000000000000     -1.000000000000      0.000000000000\n",
      "      0.000000000000      0.000000000000     -1.000000000000\n",
      "      1.490934648132      1.490934648132      0.000000000000\n",
      "     -0.000000000000      1.000000000000      0.000000000000\n",
      "     -1.000000000000      0.000000000000      0.000000000000\n",
      "      0.000000000000      0.000000000000     -1.000000000000\n",
      "      1.490934648132      1.490934648132      0.000000000000\n",
      "      1.000000000000      0.000000000000      0.000000000000\n",
      "      0.000000000000      1.000000000000      0.000000000000\n",
      "      0.000000000000      0.000000000000     -1.000000000000\n",
      "      1.490934648132      1.490934648132      0.000000000000\n",
      "      0.000000000000     -1.000000000000      0.000000000000\n",
      "      1.000000000000     -0.000000000000      0.000000000000\n",
      "      0.000000000000     -0.000000000000     -1.000000000000\n",
      "      1.490934648132      1.490934648132      0.000000000000\n",
      "     -1.000000000000      0.000000000000      0.000000000000\n",
      "      0.000000000000      1.000000000000      0.000000000000\n",
      "     -0.000000000000      0.000000000000      1.000000000000\n",
      "      0.000000000000      0.000000000000      0.000000000000\n",
      "      0.000000000000      1.000000000000      0.000000000000\n",
      "      1.000000000000     -0.000000000000      0.000000000000\n",
      "     -0.000000000000     -0.000000000000      1.000000000000\n",
      "      0.000000000000      0.000000000000      0.000000000000\n",
      "      1.000000000000     -0.000000000000      0.000000000000\n",
      "      0.000000000000     -1.000000000000      0.000000000000\n",
      "     -0.000000000000     -0.000000000000      1.000000000000\n",
      "      0.000000000000      0.000000000000      0.000000000000\n",
      "     -0.000000000000     -1.000000000000      0.000000000000\n",
      "     -1.000000000000      0.000000000000      0.000000000000\n",
      "     -0.000000000000     -0.000000000000      1.000000000000\n",
      "      0.000000000000      0.000000000000      0.000000000000\n",
      "    8\n",
      "   12  0.000000000000E+00  0.000000000000E+00  3.162750000000E+00\n",
      "   12  1.490934648132E+00  1.490934648132E+00  1.054250000000E+00\n",
      "   12  0.000000000000E+00  0.000000000000E+00 -1.054250000000E+00\n",
      "   12  1.490934648132E+00  1.490934648132E+00 -3.162750000000E+00\n",
      "    8  0.000000000000E+00  0.000000000000E+00  1.054250000000E+00\n",
      "    8  1.490934648132E+00  1.490934648132E+00  3.162750000000E+00\n",
      "    8  0.000000000000E+00  0.000000000000E+00 -3.162750000000E+00\n",
      "    8  1.490934648132E+00  1.490934648132E+00 -1.054250000000E+00\n",
      "    1    1\n"
     ]
    }
   ],
   "source": [
    "! cat data/mgo_100_write_gui.gui"
   ]
  }
 ],
 "metadata": {
  "kernelspec": {
   "display_name": "Python 3 (ipykernel)",
   "language": "python",
   "name": "python3"
  },
  "language_info": {
   "codemirror_mode": {
    "name": "ipython",
    "version": 3
   },
   "file_extension": ".py",
   "mimetype": "text/x-python",
   "name": "python",
   "nbconvert_exporter": "python",
   "pygments_lexer": "ipython3",
   "version": "3.9.17"
  }
 },
 "nbformat": 4,
 "nbformat_minor": 5
}
