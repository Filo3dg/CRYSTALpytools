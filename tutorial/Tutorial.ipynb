{
 "cells": [
  {
   "cell_type": "markdown",
   "id": "ef2ddff6",
   "metadata": {},
   "source": [
    "# crystal_functions tutorial"
   ]
  },
  {
   "cell_type": "markdown",
   "id": "5c279f09",
   "metadata": {},
   "source": [
    "## CRYSTAL input"
   ]
  },
  {
   "cell_type": "markdown",
   "id": "f89fa3a7",
   "metadata": {},
   "source": [
    "First, functions need to be imported. Since crystal_functions was installed via pip, python already knows where to find it. Therefore, all functions can be imported following this logic:\n",
    "\n",
    "```console\n",
    "from crystal_functions.module_name import function_name\n",
    "```\n",
    "In this first exercise, we need to use the Crystal_input class that sits in the file_readwrite module:"
   ]
  },
  {
   "cell_type": "code",
   "execution_count": 1,
   "id": "3e34efa1",
   "metadata": {},
   "outputs": [],
   "source": [
    "#from crystal_functions.file_readwrite import Crystal_input\n",
    "\n",
    "import sys\n",
    "sys.path.insert(1, '../crystal_functions/')\n",
    "from file_readwrite import Crystal_input, Crystal_output"
   ]
  },
  {
   "cell_type": "markdown",
   "id": "fe32d85b",
   "metadata": {},
   "source": [
    "### Build the input from blocks"
   ]
  },
  {
   "cell_type": "markdown",
   "id": "19d93487",
   "metadata": {},
   "source": [
    "The first exercise will be creating and writing a CRYSTAL input file. We will see later a more convenient way to do this, but for now we are just going to pass crystal_functions a list of parameters that we need to build the input and then write it. This corresponds to manually writing to file, but instead of writing to file we are creating python lists (delimited by square brackets and using commas as separators):"
   ]
  },
  {
   "cell_type": "code",
   "execution_count": 2,
   "id": "235c6db0",
   "metadata": {},
   "outputs": [],
   "source": [
    "geom_block = ['CRYSTAL\\n',\n",
    "             '0 0 0\\n',\n",
    "             '225\\n',\n",
    "             '4.217\\n',\n",
    "             '2\\n',\n",
    "             '12 0.    0.    0.\\n',\n",
    "             '8 0.5   0.5   0.5\\n']\n",
    "bs_block   = ['BASISSET\\n','POB-DZVP\\n']\n",
    "func_block = ['DFT\\n', 'B3LYP\\n', 'XXLGRID\\n', 'ENDDFT\\n']\n",
    "scf_block  = [['TOLINTEG\\n', '7 7 7 7 14\\n'],\n",
    "             ['SHRINK\\n', '12 24\\n'],\n",
    "             ['MAXCYCLE\\n', '200\\n'],\n",
    "             ['FMIXING\\n', '70\\n'],\n",
    "             'DIIS\\n',\n",
    "             'ENDSCF\\n']\n",
    "title = 'MgO crystal_functions tutorial' #optional"
   ]
  },
  {
   "cell_type": "markdown",
   "id": "28d6f4bb",
   "metadata": {},
   "source": [
    "Then we need to create the Crystal_input object. This is called initialising the object:"
   ]
  },
  {
   "cell_type": "code",
   "execution_count": 3,
   "id": "1a658578",
   "metadata": {},
   "outputs": [],
   "source": [
    "mgo_input = Crystal_input()"
   ]
  },
  {
   "cell_type": "markdown",
   "id": "5511352d",
   "metadata": {},
   "source": [
    "If we try to see what mgo_input, by executing the following command:"
   ]
  },
  {
   "cell_type": "code",
   "execution_count": 4,
   "id": "f0ad4fb9",
   "metadata": {},
   "outputs": [
    {
     "name": "stdout",
     "output_type": "stream",
     "text": [
      "<file_readwrite.Crystal_input object at 0x10793d880>\n"
     ]
    }
   ],
   "source": [
    "print(mgo_input)"
   ]
  },
  {
   "cell_type": "markdown",
   "id": "d731b46b",
   "metadata": {},
   "source": [
    "You can see this is an object of the class file_readwrite.Crystal_input.\n",
    "\n",
    "Now that the object has been initialised, we want to add information to it and that is when the lists we prepared earlier will be used. We are going to use the from_file function, which belongs to the Crystal_input class. If you are not familiar with python, you only need to know that if a function belongs to a class, it is called by adding .function_name() after the object created by the class. In this instance, mgo_input is an object of the Crystal_input class. Therefore, to use a function on it we will use:\n",
    "\n",
    "```console\n",
    "mgo_input.from_blocks()\n",
    "```\n",
    "We are first going to execute the command above and see the error message because it is very informative. \n"
   ]
  },
  {
   "cell_type": "code",
   "execution_count": 5,
   "id": "1567b872",
   "metadata": {},
   "outputs": [],
   "source": [
    "#mgo_input.from_blocks()"
   ]
  },
  {
   "cell_type": "markdown",
   "id": "d1ff736b",
   "metadata": {},
   "source": [
    "This can be used everytime we are not sure about the arguments for a function. You should see that the from_blocks() takes four positional arguments. Positional, in this context means mandatory. There is also a fifth optional one, which is “title”. The reason why this is optional is because a default value has already been defined in the function itself.\n",
    "\n",
    "Now we can run the command "
   ]
  },
  {
   "cell_type": "code",
   "execution_count": 6,
   "id": "6da212aa",
   "metadata": {},
   "outputs": [],
   "source": [
    "mgo_input.from_blocks(geom_block=geom_block, bs_block=bs_block, \n",
    "                                        func_block=func_block, scf_block=scf_block, title=title)"
   ]
  },
  {
   "cell_type": "markdown",
   "id": "7e3ceec7",
   "metadata": {},
   "source": [
    "If we didn’t include title, crystal_functions would use “crystal_functions generated input” as first line of the input.\n",
    "\n",
    "Now mgo_input will contain the information about the different blocks. We can test this by executing:"
   ]
  },
  {
   "cell_type": "code",
   "execution_count": 7,
   "id": "5ac0f40b",
   "metadata": {},
   "outputs": [
    {
     "data": {
      "text/plain": [
       "['CRYSTAL\\n',\n",
       " '0 0 0\\n',\n",
       " '225\\n',\n",
       " '4.217\\n',\n",
       " '2\\n',\n",
       " '12 0.    0.    0.\\n',\n",
       " '8 0.5   0.5   0.5\\n']"
      ]
     },
     "execution_count": 7,
     "metadata": {},
     "output_type": "execute_result"
    }
   ],
   "source": [
    "mgo_input.geom_block"
   ]
  },
  {
   "cell_type": "markdown",
   "id": "09ea467b",
   "metadata": {},
   "source": [
    "This displays the geom_block. \n",
    "\n",
    "You can also visualise the whole input by using:"
   ]
  },
  {
   "cell_type": "code",
   "execution_count": 8,
   "id": "66a096a2",
   "metadata": {},
   "outputs": [
    {
     "name": "stdout",
     "output_type": "stream",
     "text": [
      "MgO crystal_functions tutorial\n",
      "CRYSTAL\n",
      "0 0 0\n",
      "225\n",
      "4.217\n",
      "2\n",
      "12 0.    0.    0.\n",
      "8 0.5   0.5   0.5\n",
      "BASISSET\n",
      "POB-DZVP\n",
      "DFT\n",
      "B3LYP\n",
      "XXLGRID\n",
      "ENDDFT\n",
      "TOLINTEG\n",
      "7 7 7 7 14\n",
      "SHRINK\n",
      "12 24\n",
      "MAXCYCLE\n",
      "200\n",
      "FMIXING\n",
      "70\n",
      "DIIS\n",
      "ENDSCF\n"
     ]
    }
   ],
   "source": [
    "mgo_input.print_input()"
   ]
  },
  {
   "cell_type": "markdown",
   "id": "2e9c081d",
   "metadata": {},
   "source": [
    "### Build the input from an existing .d12 file"
   ]
  },
  {
   "cell_type": "markdown",
   "id": "93286b8f",
   "metadata": {},
   "source": [
    "If we already have a CRYSTAL input (.d12) saved to file, we can generate the Crystal_input object by reading this file. The .from_file function takes the path to the input file as an argument:"
   ]
  },
  {
   "cell_type": "code",
   "execution_count": 9,
   "id": "82bae8d0",
   "metadata": {},
   "outputs": [
    {
     "name": "stdout",
     "output_type": "stream",
     "text": [
      "MGO BULK - GEOMETRY TEST\n",
      "CRYSTAL\n",
      "0 0 0\n",
      "225\n",
      "4.217\n",
      "2\n",
      "12 0.    0.    0.\n",
      "8 0.5   0.5   0.5\n",
      "END\n",
      "12 4\n",
      "0 0 8 2.0 1.0\n",
      " 68370.0 0.0002226\n",
      " 9661.0 0.001901\n",
      " 2041.0 0.011042\n",
      " 529.6 0.05005\n",
      " 159.17 0.1690\n",
      " 54.71 0.36695\n",
      " 21.236 0.4008\n",
      " 8.791 0.1487\n",
      "0 1 5 8.0 1.0\n",
      " 143.7 -0.00671 0.00807\n",
      " 31.27 -0.07927 0.06401\n",
      " 9.661 -0.08088 0.2092\n",
      " 3.726 0.2947 0.3460\n",
      " 1.598 0.5714 0.3731\n",
      "0 1 1 2.0 1.0\n",
      " 0.688 1.0 1.0\n",
      "0 1 1 0.0 1.0\n",
      " 0.28 1.0 1.0\n",
      "8 4\n",
      "0 0 8 2.0 1.0\n",
      " 8020.0 0.00108\n",
      " 1338.0 0.00804\n",
      " 255.4 0.05324\n",
      " 69.22 0.1681\n",
      " 23.90 0.3581\n",
      " 9.264 0.3855\n",
      " 3.851 0.1468\n",
      " 1.212 0.0728\n",
      "0 1 4 6.0 1.0\n",
      " 49.43 -0.00883 0.00958\n",
      " 10.47 -0.0915 0.0696\n",
      " 3.235 -0.0402 0.2065\n",
      " 1.217 0.379 0.347\n",
      "0 1 1 0.0 1.0\n",
      " 0.4764 1.0 1.0\n",
      "0 1 1 0.0 1.0\n",
      " 0.1802 1.0 1.0\n",
      "99 0\n",
      "ENDBS\n",
      "DFT\n",
      "B3LYP\n",
      "XXLGRID\n",
      "ENDDFT\n",
      "TOLINTEG\n",
      "7 7 7 7 14\n",
      "SHRINK\n",
      "12 24\n",
      "MAXCYCLE\n",
      "200\n",
      "FMIXING\n",
      "70\n",
      "DIIS\n",
      "ENDSCF\n"
     ]
    }
   ],
   "source": [
    "mgo_input_2 = Crystal_input()\n",
    "mgo_input_2.from_file('data/mgo.d12')\n",
    "mgo_input_2.print_input()"
   ]
  },
  {
   "cell_type": "markdown",
   "id": "d3da0599",
   "metadata": {},
   "source": [
    "### Manipulation of the CRYSTAL input"
   ]
  },
  {
   "cell_type": "markdown",
   "id": "5b063a55",
   "metadata": {},
   "source": [
    "Once the Crystal_input object was created, we can use its class specific functions to modify it directly in this notebook.\n",
    "\n",
    "The first task will be to transform the input, which is the one for an scf calculations, into a geometry optimisation one. We are going to use the .sp_to_opt() function:"
   ]
  },
  {
   "cell_type": "code",
   "execution_count": 10,
   "id": "5b6f9951",
   "metadata": {},
   "outputs": [],
   "source": [
    "mgo_input_2.sp_to_opt()"
   ]
  },
  {
   "cell_type": "markdown",
   "id": "64735bde",
   "metadata": {},
   "source": [
    "Since no arguments were passed to the function, only the OPTGEOM will be added:"
   ]
  },
  {
   "cell_type": "code",
   "execution_count": 11,
   "id": "947ceb30",
   "metadata": {},
   "outputs": [
    {
     "data": {
      "text/plain": [
       "['CRYSTAL\\n',\n",
       " '0 0 0\\n',\n",
       " '225\\n',\n",
       " '4.217\\n',\n",
       " '2\\n',\n",
       " '12 0.    0.    0.\\n',\n",
       " '8 0.5   0.5   0.5\\n',\n",
       " 'OPTGEOM\\n',\n",
       " 'END\\n',\n",
       " 'END\\n']"
      ]
     },
     "execution_count": 11,
     "metadata": {},
     "output_type": "execute_result"
    }
   ],
   "source": [
    "mgo_input_2.geom_block"
   ]
  },
  {
   "cell_type": "markdown",
   "id": "e99fd795",
   "metadata": {},
   "source": [
    "And now let's transform the input back into a single point calculation. \n",
    "\n",
    "**Can you guess what function will perform this task? If so, write in the cell below and print the geom_block to make sure it worked.**"
   ]
  },
  {
   "cell_type": "code",
   "execution_count": 12,
   "id": "ed0977f6",
   "metadata": {},
   "outputs": [
    {
     "data": {
      "text/plain": [
       "['CRYSTAL\\n',\n",
       " '0 0 0\\n',\n",
       " '225\\n',\n",
       " '4.217\\n',\n",
       " '2\\n',\n",
       " '12 0.    0.    0.\\n',\n",
       " '8 0.5   0.5   0.5\\n',\n",
       " 'END\\n']"
      ]
     },
     "execution_count": 12,
     "metadata": {},
     "output_type": "execute_result"
    }
   ],
   "source": [
    "mgo_input_2.opt_to_sp()\n",
    "mgo_input_2.geom_block"
   ]
  },
  {
   "cell_type": "markdown",
   "id": "3116a0d2",
   "metadata": {},
   "source": [
    "**Now that you have seen how to use functions to act on the Crystal_input object, play with the other functions of the class. What information can be extracted from the Crystal_input object and what actions can be performed on the class?**\n",
    "\n",
    "_Hint: in Jupyter Notebooks, if you click tab after object\\_name. you will see a list of available functions and attributes._"
   ]
  },
  {
   "cell_type": "code",
   "execution_count": 13,
   "id": "efd0c7d2",
   "metadata": {},
   "outputs": [],
   "source": [
    "#mgo_input."
   ]
  },
  {
   "cell_type": "markdown",
   "id": "75d7bf09",
   "metadata": {},
   "source": [
    "### Write the CRYSTAL input to file"
   ]
  },
  {
   "cell_type": "markdown",
   "id": "d7b1445e",
   "metadata": {},
   "source": [
    "After generating and modifying the Crystal_input, the next step will be writing it to file. This is because CRYSTAL will need a .d12 input written to file in order to run the calculation. This will be done by using the \n",
    "```console\n",
    "write_crystal_input()\n",
    "```\n",
    "This function is part of the file_readwrite functions, but does not belong to any class. Therefore, it is called by simply using the function name and parsing its variables, as opposite to the functions that we have used so far. \n",
    "\n",
    "First, we will also need to import it since it is not part of the Crystal_input class:"
   ]
  },
  {
   "cell_type": "code",
   "execution_count": 14,
   "id": "68af6153",
   "metadata": {},
   "outputs": [],
   "source": [
    "from crystal_functions.file_readwrite import write_crystal_input "
   ]
  },
  {
   "cell_type": "markdown",
   "id": "d2f2a14c",
   "metadata": {},
   "source": [
    "Now we can can call the function. It takes two positional arguments:\n",
    "- input_name: name of the file to be written\n",
    "- crystal_input: Crystal_input object"
   ]
  },
  {
   "cell_type": "code",
   "execution_count": 15,
   "id": "8805aa83",
   "metadata": {},
   "outputs": [],
   "source": [
    "input_name = 'data/mgo_input_tutorial.d12'\n",
    "write_crystal_input(input_name, mgo_input)"
   ]
  },
  {
   "cell_type": "markdown",
   "id": "42e26260",
   "metadata": {},
   "source": [
    "We can verify the file was written and its content by using the following command, where the ! at the beginning of the line allows to execute bash commands from the Notebook:"
   ]
  },
  {
   "cell_type": "code",
   "execution_count": 16,
   "id": "3f8d0d00",
   "metadata": {},
   "outputs": [
    {
     "name": "stdout",
     "output_type": "stream",
     "text": [
      "CRYSTAL\r\n",
      "0 0 0\r\n",
      "225\r\n",
      "4.217\r\n",
      "2\r\n",
      "12 0.    0.    0.\r\n",
      "8 0.5   0.5   0.5\r\n",
      "BASISSET\r\n",
      "POB-DZVP\r\n",
      "DFT\r\n",
      "B3LYP\r\n",
      "XXLGRID\r\n",
      "ENDDFT\r\n",
      "TOLINTEG\r\n",
      "7 7 7 7 14\r\n",
      "SHRINK\r\n",
      "12 24\r\n",
      "MAXCYCLE\r\n",
      "200\r\n",
      "FMIXING\r\n",
      "70\r\n",
      "DIIS\r\n",
      "ENDSCF\r\n"
     ]
    }
   ],
   "source": [
    "! cat 'data/mgo_input_tutorial.d12'"
   ]
  },
  {
   "cell_type": "markdown",
   "id": "3c738e34",
   "metadata": {},
   "source": [
    "### Set the runcry and runprop path (optional)"
   ]
  },
  {
   "cell_type": "code",
   "execution_count": null,
   "id": "5a43fc95",
   "metadata": {},
   "outputs": [],
   "source": []
  },
  {
   "cell_type": "markdown",
   "id": "22a4c2b7",
   "metadata": {},
   "source": [
    "## CRYSTAL output"
   ]
  },
  {
   "cell_type": "markdown",
   "id": "4f4383f5",
   "metadata": {},
   "source": [
    "The same approach we used to read the input, can be applied to reading the CRYSTAL output.\n",
    "\n",
    "**Can you guess what the class that reads the output is called? Please import it in the cell below.**\n",
    "\n",
    "_Hint: What can you see if you type_\n",
    "```console\n",
    "from crystal_functions.file_readwrite import\n",
    "```\n",
    "_and press Tab after the 'import' command? Can you see a class that might read the Crystal_output?_"
   ]
  },
  {
   "cell_type": "code",
   "execution_count": 17,
   "id": "15b6c970",
   "metadata": {},
   "outputs": [],
   "source": [
    "#from crystal_functions.file_readwrite import Crystal_output"
   ]
  },
  {
   "cell_type": "markdown",
   "id": "6f54e233",
   "metadata": {},
   "source": [
    "For this example we are going to use the 'data/mgo_optgeom.out'.\n",
    "\n",
    "Like for the Crystal_input, we will first initialise the object and then read the file."
   ]
  },
  {
   "cell_type": "code",
   "execution_count": 18,
   "id": "0889bddb",
   "metadata": {},
   "outputs": [],
   "source": [
    "mgo_output = Crystal_output()\n",
    "mgo_output.read_cry_output('data/mgo_optgeom.out')"
   ]
  },
  {
   "cell_type": "markdown",
   "id": "11d250f4",
   "metadata": {},
   "source": [
    "Now that the mgo_output was created and the CRYSTAL output file was read, the functions belonging to the Crystal_object class can be used to extract information from the object itself.\n",
    "\n",
    "For example, let's see what the final energy of the system is. For this we will use the function:"
   ]
  },
  {
   "cell_type": "code",
   "execution_count": 24,
   "id": "73578d4a",
   "metadata": {},
   "outputs": [
    {
     "data": {
      "text/plain": [
       "-7495.341792877063"
      ]
     },
     "execution_count": 24,
     "metadata": {},
     "output_type": "execute_result"
    }
   ],
   "source": [
    "mgo_output.get_final_energy()"
   ]
  },
  {
   "cell_type": "markdown",
   "id": "73bff2bc",
   "metadata": {},
   "source": [
    "**Explore what other information can be extracted from the Crystal_output object by completing the code in the cell below:**\n",
    "\n",
    "_Hint: remember the Tab key is your friend and that in python functions end with ()_"
   ]
  },
  {
   "cell_type": "code",
   "execution_count": 35,
   "id": "0c637494",
   "metadata": {},
   "outputs": [
    {
     "name": "stdout",
     "output_type": "stream",
     "text": [
      "The dimensionality of the system is 3\n",
      "The band gap of the system is 7.1237 eV\n",
      "The Fermi energy of the system is -4.13671240282 eV\n"
     ]
    }
   ],
   "source": [
    "print('The dimensionality of the system is %s'%mgo_output.get_dimensionality())\n",
    "print('The band gap of the system is %s eV'%mgo_output.get_band_gap())\n",
    "print('The Fermi energy of the system is %s eV'%mgo_output.get_fermi_energy())"
   ]
  },
  {
   "cell_type": "code",
   "execution_count": 36,
   "id": "995aae4a",
   "metadata": {},
   "outputs": [],
   "source": [
    "#print('The dimensionality of the system is %s'%mgo_output.INSERT_FUNCTION_HERE)\n",
    "#print('The band gap of the system is %s eV'%mgo_output.INSERT_FUNCTION_HERE)\n",
    "#print('The Fermi energy of the system is %s eV'%mgo_output.INSERT_FUNCTION_HERE)"
   ]
  },
  {
   "cell_type": "markdown",
   "id": "a0db2c96",
   "metadata": {},
   "source": [
    "In the cell above, all functions return one value only (a scalar or an integer). Some other functions will return:\n",
    "- other data structure, such as lists, for example the get_mulliken_charges() function\n",
    "- more than one value/structure, for example the get_last_geom() function. Let's have a look at what we get back when we execute this function:"
   ]
  },
  {
   "cell_type": "code",
   "execution_count": 39,
   "id": "6c49254a",
   "metadata": {},
   "outputs": [
    {
     "data": {
      "text/plain": [
       "[[[0.0, 2.12011000819, 2.12011000819],\n",
       "  [2.12011000819, 0.0, 2.12011000819],\n",
       "  [2.12011000819, 2.12011000819, 0.0]],\n",
       " [12, 8],\n",
       " [[0.0, 0.0, 0.0], [-2.12011000819, -2.12011000819, -2.12011000819]]]"
      ]
     },
     "execution_count": 39,
     "metadata": {},
     "output_type": "execute_result"
    }
   ],
   "source": [
    "mgo_output.get_last_geom()"
   ]
  },
  {
   "cell_type": "markdown",
   "id": "f6bf667e",
   "metadata": {},
   "source": [
    "If you would like to know what these values are, the best approach is to have a look at the source code itself. This can be found at this <a href=\"https://github.com/crystal-code-tools/crystal_functions/blob/main/crystal_functions/file_readwrite.py\">link</a> (look for \"get_last_geom\").\n",
    "\n",
    "You should see that the list returned at the end of the function, self.last_geom, contains three elements:\n",
    "- the lattice vectors (2D list)\n",
    "- the atomic numbers (list)\n",
    "- the cartesian coordinates (list)\n",
    "\n",
    "Therefore, a better way to extract information from this function is to assign the values as shown below:"
   ]
  },
  {
   "cell_type": "code",
   "execution_count": 45,
   "id": "dc112a15",
   "metadata": {},
   "outputs": [
    {
     "name": "stdout",
     "output_type": "stream",
     "text": [
      "The system's lattice vectors are:\n",
      " [[0.0, 2.12011000819, 2.12011000819], [2.12011000819, 0.0, 2.12011000819], [2.12011000819, 2.12011000819, 0.0]]\n",
      "The system's atomic numbers are:\n",
      " [12, 8]\n",
      "The system's cartesian coordinates are:\n",
      " [[0.0, 0.0, 0.0], [-2.12011000819, -2.12011000819, -2.12011000819]]\n"
     ]
    }
   ],
   "source": [
    "lattice_vectors, atomic_numbers, cart_coords = mgo_output.get_last_geom()\n",
    "print('The system\\'s lattice vectors are:\\n',lattice_vectors)\n",
    "print('The system\\'s atomic numbers are:\\n',atomic_numbers)\n",
    "print('The system\\'s cartesian coordinates are:\\n',cart_coords)"
   ]
  },
  {
   "cell_type": "markdown",
   "id": "3375aafc",
   "metadata": {},
   "source": [
    "For a full list of information that can be extracted from the Crystal_output object, please refer to <a href=\"https://github.com/crystal-code-tools/crystal_functions/blob/main/examples/file_readwrite.ipynb\">this example notebook</a>."
   ]
  },
  {
   "cell_type": "markdown",
   "id": "12a38d60",
   "metadata": {},
   "source": [
    "# REMOVE BELOW"
   ]
  },
  {
   "cell_type": "code",
   "execution_count": 19,
   "id": "55e69289",
   "metadata": {},
   "outputs": [],
   "source": [
    "import sys\n",
    "sys.path.insert(1, '../crystal_functions/')\n",
    "from file_readwrite import Crystal_input"
   ]
  }
 ],
 "metadata": {
  "kernelspec": {
   "display_name": "Python 3 (ipykernel)",
   "language": "python",
   "name": "python3"
  },
  "language_info": {
   "codemirror_mode": {
    "name": "ipython",
    "version": 3
   },
   "file_extension": ".py",
   "mimetype": "text/x-python",
   "name": "python",
   "nbconvert_exporter": "python",
   "pygments_lexer": "ipython3",
   "version": "3.9.10"
  }
 },
 "nbformat": 4,
 "nbformat_minor": 5
}
