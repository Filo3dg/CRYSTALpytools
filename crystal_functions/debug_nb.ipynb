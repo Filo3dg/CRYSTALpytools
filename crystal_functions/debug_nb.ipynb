{
 "cells": [
  {
   "cell_type": "code",
   "execution_count": 1,
   "id": "b9a8bf47",
   "metadata": {},
   "outputs": [],
   "source": [
    "from file_readwrite import *"
   ]
  },
  {
   "cell_type": "code",
   "execution_count": 2,
   "id": "93bcf64e",
   "metadata": {},
   "outputs": [
    {
     "name": "stdout",
     "output_type": "stream",
     "text": [
      "sono all inizio\n",
      "ritorno self, bye\n"
     ]
    }
   ],
   "source": [
    "urea_contour_plot = Properties_output().read_cry_contour('./SURFLAPP.DAT')"
   ]
  },
  {
   "cell_type": "code",
   "execution_count": null,
   "id": "af542a10",
   "metadata": {},
   "outputs": [],
   "source": []
  },
  {
   "cell_type": "code",
   "execution_count": null,
   "id": "11970186",
   "metadata": {},
   "outputs": [],
   "source": []
  }
 ],
 "metadata": {
  "kernelspec": {
   "display_name": "Python 3 (ipykernel)",
   "language": "python",
   "name": "python3"
  },
  "language_info": {
   "codemirror_mode": {
    "name": "ipython",
    "version": 3
   },
   "file_extension": ".py",
   "mimetype": "text/x-python",
   "name": "python",
   "nbconvert_exporter": "python",
   "pygments_lexer": "ipython3",
   "version": "3.8.12"
  }
 },
 "nbformat": 4,
 "nbformat_minor": 5
}
