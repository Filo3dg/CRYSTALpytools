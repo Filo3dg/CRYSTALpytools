{
 "cells": [
  {
   "cell_type": "markdown",
   "id": "68158073",
   "metadata": {},
   "source": [
    "# Example notebook for the functions contained in cry_file_readwrite.py"
   ]
  },
  {
   "cell_type": "markdown",
   "id": "56179e55",
   "metadata": {},
   "source": [
    "### Crystal_input class"
   ]
  },
  {
   "cell_type": "code",
   "execution_count": 1,
   "id": "032121ab",
   "metadata": {},
   "outputs": [
    {
     "name": "stderr",
     "output_type": "stream",
     "text": [
      "ERROR:root:Internal Python error in the inspect module.\n",
      "Below is the traceback from this internal error.\n",
      "\n"
     ]
    },
    {
     "name": "stdout",
     "output_type": "stream",
     "text": [
      "EXITING: a .out file needs to be specified\n",
      "Traceback (most recent call last):\n",
      "  File \"/Users/brunocamino/Desktop/Imperial/crystal-code-tools/crystal-functions/examples/../cry_file_readwrite.py\", line 95, in __init__\n",
      "    file = open(output_name, 'r')\n",
      "FileNotFoundError: [Errno 2] No such file or directory: 'examples/data/mgo_optgeom.out'\n",
      "\n",
      "During handling of the above exception, another exception occurred:\n",
      "\n",
      "Traceback (most recent call last):\n",
      "  File \"/Users/brunocamino/miniconda3/envs/cc/lib/python3.9/site-packages/IPython/core/interactiveshell.py\", line 3441, in run_code\n",
      "    exec(code_obj, self.user_global_ns, self.user_ns)\n",
      "  File \"/var/folders/f2/8kc7y9697m59bwltxjd42y300000gn/T/ipykernel_6106/2634595595.py\", line 4, in <module>\n",
      "    from cry_file_readwrite import Crystal_input\n",
      "  File \"/Users/brunocamino/Desktop/Imperial/crystal-code-tools/crystal-functions/examples/../cry_file_readwrite.py\", line 520, in <module>\n",
      "    a = Crystal_output('examples/data/mgo_optgeom.out')\n",
      "  File \"/Users/brunocamino/Desktop/Imperial/crystal-code-tools/crystal-functions/examples/../cry_file_readwrite.py\", line 100, in __init__\n",
      "    sys.exit(1)\n",
      "SystemExit: 1\n",
      "\n",
      "During handling of the above exception, another exception occurred:\n",
      "\n",
      "Traceback (most recent call last):\n",
      "  File \"/Users/brunocamino/miniconda3/envs/cc/lib/python3.9/site-packages/IPython/core/ultratb.py\", line 1101, in get_records\n",
      "    return _fixed_getinnerframes(etb, number_of_lines_of_context, tb_offset)\n",
      "  File \"/Users/brunocamino/miniconda3/envs/cc/lib/python3.9/site-packages/IPython/core/ultratb.py\", line 248, in wrapped\n",
      "    return f(*args, **kwargs)\n",
      "  File \"/Users/brunocamino/miniconda3/envs/cc/lib/python3.9/site-packages/IPython/core/ultratb.py\", line 281, in _fixed_getinnerframes\n",
      "    records = fix_frame_records_filenames(inspect.getinnerframes(etb, context))\n",
      "  File \"/Users/brunocamino/miniconda3/envs/cc/lib/python3.9/inspect.py\", line 1541, in getinnerframes\n",
      "    frameinfo = (tb.tb_frame,) + getframeinfo(tb, context)\n",
      "AttributeError: 'tuple' object has no attribute 'tb_frame'\n"
     ]
    },
    {
     "ename": "TypeError",
     "evalue": "object of type 'NoneType' has no len()",
     "output_type": "error",
     "traceback": [
      "\u001b[0;31m---------------------------------------------------------------------------\u001b[0m",
      "\u001b[0;31mFileNotFoundError\u001b[0m                         Traceback (most recent call last)",
      "\u001b[0;32m~/Desktop/Imperial/crystal-code-tools/crystal-functions/examples/../cry_file_readwrite.py\u001b[0m in \u001b[0;36m__init__\u001b[0;34m(self, output_name)\u001b[0m\n\u001b[1;32m     94\u001b[0m                 \u001b[0moutput_name\u001b[0m \u001b[0;34m=\u001b[0m \u001b[0moutput_name\u001b[0m\u001b[0;34m+\u001b[0m\u001b[0;34m'.out'\u001b[0m\u001b[0;34m\u001b[0m\u001b[0;34m\u001b[0m\u001b[0m\n\u001b[0;32m---> 95\u001b[0;31m             \u001b[0mfile\u001b[0m \u001b[0;34m=\u001b[0m \u001b[0mopen\u001b[0m\u001b[0;34m(\u001b[0m\u001b[0moutput_name\u001b[0m\u001b[0;34m,\u001b[0m \u001b[0;34m'r'\u001b[0m\u001b[0;34m)\u001b[0m\u001b[0;34m\u001b[0m\u001b[0;34m\u001b[0m\u001b[0m\n\u001b[0m\u001b[1;32m     96\u001b[0m             \u001b[0mself\u001b[0m\u001b[0;34m.\u001b[0m\u001b[0mdata\u001b[0m \u001b[0;34m=\u001b[0m \u001b[0mfile\u001b[0m\u001b[0;34m.\u001b[0m\u001b[0mreadlines\u001b[0m\u001b[0;34m(\u001b[0m\u001b[0;34m)\u001b[0m\u001b[0;34m\u001b[0m\u001b[0;34m\u001b[0m\u001b[0m\n",
      "\u001b[0;31mFileNotFoundError\u001b[0m: [Errno 2] No such file or directory: 'examples/data/mgo_optgeom.out'",
      "\nDuring handling of the above exception, another exception occurred:\n",
      "\u001b[0;31mSystemExit\u001b[0m                                Traceback (most recent call last)",
      "    \u001b[0;31m[... skipping hidden 1 frame]\u001b[0m\n",
      "\u001b[0;32m/var/folders/f2/8kc7y9697m59bwltxjd42y300000gn/T/ipykernel_6106/2634595595.py\u001b[0m in \u001b[0;36m<module>\u001b[0;34m\u001b[0m\n\u001b[1;32m      3\u001b[0m \u001b[0;34m\u001b[0m\u001b[0m\n\u001b[0;32m----> 4\u001b[0;31m \u001b[0;32mfrom\u001b[0m \u001b[0mcry_file_readwrite\u001b[0m \u001b[0;32mimport\u001b[0m \u001b[0mCrystal_input\u001b[0m\u001b[0;34m\u001b[0m\u001b[0;34m\u001b[0m\u001b[0m\n\u001b[0m",
      "\u001b[0;32m~/Desktop/Imperial/crystal-code-tools/crystal-functions/examples/../cry_file_readwrite.py\u001b[0m in \u001b[0;36m<module>\u001b[0;34m\u001b[0m\n\u001b[1;32m    519\u001b[0m \u001b[0;31m###TESTING\u001b[0m\u001b[0;34m\u001b[0m\u001b[0;34m\u001b[0m\u001b[0m\n\u001b[0;32m--> 520\u001b[0;31m \u001b[0ma\u001b[0m \u001b[0;34m=\u001b[0m \u001b[0mCrystal_output\u001b[0m\u001b[0;34m(\u001b[0m\u001b[0;34m'examples/data/mgo_optgeom.out'\u001b[0m\u001b[0;34m)\u001b[0m\u001b[0;34m\u001b[0m\u001b[0;34m\u001b[0m\u001b[0m\n\u001b[0m\u001b[1;32m    521\u001b[0m \u001b[0;31m#print('final_energy\\n',a.final_energy())\u001b[0m\u001b[0;34m\u001b[0m\u001b[0;34m\u001b[0m\u001b[0m\n",
      "\u001b[0;32m~/Desktop/Imperial/crystal-code-tools/crystal-functions/examples/../cry_file_readwrite.py\u001b[0m in \u001b[0;36m__init__\u001b[0;34m(self, output_name)\u001b[0m\n\u001b[1;32m     99\u001b[0m             \u001b[0mprint\u001b[0m\u001b[0;34m(\u001b[0m\u001b[0;34m'EXITING: a .out file needs to be specified'\u001b[0m\u001b[0;34m)\u001b[0m\u001b[0;34m\u001b[0m\u001b[0;34m\u001b[0m\u001b[0m\n\u001b[0;32m--> 100\u001b[0;31m             \u001b[0msys\u001b[0m\u001b[0;34m.\u001b[0m\u001b[0mexit\u001b[0m\u001b[0;34m(\u001b[0m\u001b[0;36m1\u001b[0m\u001b[0;34m)\u001b[0m\u001b[0;34m\u001b[0m\u001b[0;34m\u001b[0m\u001b[0m\n\u001b[0m\u001b[1;32m    101\u001b[0m \u001b[0;34m\u001b[0m\u001b[0m\n",
      "\u001b[0;31mSystemExit\u001b[0m: 1",
      "\nDuring handling of the above exception, another exception occurred:\n",
      "\u001b[0;31mTypeError\u001b[0m                                 Traceback (most recent call last)",
      "    \u001b[0;31m[... skipping hidden 1 frame]\u001b[0m\n",
      "\u001b[0;32m~/miniconda3/envs/cc/lib/python3.9/site-packages/IPython/core/interactiveshell.py\u001b[0m in \u001b[0;36mshowtraceback\u001b[0;34m(self, exc_tuple, filename, tb_offset, exception_only, running_compiled_code)\u001b[0m\n\u001b[1;32m   2052\u001b[0m                     stb = ['An exception has occurred, use %tb to see '\n\u001b[1;32m   2053\u001b[0m                            'the full traceback.\\n']\n\u001b[0;32m-> 2054\u001b[0;31m                     stb.extend(self.InteractiveTB.get_exception_only(etype,\n\u001b[0m\u001b[1;32m   2055\u001b[0m                                                                      value))\n\u001b[1;32m   2056\u001b[0m                 \u001b[0;32melse\u001b[0m\u001b[0;34m:\u001b[0m\u001b[0;34m\u001b[0m\u001b[0;34m\u001b[0m\u001b[0m\n",
      "\u001b[0;32m~/miniconda3/envs/cc/lib/python3.9/site-packages/IPython/core/ultratb.py\u001b[0m in \u001b[0;36mget_exception_only\u001b[0;34m(self, etype, value)\u001b[0m\n\u001b[1;32m    752\u001b[0m         \u001b[0mvalue\u001b[0m \u001b[0;34m:\u001b[0m \u001b[0mexception\u001b[0m \u001b[0mvalue\u001b[0m\u001b[0;34m\u001b[0m\u001b[0;34m\u001b[0m\u001b[0m\n\u001b[1;32m    753\u001b[0m         \"\"\"\n\u001b[0;32m--> 754\u001b[0;31m         \u001b[0;32mreturn\u001b[0m \u001b[0mListTB\u001b[0m\u001b[0;34m.\u001b[0m\u001b[0mstructured_traceback\u001b[0m\u001b[0;34m(\u001b[0m\u001b[0mself\u001b[0m\u001b[0;34m,\u001b[0m \u001b[0metype\u001b[0m\u001b[0;34m,\u001b[0m \u001b[0mvalue\u001b[0m\u001b[0;34m)\u001b[0m\u001b[0;34m\u001b[0m\u001b[0;34m\u001b[0m\u001b[0m\n\u001b[0m\u001b[1;32m    755\u001b[0m \u001b[0;34m\u001b[0m\u001b[0m\n\u001b[1;32m    756\u001b[0m     \u001b[0;32mdef\u001b[0m \u001b[0mshow_exception_only\u001b[0m\u001b[0;34m(\u001b[0m\u001b[0mself\u001b[0m\u001b[0;34m,\u001b[0m \u001b[0metype\u001b[0m\u001b[0;34m,\u001b[0m \u001b[0mevalue\u001b[0m\u001b[0;34m)\u001b[0m\u001b[0;34m:\u001b[0m\u001b[0;34m\u001b[0m\u001b[0;34m\u001b[0m\u001b[0m\n",
      "\u001b[0;32m~/miniconda3/envs/cc/lib/python3.9/site-packages/IPython/core/ultratb.py\u001b[0m in \u001b[0;36mstructured_traceback\u001b[0;34m(self, etype, evalue, etb, tb_offset, context)\u001b[0m\n\u001b[1;32m    627\u001b[0m             \u001b[0mchained_exceptions_tb_offset\u001b[0m \u001b[0;34m=\u001b[0m \u001b[0;36m0\u001b[0m\u001b[0;34m\u001b[0m\u001b[0;34m\u001b[0m\u001b[0m\n\u001b[1;32m    628\u001b[0m             out_list = (\n\u001b[0;32m--> 629\u001b[0;31m                 self.structured_traceback(\n\u001b[0m\u001b[1;32m    630\u001b[0m                     \u001b[0metype\u001b[0m\u001b[0;34m,\u001b[0m \u001b[0mevalue\u001b[0m\u001b[0;34m,\u001b[0m \u001b[0;34m(\u001b[0m\u001b[0metb\u001b[0m\u001b[0;34m,\u001b[0m \u001b[0mchained_exc_ids\u001b[0m\u001b[0;34m)\u001b[0m\u001b[0;34m,\u001b[0m\u001b[0;34m\u001b[0m\u001b[0;34m\u001b[0m\u001b[0m\n\u001b[1;32m    631\u001b[0m                     chained_exceptions_tb_offset, context)\n",
      "\u001b[0;32m~/miniconda3/envs/cc/lib/python3.9/site-packages/IPython/core/ultratb.py\u001b[0m in \u001b[0;36mstructured_traceback\u001b[0;34m(self, etype, value, tb, tb_offset, number_of_lines_of_context)\u001b[0m\n\u001b[1;32m   1365\u001b[0m         \u001b[0;32melse\u001b[0m\u001b[0;34m:\u001b[0m\u001b[0;34m\u001b[0m\u001b[0;34m\u001b[0m\u001b[0m\n\u001b[1;32m   1366\u001b[0m             \u001b[0mself\u001b[0m\u001b[0;34m.\u001b[0m\u001b[0mtb\u001b[0m \u001b[0;34m=\u001b[0m \u001b[0mtb\u001b[0m\u001b[0;34m\u001b[0m\u001b[0;34m\u001b[0m\u001b[0m\n\u001b[0;32m-> 1367\u001b[0;31m         return FormattedTB.structured_traceback(\n\u001b[0m\u001b[1;32m   1368\u001b[0m             self, etype, value, tb, tb_offset, number_of_lines_of_context)\n\u001b[1;32m   1369\u001b[0m \u001b[0;34m\u001b[0m\u001b[0m\n",
      "\u001b[0;32m~/miniconda3/envs/cc/lib/python3.9/site-packages/IPython/core/ultratb.py\u001b[0m in \u001b[0;36mstructured_traceback\u001b[0;34m(self, etype, value, tb, tb_offset, number_of_lines_of_context)\u001b[0m\n\u001b[1;32m   1265\u001b[0m         \u001b[0;32mif\u001b[0m \u001b[0mmode\u001b[0m \u001b[0;32min\u001b[0m \u001b[0mself\u001b[0m\u001b[0;34m.\u001b[0m\u001b[0mverbose_modes\u001b[0m\u001b[0;34m:\u001b[0m\u001b[0;34m\u001b[0m\u001b[0;34m\u001b[0m\u001b[0m\n\u001b[1;32m   1266\u001b[0m             \u001b[0;31m# Verbose modes need a full traceback\u001b[0m\u001b[0;34m\u001b[0m\u001b[0;34m\u001b[0m\u001b[0m\n\u001b[0;32m-> 1267\u001b[0;31m             return VerboseTB.structured_traceback(\n\u001b[0m\u001b[1;32m   1268\u001b[0m                 \u001b[0mself\u001b[0m\u001b[0;34m,\u001b[0m \u001b[0metype\u001b[0m\u001b[0;34m,\u001b[0m \u001b[0mvalue\u001b[0m\u001b[0;34m,\u001b[0m \u001b[0mtb\u001b[0m\u001b[0;34m,\u001b[0m \u001b[0mtb_offset\u001b[0m\u001b[0;34m,\u001b[0m \u001b[0mnumber_of_lines_of_context\u001b[0m\u001b[0;34m\u001b[0m\u001b[0;34m\u001b[0m\u001b[0m\n\u001b[1;32m   1269\u001b[0m             )\n",
      "\u001b[0;32m~/miniconda3/envs/cc/lib/python3.9/site-packages/IPython/core/ultratb.py\u001b[0m in \u001b[0;36mstructured_traceback\u001b[0;34m(self, etype, evalue, etb, tb_offset, number_of_lines_of_context)\u001b[0m\n\u001b[1;32m   1122\u001b[0m         \u001b[0;34m\"\"\"Return a nice text document describing the traceback.\"\"\"\u001b[0m\u001b[0;34m\u001b[0m\u001b[0;34m\u001b[0m\u001b[0m\n\u001b[1;32m   1123\u001b[0m \u001b[0;34m\u001b[0m\u001b[0m\n\u001b[0;32m-> 1124\u001b[0;31m         formatted_exception = self.format_exception_as_a_whole(etype, evalue, etb, number_of_lines_of_context,\n\u001b[0m\u001b[1;32m   1125\u001b[0m                                                                tb_offset)\n\u001b[1;32m   1126\u001b[0m \u001b[0;34m\u001b[0m\u001b[0m\n",
      "\u001b[0;32m~/miniconda3/envs/cc/lib/python3.9/site-packages/IPython/core/ultratb.py\u001b[0m in \u001b[0;36mformat_exception_as_a_whole\u001b[0;34m(self, etype, evalue, etb, number_of_lines_of_context, tb_offset)\u001b[0m\n\u001b[1;32m   1080\u001b[0m \u001b[0;34m\u001b[0m\u001b[0m\n\u001b[1;32m   1081\u001b[0m \u001b[0;34m\u001b[0m\u001b[0m\n\u001b[0;32m-> 1082\u001b[0;31m         \u001b[0mlast_unique\u001b[0m\u001b[0;34m,\u001b[0m \u001b[0mrecursion_repeat\u001b[0m \u001b[0;34m=\u001b[0m \u001b[0mfind_recursion\u001b[0m\u001b[0;34m(\u001b[0m\u001b[0morig_etype\u001b[0m\u001b[0;34m,\u001b[0m \u001b[0mevalue\u001b[0m\u001b[0;34m,\u001b[0m \u001b[0mrecords\u001b[0m\u001b[0;34m)\u001b[0m\u001b[0;34m\u001b[0m\u001b[0;34m\u001b[0m\u001b[0m\n\u001b[0m\u001b[1;32m   1083\u001b[0m \u001b[0;34m\u001b[0m\u001b[0m\n\u001b[1;32m   1084\u001b[0m         \u001b[0mframes\u001b[0m \u001b[0;34m=\u001b[0m \u001b[0mself\u001b[0m\u001b[0;34m.\u001b[0m\u001b[0mformat_records\u001b[0m\u001b[0;34m(\u001b[0m\u001b[0mrecords\u001b[0m\u001b[0;34m,\u001b[0m \u001b[0mlast_unique\u001b[0m\u001b[0;34m,\u001b[0m \u001b[0mrecursion_repeat\u001b[0m\u001b[0;34m)\u001b[0m\u001b[0;34m\u001b[0m\u001b[0;34m\u001b[0m\u001b[0m\n",
      "\u001b[0;32m~/miniconda3/envs/cc/lib/python3.9/site-packages/IPython/core/ultratb.py\u001b[0m in \u001b[0;36mfind_recursion\u001b[0;34m(etype, value, records)\u001b[0m\n\u001b[1;32m    380\u001b[0m     \u001b[0;31m# first frame (from in to out) that looks different.\u001b[0m\u001b[0;34m\u001b[0m\u001b[0;34m\u001b[0m\u001b[0m\n\u001b[1;32m    381\u001b[0m     \u001b[0;32mif\u001b[0m \u001b[0;32mnot\u001b[0m \u001b[0mis_recursion_error\u001b[0m\u001b[0;34m(\u001b[0m\u001b[0metype\u001b[0m\u001b[0;34m,\u001b[0m \u001b[0mvalue\u001b[0m\u001b[0;34m,\u001b[0m \u001b[0mrecords\u001b[0m\u001b[0;34m)\u001b[0m\u001b[0;34m:\u001b[0m\u001b[0;34m\u001b[0m\u001b[0;34m\u001b[0m\u001b[0m\n\u001b[0;32m--> 382\u001b[0;31m         \u001b[0;32mreturn\u001b[0m \u001b[0mlen\u001b[0m\u001b[0;34m(\u001b[0m\u001b[0mrecords\u001b[0m\u001b[0;34m)\u001b[0m\u001b[0;34m,\u001b[0m \u001b[0;36m0\u001b[0m\u001b[0;34m\u001b[0m\u001b[0;34m\u001b[0m\u001b[0m\n\u001b[0m\u001b[1;32m    383\u001b[0m \u001b[0;34m\u001b[0m\u001b[0m\n\u001b[1;32m    384\u001b[0m     \u001b[0;31m# Select filename, lineno, func_name to track frames with\u001b[0m\u001b[0;34m\u001b[0m\u001b[0;34m\u001b[0m\u001b[0m\n",
      "\u001b[0;31mTypeError\u001b[0m: object of type 'NoneType' has no len()"
     ]
    }
   ],
   "source": [
    "import sys\n",
    "sys.path.insert(1, '../')\n",
    "\n",
    "from cry_file_readwrite import Crystal_input"
   ]
  },
  {
   "cell_type": "markdown",
   "id": "cbfdbe40",
   "metadata": {},
   "source": [
    "Create a crystal input object"
   ]
  },
  {
   "cell_type": "code",
   "execution_count": null,
   "id": "ed435d4f",
   "metadata": {},
   "outputs": [],
   "source": [
    "mgo_input = Crystal_input('data/mgo.d12')\n",
    "mgo_input"
   ]
  },
  {
   "cell_type": "markdown",
   "id": "fe2d3647",
   "metadata": {},
   "source": [
    "### Crystal_output class"
   ]
  },
  {
   "cell_type": "code",
   "execution_count": null,
   "id": "0a495139",
   "metadata": {},
   "outputs": [],
   "source": [
    "import sys\n",
    "sys.path.insert(1, '../')\n",
    "\n",
    "from cry_file_readwrite import Crystal_output"
   ]
  },
  {
   "cell_type": "code",
   "execution_count": null,
   "id": "bfb6e6f8",
   "metadata": {},
   "outputs": [],
   "source": [
    "mgo_output = Crystal_output('data/mgo_optgeom.out')\n",
    "mgo_output"
   ]
  },
  {
   "cell_type": "markdown",
   "id": "58b3f761",
   "metadata": {},
   "source": [
    "#### Functions and properties"
   ]
  },
  {
   "cell_type": "code",
   "execution_count": null,
   "id": "0bf048c7",
   "metadata": {},
   "outputs": [],
   "source": [
    "#Final energy\n",
    "print(\"Final energy = %s eV \\n\" % mgo_output.final_energy())\n",
    "\n",
    "#Fermi energy\n",
    "print(\"Fermi energy = %s eV \\n\" % mgo_output.fermi_energy())\n",
    "\n",
    "#Primitive lattice\n",
    "print(\"Primitive lattice \\n %s \\n\" % mgo_output.primitive_lattice())\n",
    "\n",
    "#Reciprocal lattice\n",
    "print(\"Reciprocal lattice \\n %s \\n\" % mgo_output.reciprocal_lattice())\n",
    "\n",
    "#Band gap\n",
    "print(\"Band gap = %s eV \\n\" % mgo_output.get_band_gap())\n",
    "\n",
    "#Last geometry\n",
    "mgo_output.extract_last_geom(print_cart=False)\n",
    "print(\"Last geometry = \\n %s \\n\" % mgo_output.atom_positions_cart)\n",
    "\n",
    "#Symmetry operators\n",
    "print(\"Symmetry operators = \\n %s \\n\" % mgo_output.symm_ops())\n",
    "\n",
    "#Forces\n",
    "print(\"Forces on atoms = \\n %s \\n Forces on cell = \\n %s \\n Gradient = \\n %s \\n\" % (mgo_output.forces(grad=True)[0],\n",
    "                                                                                    mgo_output.forces(grad=True)[1],\n",
    "                                                                                    mgo_output.grad))\n",
    "#Scf convergence\n",
    "print(\"Total energy = \\n %s \\n Delta energy = \\n %s \\n\" % (mgo_output.scf_convergence()[0],\n",
    "                                                           mgo_output.scf_convergence()[1]))"
   ]
  },
  {
   "cell_type": "markdown",
   "id": "bb1f72fe",
   "metadata": {},
   "source": [
    "### Bands class"
   ]
  },
  {
   "cell_type": "code",
   "execution_count": null,
   "id": "844eb99c",
   "metadata": {},
   "outputs": [],
   "source": [
    "import sys\n",
    "sys.path.insert(1, '../')\n",
    "\n",
    "from cry_file_readwrite import Crystal_bands"
   ]
  },
  {
   "cell_type": "code",
   "execution_count": null,
   "id": "9603f104",
   "metadata": {},
   "outputs": [],
   "source": [
    "mgo_bands = Crystal_bands('data/mgo_BAND_dat.BAND')\n",
    "mgo_bands"
   ]
  },
  {
   "cell_type": "markdown",
   "id": "17e06d40",
   "metadata": {},
   "source": [
    "### Doss class"
   ]
  },
  {
   "cell_type": "code",
   "execution_count": null,
   "id": "da296dbc",
   "metadata": {},
   "outputs": [],
   "source": [
    "import sys\n",
    "sys.path.insert(1, '../')\n",
    "\n",
    "from cry_file_readwrite import Crystal_doss"
   ]
  },
  {
   "cell_type": "code",
   "execution_count": null,
   "id": "ec69cfae",
   "metadata": {
    "scrolled": true
   },
   "outputs": [],
   "source": [
    "mgo_doss = Crystal_doss('data/mgo_DOSS_dat.DOSS')\n",
    "mgo_doss"
   ]
  },
  {
   "cell_type": "markdown",
   "id": "a42b438f",
   "metadata": {},
   "source": [
    "### write_cry_input function"
   ]
  },
  {
   "cell_type": "code",
   "execution_count": null,
   "id": "2417bd82",
   "metadata": {},
   "outputs": [],
   "source": [
    "import sys\n",
    "sys.path.insert(1, '../')\n",
    "\n",
    "from cry_file_readwrite import Crystal_input\n",
    "from cry_file_readwrite import write_cry_input"
   ]
  },
  {
   "cell_type": "code",
   "execution_count": null,
   "id": "f008e190",
   "metadata": {},
   "outputs": [],
   "source": [
    "#Write input starting from original input\n",
    "#Read the original input\n",
    "mgo_original_input = Crystal_input('data/mgo.d12')\n",
    "\n",
    "#Write the input\n",
    "new_input_name = 'data/mgo_from_file.d12'\n",
    "write_cry_input(new_input_name,crystal_input=mgo_original_input)"
   ]
  },
  {
   "cell_type": "code",
   "execution_count": null,
   "id": "c894748b",
   "metadata": {},
   "outputs": [],
   "source": [
    "#Write input starting from blocks\n",
    "#Define the blocks\n",
    "geom_block = ['MGO BULK - GEOMETRY TEST\\n',\n",
    " 'CRYSTAL\\n',\n",
    " '0 0 0\\n',\n",
    " '225\\n',\n",
    " '4.217\\n',\n",
    " '2\\n',\n",
    " '12 0.    0.    0.\\n',\n",
    " '8 0.5   0.5   0.5\\n',\n",
    " 'END\\n']\n",
    "bs_block = ['12 4\\n',\n",
    " '0 0 8 2.0 1.0\\n',\n",
    " ' 68370.0 0.0002226\\n',\n",
    " ' 9661.0 0.001901\\n',\n",
    " ' 2041.0 0.011042\\n',\n",
    " ' 529.6 0.05005\\n',\n",
    " ' 159.17 0.1690\\n',\n",
    " ' 54.71 0.36695\\n',\n",
    " ' 21.236 0.4008\\n',\n",
    " ' 8.791 0.1487\\n',\n",
    " '0 1 5 8.0 1.0\\n',\n",
    " ' 143.7 -0.00671 0.00807\\n',\n",
    " ' 31.27 -0.07927 0.06401\\n',\n",
    " ' 9.661 -0.08088 0.2092\\n',\n",
    " ' 3.726 0.2947 0.3460\\n',\n",
    " ' 1.598 0.5714 0.3731\\n',\n",
    " '0 1 1 2.0 1.0\\n',\n",
    " ' 0.688 1.0 1.0\\n',\n",
    " '0 1 1 0.0 1.0\\n',\n",
    " ' 0.28 1.0 1.0\\n',\n",
    " '8 4\\n',\n",
    " '0 0 8 2.0 1.0\\n',\n",
    " ' 8020.0 0.00108\\n',\n",
    " ' 1338.0 0.00804\\n',\n",
    " ' 255.4 0.05324\\n',\n",
    " ' 69.22 0.1681\\n',\n",
    " ' 23.90 0.3581\\n',\n",
    " ' 9.264 0.3855\\n',\n",
    " ' 3.851 0.1468\\n',\n",
    " ' 1.212 0.0728\\n',\n",
    " '0 1 4 6.0 1.0\\n',\n",
    " ' 49.43 -0.00883 0.00958\\n',\n",
    " ' 10.47 -0.0915 0.0696\\n',\n",
    " ' 3.235 -0.0402 0.2065\\n',\n",
    " ' 1.217 0.379 0.347\\n',\n",
    " '0 1 1 0.0 1.0\\n',\n",
    " ' 0.4764 1.0 1.0\\n',\n",
    " '0 1 1 0.0 1.0\\n',\n",
    " ' 0.1802 1.0 1.0\\n',\n",
    " '99 0\\n',\n",
    " 'ENDBS\\n']\n",
    "func_block = ['DFT\\n', 'B3LYP\\n', 'XXLGRID\\n', 'ENDDFT\\n']\n",
    "scf_block = [['TOLINTEG\\n', '7 7 7 7 14\\n'],\n",
    " ['SHRINK\\n', '12 24\\n'],\n",
    " ['MAXCYCLE\\n', '200\\n'],\n",
    " ['FMIXING\\n', '70\\n'],\n",
    " 'DIIS\\n',\n",
    " 'ENDSCF\\n']\n",
    "\n",
    "#Write the input\n",
    "new_input_name = 'data/mgo_from_blocks.d12'\n",
    "write_cry_input(new_input_name,crystal_blocks=[geom_block,bs_block,func_block,scf_block])"
   ]
  },
  {
   "cell_type": "code",
   "execution_count": null,
   "id": "a5e86f39",
   "metadata": {},
   "outputs": [],
   "source": [
    "#Write input for external object (ASE or pymatgen)\n",
    "#Start from original inout \n",
    "mgo_original_input = Crystal_input('data/mgo.d12')\n",
    "\n",
    "#Generate the external object\n",
    "from pymatgen.core import Structure, Lattice             \n",
    "from pymatgen.symmetry.analyzer import SpacegroupAnalyzer\n",
    "\n",
    "substrate = Structure.from_spacegroup(\"Fm-3m\", Lattice.cubic(4.217), [\"Mg\",\"O\"], [[0, 0, 0],[0.5,0.5,0.5]])\n",
    "substrate_primitive = SpacegroupAnalyzer(substrate).get_primitive_standard_structure() \n",
    "\n",
    "#Write the input\n",
    "new_input_name = 'data/mgo_external_obj.d12'\n",
    "write_cry_input(new_input_name,crystal_input=mgo_original_input,external_obj=substrate_primitive)"
   ]
  }
 ],
 "metadata": {
  "kernelspec": {
   "display_name": "Python 3 (ipykernel)",
   "language": "python",
   "name": "python3"
  },
  "language_info": {
   "codemirror_mode": {
    "name": "ipython",
    "version": 3
   },
   "file_extension": ".py",
   "mimetype": "text/x-python",
   "name": "python",
   "nbconvert_exporter": "python",
   "pygments_lexer": "ipython3",
   "version": "3.9.7"
  }
 },
 "nbformat": 4,
 "nbformat_minor": 5
}
