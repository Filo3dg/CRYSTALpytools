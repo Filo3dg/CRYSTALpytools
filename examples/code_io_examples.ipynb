{
 "cells": [
  {
   "cell_type": "markdown",
   "id": "c201e8e4",
   "metadata": {},
   "source": [
    "# Example notebook for the functions contained in code_io.py"
   ]
  },
  {
   "cell_type": "markdown",
   "id": "2aef46a7",
   "metadata": {},
   "source": [
    "#### Crystal_input class"
   ]
  },
  {
   "cell_type": "code",
   "execution_count": 3,
   "id": "b07b85dc",
   "metadata": {},
   "outputs": [],
   "source": [
    "import sys\n",
    "sys.path.insert(1, '../')\n",
    "\n",
    "#from cry_file_readwrite import Crystal_input\n",
    "import cry_file_readwrite"
   ]
  },
  {
   "cell_type": "code",
   "execution_count": null,
   "id": "d6901859",
   "metadata": {},
   "outputs": [],
   "source": []
  },
  {
   "cell_type": "code",
   "execution_count": null,
   "id": "16834121",
   "metadata": {},
   "outputs": [],
   "source": []
  },
  {
   "cell_type": "code",
   "execution_count": null,
   "id": "85440549",
   "metadata": {},
   "outputs": [],
   "source": []
  },
  {
   "cell_type": "code",
   "execution_count": null,
   "id": "664816c4",
   "metadata": {},
   "outputs": [],
   "source": []
  },
  {
   "cell_type": "code",
   "execution_count": null,
   "id": "ace6b8ec",
   "metadata": {},
   "outputs": [],
   "source": []
  }
 ],
 "metadata": {
  "kernelspec": {
   "display_name": "Python 3 (ipykernel)",
   "language": "python",
   "name": "python3"
  },
  "language_info": {
   "codemirror_mode": {
    "name": "ipython",
    "version": 3
   },
   "file_extension": ".py",
   "mimetype": "text/x-python",
   "name": "python",
   "nbconvert_exporter": "python",
   "pygments_lexer": "ipython3",
   "version": "3.9.7"
  }
 },
 "nbformat": 4,
 "nbformat_minor": 5
}
