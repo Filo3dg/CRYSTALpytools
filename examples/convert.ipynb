{
 "cells": [
  {
   "cell_type": "markdown",
   "id": "68158073",
   "metadata": {},
   "source": [
    "# Example notebook for the functions contained in cry_convert.py"
   ]
  },
  {
   "cell_type": "markdown",
   "id": "56179e55",
   "metadata": {},
   "source": [
    "### CRYSTAL <-> pymatgen"
   ]
  },
  {
   "cell_type": "markdown",
   "id": "d53ff87c",
   "metadata": {},
   "source": [
    "### cry_out2pmg function"
   ]
  },
  {
   "cell_type": "code",
   "execution_count": 1,
   "id": "d6df0949",
   "metadata": {},
   "outputs": [
    {
     "ename": "ModuleNotFoundError",
     "evalue": "No module named 'units'",
     "output_type": "error",
     "traceback": [
      "\u001b[0;31m---------------------------------------------------------------------------\u001b[0m",
      "\u001b[0;31mModuleNotFoundError\u001b[0m                       Traceback (most recent call last)",
      "\u001b[0;32m/var/folders/f2/8kc7y9697m59bwltxjd42y300000gn/T/ipykernel_77675/329195907.py\u001b[0m in \u001b[0;36m<module>\u001b[0;34m\u001b[0m\n\u001b[0;32m----> 1\u001b[0;31m \u001b[0;32mfrom\u001b[0m \u001b[0mCRYSTALpytools\u001b[0m\u001b[0;34m.\u001b[0m\u001b[0mcrystal_io\u001b[0m \u001b[0;32mimport\u001b[0m \u001b[0mCrystal_output\u001b[0m\u001b[0;34m\u001b[0m\u001b[0;34m\u001b[0m\u001b[0m\n\u001b[0m\u001b[1;32m      2\u001b[0m \u001b[0;32mfrom\u001b[0m \u001b[0mCRYSTALpytools\u001b[0m\u001b[0;34m.\u001b[0m\u001b[0mconvert\u001b[0m \u001b[0;32mimport\u001b[0m \u001b[0mcry_out2pmg\u001b[0m\u001b[0;34m\u001b[0m\u001b[0;34m\u001b[0m\u001b[0m\n",
      "\u001b[0;32m~/miniconda3/envs/test_env/lib/python3.9/site-packages/CRYSTALpytools/__init__.py\u001b[0m in \u001b[0;36m<module>\u001b[0;34m\u001b[0m\n\u001b[1;32m      3\u001b[0m \u001b[0;32mfrom\u001b[0m \u001b[0;34m.\u001b[0m \u001b[0;32mimport\u001b[0m \u001b[0mconvert\u001b[0m\u001b[0;34m\u001b[0m\u001b[0;34m\u001b[0m\u001b[0m\n\u001b[1;32m      4\u001b[0m \u001b[0;32mfrom\u001b[0m \u001b[0;34m.\u001b[0m \u001b[0;32mimport\u001b[0m \u001b[0mexecute\u001b[0m\u001b[0;34m\u001b[0m\u001b[0;34m\u001b[0m\u001b[0m\n\u001b[0;32m----> 5\u001b[0;31m \u001b[0;32mfrom\u001b[0m \u001b[0;34m.\u001b[0m \u001b[0;32mimport\u001b[0m \u001b[0mcrystal_io\u001b[0m\u001b[0;34m\u001b[0m\u001b[0;34m\u001b[0m\u001b[0m\n\u001b[0m\u001b[1;32m      6\u001b[0m \u001b[0;32mfrom\u001b[0m \u001b[0;34m.\u001b[0m \u001b[0;32mimport\u001b[0m \u001b[0mplot\u001b[0m\u001b[0;34m\u001b[0m\u001b[0;34m\u001b[0m\u001b[0m\n\u001b[1;32m      7\u001b[0m \u001b[0;32mfrom\u001b[0m \u001b[0;34m.\u001b[0m \u001b[0;32mimport\u001b[0m \u001b[0mutils\u001b[0m\u001b[0;34m\u001b[0m\u001b[0;34m\u001b[0m\u001b[0m\n",
      "\u001b[0;32m~/miniconda3/envs/test_env/lib/python3.9/site-packages/CRYSTALpytools/crystal_io.py\u001b[0m in \u001b[0;36m<module>\u001b[0;34m\u001b[0m\n\u001b[1;32m      4\u001b[0m \u001b[0mCreated\u001b[0m \u001b[0mon\u001b[0m \u001b[0mFri\u001b[0m \u001b[0mNov\u001b[0m \u001b[0;36m19\u001b[0m \u001b[0;36m18\u001b[0m\u001b[0;34m:\u001b[0m\u001b[0;36m28\u001b[0m\u001b[0;34m:\u001b[0m\u001b[0;36m28\u001b[0m \u001b[0;36m2021\u001b[0m\u001b[0;34m\u001b[0m\u001b[0;34m\u001b[0m\u001b[0m\n\u001b[1;32m      5\u001b[0m \"\"\"\n\u001b[0;32m----> 6\u001b[0;31m \u001b[0;32mimport\u001b[0m \u001b[0munits\u001b[0m\u001b[0;34m\u001b[0m\u001b[0;34m\u001b[0m\u001b[0m\n\u001b[0m\u001b[1;32m      7\u001b[0m \u001b[0;34m\u001b[0m\u001b[0m\n\u001b[1;32m      8\u001b[0m \u001b[0;32mclass\u001b[0m \u001b[0mCrystal_input\u001b[0m\u001b[0;34m:\u001b[0m\u001b[0;34m\u001b[0m\u001b[0;34m\u001b[0m\u001b[0m\n",
      "\u001b[0;31mModuleNotFoundError\u001b[0m: No module named 'units'"
     ]
    }
   ],
   "source": [
    "from CRYSTALpytools.crystal_io import Crystal_output\n",
    "from CRYSTALpytools.convert import cry_out2pmg"
   ]
  },
  {
   "cell_type": "code",
   "execution_count": 3,
   "id": "814523e2",
   "metadata": {
    "scrolled": true
   },
   "outputs": [
    {
     "name": "stdout",
     "output_type": "stream",
     "text": [
      "<class 'pymatgen.core.structure.Structure'>\n"
     ]
    }
   ],
   "source": [
    "cry_output = Crystal_output()\n",
    "cry_output.read_cry_output('data/mgo_optgeom.out')\n",
    "pmg_structure = cry_out2pmg(cry_output,initial=False)\n",
    "pmg_structure.lattice.matrix\n",
    "print(type(pmg_structure))"
   ]
  },
  {
   "cell_type": "markdown",
   "id": "ac0cd5f3",
   "metadata": {},
   "source": [
    "### cry_gui2pmg function"
   ]
  },
  {
   "cell_type": "code",
   "execution_count": 3,
   "id": "3f63de10",
   "metadata": {},
   "outputs": [],
   "source": [
    "from CRYSTALpytools.crystal_io import Crystal_output, Crystal_gui\n",
    "from CRYSTALpytools.convert import cry_gui2pmg"
   ]
  },
  {
   "cell_type": "code",
   "execution_count": 4,
   "id": "802cbf93",
   "metadata": {
    "scrolled": true
   },
   "outputs": [
    {
     "data": {
      "text/plain": [
       "array([[0.        , 0.        , 0.        ],\n",
       "       [2.12011001, 2.12011001, 2.12011001]])"
      ]
     },
     "execution_count": 4,
     "metadata": {},
     "output_type": "execute_result"
    }
   ],
   "source": [
    "gui_object = Crystal_gui()\n",
    "gui_object.read_cry_gui('data/mgo.gui')\n",
    "\n",
    "mgo_pmg = cry_gui2pmg(gui_object)\n",
    "\n",
    "mgo_pmg.cart_coords"
   ]
  },
  {
   "cell_type": "markdown",
   "id": "3fa9dd99",
   "metadata": {},
   "source": [
    "### cry_pmg2gui function"
   ]
  },
  {
   "cell_type": "code",
   "execution_count": 5,
   "id": "ce4f04fd",
   "metadata": {},
   "outputs": [
    {
     "name": "stderr",
     "output_type": "stream",
     "text": [
      "<frozen importlib._bootstrap>:228: RuntimeWarning: scipy._lib.messagestream.MessageStream size changed, may indicate binary incompatibility. Expected 56 from C header, got 64 from PyObject\n"
     ]
    }
   ],
   "source": [
    "from pymatgen.core.surface import Structure, Lattice\n",
    "from CRYSTALpytools.convert import cry_pmg2gui\n",
    "from CRYSTALpytools.crystal_io import write_crystal_gui\n",
    "\n",
    "lattice = Lattice.cubic(3.)\n",
    "mgo_pmg_obj = Structure(lattice, [\"Mg\", \"O\"],\n",
    "               [[0,0,0], [.5,.5,.5]])"
   ]
  },
  {
   "cell_type": "code",
   "execution_count": 6,
   "id": "67498ccf",
   "metadata": {},
   "outputs": [],
   "source": [
    "mgo_gui = cry_pmg2gui(mgo_pmg_obj, symmetry=True)\n",
    "write_crystal_gui('data/mgo_gui_from_pmg.gui',mgo_gui)"
   ]
  },
  {
   "cell_type": "markdown",
   "id": "a9580133",
   "metadata": {},
   "source": [
    "### cry_bands2pmg function"
   ]
  },
  {
   "cell_type": "code",
   "execution_count": 7,
   "id": "e8ca29dc",
   "metadata": {},
   "outputs": [],
   "source": [
    "from CRYSTALpytools.crystal_io import Crystal_output, Properties_output\n",
    "from CRYSTALpytools.convert import cry_bands2pmg"
   ]
  },
  {
   "cell_type": "markdown",
   "id": "33c2450c",
   "metadata": {},
   "source": [
    "#### Read the band file and convert to a pymatgen object"
   ]
  },
  {
   "cell_type": "code",
   "execution_count": 8,
   "id": "4be2730e",
   "metadata": {},
   "outputs": [],
   "source": [
    "cry_output = Crystal_output()\n",
    "cry_output.read_cry_output('data/mgo_optgeom.out')\n",
    "\n",
    "cry_bands = Properties_output().read_cry_bands('data/mgo_BAND_dat.BAND')\n",
    "bs = cry_bands2pmg(cry_output,cry_bands,labels=['\\\\Gamma','B','C','\\\\Gamma','E'])"
   ]
  },
  {
   "cell_type": "markdown",
   "id": "2d22feee",
   "metadata": {},
   "source": [
    "#### Plot the bands"
   ]
  },
  {
   "cell_type": "code",
   "execution_count": 9,
   "id": "e44093a0",
   "metadata": {},
   "outputs": [
    {
     "data": {
      "text/plain": [
       "<module 'matplotlib.pyplot' from '/Users/brunocamino/miniconda3/envs/test_env/lib/python3.9/site-packages/matplotlib/pyplot.py'>"
      ]
     },
     "execution_count": 9,
     "metadata": {},
     "output_type": "execute_result"
    },
    {
     "data": {
      "image/png": "[encoded data removed]",
      "text/plain": [
       "<Figure size 864x576 with 1 Axes>"
      ]
     },
     "metadata": {},
     "output_type": "display_data"
    }
   ],
   "source": [
    "%matplotlib inline\n",
    "from pymatgen.electronic_structure.plotter import BSPlotter\n",
    "bsplot = BSPlotter(bs)\n",
    "\n",
    "bsplot.get_plot(ylim=(-10, 10), zero_to_efermi=True)"
   ]
  },
  {
   "cell_type": "markdown",
   "id": "485ff0ce",
   "metadata": {},
   "source": [
    "### CRYSTAL <-> ASE"
   ]
  },
  {
   "cell_type": "markdown",
   "id": "81114994",
   "metadata": {},
   "source": [
    "### cry_gui2ase function"
   ]
  },
  {
   "cell_type": "code",
   "execution_count": 10,
   "id": "e6f273ff",
   "metadata": {},
   "outputs": [
    {
     "data": {
      "text/plain": [
       "Atoms(symbols='MgO', pbc=True, cell=[[0.0, 2.12011000819, 2.12011000819], [2.12011000819, 0.0, 2.12011000819], [2.12011000819, 2.12011000819, 0.0]])"
      ]
     },
     "execution_count": 10,
     "metadata": {},
     "output_type": "execute_result"
    }
   ],
   "source": [
    "from CRYSTALpytools.crystal_io import Crystal_gui\n",
    "from CRYSTALpytools.convert import cry_gui2ase\n",
    "\n",
    "mgo_gui = Crystal_gui()\n",
    "mgo_gui.read_cry_gui('data/mgo_optgeom.gui')\n",
    "mgo_ase = cry_gui2ase(mgo_gui)\n",
    "mgo_ase"
   ]
  },
  {
   "cell_type": "markdown",
   "id": "27f3fedc",
   "metadata": {},
   "source": [
    "### cry_ase2gui function"
   ]
  },
  {
   "cell_type": "code",
   "execution_count": 11,
   "id": "6441e8bb",
   "metadata": {},
   "outputs": [],
   "source": [
    "from CRYSTALpytools.crystal_io import write_crystal_gui\n",
    "from CRYSTALpytools.convert import cry_ase2gui\n",
    "\n",
    "from ase.build import bulk\n",
    "\n",
    "copper_ase = bulk('Cu', 'fcc', a=3.6)\n",
    "\n",
    "copper_gui = cry_ase2gui(copper_ase, symmetry=True)\n",
    "write_crystal_gui('data/copper_from_ase.gui',copper_gui)"
   ]
  },
  {
   "cell_type": "markdown",
   "id": "5727d226",
   "metadata": {},
   "source": [
    "### cry_out2gui function"
   ]
  },
  {
   "cell_type": "code",
   "execution_count": 12,
   "id": "1031833c",
   "metadata": {},
   "outputs": [
    {
     "data": {
      "text/plain": [
       "Atoms(symbols='MgO', pbc=True, cell=[[0.0, 2.12011000819, 2.12011000819], [2.12011000819, 0.0, 2.12011000819], [2.12011000819, 2.12011000819, 0.0]])"
      ]
     },
     "execution_count": 12,
     "metadata": {},
     "output_type": "execute_result"
    }
   ],
   "source": [
    "from CRYSTALpytools.crystal_io import Crystal_output\n",
    "from CRYSTALpytools.convert import cry_out2ase\n",
    "\n",
    "mgo_out = Crystal_output()\n",
    "mgo_out.read_cry_output('data/mgo_optgeom.out')\n",
    "mgo_ase = cry_out2ase(mgo_out)\n",
    "mgo_ase"
   ]
  },
  {
   "cell_type": "markdown",
   "id": "d699562f",
   "metadata": {},
   "source": [
    "## Saving structure files (.cif and .xyz)"
   ]
  },
  {
   "cell_type": "markdown",
   "id": "4cb83fe5",
   "metadata": {},
   "source": [
    "### cry_gui2cif function"
   ]
  },
  {
   "cell_type": "code",
   "execution_count": 13,
   "id": "8d70a5ef",
   "metadata": {},
   "outputs": [],
   "source": [
    "from CRYSTALpytools.crystal_io import Crystal_gui\n",
    "from CRYSTALpytools.convert import cry_gui2cif\n",
    "\n",
    "mgo_gui = Crystal_gui()\n",
    "mgo_gui.read_cry_gui('data/mgo_optgeom.gui')\n",
    "cif_file_name = 'data/mgo_optgeom.cif'\n",
    "cry_gui2cif(cif_file_name,mgo_gui)"
   ]
  },
  {
   "cell_type": "code",
   "execution_count": 14,
   "id": "b2d6ac3c",
   "metadata": {},
   "outputs": [
    {
     "name": "stdout",
     "output_type": "stream",
     "text": [
      "# generated using pymatgen\r\n",
      "data_MgO\r\n",
      "_symmetry_space_group_name_H-M   'P 1'\r\n",
      "_cell_length_a   2.99828833\r\n",
      "_cell_length_b   2.99828833\r\n",
      "_cell_length_c   2.99828833\r\n",
      "_cell_angle_alpha   60.00000000\r\n",
      "_cell_angle_beta   60.00000000\r\n",
      "_cell_angle_gamma   60.00000000\r\n",
      "_symmetry_Int_Tables_number   1\r\n",
      "_chemical_formula_structural   MgO\r\n",
      "_chemical_formula_sum   'Mg1 O1'\r\n",
      "_cell_volume   19.05922268\r\n",
      "_cell_formula_units_Z   1\r\n",
      "loop_\r\n",
      " _symmetry_equiv_pos_site_id\r\n",
      " _symmetry_equiv_pos_as_xyz\r\n",
      "  1  'x, y, z'\r\n",
      "loop_\r\n",
      " _atom_site_type_symbol\r\n",
      " _atom_site_label\r\n",
      " _atom_site_symmetry_multiplicity\r\n",
      " _atom_site_fract_x\r\n",
      " _atom_site_fract_y\r\n",
      " _atom_site_fract_z\r\n",
      " _atom_site_occupancy\r\n",
      "  Mg  Mg0  1  0.00000000  0.00000000  0.00000000  1\r\n",
      "  O  O1  1  -0.50000000  -0.50000000  -0.50000000  1\r\n"
     ]
    }
   ],
   "source": [
    "! cat data/mgo_optgeom.cif"
   ]
  },
  {
   "cell_type": "markdown",
   "id": "861b65cd",
   "metadata": {},
   "source": [
    "### cry_out2cif function"
   ]
  },
  {
   "cell_type": "code",
   "execution_count": 15,
   "id": "f9e89a5b",
   "metadata": {},
   "outputs": [],
   "source": [
    "from CRYSTALpytools.crystal_io import Crystal_output\n",
    "from CRYSTALpytools.convert import cry_gui2cif\n",
    "\n",
    "mgo_out = Crystal_output()\n",
    "mgo_out.read_cry_output('data/mgo_optgeom.out')\n",
    "cif_file_name = 'data/mgo_optgeom.cif'\n",
    "cry_gui2cif(cif_file_name,mgo_gui)"
   ]
  }
 ],
 "metadata": {
  "kernelspec": {
   "display_name": "Python 3 (ipykernel)",
   "language": "python",
   "name": "python3"
  },
  "language_info": {
   "codemirror_mode": {
    "name": "ipython",
    "version": 3
   },
   "file_extension": ".py",
   "mimetype": "text/x-python",
   "name": "python",
   "nbconvert_exporter": "python",
   "pygments_lexer": "ipython3",
   "version": "3.9.10"
  }
 },
 "nbformat": 4,
 "nbformat_minor": 5
}
