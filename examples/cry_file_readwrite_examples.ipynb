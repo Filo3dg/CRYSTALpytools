{
 "cells": [
  {
   "cell_type": "markdown",
   "id": "5d55c1e9",
   "metadata": {},
   "source": [
    "# Example notebook for the functions contained in cry_file_readwrite.py"
   ]
  },
  {
   "cell_type": "markdown",
   "id": "cc199b84",
   "metadata": {},
   "source": [
    "### Crystal_input class"
   ]
  },
  {
   "cell_type": "code",
   "execution_count": 1,
   "id": "720019fb",
   "metadata": {},
   "outputs": [],
   "source": [
    "import sys\n",
    "sys.path.insert(1, '../')\n",
    "\n",
    "from cry_file_readwrite import Crystal_input"
   ]
  },
  {
   "cell_type": "markdown",
   "id": "bdd19ae7",
   "metadata": {},
   "source": [
    "Create a crystal input object"
   ]
  },
  {
   "cell_type": "code",
   "execution_count": 5,
   "id": "d151c2aa",
   "metadata": {},
   "outputs": [
    {
     "data": {
      "text/plain": [
       "<cry_file_readwrite.Crystal_input at 0x7f900181a100>"
      ]
     },
     "execution_count": 5,
     "metadata": {},
     "output_type": "execute_result"
    }
   ],
   "source": [
    "mgo_input = Crystal_input('data/mgo.d12')\n",
    "mgo_input"
   ]
  },
  {
   "cell_type": "markdown",
   "id": "1b5204ce",
   "metadata": {},
   "source": [
    "### Crystal_output class"
   ]
  },
  {
   "cell_type": "code",
   "execution_count": 1,
   "id": "bf4f8546",
   "metadata": {},
   "outputs": [],
   "source": [
    "import sys\n",
    "sys.path.insert(1, '../')\n",
    "\n",
    "from cry_file_readwrite import Crystal_output"
   ]
  },
  {
   "cell_type": "code",
   "execution_count": 2,
   "id": "ec7ca145",
   "metadata": {},
   "outputs": [
    {
     "data": {
      "text/plain": [
       "<cry_file_readwrite.Crystal_output at 0x7ff2680286a0>"
      ]
     },
     "execution_count": 2,
     "metadata": {},
     "output_type": "execute_result"
    }
   ],
   "source": [
    "mgo_output = Crystal_output('data/mgo.out')\n",
    "mgo_output"
   ]
  },
  {
   "cell_type": "markdown",
   "id": "326bd064",
   "metadata": {},
   "source": [
    "#### Functions and properties"
   ]
  },
  {
   "cell_type": "code",
   "execution_count": 3,
   "id": "bc35f146",
   "metadata": {
    "collapsed": true
   },
   "outputs": [
    {
     "name": "stdout",
     "output_type": "stream",
     "text": [
      "Final energy = -7495.341792877063 eV \n",
      "\n",
      "Fermi energy = -4.13671240282 eV \n",
      "\n",
      "Primitive lattice \n",
      " [[0.     2.1085 2.1085]\n",
      " [2.1085 0.     2.1085]\n",
      " [2.1085 2.1085 0.    ]] \n",
      "\n",
      "Reciprocal lattice \n",
      " [[-1.48996571  1.48996571  1.48996571]\n",
      " [ 1.48996571 -1.48996571  1.48996571]\n",
      " [ 1.48996571  1.48996571 -1.48996571]] \n",
      "\n",
      "Band gap = 7.1237 eV \n",
      "\n",
      "Last geometry = \n",
      " [[12.   0.   0.   0. ]\n",
      " [ 8.  -0.5 -0.5 -0.5]] \n",
      "\n",
      "Symmetry operators = \n",
      " [['1.00' '0.00' '0.00' '0.00' '1.00' '0.00' '0.00' '0.00' '1.00' '0.00'\n",
      "  '0.00' '0.00']\n",
      " ['0.00' '1.00' '0.00' '1.00' '0.00' '0.00' '-1.00' '-1.00' '-1.00'\n",
      "  '0.00' '0.00' '0.00']\n",
      " ['-1.00' '-1.00' '-1.00' '0.00' '0.00' '1.00' '0.00' '1.00' '0.00'\n",
      "  '0.00' '0.00' '0.00']\n",
      " ['0.00' '0.00' '1.00' '-1.00' '-1.00' '-1.00' '1.00' '0.00' '0.00'\n",
      "  '0.00' '0.00' '0.00']\n",
      " ['0.00' '0.00' '1.00' '1.00' '0.00' '0.00' '0.00' '1.00' '0.00' '0.00'\n",
      "  '0.00' '0.00']\n",
      " ['0.00' '1.00' '0.00' '0.00' '0.00' '1.00' '1.00' '0.00' '0.00' '0.00'\n",
      "  '0.00' '0.00']\n",
      " ['1.00' '0.00' '0.00' '0.00' '0.00' '1.00' '-1.00' '-1.00' '-1.00'\n",
      "  '0.00' '0.00' '0.00']\n",
      " ['1.00' '0.00' '0.00' '-1.00' '-1.00' '-1.00' '0.00' '1.00' '0.00'\n",
      "  '0.00' '0.00' '0.00']\n",
      " ['-1.00' '-1.00' '-1.00' '0.00' '1.00' '0.00' '1.00' '0.00' '0.00'\n",
      "  '0.00' '0.00' '0.00']\n",
      " ['0.00' '0.00' '1.00' '0.00' '1.00' '0.00' '-1.00' '-1.00' '-1.00'\n",
      "  '0.00' '0.00' '0.00']\n",
      " ['0.00' '1.00' '0.00' '-1.00' '-1.00' '-1.00' '0.00' '0.00' '1.00'\n",
      "  '0.00' '0.00' '0.00']\n",
      " ['-1.00' '-1.00' '-1.00' '1.00' '0.00' '0.00' '0.00' '0.00' '1.00'\n",
      "  '0.00' '0.00' '0.00']\n",
      " ['0.00' '-1.00' '0.00' '-1.00' '0.00' '0.00' '0.00' '0.00' '-1.00'\n",
      "  '0.00' '0.00' '0.00']\n",
      " ['-1.00' '0.00' '0.00' '0.00' '-1.00' '0.00' '1.00' '1.00' '1.00' '0.00'\n",
      "  '0.00' '0.00']\n",
      " ['0.00' '0.00' '-1.00' '1.00' '1.00' '1.00' '0.00' '-1.00' '0.00' '0.00'\n",
      "  '0.00' '0.00']\n",
      " ['1.00' '1.00' '1.00' '0.00' '0.00' '-1.00' '-1.00' '0.00' '0.00' '0.00'\n",
      "  '0.00' '0.00']\n",
      " ['-1.00' '0.00' '0.00' '0.00' '0.00' '-1.00' '0.00' '-1.00' '0.00'\n",
      "  '0.00' '0.00' '0.00']\n",
      " ['0.00' '0.00' '-1.00' '0.00' '-1.00' '0.00' '-1.00' '0.00' '0.00'\n",
      "  '0.00' '0.00' '0.00']\n",
      " ['0.00' '0.00' '-1.00' '-1.00' '0.00' '0.00' '1.00' '1.00' '1.00' '0.00'\n",
      "  '0.00' '0.00']\n",
      " ['1.00' '1.00' '1.00' '-1.00' '0.00' '0.00' '0.00' '-1.00' '0.00' '0.00'\n",
      "  '0.00' '0.00']\n",
      " ['0.00' '-1.00' '0.00' '1.00' '1.00' '1.00' '-1.00' '0.00' '0.00' '0.00'\n",
      "  '0.00' '0.00']\n",
      " ['0.00' '-1.00' '0.00' '0.00' '0.00' '-1.00' '1.00' '1.00' '1.00' '0.00'\n",
      "  '0.00' '0.00']\n",
      " ['1.00' '1.00' '1.00' '0.00' '-1.00' '0.00' '0.00' '0.00' '-1.00' '0.00'\n",
      "  '0.00' '0.00']\n",
      " ['-1.00' '0.00' '0.00' '1.00' '1.00' '1.00' '0.00' '0.00' '-1.00' '0.00'\n",
      "  '0.00' '0.00']\n",
      " ['-1.00' '0.00' '0.00' '0.00' '-1.00' '0.00' '0.00' '0.00' '-1.00'\n",
      "  '0.00' '0.00' '0.00']\n",
      " ['0.00' '-1.00' '0.00' '-1.00' '0.00' '0.00' '1.00' '1.00' '1.00' '0.00'\n",
      "  '0.00' '0.00']\n",
      " ['1.00' '1.00' '1.00' '0.00' '0.00' '-1.00' '0.00' '-1.00' '0.00' '0.00'\n",
      "  '0.00' '0.00']\n",
      " ['0.00' '0.00' '-1.00' '1.00' '1.00' '1.00' '-1.00' '0.00' '0.00' '0.00'\n",
      "  '0.00' '0.00']\n",
      " ['0.00' '0.00' '-1.00' '-1.00' '0.00' '0.00' '0.00' '-1.00' '0.00'\n",
      "  '0.00' '0.00' '0.00']\n",
      " ['0.00' '-1.00' '0.00' '0.00' '0.00' '-1.00' '-1.00' '0.00' '0.00'\n",
      "  '0.00' '0.00' '0.00']\n",
      " ['-1.00' '0.00' '0.00' '0.00' '0.00' '-1.00' '1.00' '1.00' '1.00' '0.00'\n",
      "  '0.00' '0.00']\n",
      " ['-1.00' '0.00' '0.00' '1.00' '1.00' '1.00' '0.00' '-1.00' '0.00' '0.00'\n",
      "  '0.00' '0.00']\n",
      " ['1.00' '1.00' '1.00' '0.00' '-1.00' '0.00' '-1.00' '0.00' '0.00' '0.00'\n",
      "  '0.00' '0.00']\n",
      " ['0.00' '0.00' '-1.00' '0.00' '-1.00' '0.00' '1.00' '1.00' '1.00' '0.00'\n",
      "  '0.00' '0.00']\n",
      " ['0.00' '-1.00' '0.00' '1.00' '1.00' '1.00' '0.00' '0.00' '-1.00' '0.00'\n",
      "  '0.00' '0.00']\n",
      " ['1.00' '1.00' '1.00' '-1.00' '0.00' '0.00' '0.00' '0.00' '-1.00' '0.00'\n",
      "  '0.00' '0.00']\n",
      " ['0.00' '1.00' '0.00' '1.00' '0.00' '0.00' '0.00' '0.00' '1.00' '0.00'\n",
      "  '0.00' '0.00']\n",
      " ['1.00' '0.00' '0.00' '0.00' '1.00' '0.00' '-1.00' '-1.00' '-1.00'\n",
      "  '0.00' '0.00' '0.00']\n",
      " ['0.00' '0.00' '1.00' '-1.00' '-1.00' '-1.00' '0.00' '1.00' '0.00'\n",
      "  '0.00' '0.00' '0.00']\n",
      " ['-1.00' '-1.00' '-1.00' '0.00' '0.00' '1.00' '1.00' '0.00' '0.00'\n",
      "  '0.00' '0.00' '0.00']\n",
      " ['1.00' '0.00' '0.00' '0.00' '0.00' '1.00' '0.00' '1.00' '0.00' '0.00'\n",
      "  '0.00' '0.00']\n",
      " ['0.00' '0.00' '1.00' '0.00' '1.00' '0.00' '1.00' '0.00' '0.00' '0.00'\n",
      "  '0.00' '0.00']\n",
      " ['0.00' '0.00' '1.00' '1.00' '0.00' '0.00' '-1.00' '-1.00' '-1.00'\n",
      "  '0.00' '0.00' '0.00']\n",
      " ['-1.00' '-1.00' '-1.00' '1.00' '0.00' '0.00' '0.00' '1.00' '0.00'\n",
      "  '0.00' '0.00' '0.00']\n",
      " ['0.00' '1.00' '0.00' '-1.00' '-1.00' '-1.00' '1.00' '0.00' '0.00'\n",
      "  '0.00' '0.00' '0.00']\n",
      " ['0.00' '1.00' '0.00' '0.00' '0.00' '1.00' '-1.00' '-1.00' '-1.00'\n",
      "  '0.00' '0.00' '0.00']\n",
      " ['-1.00' '-1.00' '-1.00' '0.00' '1.00' '0.00' '0.00' '0.00' '1.00'\n",
      "  '0.00' '0.00' '0.00']\n",
      " ['1.00' '0.00' '0.00' '-1.00' '-1.00' '-1.00' '0.00' '0.00' '1.00'\n",
      "  '0.00' '0.00' '0.00']] \n",
      "\n"
     ]
    }
   ],
   "source": [
    "#Final energy\n",
    "print(\"Final energy = %s eV \\n\" % mgo_output.final_energy())\n",
    "\n",
    "#Fermi energy\n",
    "print(\"Fermi energy = %s eV \\n\" % mgo_output.fermi_energy())\n",
    "\n",
    "#Primitive lattice\n",
    "print(\"Primitive lattice \\n %s \\n\" % mgo_output.primitive_lattice())\n",
    "\n",
    "#Reciprocal lattice\n",
    "print(\"Reciprocal lattice \\n %s \\n\" % mgo_output.reciprocal_lattice())\n",
    "\n",
    "#Band gap\n",
    "print(\"Band gap = %s eV \\n\" % mgo_output.get_band_gap())\n",
    "\n",
    "#Last geometry\n",
    "print(\"Last geometry = \\n %s \\n\" % mgo_output.extract_last_geom(print_cart=True))\n",
    "\n",
    "#Symmetry operators\n",
    "print(\"Symmetry operators = \\n %s \\n\" % mgo_output.symm_ops())"
   ]
  },
  {
   "cell_type": "markdown",
   "id": "86d24d50",
   "metadata": {},
   "source": [
    "### Bands class"
   ]
  },
  {
   "cell_type": "code",
   "execution_count": 1,
   "id": "f342fa0e",
   "metadata": {},
   "outputs": [],
   "source": [
    "import sys\n",
    "sys.path.insert(1, '../')\n",
    "\n",
    "from cry_file_readwrite import Crystal_bands"
   ]
  },
  {
   "cell_type": "code",
   "execution_count": 2,
   "id": "c3a7755c",
   "metadata": {},
   "outputs": [
    {
     "data": {
      "text/plain": [
       "<cry_file_readwrite.Crystal_bands at 0x7fcbd000f6a0>"
      ]
     },
     "execution_count": 2,
     "metadata": {},
     "output_type": "execute_result"
    }
   ],
   "source": [
    "mgo_bands = Crystal_bands('data/mgo.out')\n",
    "mgo_bands"
   ]
  },
  {
   "cell_type": "markdown",
   "id": "3840b7f8",
   "metadata": {},
   "source": [
    "### Doss class"
   ]
  },
  {
   "cell_type": "code",
   "execution_count": 1,
   "id": "588223d1",
   "metadata": {},
   "outputs": [],
   "source": [
    "import sys\n",
    "sys.path.insert(1, '../')\n",
    "\n",
    "from cry_file_readwrite import Crystal_doss"
   ]
  },
  {
   "cell_type": "code",
   "execution_count": 3,
   "id": "4831eb51",
   "metadata": {},
   "outputs": [
    {
     "data": {
      "text/plain": [
       "<cry_file_readwrite.Crystal_doss at 0x7fbcc000f220>"
      ]
     },
     "execution_count": 3,
     "metadata": {},
     "output_type": "execute_result"
    }
   ],
   "source": [
    "mgo_doss = Crystal_doss('data/mgo.out')\n",
    "mgo_doss"
   ]
  }
 ],
 "metadata": {
  "kernelspec": {
   "display_name": "Python 3 (ipykernel)",
   "language": "python",
   "name": "python3"
  },
  "language_info": {
   "codemirror_mode": {
    "name": "ipython",
    "version": 3
   },
   "file_extension": ".py",
   "mimetype": "text/x-python",
   "name": "python",
   "nbconvert_exporter": "python",
   "pygments_lexer": "ipython3",
   "version": "3.9.7"
  }
 },
 "nbformat": 4,
 "nbformat_minor": 5
}
