{
 "cells": [
  {
   "cell_type": "markdown",
   "id": "68158073",
   "metadata": {},
   "source": [
    "# Example notebook for the functions contained in cry_properties.py"
   ]
  },
  {
   "cell_type": "markdown",
   "id": "56179e55",
   "metadata": {},
   "source": [
    "### newk"
   ]
  },
  {
   "cell_type": "code",
   "execution_count": 1,
   "id": "a5e86f39",
   "metadata": {},
   "outputs": [],
   "source": [
    "import sys\n",
    "sys.path.insert(1, '../')\n",
    "\n",
    "from cry_properties import cry_newk"
   ]
  },
  {
   "cell_type": "code",
   "execution_count": 6,
   "id": "b38286a7",
   "metadata": {},
   "outputs": [
    {
     "data": {
      "text/plain": [
       "['NEWK\\n', '12 24\\n', '1 0\\n']"
      ]
     },
     "execution_count": 6,
     "metadata": {},
     "output_type": "execute_result"
    }
   ],
   "source": [
    "newk_block = cry_newk(12,24)\n",
    "newk_block"
   ]
  },
  {
   "cell_type": "markdown",
   "id": "d69cdae0",
   "metadata": {},
   "source": [
    "### bands"
   ]
  },
  {
   "cell_type": "code",
   "execution_count": 2,
   "id": "23e2f215",
   "metadata": {},
   "outputs": [],
   "source": [
    "import sys\n",
    "sys.path.insert(1, '../')\n",
    "\n",
    "from cry_properties import cry_bands"
   ]
  },
  {
   "cell_type": "code",
   "execution_count": 6,
   "id": "1cf0add3",
   "metadata": {},
   "outputs": [
    {
     "data": {
      "text/plain": [
       "['BAND\\n',\n",
       " 'BAND STRUCTURE CALCULATION\\n',\n",
       " '3 4 200 1 26 0 1\\n',\n",
       " '0 0 0  2 0 0\\n',\n",
       " '2 0 0  2 2 2\\n',\n",
       " '2 2 2  1 0 2\\n',\n",
       " 'END\\n']"
      ]
     },
     "execution_count": 6,
     "metadata": {},
     "output_type": "execute_result"
    }
   ],
   "source": [
    "k_path = [[0,0,0],[0.5,0,0],[0.5,0.5,0.5],[0.25,0,0.5]]\n",
    "n_kpoints = 200\n",
    "first_band = 1\n",
    "last_band = 26\n",
    "bands_block = cry_bands(k_path,n_kpoints,first_band,last_band)\n",
    "bands_block"
   ]
  },
  {
   "cell_type": "markdown",
   "id": "bf1d56f9",
   "metadata": {},
   "source": [
    "### doss"
   ]
  },
  {
   "cell_type": "code",
   "execution_count": 15,
   "id": "0f9173fa",
   "metadata": {},
   "outputs": [
    {
     "data": {
      "text/plain": [
       "['DOSS\\n', '0 200 1 26 2 12 1\\n', 'END\\n']"
      ]
     },
     "execution_count": 15,
     "metadata": {},
     "output_type": "execute_result"
    }
   ],
   "source": [
    "import sys\n",
    "sys.path.insert(1, '../')\n",
    "\n",
    "from cry_properties import cry_doss\n",
    "\n",
    "#Band range\n",
    "doss_block = cry_doss(n_points=200,band_range=[1,26],plotting_option=2,poly=12,print_option=1)\n",
    "doss_block"
   ]
  },
  {
   "cell_type": "code",
   "execution_count": 16,
   "id": "79757419",
   "metadata": {},
   "outputs": [
    {
     "data": {
      "text/plain": [
       "['DOSS\\n',\n",
       " '0 200 -1 -1 2 12 1\\n',\n",
       " '-0.18374651800348382 0.5512395540104514\\n',\n",
       " 'END\\n']"
      ]
     },
     "execution_count": 16,
     "metadata": {},
     "output_type": "execute_result"
    }
   ],
   "source": [
    "import sys\n",
    "sys.path.insert(1, '../')\n",
    "\n",
    "from cry_properties import cry_doss\n",
    "\n",
    "#Energy range (in eV)\n",
    "doss_block = cry_doss(n_points=200,e_range=[-5,15],plotting_option=2,poly=12,print_option=1)\n",
    "doss_block"
   ]
  },
  {
   "cell_type": "markdown",
   "id": "7feeccb4",
   "metadata": {},
   "source": [
    "### pdoss"
   ]
  },
  {
   "cell_type": "code",
   "execution_count": 1,
   "id": "ae71c680",
   "metadata": {},
   "outputs": [
    {
     "data": {
      "text/plain": [
       "['DOSS\\n', '2 200 1 26 2 12 1\\n', '-1 1\\n', '-1 2\\n', 'END\\n']"
      ]
     },
     "execution_count": 1,
     "metadata": {},
     "output_type": "execute_result"
    }
   ],
   "source": [
    "import sys\n",
    "sys.path.insert(1, '../')\n",
    "\n",
    "from cry_properties import cry_pdoss\n",
    "\n",
    "#Atom index from input\n",
    "projections = [[1],[2]]\n",
    "pdoss_block = cry_pdoss(projections,proj_type='atom',n_points=200,band_range=[1,26],\n",
    "                       plotting_option=2,poly=12,print_option=1)\n",
    "pdoss_block"
   ]
  },
  {
   "cell_type": "code",
   "execution_count": 2,
   "id": "829a7b2c",
   "metadata": {},
   "outputs": [
    {
     "data": {
      "text/plain": [
       "['DOSS\\n',\n",
       " '2 200 1 26 2 12 1\\n',\n",
       " '13 1 2 3 4 5 6 7 8 9 10 11 12 13\\n',\n",
       " '13 14 15 16 17 18 19 20 21 22 23 24 25 26\\n',\n",
       " 'END\\n']"
      ]
     },
     "execution_count": 2,
     "metadata": {},
     "output_type": "execute_result"
    }
   ],
   "source": [
    "import sys\n",
    "sys.path.insert(1, '../')\n",
    "\n",
    "from cry_properties import cry_pdoss\n",
    "import numpy as np\n",
    "\n",
    "#AO index from input\n",
    "projections = [[1, 2, 3, 4, 5, 6, 7, 8, 9, 10, 11, 12, 13],\n",
    "              [14, 15, 16, 17, 18, 19, 20, 21, 22, 23, 24, 25, 26]]\n",
    "\n",
    "pdoss_block = cry_pdoss(projections,proj_type='ao',n_points=200,band_range=[1,26],\n",
    "                       plotting_option=2,poly=12,print_option=1)\n",
    "pdoss_block"
   ]
  },
  {
   "cell_type": "code",
   "execution_count": 3,
   "id": "db9ff4d2",
   "metadata": {},
   "outputs": [
    {
     "data": {
      "text/plain": [
       "['DOSS\\n', '2 200 1 26 2 12 1\\n', '-1 1\\n', '-1 2\\n', 'END\\n']"
      ]
     },
     "execution_count": 3,
     "metadata": {},
     "output_type": "execute_result"
    }
   ],
   "source": [
    "import sys\n",
    "sys.path.insert(1, '../')\n",
    "\n",
    "from cry_properties import cry_pdoss\n",
    "import numpy as np\n",
    "\n",
    "#Atom index from symbol\n",
    "projections = [['Mg'],['O']]\n",
    "\n",
    "pdoss_block = cry_pdoss(projections,proj_type='atom',output_file='data/mgo.out',n_points=200,band_range=[1,26],\n",
    "                       plotting_option=2,poly=12,print_option=1)\n",
    "pdoss_block"
   ]
  }
 ],
 "metadata": {
  "kernelspec": {
   "display_name": "Python 3 (ipykernel)",
   "language": "python",
   "name": "python3"
  },
  "language_info": {
   "codemirror_mode": {
    "name": "ipython",
    "version": 3
   },
   "file_extension": ".py",
   "mimetype": "text/x-python",
   "name": "python",
   "nbconvert_exporter": "python",
   "pygments_lexer": "ipython3",
   "version": "3.9.7"
  }
 },
 "nbformat": 4,
 "nbformat_minor": 5
}
