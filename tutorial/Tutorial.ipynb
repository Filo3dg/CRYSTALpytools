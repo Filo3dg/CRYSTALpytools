{
 "cells": [
  {
   "cell_type": "markdown",
   "id": "ef2ddff6",
   "metadata": {},
   "source": [
    "# crystal_functions tutorial"
   ]
  },
  {
   "cell_type": "markdown",
   "id": "67be780c",
   "metadata": {},
   "source": [
    "## CRYSTAL input"
   ]
  },
  {
   "cell_type": "markdown",
   "id": "ed9b02ef",
   "metadata": {},
   "source": [
    "First, functions need to be imported. Since crystal_functions was installed via pip, python already knows where to find it. Therefore, all functions can be imported following this logic:\n",
    "\n",
    "```console\n",
    "from crystal_functions.module_name import function_name\n",
    "```\n",
    "In this first exercise, we need to use the Crystal_input class that sits in the file_readwrite module:"
   ]
  },
  {
   "cell_type": "code",
   "execution_count": 1,
   "id": "7d600030",
   "metadata": {},
   "outputs": [],
   "source": [
    "#from crystal_functions.file_readwrite import Crystal_input\n",
    "\n",
    "import sys\n",
    "sys.path.insert(1, '../crystal_functions/')\n",
    "from file_readwrite import Crystal_input"
   ]
  },
  {
   "cell_type": "markdown",
   "id": "3932f616",
   "metadata": {},
   "source": [
    "### Build the input from blocks"
   ]
  },
  {
   "cell_type": "markdown",
   "id": "dae473f1",
   "metadata": {},
   "source": [
    "The first exercise will be creating and writing a CRYSTAL input file. We will see later a more convenient way to do this, but for now we are just going to pass crystal_functions a list of parameters that we need to build the input and then write it. This corresponds to manually writing to file, but instead of writing to file we are creating python lists (delimited by square brackets and using commas as separators):"
   ]
  },
  {
   "cell_type": "code",
   "execution_count": 2,
   "id": "235c6db0",
   "metadata": {},
   "outputs": [],
   "source": [
    "geom_block = ['CRYSTAL\\n',\n",
    "             '0 0 0\\n',\n",
    "             '225\\n',\n",
    "             '4.217\\n',\n",
    "             '2\\n',\n",
    "             '12 0.    0.    0.\\n',\n",
    "             '8 0.5   0.5   0.5\\n']\n",
    "bs_block   = ['BASISSET\\n','POB-DZVP\\n']\n",
    "func_block = ['DFT\\n', 'B3LYP\\n', 'XXLGRID\\n', 'ENDDFT\\n']\n",
    "scf_block  = [['TOLINTEG\\n', '7 7 7 7 14\\n'],\n",
    "             ['SHRINK\\n', '12 24\\n'],\n",
    "             ['MAXCYCLE\\n', '200\\n'],\n",
    "             ['FMIXING\\n', '70\\n'],\n",
    "             'DIIS\\n',\n",
    "             'ENDSCF\\n']\n",
    "title = 'MgO crystal_functions tutorial' #optional"
   ]
  },
  {
   "cell_type": "markdown",
   "id": "28d6f4bb",
   "metadata": {},
   "source": [
    "Then we need to create the Crystal_input object. This is called initialising the object:"
   ]
  },
  {
   "cell_type": "code",
   "execution_count": 3,
   "id": "1a658578",
   "metadata": {},
   "outputs": [],
   "source": [
    "mgo_input = Crystal_input()"
   ]
  },
  {
   "cell_type": "markdown",
   "id": "47da7a55",
   "metadata": {},
   "source": [
    "If we try to see what mgo_input, by executing the following command:"
   ]
  },
  {
   "cell_type": "code",
   "execution_count": 4,
   "id": "81a7f499",
   "metadata": {},
   "outputs": [
    {
     "name": "stdout",
     "output_type": "stream",
     "text": [
      "<file_readwrite.Crystal_input object at 0x1061eccd0>\n"
     ]
    }
   ],
   "source": [
    "print(mgo_input)"
   ]
  },
  {
   "cell_type": "markdown",
   "id": "4457044d",
   "metadata": {},
   "source": [
    "You can see this is an object of the class file_readwrite.Crystal_input.\n",
    "\n",
    "Now that the object has been initialised, we want to add information to it and that is when the lists we prepared earlier will be used. We are going to use the from_file function, which belongs to the Crystal_input class. If you are not familiar with python, you only need to know that if a function belongs to a class, it is called by adding .function_name() after the object created by the class. In this instance, mgo_input is an object of the Crystal_input class. Therefore, to use a function on it we will use:\n",
    "\n",
    "```console\n",
    "mgo_input.from_blocks()\n",
    "```\n",
    "We are first going to execute the command above and see the error message because it is very informative. \n"
   ]
  },
  {
   "cell_type": "code",
   "execution_count": 5,
   "id": "70c13804",
   "metadata": {},
   "outputs": [],
   "source": [
    "#mgo_input.from_blocks()"
   ]
  },
  {
   "cell_type": "markdown",
   "id": "55bcd949",
   "metadata": {},
   "source": [
    "This can be used everytime we are not sure about the arguments for a function. You should see that the from_blocks() takes four positional arguments. Positional, in this context means mandatory. There is also a fifth optional one, which is “title”. The reason why this is optional is because a default value has already been defined in the function itself.\n",
    "\n",
    "Now we can run the command "
   ]
  },
  {
   "cell_type": "code",
   "execution_count": 6,
   "id": "2b205df5",
   "metadata": {},
   "outputs": [],
   "source": [
    "mgo_input.from_blocks(geom_block=geom_block, bs_block=bs_block, \n",
    "                                        func_block=func_block, scf_block=scf_block, title=title)"
   ]
  },
  {
   "cell_type": "markdown",
   "id": "47ef1d72",
   "metadata": {},
   "source": [
    "If we didn’t include title, crystal_functions would use “crystal_functions generated input” as first line of the input.\n",
    "\n",
    "Now mgo_input will contain the information about the different blocks. We can test this by executing:"
   ]
  },
  {
   "cell_type": "code",
   "execution_count": 7,
   "id": "1faee533",
   "metadata": {},
   "outputs": [
    {
     "data": {
      "text/plain": [
       "['CRYSTAL\\n',\n",
       " '0 0 0\\n',\n",
       " '225\\n',\n",
       " '4.217\\n',\n",
       " '2\\n',\n",
       " '12 0.    0.    0.\\n',\n",
       " '8 0.5   0.5   0.5\\n']"
      ]
     },
     "execution_count": 7,
     "metadata": {},
     "output_type": "execute_result"
    }
   ],
   "source": [
    "mgo_input.geom_block"
   ]
  },
  {
   "cell_type": "markdown",
   "id": "04d894f4",
   "metadata": {},
   "source": [
    "This displays the geom_block. \n",
    "\n",
    "You can also visualise the whole input by using:"
   ]
  },
  {
   "cell_type": "code",
   "execution_count": 8,
   "id": "96f255f3",
   "metadata": {},
   "outputs": [
    {
     "name": "stdout",
     "output_type": "stream",
     "text": [
      "MgO crystal_functions tutorial\n",
      "CRYSTAL\n",
      "0 0 0\n",
      "225\n",
      "4.217\n",
      "2\n",
      "12 0.    0.    0.\n",
      "8 0.5   0.5   0.5\n",
      "BASISSET\n",
      "POB-DZVP\n",
      "DFT\n",
      "B3LYP\n",
      "XXLGRID\n",
      "ENDDFT\n",
      "TOLINTEG\n",
      "7 7 7 7 14\n",
      "SHRINK\n",
      "12 24\n",
      "MAXCYCLE\n",
      "200\n",
      "FMIXING\n",
      "70\n",
      "DIIS\n",
      "ENDSCF\n"
     ]
    }
   ],
   "source": [
    "mgo_input.print_input()"
   ]
  },
  {
   "cell_type": "markdown",
   "id": "9a064fdc",
   "metadata": {},
   "source": [
    "### Build the input from an existing .d12 file"
   ]
  },
  {
   "cell_type": "markdown",
   "id": "47b3b549",
   "metadata": {},
   "source": [
    "If we already have a CRYSTAL input (.d12) saved to file, we can generate the Crystal_input object by reading this file. The .from_file function takes the path to the input file as an argument:"
   ]
  },
  {
   "cell_type": "code",
   "execution_count": 9,
   "id": "d424dd25",
   "metadata": {},
   "outputs": [
    {
     "name": "stdout",
     "output_type": "stream",
     "text": [
      "MGO BULK - GEOMETRY TEST\n",
      "CRYSTAL\n",
      "0 0 0\n",
      "225\n",
      "4.217\n",
      "2\n",
      "12 0.    0.    0.\n",
      "8 0.5   0.5   0.5\n",
      "END\n",
      "12 4\n",
      "0 0 8 2.0 1.0\n",
      " 68370.0 0.0002226\n",
      " 9661.0 0.001901\n",
      " 2041.0 0.011042\n",
      " 529.6 0.05005\n",
      " 159.17 0.1690\n",
      " 54.71 0.36695\n",
      " 21.236 0.4008\n",
      " 8.791 0.1487\n",
      "0 1 5 8.0 1.0\n",
      " 143.7 -0.00671 0.00807\n",
      " 31.27 -0.07927 0.06401\n",
      " 9.661 -0.08088 0.2092\n",
      " 3.726 0.2947 0.3460\n",
      " 1.598 0.5714 0.3731\n",
      "0 1 1 2.0 1.0\n",
      " 0.688 1.0 1.0\n",
      "0 1 1 0.0 1.0\n",
      " 0.28 1.0 1.0\n",
      "8 4\n",
      "0 0 8 2.0 1.0\n",
      " 8020.0 0.00108\n",
      " 1338.0 0.00804\n",
      " 255.4 0.05324\n",
      " 69.22 0.1681\n",
      " 23.90 0.3581\n",
      " 9.264 0.3855\n",
      " 3.851 0.1468\n",
      " 1.212 0.0728\n",
      "0 1 4 6.0 1.0\n",
      " 49.43 -0.00883 0.00958\n",
      " 10.47 -0.0915 0.0696\n",
      " 3.235 -0.0402 0.2065\n",
      " 1.217 0.379 0.347\n",
      "0 1 1 0.0 1.0\n",
      " 0.4764 1.0 1.0\n",
      "0 1 1 0.0 1.0\n",
      " 0.1802 1.0 1.0\n",
      "99 0\n",
      "ENDBS\n",
      "DFT\n",
      "B3LYP\n",
      "XXLGRID\n",
      "ENDDFT\n",
      "TOLINTEG\n",
      "7 7 7 7 14\n",
      "SHRINK\n",
      "12 24\n",
      "MAXCYCLE\n",
      "200\n",
      "FMIXING\n",
      "70\n",
      "DIIS\n",
      "ENDSCF\n"
     ]
    }
   ],
   "source": [
    "mgo_input_2 = Crystal_input()\n",
    "mgo_input_2.from_file('data/mgo.d12')\n",
    "mgo_input_2.print_input()"
   ]
  },
  {
   "cell_type": "markdown",
   "id": "b501b563",
   "metadata": {},
   "source": [
    "### Manipulation of the CRYSTAL input"
   ]
  },
  {
   "cell_type": "markdown",
   "id": "79055703",
   "metadata": {},
   "source": [
    "Once the Crystal_input object was created, we can use its class specific functions to modify it directly in this notebook.\n",
    "\n",
    "The first task will be to transform the input, which is the one for an scf calculations, into a geometry optimisation one. We are going to use the .sp_to_opt() function:"
   ]
  },
  {
   "cell_type": "code",
   "execution_count": 10,
   "id": "e8a2c36a",
   "metadata": {},
   "outputs": [],
   "source": [
    "mgo_input_2.sp_to_opt()"
   ]
  },
  {
   "cell_type": "markdown",
   "id": "efd1758f",
   "metadata": {},
   "source": [
    "Since no arguments were passed to the function, only the OPTGEOM will be added:"
   ]
  },
  {
   "cell_type": "code",
   "execution_count": 11,
   "id": "76ffacaf",
   "metadata": {},
   "outputs": [
    {
     "data": {
      "text/plain": [
       "['CRYSTAL\\n',\n",
       " '0 0 0\\n',\n",
       " '225\\n',\n",
       " '4.217\\n',\n",
       " '2\\n',\n",
       " '12 0.    0.    0.\\n',\n",
       " '8 0.5   0.5   0.5\\n',\n",
       " 'OPTGEOM\\n',\n",
       " 'END\\n',\n",
       " 'END\\n']"
      ]
     },
     "execution_count": 11,
     "metadata": {},
     "output_type": "execute_result"
    }
   ],
   "source": [
    "mgo_input_2.geom_block"
   ]
  },
  {
   "cell_type": "markdown",
   "id": "835d653e",
   "metadata": {},
   "source": [
    "And now let's transform the input back into a single point calculation. \n",
    "\n",
    "**Can you guess what function will perform this task? If so, write in the cell below and print the geom_block to make sure it worked.**"
   ]
  },
  {
   "cell_type": "code",
   "execution_count": 12,
   "id": "04a355e3",
   "metadata": {},
   "outputs": [
    {
     "data": {
      "text/plain": [
       "['CRYSTAL\\n',\n",
       " '0 0 0\\n',\n",
       " '225\\n',\n",
       " '4.217\\n',\n",
       " '2\\n',\n",
       " '12 0.    0.    0.\\n',\n",
       " '8 0.5   0.5   0.5\\n',\n",
       " 'END\\n']"
      ]
     },
     "execution_count": 12,
     "metadata": {},
     "output_type": "execute_result"
    }
   ],
   "source": [
    "mgo_input_2.opt_to_sp()\n",
    "mgo_input_2.geom_block"
   ]
  },
  {
   "cell_type": "markdown",
   "id": "2cffd6b2",
   "metadata": {},
   "source": [
    "**Now that you have seen how to use functions to act on the Crystal_input object, play with the other functions of the class. What information can be extracted from the Crystal_input object and what actions can be performed on the class?**\n",
    "\n",
    "_Hint: in Jupyter Notebooks, if you click tab after object_name. you will see a list of available functions and attributes._"
   ]
  },
  {
   "cell_type": "code",
   "execution_count": null,
   "id": "ab24de45",
   "metadata": {},
   "outputs": [],
   "source": [
    "mgo_input."
   ]
  },
  {
   "cell_type": "markdown",
   "id": "67e8e465",
   "metadata": {},
   "source": [
    "### Write the CRYSTAL input to file"
   ]
  },
  {
   "cell_type": "markdown",
   "id": "3c738e34",
   "metadata": {},
   "source": [
    "### Set the runcry and runprop path (optional)"
   ]
  },
  {
   "cell_type": "code",
   "execution_count": null,
   "id": "5a43fc95",
   "metadata": {},
   "outputs": [],
   "source": []
  },
  {
   "cell_type": "markdown",
   "id": "c5a9cf9e",
   "metadata": {},
   "source": [
    "# REMOVE BELOW"
   ]
  },
  {
   "cell_type": "code",
   "execution_count": 13,
   "id": "a5f93972",
   "metadata": {},
   "outputs": [],
   "source": [
    "import sys\n",
    "sys.path.insert(1, '../crystal_functions/')\n",
    "from file_readwrite import Crystal_input"
   ]
  }
 ],
 "metadata": {
  "kernelspec": {
   "display_name": "Python 3 (ipykernel)",
   "language": "python",
   "name": "python3"
  },
  "language_info": {
   "codemirror_mode": {
    "name": "ipython",
    "version": 3
   },
   "file_extension": ".py",
   "mimetype": "text/x-python",
   "name": "python",
   "nbconvert_exporter": "python",
   "pygments_lexer": "ipython3",
   "version": "3.9.10"
  }
 },
 "nbformat": 4,
 "nbformat_minor": 5
}
