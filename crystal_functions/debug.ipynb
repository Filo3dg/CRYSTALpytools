{
 "cells": [
  {
   "cell_type": "code",
   "execution_count": 3,
   "id": "58d63fd5",
   "metadata": {},
   "outputs": [
    {
     "name": "stdout",
     "output_type": "stream",
     "text": [
      " Il volume nell'unità C è OS\n",
      " Numero di serie del volume: 4620-7C44\n",
      "\n",
      " Directory di C:\\Users\\ascri\\OneDrive\\Desktop\\crystal_functions\\crystal_functions\\crystal_functions\n",
      "\n",
      "08/09/2022  10:59    <DIR>          .\n",
      "08/09/2022  10:24    <DIR>          ..\n",
      "08/09/2022  10:55    <DIR>          .ipynb_checkpoints\n",
      "08/09/2022  10:24               157 __init__.py\n",
      "08/09/2022  10:56    <DIR>          __pycache__\n",
      "08/09/2022  10:24               577 adsorb.py\n",
      "08/09/2022  10:24               757 calculate.py\n",
      "08/09/2022  10:24            12.699 convert.py\n",
      "08/09/2022  10:59             1.843 debug.ipynb\n",
      "08/09/2022  10:24             3.613 execute.py\n",
      "08/09/2022  10:40            92.362 file_readwrite.py\n",
      "08/09/2022  10:24            60.343 plot.py\n",
      "08/09/2022  10:24            17.720 thermodynamics.py\n",
      "08/09/2022  10:24            12.934 unit_test.py\n",
      "08/09/2022  10:24               693 utils.py\n",
      "              11 File        203.698 byte\n",
      "               4 Directory  411.015.798.784 byte disponibili\n"
     ]
    }
   ],
   "source": [
    "ls\n"
   ]
  },
  {
   "cell_type": "code",
   "execution_count": 4,
   "id": "c4568fa4",
   "metadata": {},
   "outputs": [],
   "source": [
    "from file_readwrite import *\n",
    "from plot import *"
   ]
  },
  {
   "cell_type": "code",
   "execution_count": 5,
   "id": "e8fc5b6e",
   "metadata": {},
   "outputs": [],
   "source": [
    "sigma= Properties_output().read_cry_sigma('./bi2te3_SIGMA.DAT')"
   ]
  },
  {
   "cell_type": "code",
   "execution_count": 6,
   "id": "f2d28291",
   "metadata": {},
   "outputs": [
    {
     "ename": "NameError",
     "evalue": "name 'plot_cry_sigma_carrier' is not defined",
     "output_type": "error",
     "traceback": [
      "\u001b[1;31m---------------------------------------------------------------------------\u001b[0m",
      "\u001b[1;31mNameError\u001b[0m                                 Traceback (most recent call last)",
      "Input \u001b[1;32mIn [6]\u001b[0m, in \u001b[0;36m<cell line: 1>\u001b[1;34m()\u001b[0m\n\u001b[1;32m----> 1\u001b[0m \u001b[43mplot_cry_sigma_carrier\u001b[49m(sigma)\n",
      "\u001b[1;31mNameError\u001b[0m: name 'plot_cry_sigma_carrier' is not defined"
     ]
    }
   ],
   "source": [
    "plot_cry_sigma_carrier(sigma)"
   ]
  },
  {
   "cell_type": "code",
   "execution_count": null,
   "id": "a77d91f3",
   "metadata": {},
   "outputs": [],
   "source": []
  }
 ],
 "metadata": {
  "kernelspec": {
   "display_name": "Python 3 (ipykernel)",
   "language": "python",
   "name": "python3"
  },
  "language_info": {
   "codemirror_mode": {
    "name": "ipython",
    "version": 3
   },
   "file_extension": ".py",
   "mimetype": "text/x-python",
   "name": "python",
   "nbconvert_exporter": "python",
   "pygments_lexer": "ipython3",
   "version": "3.9.12"
  }
 },
 "nbformat": 4,
 "nbformat_minor": 5
}
