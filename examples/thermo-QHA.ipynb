{
 "cells": [
  {
   "cell_type": "markdown",
   "id": "75caef41-d244-4318-9817-c161c8a880d4",
   "metadata": {},
   "source": [
    "# Lattice Dynamics and Density Functional Perturbation Theory - Quasi-Harmonic Level\n",
    "\n",
    "The script 'thermodyanmics.py' is a comprehensive module for lattice dynamics based on harmonic and quasi-harmonic level of theory. For simplicity, this tutorial is focused only on quasi-harmonic fittings of phonons and thermodynamics of that level. For harmonic part, please refer to 'thermodynamics-QHA'.\n",
    "\n",
    "**Classes used in this tutorial are defined in 'crystal_functions.thermodynamics'. Documentations and source codes are attached at the bottom of this page.**"
   ]
  },
  {
   "cell_type": "markdown",
   "id": "095ff5b1-2b0e-4534-ad39-63487104058b",
   "metadata": {},
   "source": [
    "## Tests\n",
    "2 tests are performed based on the same method.\n",
    "\n",
    "1. 0 pressure equilibrium volumes of Form I paracetamol, ranging from 0K to 330K. Compared with experimental measurements ([C. C. Wilson, Z. Kristallogr. Cryst. Mater., 2000, 215, 693–701](https://www.degruyter.com/document/doi/10.1524/zkri.2000.215.11.693/html)).  \n",
    "2. 0~1GPa thermodynamic properties of Form I paracetamol, ranging from 0K to 330K. As an illustration of the complete output file. \n",
    "\n",
    "Method explanation:\n",
    "\n",
    "* Analytical expression of electron total energy is fitted to the third-order Birch-Murnaghan equation of states.  \n",
    "* Analytical expression of phonon frequencies is fitted to the second- and third-order polynomials. The third -order polynomial is used for thermodynamics.  \n",
    "* Gibbs free energy G(T, p) is minimized with BFGS algorithm without boundary conditions. \n",
    "\n",
    "**N.B.** This module is still under development. Planned update: Gruneisen model and anisotropic thermal expansion."
   ]
  },
  {
   "cell_type": "markdown",
   "id": "7b757f0c-4241-44a7-b1e6-b923d688ae05",
   "metadata": {},
   "source": [
    "### 0\\~330K, 0 pressure thermodyanmics\n",
    "This part is used for comparison with experimental measurements, in order to illustrate effectiveness of QHA method implemented here. 4 $\\Gamma$-point phonon calculations of Form I paracetamol with various volumes are used ('QHA' folder in 'data/')."
   ]
  },
  {
   "cell_type": "code",
   "execution_count": 2,
   "id": "44de5be1-8b60-4a2f-95c2-1599f7ad8f59",
   "metadata": {},
   "outputs": [
    {
     "name": "stdout",
     "output_type": "stream",
     "text": [
      "WARNING: Optimised volume exceeds the sampled range. Special care should be taken of.\n",
      "         Volume:  724.6544801689456   Temperature:  20.0   Pressure:  0.5555555555555556\n",
      "WARNING: Optimised volume exceeds the sampled range. Special care should be taken of.\n",
      "         Volume:  714.3109546967437   Temperature:  20.0   Pressure:  0.6666666666666666\n",
      "WARNING: Optimised volume exceeds the sampled range. Special care should be taken of.\n",
      "         Volume:  709.4722395817672   Temperature:  20.0   Pressure:  0.7777777777777777\n",
      "WARNING: Optimised volume exceeds the sampled range. Special care should be taken of.\n",
      "         Volume:  698.3276409132774   Temperature:  20.0   Pressure:  0.8888888888888888\n"
     ]
    },
    {
     "name": "stderr",
     "output_type": "stream",
     "text": [
      "/home/huanyu/Software/anaconda3/envs/crystal_py3.8/lib/python3.8/site-packages/crystal_functions/thermodynamics.py:177: RuntimeWarning: overflow encountered in square\n",
      "  temperature * expon / (expon - 1)**2 * 1000\n"
     ]
    },
    {
     "name": "stdout",
     "output_type": "stream",
     "text": [
      "WARNING: Optimised volume exceeds the sampled range. Special care should be taken of.\n",
      "         Volume:  692.016074681912   Temperature:  20.0   Pressure:  1.0\n",
      "WARNING: Optimised volume exceeds the sampled range. Special care should be taken of.\n",
      "         Volume:  736.5906675225253   Temperature:  50.0   Pressure:  0.4444444444444444\n",
      "WARNING: Optimised volume exceeds the sampled range. Special care should be taken of.\n",
      "         Volume:  728.7279307334819   Temperature:  50.0   Pressure:  0.5555555555555556\n",
      "WARNING: Optimised volume exceeds the sampled range. Special care should be taken of.\n",
      "         Volume:  707.3540530339408   Temperature:  50.0   Pressure:  0.6666666666666666\n",
      "WARNING: Optimised volume exceeds the sampled range. Special care should be taken of.\n",
      "         Volume:  703.4231867415023   Temperature:  50.0   Pressure:  0.7777777777777777\n",
      "WARNING: Optimised volume exceeds the sampled range. Special care should be taken of.\n",
      "         Volume:  692.5316504672961   Temperature:  50.0   Pressure:  0.8888888888888888\n",
      "WARNING: Optimised volume exceeds the sampled range. Special care should be taken of.\n",
      "         Volume:  699.6454289345511   Temperature:  50.0   Pressure:  1.0\n",
      "WARNING: Optimised volume exceeds the sampled range. Special care should be taken of.\n",
      "         Volume:  735.1838148581135   Temperature:  80.0   Pressure:  0.4444444444444444\n",
      "WARNING: Optimised volume exceeds the sampled range. Special care should be taken of.\n",
      "         Volume:  729.3661067073817   Temperature:  80.0   Pressure:  0.5555555555555556\n",
      "WARNING: Optimised volume exceeds the sampled range. Special care should be taken of.\n",
      "         Volume:  706.9847532034673   Temperature:  80.0   Pressure:  0.6666666666666666\n",
      "WARNING: Optimised volume exceeds the sampled range. Special care should be taken of.\n",
      "         Volume:  692.9376030779514   Temperature:  80.0   Pressure:  0.7777777777777777\n",
      "WARNING: Optimised volume exceeds the sampled range. Special care should be taken of.\n",
      "         Volume:  692.6195243907358   Temperature:  80.0   Pressure:  0.8888888888888888\n",
      "WARNING: Optimised volume exceeds the sampled range. Special care should be taken of.\n",
      "         Volume:  732.3301878247893   Temperature:  80.0   Pressure:  1.0\n",
      "WARNING: Optimised volume exceeds the sampled range. Special care should be taken of.\n",
      "         Volume:  677.4746208706501   Temperature:  200.0   Pressure:  1.0\n"
     ]
    },
    {
     "data": {
      "text/plain": [
       "<crystal_functions.thermodynamics.Quasi_harmonic at 0x7f8fb1f71ee0>"
      ]
     },
     "execution_count": 2,
     "metadata": {},
     "output_type": "execute_result"
    }
   ],
   "source": [
    "import numpy as np\n",
    "from crystal_functions.thermodynamics import Quasi_harmonic\n",
    "\n",
    "file_list = ['data/QHA/f1-m4freq.out', 'data/QHA/f1-p4freq.out',\n",
    "             'data/QHA/f1-p8freq.out', 'data/QHA/f1-r0freq.out']\n",
    "tempt = np.array([20, 50, 80, 150, 200, 250, 330], dtype=float)\n",
    "press = np.linspace(0, 1, 10)\n",
    "\n",
    "qha = Quasi_harmonic().from_HA_files(file_list, write_out=True, filename='data/f1-thermo-QHA.dat')\n",
    "qha.thermodynamics(temperature=tempt, pressure=press, \n",
    "                   eos_method='birch_murnaghan', freq_method='polynomial',\n",
    "                   poly_order=[2, 3], min_method='BFGS', write_out=True, filename='data/f1-thermo-QHA.dat')"
   ]
  },
  {
   "cell_type": "markdown",
   "id": "7e75ab0c-ef08-48c6-9854-0fb3547dcd5b",
   "metadata": {},
   "source": [
    "Warning messages are printed out since the fitted volume data exceeds the sampled volume data, which might cause inaccuracies due to the extrapolated volume & phonon frequencies. According to warning messages, smaller volumes should be sampled when generating the phonon frequency data. \n",
    "\n",
    "No warning message is printed out for 0 pressure thermodynamics. Fitted data and expermiental data are plotted for comparison in the following code block. The difference is within 5 cm^3/mol, which is a good agreement with experimental measurements. The increased thermal expansion around 50\\~150K is reproduced."
   ]
  },
  {
   "cell_type": "code",
   "execution_count": 4,
   "id": "2aaa0e2b-ea7d-4c1e-bc30-3f97780c0a60",
   "metadata": {},
   "outputs": [
    {
     "data": {
      "text/plain": [
       "[<matplotlib.lines.Line2D at 0x7f8fad92c0d0>]"
      ]
     },
     "execution_count": 4,
     "metadata": {},
     "output_type": "execute_result"
    },
    {
     "data": {
      "image/png": "[encoded data removed]",
      "text/plain": [
       "<Figure size 432x288 with 1 Axes>"
      ]
     },
     "metadata": {
      "needs_background": "light"
     },
     "output_type": "display_data"
    }
   ],
   "source": [
    "import matplotlib.pyplot as plt\n",
    "\n",
    "exp = np.array([111.5836, 111.9421, 112.0463, 113.4580, 114.3871, \n",
    "                115.0082, 116.0031])\n",
    "qha_zerop = qha.equilibrium_volume[:, 0]\n",
    "# Angstrom^3 to cm^3/mol\n",
    "qha_zerop = qha_zerop * 0.602214 / 4\n",
    "\n",
    "plt.plot(tempt, exp, '+-k')\n",
    "plt.plot(tempt,qha_zerop, 'x-r')"
   ]
  },
  {
   "cell_type": "markdown",
   "id": "f1bb499a-c329-4a12-a54a-3718a68b4a5d",
   "metadata": {},
   "source": [
    "### 0\\~330K, 0\\~1GPa thermodyanmics\n",
    "The format of the output file obtained from the previous calculation (f1-thermo-QHA.dat) is briefly explained in this section. Generally speaking, titles of each section are printed in upper case, with '\\#' at the beginning of the line. Brief explanations, if necessary, are given in the following lines in the lower case. \n",
    "\n",
    "Following information is reported in sequence:"
   ]
  },
  {
   "cell_type": "markdown",
   "id": "65856340-4fd3-4e7d-97ae-d42207e2a571",
   "metadata": {},
   "source": [
    "#### Combined HA phonon data\n",
    "\n",
    "1. Volumes of sampled HA phonons  \n",
    "2. DFT total energies of sampled HA phonons  \n",
    "3. Mode frequencies as functions of volumes\n",
    "\n",
    "```\n",
    "# COMBINED QHA DATA\n",
    "## SAMPLED VOLUMES(ANGSTROM^3) =\n",
    "## DFT TOTAL ENERGIES(KJ/MOL CELL) =\n",
    "## DFT TOTAL ENERGIES(KJ/MOL CELL) =\n",
    "\n",
    "## COMBINED MODES\n",
    "\n",
    "### FREQUENCIES AT QPOINT #\n",
    "\n",
    "  Mode #    Volume(Angstrom^3)        Frequency(THz)\n",
    "```"
   ]
  },
  {
   "cell_type": "markdown",
   "id": "2cfdb131-6c50-4a2f-b440-ab703cf02c84",
   "metadata": {},
   "source": [
    "#### Equation of states fitted for DFT total energy\n",
    "To get the analytical expression of internal energy as the function of volume, U(V), excluding the zero point energy, the DFT total energy is fitted to equation of states (EoS) specified. The [pymatgen.analysis.eos module](https://pymatgen.org/pymatgen.analysis.eos.html) is integrated, so EoSs supported there are supported here as well. \n",
    "\n",
    "The following parameters are fitted:\n",
    "\n",
    "1. $E_{0}$, The equilibrium internal energy excluding phonon vibrations.  \n",
    "2. $V_{0}$, The equilibrium volume fitted to minimize the internal energy. Compared to $V_{0}$ that minimizes Gibbs free energy, there is a famous 'volume shift' problem of this value.  \n",
    "3. $B_{0}$, The equilibrium bulk modulus.  \n",
    "4. $B_{1}=\\left(\\frac{\\partial B_{0}}{\\partial p}\\right)_{T}$\n",
    "\n",
    "```\n",
    "# EQUATION OF STATES FITTED FOR ELECTRON TOTAL ENERGY: birch_murnaghan\n",
    "  Electron total energy is fitted as the function of volume, of which the\n",
    "  formalism is given by equation of states.\n",
    "\n",
    "      E0(kJ/mol)  V0(Angstrom^3)     B0(GPa)          B1\n",
    "```"
   ]
  },
  {
   "cell_type": "markdown",
   "id": "e91e5c1c-c8e1-48f9-bb3a-1e1561cb5e2c",
   "metadata": {},
   "source": [
    "#### QHA thermodynamic properties\n",
    "\n",
    "Basic thermodynamic properties including equilibrium volumes $V(T,p)$, Helmholtz free energy $F(T,V)$, Gibbs free energy $G(T,p)$ and entropy $S(T,V)$ are printed out at finite temperatures and pressures. \n",
    "\n",
    "So far, $V(T,p)$ is the basic quantity of all the other thermodynamic properties, which is obtained by numerically minimizing the Gibbs free energy of harmonic phonons (see [thermodynamics-HA](https://github.com/crystal-code-tools/crystal_functions/blob/main/tutorial/thermodynamics-HA.ipynb) for analytical equations). \n",
    "\n",
    "The following information is printed out:\n",
    "\n",
    "1. The order of polynomials used for QHA thermodynamics, which is automatically chosen based on the average R^2.  \n",
    "2. Algorithm used for minimizing Gibbs free energy.  \n",
    "3. If applicable, volume boundaries set for Gibbs free energy minimization.  \n",
    "4. Thermodynamic properties at constant pressure.\n",
    "\n",
    "```\n",
    "# QHA THERMODYNAMIC PROPERTIES\n",
    "  Thermodynamic properties fitted by QHA.\n",
    "\n",
    "## FREQUENCY POLYNOMIAL ORDER:\n",
    "## EQUILIBRIUM VOLUME MINIMISATION: \n",
    "## THERMODYNAMIC PROPERTIES AT         GPa\n",
    "\n",
    "      T(K)     Vol(Angstrom^3)   Helmholtz(kJ/mol)       Gibbs(kJ/mol)    Entropy(J/mol*K)\n",
    "```"
   ]
  }
 ],
 "metadata": {
  "kernelspec": {
   "display_name": "Python 3 (ipykernel)",
   "language": "python",
   "name": "python3"
  },
  "language_info": {
   "codemirror_mode": {
    "name": "ipython",
    "version": 3
   },
   "file_extension": ".py",
   "mimetype": "text/x-python",
   "name": "python",
   "nbconvert_exporter": "python",
   "pygments_lexer": "ipython3",
   "version": "3.8.12"
  }
 },
 "nbformat": 4,
 "nbformat_minor": 5
}
