{
 "cells": [
  {
   "cell_type": "code",
   "execution_count": null,
   "id": "b9a8bf47",
   "metadata": {},
   "outputs": [],
   "source": [
    "from file_readwrite import *\n",
    "from plot import *"
   ]
  },
  {
   "cell_type": "code",
   "execution_count": null,
   "id": "93bcf64e",
   "metadata": {},
   "outputs": [],
   "source": [
    "urea_contour_plot = Properties_output().read_cry_contour('./pl2d_mol.SURFVIRI')"
   ]
  },
  {
   "cell_type": "code",
   "execution_count": null,
   "id": "af542a10",
   "metadata": {},
   "outputs": [],
   "source": [
    "plot_cry_contour(urea_contour_plot)"
   ]
  },
  {
   "cell_type": "code",
   "execution_count": null,
   "id": "11970186",
   "metadata": {},
   "outputs": [],
   "source": [
    "#ref"
   ]
  },
  {
   "cell_type": "code",
   "execution_count": null,
   "id": "e69f9e60",
   "metadata": {},
   "outputs": [],
   "source": [
    "urea_contour_plot_ref = Properties_output().read_cry_contour('./SURFLAPP_ref.DAT')"
   ]
  },
  {
   "cell_type": "code",
   "execution_count": null,
   "id": "1f193220",
   "metadata": {},
   "outputs": [],
   "source": [
    "plot_cry_contour(urea_contour_plot_ref)"
   ]
  },
  {
   "cell_type": "code",
   "execution_count": null,
   "id": "0b76bd50",
   "metadata": {},
   "outputs": [],
   "source": [
    "plot_cry_contour_differences(urea_contour_plot,urea_contour_plot_ref)"
   ]
  },
  {
   "cell_type": "code",
   "execution_count": null,
   "id": "9e537676",
   "metadata": {},
   "outputs": [],
   "source": []
  },
  {
   "cell_type": "code",
   "execution_count": null,
   "id": "9b9591ef",
   "metadata": {},
   "outputs": [],
   "source": []
  },
  {
   "cell_type": "code",
   "execution_count": null,
   "id": "91b1f948",
   "metadata": {},
   "outputs": [],
   "source": []
  }
 ],
 "metadata": {
  "kernelspec": {
   "display_name": "Python 3 (ipykernel)",
   "language": "python",
   "name": "python3"
  },
  "language_info": {
   "codemirror_mode": {
    "name": "ipython",
    "version": 3
   },
   "file_extension": ".py",
   "mimetype": "text/x-python",
   "name": "python",
   "nbconvert_exporter": "python",
   "pygments_lexer": "ipython3",
   "version": "3.8.12"
  }
 },
 "nbformat": 4,
 "nbformat_minor": 5
}
