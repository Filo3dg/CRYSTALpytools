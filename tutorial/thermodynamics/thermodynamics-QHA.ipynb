{
 "cells": [
  {
   "cell_type": "markdown",
   "id": "75caef41-d244-4318-9817-c161c8a880d4",
   "metadata": {},
   "source": [
    "# Lattice Dynamics and Density Functional Perturbation Theory - Quasi-Harmonic Level\n",
    "\n",
    "The script 'thermodyanmics.py' is a comprehensive module for lattice dynamics based on harmonic and quasi-harmonic level of theory. For simplicity, this tutorial is focused only on quasi-harmonic fittings of phonons and thermodynamics of that level. For harmonic part, please refer to 'thermodynamics-QHA'.\n",
    "\n",
    "**Classes used in this tutorial are defined in 'thermodynamics.py'. Documentations and source codes are attached at the bottom of this page.**"
   ]
  },
  {
   "cell_type": "markdown",
   "id": "095ff5b1-2b0e-4534-ad39-63487104058b",
   "metadata": {},
   "source": [
    "## Tests\n",
    "1 test is performed based on Helmholtz free energy at 0 pressure.\n",
    "\n",
    "1. 0 pressure equilibrium volumes of Form I paracetamol, ranging from 0K to 300K. Compared with experimental measurements (C. C. Wilson, Z. Kristallogr. Cryst. Mater., 2000, 215, 693–701).\n",
    "\n",
    "**N.B.** This module is still under development. Planned update: Gibbs free energy and pressure dependent properties, Gruneisen model."
   ]
  },
  {
   "cell_type": "code",
   "execution_count": null,
   "id": "44de5be1-8b60-4a2f-95c2-1599f7ad8f59",
   "metadata": {},
   "outputs": [],
   "source": [
    "from crystal_functions.thermodynamics import Harmonic\n",
    "from crystal_functions.thermodynamics import Mode\n",
    "\n"
   ]
  }
 ],
 "metadata": {
  "kernelspec": {
   "display_name": "Python 3 (ipykernel)",
   "language": "python",
   "name": "python3"
  },
  "language_info": {
   "codemirror_mode": {
    "name": "ipython",
    "version": 3
   },
   "file_extension": ".py",
   "mimetype": "text/x-python",
   "name": "python",
   "nbconvert_exporter": "python",
   "pygments_lexer": "ipython3",
   "version": "3.8.12"
  }
 },
 "nbformat": 4,
 "nbformat_minor": 5
}
