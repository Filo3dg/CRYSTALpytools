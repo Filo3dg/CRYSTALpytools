{
 "cells": [
  {
   "cell_type": "code",
   "execution_count": 1,
   "id": "ff685520-c134-44fc-9a1e-ec23a0eef329",
   "metadata": {
    "tags": []
   },
   "outputs": [
    {
     "name": "stderr",
     "output_type": "stream",
     "text": [
      "/rds/general/user/hz1420/home/apps/anaconda3/envs/crystal_py3.9/lib/python3.9/site-packages/CRYSTALpytools/base/inpbase.py:985: UserWarning: Keyword 'PREOPTGEOM' is launched. To set geometric optimization keywords, use 'self.optgeom' attribute.\n",
      "  warnings.warn(\n"
     ]
    }
   ],
   "source": [
    "from CRYSTALpytools.crystal_io import Crystal_input\n",
    "\n",
    "inp = Crystal_input()\n",
    "inp.from_file('test-opt.d12')\n",
    "inp.geom.freqcalc.numderiv(2)\n",
    "inp.geom.freqcalc.preoptgeom()\n",
    "inp.geom.freqcalc.optgeom.toldex(0.0012)\n",
    "inp.geom.freqcalc.optgeom.toldeg(0.0003)\n",
    "inp.to_file('test-freq-preopt.d12')\n",
    "inp.geom.freqcalc.nooptgeom()\n",
    "inp.to_file('test-freq-nopreopt.d12')\n",
    "inp.crystal_from_cif('test-geom2.cif')\n",
    "inp.to_file('test-geom2.d12')"
   ]
  },
  {
   "cell_type": "code",
   "execution_count": null,
   "id": "04879b95-6fd7-4026-bfd2-aac0f740b8b9",
   "metadata": {},
   "outputs": [],
   "source": []
  }
 ],
 "metadata": {
  "kernelspec": {
   "display_name": "Python 3 (ipykernel)",
   "language": "python",
   "name": "python3"
  },
  "language_info": {
   "codemirror_mode": {
    "name": "ipython",
    "version": 3
   },
   "file_extension": ".py",
   "mimetype": "text/x-python",
   "name": "python",
   "nbconvert_exporter": "python",
   "pygments_lexer": "ipython3",
   "version": "3.9.16"
  }
 },
 "nbformat": 4,
 "nbformat_minor": 5
}
