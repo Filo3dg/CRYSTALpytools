{
 "cells": [
  {
   "cell_type": "markdown",
   "id": "68158073",
   "metadata": {},
   "source": [
    "# Example notebook for the functions contained in cry_crystal_io.py"
   ]
  },
  {
   "cell_type": "markdown",
   "id": "56179e55",
   "metadata": {},
   "source": [
    "### Crystal_input class"
   ]
  },
  {
   "cell_type": "code",
   "execution_count": 1,
   "id": "032121ab",
   "metadata": {},
   "outputs": [],
   "source": [
    "from CRYSTALpytools.crystal_io import Crystal_input"
   ]
  },
  {
   "cell_type": "markdown",
   "id": "7ffc106f-e696-4a0a-92f4-f8b73c158e73",
   "metadata": {},
   "source": [
    "#### Create a crystal input object by directly calling methods"
   ]
  },
  {
   "cell_type": "code",
   "execution_count": 2,
   "id": "4938ba48-2a8d-4b31-b777-bf641fc327fe",
   "metadata": {
    "tags": []
   },
   "outputs": [
    {
     "name": "stdout",
     "output_type": "stream",
     "text": [
      "MGO BULK - GEOMETRY TEST\n",
      "CRYSTAL\n",
      "0 0 0 \n",
      "225 \n",
      "4.217 \n",
      "2 \n",
      "12 0.0 0.0 0.0 \n",
      "8 0.5 0.5 0.5 \n",
      "ENDGEOM\n",
      "BASISSET\n",
      "POB-DZVP \n",
      "DFT\n",
      "B3LYP \n",
      "XXLGRID\n",
      "ENDDFT\n",
      "DIIS\n",
      "FMIXING\n",
      "70 \n",
      "TOLINTEG\n",
      "7 7 7 7 14 \n",
      "SHRINK\n",
      "12 24 \n",
      "ENDSCF\n",
      "\n"
     ]
    }
   ],
   "source": [
    "mgo_input = Crystal_input()\n",
    "mgo_input.geom.title('MGO BULK - GEOMETRY TEST')\n",
    "mgo_input.geom.crystal(225, # Space group\n",
    "                      [4.217], # Minimal set of lattice parameters\n",
    "                      [[12, 0., 0., 0.], # Atomic labels and coordinates\n",
    "                       [8, 0.5, 0.5, 0.5]]\n",
    "                      )\n",
    "mgo_input.basisset.basisset('POB-DZVP')\n",
    "mgo_input.scf.dft.xcfunc('B3LYP')\n",
    "mgo_input.scf.dft.xxlgrid()\n",
    "mgo_input.scf.tolinteg(7, 7, 7, 7, 14)\n",
    "mgo_input.scf.shrink(12, 24)\n",
    "mgo_input.scf.maxcycle(70)\n",
    "mgo_input.scf.fmixing(70)\n",
    "mgo_input.scf.diis()\n",
    "\n",
    "print(mgo_input.data)"
   ]
  },
  {
   "cell_type": "markdown",
   "id": "cbfdbe40",
   "metadata": {},
   "source": [
    "#### Create a crystal input object from blocks"
   ]
  },
  {
   "cell_type": "code",
   "execution_count": 3,
   "id": "1bd7a743",
   "metadata": {
    "tags": []
   },
   "outputs": [
    {
     "name": "stdout",
     "output_type": "stream",
     "text": [
      "MGO BULK - GEOMETRY TEST\n",
      "CRYSTAL\n",
      "0 0 0\n",
      "225\n",
      "4.217\n",
      "2\n",
      "12 0.    0.    0.\n",
      "8 0.5   0.5   0.5\n",
      "ENDGEOM\n",
      "BASISSET\n",
      "POB-DZVP\n",
      "ENDBS\n",
      "DIIS\n",
      "MAXCYCLE\n",
      "200\n",
      "FMIXING\n",
      "70\n",
      "TOLINTEG\n",
      "7 7 7 7 14\n",
      "SHRINK\n",
      "12 24\n",
      "ENDSCF\n",
      "\n"
     ]
    }
   ],
   "source": [
    "geom_block = \\\n",
    "\"\"\"MGO BULK - GEOMETRY TEST\n",
    "CRYSTAL\n",
    "0 0 0\n",
    "225\n",
    "4.217\n",
    "2\n",
    "12 0.    0.    0.\n",
    "8 0.5   0.5   0.5\n",
    "END\n",
    "\"\"\"\n",
    "\n",
    "bs_block   = \\\n",
    "\"\"\"BASISSET\n",
    "POB-DZVP\n",
    "\"\"\"\n",
    "func_block = \\\n",
    "\"\"\"DFT\n",
    "B3LYP\n",
    "XXLGRID\n",
    "ENDDFT\n",
    "\"\"\"\n",
    "scf_block  = \\\n",
    "\"\"\"TOLINTEG\n",
    "7 7 7 7 14\n",
    "SHRINK\n",
    "12 24\n",
    "MAXCYCLE\n",
    "200\n",
    "FMIXING\n",
    "70\n",
    "DIIS\n",
    "ENDSCF\n",
    "\"\"\"\n",
    "mgo_input = Crystal_input()\n",
    "mgo_input.set_geom(geom_block)\n",
    "mgo_input.set_basisset(bs_block)\n",
    "mgo_input.scf.set_dft(func_block) # DFT is a sub-block of SCF block\n",
    "mgo_input.set_scf(scf_block)\n",
    "print(mgo_input.data)"
   ]
  },
  {
   "cell_type": "markdown",
   "id": "01c1e947",
   "metadata": {},
   "source": [
    "#### Create a crystal input object from an existing input file\n",
    "\n",
    "The existing file can act as a template. By calling the corresponding method one can change, delete and substitute keywords."
   ]
  },
  {
   "cell_type": "code",
   "execution_count": 4,
   "id": "ed435d4f",
   "metadata": {},
   "outputs": [
    {
     "name": "stdout",
     "output_type": "stream",
     "text": [
      "MGO BULK - GEOMETRY TEST\n",
      "CRYSTAL\n",
      "0 0 0\n",
      "225\n",
      "4.217\n",
      "2\n",
      "12 0.    0.    0.\n",
      "8 0.5   0.5   0.5\n",
      "OPTGEOM\n",
      "TOLDEG\n",
      "0.0003 \n",
      "TOLDEX\n",
      "0.0012 \n",
      "ENDOPT\n",
      "ENDGEOM\n",
      "\n",
      "OPTGEOM\n",
      "TOLDEX\n",
      "0.0012 \n",
      "ENDOPT\n",
      "\n"
     ]
    }
   ],
   "source": [
    "mgo_input = Crystal_input().from_file('data/mgo.d12')\n",
    "# Set Optgeom block\n",
    "mgo_input.geom.optgeom.toldex(0.0012)\n",
    "mgo_input.geom.optgeom.toldeg(0.0003)\n",
    "print(mgo_input.geom.data)\n",
    "# Clean TOLDEG command\n",
    "mgo_input.geom.optgeom.toldeg('')\n",
    "print(mgo_input.geom.optgeom.data)\n",
    "# Write the updated object to file\n",
    "mgo_input.to_file('data/mgo_inputtest.d12')"
   ]
  },
  {
   "cell_type": "markdown",
   "id": "486403f1-d31d-426b-b0f4-6d0c492e3d4d",
   "metadata": {},
   "source": [
    "#### Set geometry\n",
    "\n",
    "The user can set the geometry input by a CIF file or a pymatgen structure when needed. There are 2 available options:\n",
    "\n",
    "1. Use the 'EXTERNAL' keyword and `Crystal_input` object automatically convert the geometry entry to a gui file with default settings (recommended)  \n",
    "2. Use the 'CRYSTAL' keyword. Limited to 3D structures."
   ]
  },
  {
   "cell_type": "code",
   "execution_count": 6,
   "id": "f98b64ce-c8c2-4090-8dde-eb60e33ec527",
   "metadata": {},
   "outputs": [
    {
     "name": "stdout",
     "output_type": "stream",
     "text": [
      "Generated by CRYSTALpytools\n",
      "CRYSTAL\n",
      "0 0 0 \n",
      "14 \n",
      "7.073 9.166 12.667 115.51 \n",
      "20 \n",
      "1    0.62840000  0.07020000  0.50120000 \n",
      "1    0.75780000  0.23660000  0.66960000 \n",
      "1    0.22340000  0.40000000  0.56910000 \n",
      "1    0.09230000  0.23360000  0.39950000 \n",
      "1    0.20010000  0.46470000  0.74240000 \n",
      "1    0.89180000  0.04070000  0.30490000 \n",
      "1    0.43160000  0.91470000  0.10390000 \n",
      "1    0.70610000  0.92020000  0.14990000 \n",
      "1    0.59140000  0.78090000  0.19770000 \n",
      "6    0.85040000  0.14210000  0.43813000 \n",
      "6    0.75680000  0.14242000  0.51474000 \n",
      "6    0.82960000  0.23794000  0.60996000 \n",
      "6    0.99570000  0.33162000  0.62922000 \n",
      "6    0.09210000  0.32908000  0.55399000 \n",
      "6    0.01940000  0.23440000  0.45894000 \n",
      "6    0.60170000  0.98401000  0.28025000 \n",
      "6    0.58320000  0.89631000  0.17560000 \n",
      "7    0.78771000  0.05016000  0.33911000 \n",
      "8    0.05870000  0.42489000  0.72189000 \n",
      "8    0.45550000  0.99259000  0.30854000 \n",
      "ENDGEOM\n",
      "\n"
     ]
    }
   ],
   "source": [
    "paracetamol = Crystal_input()\n",
    "paracetamol.geom_from_cif('data/paracetamol.cif', keyword='CRYSTAL')\n",
    "print(paracetamol.geom.data)\n",
    "paracetamol = Crystal_input().geom_from_cif('data/paracetamol.cif',\n",
    "                                            gui_name='data/paracetamol.gui')"
   ]
  },
  {
   "cell_type": "markdown",
   "id": "d763dde4-d00c-4c32-89d4-8b7fe7580646",
   "metadata": {},
   "source": [
    "#### Set basis set\n",
    "\n",
    "The user can set basis set by string (as shown before), a text file, downloading it from [Basis Set Exchange (BSE)](https://www.basissetexchange.org/) or a `CRYSTALpytools.base.basisset.BasisSetBASE` object. CRYSTALpytools calls BSE's API to convert and format basis set files, so file/string in other formats (Gaussian, for example) can also be used."
   ]
  },
  {
   "cell_type": "code",
   "execution_count": 7,
   "id": "dbe1f740-c284-4aed-b76b-9f8f13195261",
   "metadata": {},
   "outputs": [
    {
     "name": "stdout",
     "output_type": "stream",
     "text": [
      "MGO BULK - GEOMETRY TEST\n",
      "CRYSTAL\n",
      "0 0 0\n",
      "225\n",
      "4.217\n",
      "2\n",
      "12 0.    0.    0.\n",
      "8 0.5   0.5   0.5\n",
      "OPTGEOM\n",
      "TOLDEX\n",
      "0.0012 \n",
      "ENDOPT\n",
      "ENDGEOM\n",
      "8    5    \n",
      "0 0 6  0.00  1.00  \n",
      "   8.5885000000E+03     1.8951500000E-03\n",
      "   1.2972300000E+03     1.4385900000E-02\n",
      "   2.9929600000E+02     7.0732000000E-02\n",
      "   8.7377100000E+01     2.4000100000E-01\n",
      "   2.5678900000E+01     5.9479700000E-01\n",
      "   3.7400400000E+00     2.8080200000E-01\n",
      "0 1 3  0.00  1.00  \n",
      "   4.2117500000E+01     1.1388900000E-01     3.6511400000E-02\n",
      "   9.6283700000E+00     9.2081100000E-01     2.3715300000E-01\n",
      "   2.8533200000E+00    -3.2744700000E-03     8.1970200000E-01\n",
      "0 1 1  0.00  1.00  \n",
      "   9.0566100000E-01     1.0000000000E+00     1.0000000000E+00\n",
      "0 1 1  0.00  1.00  \n",
      "   2.5561100000E-01     1.0000000000E+00     1.0000000000E+00\n",
      "0 3 1  0.00  1.00  \n",
      "   1.2920000000E+00     1.0000000000E+00\n",
      "12   12   \n",
      "0 0 6  0.00  1.00  \n",
      "   4.3866500000E+04     9.1800000000E-04\n",
      "   6.6053700000E+03     7.0470000000E-03\n",
      "   1.5132600000E+03     3.5941000000E-02\n",
      "   4.3231700000E+02     1.4146100000E-01\n",
      "   1.4214900000E+02     4.2676400000E-01\n",
      "   5.1398300000E+01     4.9797500000E-01\n",
      "0 0 3  0.00  1.00  \n",
      "   5.1398300000E+01     2.5135500000E-01\n",
      "   1.9919600000E+01     6.1867100000E-01\n",
      "   8.0247400000E+00     1.8841700000E-01\n",
      "0 0 1  0.00  1.00  \n",
      "   2.5081700000E+00     1.0000000000E+00\n",
      "0 0 1  0.00  1.00  \n",
      "   8.7153100000E-01     1.0000000000E+00\n",
      "0 0 1  0.00  1.00  \n",
      "   1.0818800000E-01     1.0000000000E+00\n",
      "0 0 1  0.00  1.00  \n",
      "   4.0130000000E-02     1.0000000000E+00\n",
      "0 2 4  0.00  1.00  \n",
      "   1.9385400000E+02     1.0188000000E-02\n",
      "   4.5442000000E+01     7.5360000000E-02\n",
      "   1.4186400000E+01     3.0741900000E-01\n",
      "   5.0575100000E+00     7.1757500000E-01\n",
      "0 2 2  0.00  1.00  \n",
      "   1.8886100000E+00     6.6733900000E-01\n",
      "   7.2265200000E-01     3.9464900000E-01\n",
      "0 2 1  0.00  1.00  \n",
      "   2.3641700000E-01     1.0000000000E+00\n",
      "0 2 1  0.00  1.00  \n",
      "   9.3358000000E-02     1.0000000000E+00\n",
      "0 2 1  0.00  1.00  \n",
      "   3.4809000000E-02     1.0000000000E+00\n",
      "0 3 1  0.00  1.00  \n",
      "   1.7500000000E-01     1.0000000000E+00\n",
      "99   0\n",
      "ENDBS\n",
      "DFT\n",
      "XXLGRID\n",
      "ENDDFT\n",
      "DIIS\n",
      "MAXCYCLE\n",
      "200\n",
      "FMIXING\n",
      "70\n",
      "TOLINTEG\n",
      "7 7 7 7 14\n",
      "SHRINK\n",
      "12 24\n",
      "ENDSCF\n",
      "\n"
     ]
    },
    {
     "name": "stderr",
     "output_type": "stream",
     "text": [
      "/rds/general/ephemeral/user/hz1420/ephemeral/ipykernel_3145129/2439451348.py:2: UserWarning: The previous basis set will be erased.\n",
      "  mgo_input.basisset.from_bse('6-311G*', ['Mg', 'O'])\n"
     ]
    }
   ],
   "source": [
    "# Downlaod basis set from BSE\n",
    "mgo_input.basisset.from_bse('6-311G*', ['Mg', 'O'])\n",
    "print(mgo_input.data)"
   ]
  },
  {
   "cell_type": "code",
   "execution_count": 8,
   "id": "4f82a27e-105d-4d98-976c-b802dab94b10",
   "metadata": {},
   "outputs": [
    {
     "name": "stdout",
     "output_type": "stream",
     "text": [
      "8    2    \n",
      "0 0 3  0.00  1.00  \n",
      "   1.3070932140E+02     1.5432896730E-01\n",
      "   2.3808866050E+01     5.3532814230E-01\n",
      "   6.4436083130E+00     4.4463454220E-01\n",
      "0 1 3  0.00  1.00  \n",
      "   5.0331513190E+00    -9.9967229190E-02     1.5591627500E-01\n",
      "   1.1695961250E+00     3.9951282610E-01     6.0768371860E-01\n",
      "   3.8038896000E-01     7.0011546890E-01     3.9195739310E-01\n",
      "12   3    \n",
      "0 0 3  0.00  1.00  \n",
      "   2.9923741370E+02     1.5432896730E-01\n",
      "   5.4506468450E+01     5.3532814230E-01\n",
      "   1.4751577520E+01     4.4463454220E-01\n",
      "0 1 3  0.00  1.00  \n",
      "   1.5121823520E+01    -9.9967229190E-02     1.5591627500E-01\n",
      "   3.5139865790E+00     3.9951282610E-01     6.0768371860E-01\n",
      "   1.1428574980E+00     7.0011546890E-01     3.9195739310E-01\n",
      "0 1 3  0.00  1.00  \n",
      "   1.3954482930E+00    -2.1962036900E-01     1.0587604290E-02\n",
      "   3.8932653180E-01     2.2559543360E-01     5.9516700530E-01\n",
      "   1.5237976590E-01     9.0039842600E-01     4.6200101200E-01\n",
      "99   0\n",
      "ENDBS\n",
      "\n"
     ]
    },
    {
     "name": "stderr",
     "output_type": "stream",
     "text": [
      "/rds/general/ephemeral/user/hz1420/ephemeral/ipykernel_3145129/2624786342.py:2: UserWarning: The previous basis set will be erased.\n",
      "  mgo_input.basisset.from_file('data/mgo_inputbs.gbs', 'gaussian94')\n"
     ]
    }
   ],
   "source": [
    "# Read a Gaussian STO-3G basis set\n",
    "mgo_input.basisset.from_file('data/mgo_inputbs.gbs', 'gaussian94')\n",
    "print(mgo_input.basisset.data)"
   ]
  },
  {
   "cell_type": "markdown",
   "id": "fe2d3647",
   "metadata": {},
   "source": [
    "### Crystal_output class"
   ]
  },
  {
   "cell_type": "code",
   "execution_count": 6,
   "id": "0a495139",
   "metadata": {},
   "outputs": [],
   "source": [
    "from CRYSTALpytools.crystal_io import Crystal_output"
   ]
  },
  {
   "cell_type": "markdown",
   "id": "6c93a21e",
   "metadata": {},
   "source": [
    "#### 3D system"
   ]
  },
  {
   "cell_type": "code",
   "execution_count": 7,
   "id": "bfb6e6f8",
   "metadata": {},
   "outputs": [
    {
     "data": {
      "text/plain": [
       "<CRYSTALpytools.crystal_io.Crystal_output at 0x106f18700>"
      ]
     },
     "execution_count": 7,
     "metadata": {},
     "output_type": "execute_result"
    }
   ],
   "source": [
    "mgo_output = Crystal_output().read_cry_output('data/mgo_optgeom.out')\n",
    "mgo_output"
   ]
  },
  {
   "cell_type": "markdown",
   "id": "58b3f761",
   "metadata": {},
   "source": [
    "#### Functions and properties"
   ]
  },
  {
   "cell_type": "code",
   "execution_count": 8,
   "id": "0bf048c7",
   "metadata": {},
   "outputs": [
    {
     "name": "stdout",
     "output_type": "stream",
     "text": [
      "Final energy = -7495.340914150903 eV \n",
      "\n",
      "Fermi energy = -4.136710311917215 eV \n",
      "\n",
      "Primitive lattice \n",
      " [[0.     2.1085 2.1085]\n",
      " [2.1085 0.     2.1085]\n",
      " [2.1085 2.1085 0.    ]] \n",
      "\n",
      "Reciprocal lattice \n",
      " [[-1.48996571  1.48996571  1.48996571]\n",
      " [ 1.48996571 -1.48996571  1.48996571]\n",
      " [ 1.48996571  1.48996571 -1.48996571]] \n",
      "\n",
      "Band gap = 7.1237 eV \n",
      "\n",
      "Last geometry = \n",
      " [[[0.0, 2.12011000819, 2.12011000819], [2.12011000819, 0.0, 2.12011000819], [2.12011000819, 2.12011000819, 0.0]], [12, 8], [[0.0, 0.0, 0.0], [-2.12011000819, -2.12011000819, -2.12011000819]]] \n",
      "\n",
      "Symmetry operators = \n",
      " [[ 1.  0.  0.  0.  1.  0.  0.  0.  1.  0.  0.  0.]\n",
      " [ 0.  1.  0.  1.  0.  0. -1. -1. -1.  0.  0.  0.]\n",
      " [-1. -1. -1.  0.  0.  1.  0.  1.  0.  0.  0.  0.]\n",
      " [ 0.  0.  1. -1. -1. -1.  1.  0.  0.  0.  0.  0.]\n",
      " [ 0.  0.  1.  1.  0.  0.  0.  1.  0.  0.  0.  0.]\n",
      " [ 0.  1.  0.  0.  0.  1.  1.  0.  0.  0.  0.  0.]\n",
      " [ 1.  0.  0.  0.  0.  1. -1. -1. -1.  0.  0.  0.]\n",
      " [ 1.  0.  0. -1. -1. -1.  0.  1.  0.  0.  0.  0.]\n",
      " [-1. -1. -1.  0.  1.  0.  1.  0.  0.  0.  0.  0.]\n",
      " [ 0.  0.  1.  0.  1.  0. -1. -1. -1.  0.  0.  0.]\n",
      " [ 0.  1.  0. -1. -1. -1.  0.  0.  1.  0.  0.  0.]\n",
      " [-1. -1. -1.  1.  0.  0.  0.  0.  1.  0.  0.  0.]\n",
      " [ 0. -1.  0. -1.  0.  0.  0.  0. -1.  0.  0.  0.]\n",
      " [-1.  0.  0.  0. -1.  0.  1.  1.  1.  0.  0.  0.]\n",
      " [ 0.  0. -1.  1.  1.  1.  0. -1.  0.  0.  0.  0.]\n",
      " [ 1.  1.  1.  0.  0. -1. -1.  0.  0.  0.  0.  0.]\n",
      " [-1.  0.  0.  0.  0. -1.  0. -1.  0.  0.  0.  0.]\n",
      " [ 0.  0. -1.  0. -1.  0. -1.  0.  0.  0.  0.  0.]\n",
      " [ 0.  0. -1. -1.  0.  0.  1.  1.  1.  0.  0.  0.]\n",
      " [ 1.  1.  1. -1.  0.  0.  0. -1.  0.  0.  0.  0.]\n",
      " [ 0. -1.  0.  1.  1.  1. -1.  0.  0.  0.  0.  0.]\n",
      " [ 0. -1.  0.  0.  0. -1.  1.  1.  1.  0.  0.  0.]\n",
      " [ 1.  1.  1.  0. -1.  0.  0.  0. -1.  0.  0.  0.]\n",
      " [-1.  0.  0.  1.  1.  1.  0.  0. -1.  0.  0.  0.]\n",
      " [-1.  0.  0.  0. -1.  0.  0.  0. -1.  0.  0.  0.]\n",
      " [ 0. -1.  0. -1.  0.  0.  1.  1.  1.  0.  0.  0.]\n",
      " [ 1.  1.  1.  0.  0. -1.  0. -1.  0.  0.  0.  0.]\n",
      " [ 0.  0. -1.  1.  1.  1. -1.  0.  0.  0.  0.  0.]\n",
      " [ 0.  0. -1. -1.  0.  0.  0. -1.  0.  0.  0.  0.]\n",
      " [ 0. -1.  0.  0.  0. -1. -1.  0.  0.  0.  0.  0.]\n",
      " [-1.  0.  0.  0.  0. -1.  1.  1.  1.  0.  0.  0.]\n",
      " [-1.  0.  0.  1.  1.  1.  0. -1.  0.  0.  0.  0.]\n",
      " [ 1.  1.  1.  0. -1.  0. -1.  0.  0.  0.  0.  0.]\n",
      " [ 0.  0. -1.  0. -1.  0.  1.  1.  1.  0.  0.  0.]\n",
      " [ 0. -1.  0.  1.  1.  1.  0.  0. -1.  0.  0.  0.]\n",
      " [ 1.  1.  1. -1.  0.  0.  0.  0. -1.  0.  0.  0.]\n",
      " [ 0.  1.  0.  1.  0.  0.  0.  0.  1.  0.  0.  0.]\n",
      " [ 1.  0.  0.  0.  1.  0. -1. -1. -1.  0.  0.  0.]\n",
      " [ 0.  0.  1. -1. -1. -1.  0.  1.  0.  0.  0.  0.]\n",
      " [-1. -1. -1.  0.  0.  1.  1.  0.  0.  0.  0.  0.]\n",
      " [ 1.  0.  0.  0.  0.  1.  0.  1.  0.  0.  0.  0.]\n",
      " [ 0.  0.  1.  0.  1.  0.  1.  0.  0.  0.  0.  0.]\n",
      " [ 0.  0.  1.  1.  0.  0. -1. -1. -1.  0.  0.  0.]\n",
      " [-1. -1. -1.  1.  0.  0.  0.  1.  0.  0.  0.  0.]\n",
      " [ 0.  1.  0. -1. -1. -1.  1.  0.  0.  0.  0.  0.]\n",
      " [ 0.  1.  0.  0.  0.  1. -1. -1. -1.  0.  0.  0.]\n",
      " [-1. -1. -1.  0.  1.  0.  0.  0.  1.  0.  0.  0.]\n",
      " [ 1.  0.  0. -1. -1. -1.  0.  0.  1.  0.  0.  0.]] \n",
      "\n",
      "Forces on cell = \n",
      " [[-0.00148273  0.00148273  0.00148273]\n",
      " [ 0.00148273 -0.00148273  0.00148273]\n",
      " [ 0.00148273  0.00148273 -0.00148273]] \n",
      " Forces on atoms = \n",
      " [[-4.18889278e-16 -4.11372640e-16 -4.14981546e-16]\n",
      " [ 4.14263349e-16  4.13107364e-16  4.14981546e-16]] \n",
      " Gradient = \n",
      " ['0.020466', '0.004693', '0.000069', '0.000032'] \n",
      "\n",
      "Total energy = \n",
      " [-7476.82733948 -7489.97945008 -7494.91919331 -7495.33640687\n",
      " -7495.33787794 -7495.33800249 -7495.33800425 -7495.33800435] \n",
      " Delta energy = \n",
      " [-7.48313122e+03 -1.31430996e+01 -4.95247230e+00 -4.16334210e-01\n",
      " -1.47213600e-03 -1.24628149e-04 -1.75513441e-06 -1.02586926e-07] \n",
      "\n"
     ]
    },
    {
     "name": "stderr",
     "output_type": "stream",
     "text": [
      "<frozen importlib._bootstrap>:228: RuntimeWarning: scipy._lib.messagestream.MessageStream size changed, may indicate binary incompatibility. Expected 56 from C header, got 64 from PyObject\n"
     ]
    }
   ],
   "source": [
    "#Final energy\n",
    "print(\"Final energy = %s eV \\n\" % mgo_output.get_final_energy())\n",
    "\n",
    "#Fermi energy\n",
    "print(\"Fermi energy = %s eV \\n\" % mgo_output.get_fermi_energy())\n",
    "\n",
    "#Primitive lattice\n",
    "print(\"Primitive lattice \\n %s \\n\" % mgo_output.get_primitive_lattice())\n",
    "\n",
    "#Reciprocal lattice\n",
    "print(\"Reciprocal lattice \\n %s \\n\" % mgo_output.get_reciprocal_lattice())\n",
    "\n",
    "#Band gap\n",
    "print(\"Band gap = %s eV \\n\" % mgo_output.get_band_gap())\n",
    "\n",
    "#Last geometry\n",
    "print(\"Last geometry = \\n %s \\n\" % mgo_output.get_last_geom())\n",
    "\n",
    "#Symmetry operators\n",
    "print(\"Symmetry operators = \\n %s \\n\" % mgo_output.get_symm_ops())\n",
    "\n",
    "#Forces\n",
    "print(\"Forces on cell = \\n %s \\n Forces on atoms = \\n %s \\n Gradient = \\n %s \\n\" % (mgo_output.get_forces(grad=True)[0],\n",
    "                                                                                    mgo_output.get_forces(grad=True)[1],\n",
    "                                                                                    mgo_output.grad))\n",
    "#Scf convergence\n",
    "print(\"Total energy = \\n %s \\n Delta energy = \\n %s \\n\" % (mgo_output.get_scf_convergence()[0],\n",
    "                                                           mgo_output.get_scf_convergence()[1]))"
   ]
  },
  {
   "cell_type": "markdown",
   "id": "97ab3742",
   "metadata": {},
   "source": [
    "#### 0D system"
   ]
  },
  {
   "cell_type": "code",
   "execution_count": 9,
   "id": "1cc03b02",
   "metadata": {},
   "outputs": [],
   "source": [
    "co_output = Crystal_output().read_cry_output('data/co.out')"
   ]
  },
  {
   "cell_type": "code",
   "execution_count": 10,
   "id": "7798fb5e",
   "metadata": {},
   "outputs": [
    {
     "name": "stdout",
     "output_type": "stream",
     "text": [
      "Final energy = -3040.063479187389 eV \n",
      "\n",
      "Fermi energy = -7.247933954451301 eV \n",
      "\n",
      "WARNING: no lattice vectors found in the output file. lattice = []\n",
      "Primitive lattice \n",
      " None \n",
      "\n",
      "Reciprocal lattice \n",
      " None \n",
      "\n",
      "Band gap = 10.9012 eV \n",
      "\n",
      "Last geometry = \n",
      " [[[12.0, 0.0, 0.0], [0.0, 12.0, 0.0], [0.0, 0.0, 12.0]], [6, 8], [[-0.06372620712817, -0.03982887945511, -0.03186310356409], [0.8637262071282, 0.5398288794551, 0.4318631035641]]] \n",
      "\n",
      "Symmetry operators = \n",
      " None \n",
      "\n",
      "Forces on cell = \n",
      " [] \n",
      " Forces on atoms = \n",
      " [[-0.48652346 -0.30407721 -0.24326191]\n",
      " [ 0.48652346  0.30407721  0.24326191]] \n",
      " Gradient = \n",
      " ['0.881299', '0.033031', '0.014444', '0.005748', '0.000292', '0.000266'] \n",
      "\n",
      "Total energy = \n",
      " [-3050.41709057 -3037.8127751  -3037.86317042 -3037.87780122\n",
      " -3037.87917172 -3037.87917184 -3037.87917184] \n",
      " Delta energy = \n",
      " [-3.04767526e+03  1.25988718e+01 -5.03410646e-02 -1.46397258e-02\n",
      " -1.37145387e-03 -1.17281075e-07 -7.48313122e-10] \n",
      "\n"
     ]
    }
   ],
   "source": [
    "#Final energy\n",
    "print(\"Final energy = %s eV \\n\" % co_output.get_final_energy())\n",
    "\n",
    "#Fermi energy\n",
    "print(\"Fermi energy = %s eV \\n\" % co_output.get_fermi_energy())\n",
    "\n",
    "#Primitive lattice\n",
    "print(\"Primitive lattice \\n %s \\n\" % co_output.get_primitive_lattice())\n",
    "\n",
    "#Reciprocal lattice\n",
    "print(\"Reciprocal lattice \\n %s \\n\" % co_output.get_reciprocal_lattice())\n",
    "\n",
    "#Band gap\n",
    "print(\"Band gap = %s eV \\n\" % co_output.get_band_gap())\n",
    "\n",
    "#Last geometry\n",
    "print(\"Last geometry = \\n %s \\n\" % co_output.get_last_geom())\n",
    "\n",
    "#Symmetry operators\n",
    "print(\"Symmetry operators = \\n %s \\n\" % co_output.get_symm_ops())\n",
    "\n",
    "#Forces\n",
    "print(\"Forces on cell = \\n %s \\n Forces on atoms = \\n %s \\n Gradient = \\n %s \\n\" % (co_output.get_forces(grad=True)[0],\n",
    "                                                                                    co_output.get_forces(grad=True)[1],\n",
    "                                                                                    co_output.grad))\n",
    "#Scf convergence\n",
    "print(\"Total energy = \\n %s \\n Delta energy = \\n %s \\n\" % (co_output.get_scf_convergence()[0],\n",
    "                                                           co_output.get_scf_convergence()[1]))"
   ]
  },
  {
   "cell_type": "markdown",
   "id": "bb1f72fe",
   "metadata": {},
   "source": [
    "### Properties_output class"
   ]
  },
  {
   "cell_type": "code",
   "execution_count": 11,
   "id": "844eb99c",
   "metadata": {},
   "outputs": [],
   "source": [
    "from CRYSTALpytools.crystal_io import Properties_output"
   ]
  },
  {
   "cell_type": "markdown",
   "id": "31c14b9a",
   "metadata": {},
   "source": [
    "#### Bands"
   ]
  },
  {
   "cell_type": "code",
   "execution_count": 12,
   "id": "7525ccbb",
   "metadata": {},
   "outputs": [
    {
     "data": {
      "text/plain": [
       "<CRYSTALpytools.crystal_io.Properties_output at 0x107b4b8e0>"
      ]
     },
     "execution_count": 12,
     "metadata": {},
     "output_type": "execute_result"
    }
   ],
   "source": [
    "mgo_bands = Properties_output()\n",
    "mgo_bands.read_cry_bands('../examples/data/mgo_BAND_dat.BAND')\n",
    "mgo_bands"
   ]
  },
  {
   "cell_type": "markdown",
   "id": "17e06d40",
   "metadata": {},
   "source": [
    "#### Doss"
   ]
  },
  {
   "cell_type": "code",
   "execution_count": 13,
   "id": "ec69cfae",
   "metadata": {
    "scrolled": true
   },
   "outputs": [
    {
     "data": {
      "text/plain": [
       "<CRYSTALpytools.crystal_io.Properties_output at 0x107b4be50>"
      ]
     },
     "execution_count": 13,
     "metadata": {},
     "output_type": "execute_result"
    }
   ],
   "source": [
    "mgo_doss = Properties_output()\n",
    "mgo_doss = mgo_doss.read_cry_doss('data/mgo_DOSS_dat.DOSS')\n",
    "mgo_doss"
   ]
  },
  {
   "cell_type": "markdown",
   "id": "a42b438f",
   "metadata": {},
   "source": [
    "### write_cry_input function"
   ]
  },
  {
   "cell_type": "code",
   "execution_count": 14,
   "id": "2417bd82",
   "metadata": {},
   "outputs": [],
   "source": [
    "from CRYSTALpytools.crystal_io import Crystal_input"
   ]
  },
  {
   "cell_type": "markdown",
   "id": "cec38561",
   "metadata": {},
   "source": [
    "#### Use existing input file"
   ]
  },
  {
   "cell_type": "code",
   "execution_count": 15,
   "id": "f008e190",
   "metadata": {},
   "outputs": [],
   "source": [
    "#Read the original input\n",
    "mgo_original_input = Crystal_input().from_file('data/mgo.d12')\n",
    "\n",
    "#Write the input\n",
    "new_input_name = 'data/mgo_from_file.d12'\n",
    "mgo_original_input.write_crystal_input(new_input_name)"
   ]
  },
  {
   "cell_type": "markdown",
   "id": "b13a9160",
   "metadata": {},
   "source": [
    "#### Build from blocks"
   ]
  },
  {
   "cell_type": "code",
   "execution_count": 16,
   "id": "c894748b",
   "metadata": {},
   "outputs": [],
   "source": [
    "#Define the blocks\n",
    "geom_block = ['MGO BULK - GEOMETRY TEST\\n',\n",
    " 'CRYSTAL\\n',\n",
    " '0 0 0\\n',\n",
    " '225\\n',\n",
    " '4.217\\n',\n",
    " '2\\n',\n",
    " '12 0.    0.    0.\\n',\n",
    " '8 0.5   0.5   0.5\\n',\n",
    " 'END\\n']\n",
    "bs_block = ['12 4\\n',\n",
    " '0 0 8 2.0 1.0\\n',\n",
    " ' 68370.0 0.0002226\\n',\n",
    " ' 9661.0 0.001901\\n',\n",
    " ' 2041.0 0.011042\\n',\n",
    " ' 529.6 0.05005\\n',\n",
    " ' 159.17 0.1690\\n',\n",
    " ' 54.71 0.36695\\n',\n",
    " ' 21.236 0.4008\\n',\n",
    " ' 8.791 0.1487\\n',\n",
    " '0 1 5 8.0 1.0\\n',\n",
    " ' 143.7 -0.00671 0.00807\\n',\n",
    " ' 31.27 -0.07927 0.06401\\n',\n",
    " ' 9.661 -0.08088 0.2092\\n',\n",
    " ' 3.726 0.2947 0.3460\\n',\n",
    " ' 1.598 0.5714 0.3731\\n',\n",
    " '0 1 1 2.0 1.0\\n',\n",
    " ' 0.688 1.0 1.0\\n',\n",
    " '0 1 1 0.0 1.0\\n',\n",
    " ' 0.28 1.0 1.0\\n',\n",
    " '8 4\\n',\n",
    " '0 0 8 2.0 1.0\\n',\n",
    " ' 8020.0 0.00108\\n',\n",
    " ' 1338.0 0.00804\\n',\n",
    " ' 255.4 0.05324\\n',\n",
    " ' 69.22 0.1681\\n',\n",
    " ' 23.90 0.3581\\n',\n",
    " ' 9.264 0.3855\\n',\n",
    " ' 3.851 0.1468\\n',\n",
    " ' 1.212 0.0728\\n',\n",
    " '0 1 4 6.0 1.0\\n',\n",
    " ' 49.43 -0.00883 0.00958\\n',\n",
    " ' 10.47 -0.0915 0.0696\\n',\n",
    " ' 3.235 -0.0402 0.2065\\n',\n",
    " ' 1.217 0.379 0.347\\n',\n",
    " '0 1 1 0.0 1.0\\n',\n",
    " ' 0.4764 1.0 1.0\\n',\n",
    " '0 1 1 0.0 1.0\\n',\n",
    " ' 0.1802 1.0 1.0\\n',\n",
    " '99 0\\n',\n",
    " 'ENDBS\\n']\n",
    "func_block = ['DFT\\n', 'B3LYP\\n', 'XXLGRID\\n', 'ENDDFT\\n']\n",
    "scf_block = [['TOLINTEG\\n', '7 7 7 7 14\\n'],\n",
    " ['SHRINK\\n', '12 24\\n'],\n",
    " ['MAXCYCLE\\n', '200\\n'],\n",
    " ['FMIXING\\n', '70\\n'],\n",
    " 'DIIS\\n',\n",
    " 'ENDSCF\\n']\n",
    "\n",
    "#Write the input object\n",
    "mgo_from_blocks = Crystal_input().from_blocks(geom_block,bs_block,func_block,scf_block)\n",
    "new_input_name = 'data/mgo_from_blocks.d12'\n",
    "mgo_from_blocks.write_crystal_input(new_input_name)"
   ]
  },
  {
   "cell_type": "code",
   "execution_count": 17,
   "id": "a5e86f39",
   "metadata": {},
   "outputs": [],
   "source": [
    "#Write input for external object (ASE or pymatgen)\n",
    "#Start from original inout \n",
    "mgo_original_input = Crystal_input().from_file('data/mgo.d12')\n",
    "\n",
    "#Generate the external object\n",
    "from pymatgen.core import Structure, Lattice             \n",
    "from pymatgen.symmetry.analyzer import SpacegroupAnalyzer\n",
    "\n",
    "substrate = Structure.from_spacegroup(\"Fm-3m\", Lattice.cubic(4.217), [\"Mg\",\"O\"], [[0, 0, 0],[0.5,0.5,0.5]])\n",
    "substrate_primitive = SpacegroupAnalyzer(substrate).get_primitive_standard_structure() \n",
    "\n",
    "#Write the input\n",
    "new_input_name = 'data/mgo_external_obj.d12'\n",
    "mgo_original_input.write_crystal_input(new_input_name,external_obj=substrate_primitive)"
   ]
  },
  {
   "cell_type": "markdown",
   "id": "ac37f16d",
   "metadata": {},
   "source": [
    "### write_cry_properties function"
   ]
  },
  {
   "cell_type": "markdown",
   "id": "1c9d3903",
   "metadata": {},
   "source": [
    "#### bands from k points coordinates"
   ]
  },
  {
   "cell_type": "code",
   "execution_count": 18,
   "id": "1aa05d78",
   "metadata": {},
   "outputs": [],
   "source": [
    "from CRYSTALpytools.crystal_io import Properties_input\n",
    "\n",
    "#Create the bands input object\n",
    "bands_input = Properties_input()\n",
    "#Add the newk block to the input object\n",
    "bands_input.make_newk_block(12,24)\n",
    "\n",
    "#Prepare the band_block\n",
    "k_path = [[0,0,0],[0.5,0,0],[0.5,0.5,0.5],[0.25,0,0.5]]\n",
    "n_kpoints = 200\n",
    "first_band = 1\n",
    "last_band = 26\n",
    "bands_input.make_bands_block(k_path,n_kpoints,first_band,last_band)\n",
    "\n",
    "#Write the input\n",
    "bands_input.write_properties_input('data/bands_input_1.d3')"
   ]
  },
  {
   "cell_type": "code",
   "execution_count": 19,
   "id": "22d53374",
   "metadata": {},
   "outputs": [
    {
     "data": {
      "text/plain": [
       "['BAND\\n',\n",
       " 'BAND STRUCTURE CALCULATION\\n',\n",
       " '3 4 200 1 26 1 0\\n',\n",
       " '0 0 0  2 0 0\\n',\n",
       " '2 0 0  2 2 2\\n',\n",
       " '2 2 2  1 0 2\\n',\n",
       " 'END\\n']"
      ]
     },
     "execution_count": 19,
     "metadata": {},
     "output_type": "execute_result"
    }
   ],
   "source": [
    "bands_input.property_block"
   ]
  },
  {
   "cell_type": "markdown",
   "id": "b74efb1e",
   "metadata": {},
   "source": [
    "#### bands from pymatgen HighSymmKpath object"
   ]
  },
  {
   "cell_type": "code",
   "execution_count": 20,
   "id": "9698e3ba",
   "metadata": {},
   "outputs": [],
   "source": [
    "from pymatgen.symmetry.bandstructure import HighSymmKpath\n",
    "from pymatgen.symmetry.analyzer import SpacegroupAnalyzer\n",
    "\n",
    "from CRYSTALpytools.crystal_io import Crystal_output\n",
    "from CRYSTALpytools.crystal_io import Properties_input\n",
    "from CRYSTALpytools.convert import cry_out2pmg\n",
    "\n",
    "\n",
    "#Create the bands input object\n",
    "bands_input = Properties_input()\n",
    "#Add the newk block to the input object\n",
    "bands_input.make_newk_block(12,24)\n",
    "\n",
    "#Read the structure\n",
    "mgo = Crystal_output().read_cry_output('data/mgo.out')\n",
    "mgo = cry_out2pmg(mgo)\n",
    "mgo_prim = SpacegroupAnalyzer(mgo).get_primitive_standard_structure(international_monoclinic=False)\n",
    "\n",
    "#Obtain the k path object\n",
    "k_path = HighSymmKpath(mgo_prim)\n",
    "\n",
    "n_kpoints = 200\n",
    "first_band = 1\n",
    "last_band = 26\n",
    "bands_input.make_bands_block(k_path,n_kpoints,first_band,last_band)\n",
    "\n",
    "#Write the input\n",
    "bands_input.write_properties_input('data/bands_input_2.d3')"
   ]
  },
  {
   "cell_type": "code",
   "execution_count": 21,
   "id": "90cba974",
   "metadata": {},
   "outputs": [
    {
     "data": {
      "text/plain": [
       "['BAND\\n',\n",
       " 'BAND STRUCTURE CALCULATION\\n',\n",
       " '11 8 200 1 26 1 0\\n',\n",
       " '0 0 0  4 0 4\\n',\n",
       " '4 0 4  4 2 5\\n',\n",
       " '4 2 5  2 2 5\\n',\n",
       " '2 2 5  0 0 0\\n',\n",
       " '0 0 0  4 4 4\\n',\n",
       " '4 4 4  5 2 5\\n',\n",
       " '5 2 5  4 2 5\\n',\n",
       " '4 2 5  4 4 4\\n',\n",
       " '4 4 4  2 2 5\\n',\n",
       " '2 2 5  5 2 5\\n',\n",
       " '5 2 5  4 0 4\\n',\n",
       " 'END\\n']"
      ]
     },
     "execution_count": 21,
     "metadata": {},
     "output_type": "execute_result"
    }
   ],
   "source": [
    "bands_input.property_block"
   ]
  },
  {
   "cell_type": "markdown",
   "id": "1b252258",
   "metadata": {},
   "source": [
    "#### doss"
   ]
  },
  {
   "cell_type": "code",
   "execution_count": 23,
   "id": "1ce65af5",
   "metadata": {},
   "outputs": [],
   "source": [
    "from CRYSTALpytools.crystal_io import Properties_input\n",
    "\n",
    "#Create the doss input object\n",
    "doss_input = Properties_input()\n",
    "#Add the newk block to the input object\n",
    "doss_input.make_newk_block(12,24)\n",
    "\n",
    "#Prepare the doss_block\n",
    "\n",
    "doss_input.make_doss_block(n_points=200,e_range=[-5,15],plotting_option=2,poly=12,print_option=1)\n",
    "\n",
    "#Write the input\n",
    "doss_input.write_properties_input('data/doss_input.d3')"
   ]
  },
  {
   "cell_type": "code",
   "execution_count": 24,
   "id": "933b281c",
   "metadata": {},
   "outputs": [
    {
     "name": "stdout",
     "output_type": "stream",
     "text": [
      "NEWK\n",
      "12 24\n",
      "1 0\n",
      "DOSS\n",
      "0 200 -1 -1 2 12 1\n",
      "-0.18374661087827499 0.551239832634825\n",
      "END\n"
     ]
    }
   ],
   "source": [
    "!cat data/doss_input.d3"
   ]
  },
  {
   "cell_type": "markdown",
   "id": "503866da",
   "metadata": {},
   "source": [
    "#### pdoss (atoms)"
   ]
  },
  {
   "cell_type": "code",
   "execution_count": 25,
   "id": "62c51e8e",
   "metadata": {},
   "outputs": [],
   "source": [
    "from CRYSTALpytools.crystal_io import Properties_input\n",
    "\n",
    "#Create the doss input object\n",
    "pdoss_input = Properties_input()\n",
    "#Add the newk block to the input object\n",
    "pdoss_input.make_newk_block(12,24)\n",
    "\n",
    "#Prepare the pdoss_block\n",
    "projections = [[1],[2]]\n",
    "pdoss_input.make_pdoss_block(projections,proj_type='atom',n_points=200,band_range=[1,26],\n",
    "                       plotting_option=2,poly=12,print_option=1)\n",
    "\n",
    "#Write the input\n",
    "pdoss_input.write_properties_input('data/pdoss_input.d3')"
   ]
  },
  {
   "cell_type": "code",
   "execution_count": 26,
   "id": "42fd2517",
   "metadata": {},
   "outputs": [
    {
     "name": "stdout",
     "output_type": "stream",
     "text": [
      "NEWK\n",
      "12 24\n",
      "1 0\n",
      "DOSS\n",
      "2 200 1 26 2 12 1\n",
      "-1 1\n",
      "-1 2\n",
      "END\n"
     ]
    }
   ],
   "source": [
    "!cat data/pdoss_input.d3"
   ]
  },
  {
   "cell_type": "markdown",
   "id": "30fa6e6e",
   "metadata": {},
   "source": [
    "#### pdoss (ao)"
   ]
  },
  {
   "cell_type": "code",
   "execution_count": 27,
   "id": "89f9c099",
   "metadata": {},
   "outputs": [],
   "source": [
    "from CRYSTALpytools.crystal_io import Properties_input\n",
    "\n",
    "#Create the doss input object\n",
    "pdoss_input = Properties_input()\n",
    "#Add the newk block to the input object\n",
    "pdoss_input.make_newk_block(12,24)\n",
    "\n",
    "#Prepare the pdoss_block\n",
    "projections = [[1, 2, 3, 4, 5, 6, 7, 8, 9, 10, 11, 12, 13],\n",
    "              [14, 15, 16, 17, 18, 19, 20, 21, 22, 23, 24, 25, 26]]\n",
    "pdoss_input.make_pdoss_block(projections,proj_type='ao',n_points=200,band_range=[1,26],\n",
    "                       plotting_option=2,poly=12,print_option=1)\n",
    "\n",
    "#Write the input\n",
    "pdoss_input.write_properties_input('data/pdoss_input_ao.d3')"
   ]
  },
  {
   "cell_type": "code",
   "execution_count": 28,
   "id": "4cbf8ebd",
   "metadata": {},
   "outputs": [
    {
     "name": "stdout",
     "output_type": "stream",
     "text": [
      "NEWK\n",
      "12 24\n",
      "1 0\n",
      "DOSS\n",
      "2 200 1 26 2 12 1\n",
      "13 1 2 3 4 5 6 7 8 9 10 11 12 13\n",
      "13 14 15 16 17 18 19 20 21 22 23 24 25 26\n",
      "END\n"
     ]
    }
   ],
   "source": [
    "!cat data/pdoss_input_ao.d3"
   ]
  },
  {
   "cell_type": "markdown",
   "id": "8666bd36",
   "metadata": {},
   "source": [
    "### write_cry_gui function"
   ]
  },
  {
   "cell_type": "markdown",
   "id": "0b70b5b3",
   "metadata": {},
   "source": [
    "#### from pymatgen structure"
   ]
  },
  {
   "cell_type": "markdown",
   "id": "176df04b",
   "metadata": {},
   "source": [
    "#### bulk (3D)"
   ]
  },
  {
   "cell_type": "code",
   "execution_count": 29,
   "id": "36f7ffd0",
   "metadata": {},
   "outputs": [],
   "source": [
    "from CRYSTALpytools.crystal_io import Crystal_gui\n",
    "from CRYSTALpytools.convert import cry_pmg2gui\n",
    "\n",
    "from pymatgen.core import Structure, Lattice\n",
    "\n",
    "#Generate bulk structure\n",
    "substrate = Structure.from_spacegroup(\"Fm-3m\", Lattice.cubic(4.217), [\"Mg\",'O'], [[0, 0, 0],[0.5,0.5,0.5]])\n",
    "\n",
    "#The dimensionality parameter is optional. The function will recognise it is a pymatgen bulk object\n",
    "#Create the gui object by converting the pymatgen structure\n",
    "mgo_gui = cry_pmg2gui(substrate,dimensionality=2)\n",
    "\n",
    "mgo_gui.write_crystal_gui('data/mgo_write_gui.gui')"
   ]
  },
  {
   "cell_type": "code",
   "execution_count": 30,
   "id": "e6bae971",
   "metadata": {},
   "outputs": [
    {
     "name": "stdout",
     "output_type": "stream",
     "text": [
      "2   1   1\n",
      "4.217000000000E+00 0.000000000000E+00 0.000000000000E+00\n",
      "0.000000000000E+00 4.217000000000E+00 0.000000000000E+00\n",
      "0.000000000000E+00 0.000000000000E+00 5.000000000000E+02\n",
      "32\n",
      "1.000000000000E+00 0.000000000000E+00 0.000000000000E+00\n",
      "0.000000000000E+00 1.000000000000E+00 0.000000000000E+00\n",
      "0.000000000000E+00 0.000000000000E+00 1.000000000000E+00\n",
      "0.000000000000E+00 0.000000000000E+00 0.000000000000E+00\n",
      "0.000000000000E+00 -1.000000000000E+00 0.000000000000E+00\n",
      "1.000000000000E+00 0.000000000000E+00 0.000000000000E+00\n",
      "0.000000000000E+00 0.000000000000E+00 1.000000000000E+00\n",
      "0.000000000000E+00 0.000000000000E+00 0.000000000000E+00\n",
      "-1.000000000000E+00 0.000000000000E+00 0.000000000000E+00\n",
      "0.000000000000E+00 -1.000000000000E+00 0.000000000000E+00\n",
      "0.000000000000E+00 0.000000000000E+00 1.000000000000E+00\n",
      "0.000000000000E+00 0.000000000000E+00 0.000000000000E+00\n",
      "0.000000000000E+00 1.000000000000E+00 0.000000000000E+00\n",
      "-1.000000000000E+00 0.000000000000E+00 0.000000000000E+00\n",
      "0.000000000000E+00 0.000000000000E+00 1.000000000000E+00\n",
      "0.000000000000E+00 0.000000000000E+00 0.000000000000E+00\n",
      "-1.000000000000E+00 0.000000000000E+00 0.000000000000E+00\n",
      "0.000000000000E+00 1.000000000000E+00 0.000000000000E+00\n",
      "0.000000000000E+00 0.000000000000E+00 1.000000000000E+00\n",
      "0.000000000000E+00 0.000000000000E+00 0.000000000000E+00\n",
      "0.000000000000E+00 1.000000000000E+00 0.000000000000E+00\n",
      "1.000000000000E+00 0.000000000000E+00 0.000000000000E+00\n",
      "0.000000000000E+00 0.000000000000E+00 1.000000000000E+00\n",
      "0.000000000000E+00 0.000000000000E+00 0.000000000000E+00\n",
      "1.000000000000E+00 0.000000000000E+00 0.000000000000E+00\n",
      "0.000000000000E+00 -1.000000000000E+00 0.000000000000E+00\n",
      "0.000000000000E+00 0.000000000000E+00 1.000000000000E+00\n",
      "0.000000000000E+00 0.000000000000E+00 0.000000000000E+00\n",
      "0.000000000000E+00 -1.000000000000E+00 0.000000000000E+00\n",
      "-1.000000000000E+00 0.000000000000E+00 0.000000000000E+00\n",
      "0.000000000000E+00 0.000000000000E+00 1.000000000000E+00\n",
      "0.000000000000E+00 0.000000000000E+00 0.000000000000E+00\n",
      "-1.000000000000E+00 0.000000000000E+00 0.000000000000E+00\n",
      "0.000000000000E+00 -1.000000000000E+00 0.000000000000E+00\n",
      "0.000000000000E+00 0.000000000000E+00 -1.000000000000E+00\n",
      "0.000000000000E+00 2.108500000000E+00 0.000000000000E+00\n",
      "0.000000000000E+00 1.000000000000E+00 0.000000000000E+00\n",
      "-1.000000000000E+00 0.000000000000E+00 0.000000000000E+00\n",
      "0.000000000000E+00 0.000000000000E+00 -1.000000000000E+00\n",
      "0.000000000000E+00 2.108500000000E+00 0.000000000000E+00\n",
      "1.000000000000E+00 0.000000000000E+00 0.000000000000E+00\n",
      "0.000000000000E+00 1.000000000000E+00 0.000000000000E+00\n",
      "0.000000000000E+00 0.000000000000E+00 -1.000000000000E+00\n",
      "0.000000000000E+00 2.108500000000E+00 0.000000000000E+00\n",
      "0.000000000000E+00 -1.000000000000E+00 0.000000000000E+00\n",
      "1.000000000000E+00 0.000000000000E+00 0.000000000000E+00\n",
      "0.000000000000E+00 0.000000000000E+00 -1.000000000000E+00\n",
      "0.000000000000E+00 2.108500000000E+00 0.000000000000E+00\n",
      "1.000000000000E+00 0.000000000000E+00 0.000000000000E+00\n",
      "0.000000000000E+00 -1.000000000000E+00 0.000000000000E+00\n",
      "0.000000000000E+00 0.000000000000E+00 -1.000000000000E+00\n",
      "0.000000000000E+00 2.108500000000E+00 0.000000000000E+00\n",
      "0.000000000000E+00 -1.000000000000E+00 0.000000000000E+00\n",
      "-1.000000000000E+00 0.000000000000E+00 0.000000000000E+00\n",
      "0.000000000000E+00 0.000000000000E+00 -1.000000000000E+00\n",
      "0.000000000000E+00 2.108500000000E+00 0.000000000000E+00\n",
      "-1.000000000000E+00 0.000000000000E+00 0.000000000000E+00\n",
      "0.000000000000E+00 1.000000000000E+00 0.000000000000E+00\n",
      "0.000000000000E+00 0.000000000000E+00 -1.000000000000E+00\n",
      "0.000000000000E+00 2.108500000000E+00 0.000000000000E+00\n",
      "0.000000000000E+00 1.000000000000E+00 0.000000000000E+00\n",
      "1.000000000000E+00 0.000000000000E+00 0.000000000000E+00\n",
      "0.000000000000E+00 0.000000000000E+00 -1.000000000000E+00\n",
      "0.000000000000E+00 2.108500000000E+00 0.000000000000E+00\n",
      "-1.000000000000E+00 0.000000000000E+00 0.000000000000E+00\n",
      "0.000000000000E+00 -1.000000000000E+00 0.000000000000E+00\n",
      "0.000000000000E+00 0.000000000000E+00 -1.000000000000E+00\n",
      "2.108500000000E+00 0.000000000000E+00 0.000000000000E+00\n",
      "0.000000000000E+00 1.000000000000E+00 0.000000000000E+00\n",
      "-1.000000000000E+00 0.000000000000E+00 0.000000000000E+00\n",
      "0.000000000000E+00 0.000000000000E+00 -1.000000000000E+00\n",
      "2.108500000000E+00 0.000000000000E+00 0.000000000000E+00\n",
      "1.000000000000E+00 0.000000000000E+00 0.000000000000E+00\n",
      "0.000000000000E+00 1.000000000000E+00 0.000000000000E+00\n",
      "0.000000000000E+00 0.000000000000E+00 -1.000000000000E+00\n",
      "2.108500000000E+00 0.000000000000E+00 0.000000000000E+00\n",
      "0.000000000000E+00 -1.000000000000E+00 0.000000000000E+00\n",
      "1.000000000000E+00 0.000000000000E+00 0.000000000000E+00\n",
      "0.000000000000E+00 0.000000000000E+00 -1.000000000000E+00\n",
      "2.108500000000E+00 0.000000000000E+00 0.000000000000E+00\n",
      "1.000000000000E+00 0.000000000000E+00 0.000000000000E+00\n",
      "0.000000000000E+00 -1.000000000000E+00 0.000000000000E+00\n",
      "0.000000000000E+00 0.000000000000E+00 -1.000000000000E+00\n",
      "2.108500000000E+00 0.000000000000E+00 0.000000000000E+00\n",
      "0.000000000000E+00 -1.000000000000E+00 0.000000000000E+00\n",
      "-1.000000000000E+00 0.000000000000E+00 0.000000000000E+00\n",
      "0.000000000000E+00 0.000000000000E+00 -1.000000000000E+00\n",
      "2.108500000000E+00 0.000000000000E+00 0.000000000000E+00\n",
      "-1.000000000000E+00 0.000000000000E+00 0.000000000000E+00\n",
      "0.000000000000E+00 1.000000000000E+00 0.000000000000E+00\n",
      "0.000000000000E+00 0.000000000000E+00 -1.000000000000E+00\n",
      "2.108500000000E+00 0.000000000000E+00 0.000000000000E+00\n",
      "0.000000000000E+00 1.000000000000E+00 0.000000000000E+00\n",
      "1.000000000000E+00 0.000000000000E+00 0.000000000000E+00\n",
      "0.000000000000E+00 0.000000000000E+00 -1.000000000000E+00\n",
      "2.108500000000E+00 0.000000000000E+00 0.000000000000E+00\n",
      "1.000000000000E+00 0.000000000000E+00 0.000000000000E+00\n",
      "0.000000000000E+00 1.000000000000E+00 0.000000000000E+00\n",
      "0.000000000000E+00 0.000000000000E+00 1.000000000000E+00\n",
      "2.108500000000E+00 2.108500000000E+00 0.000000000000E+00\n",
      "0.000000000000E+00 -1.000000000000E+00 0.000000000000E+00\n",
      "1.000000000000E+00 0.000000000000E+00 0.000000000000E+00\n",
      "0.000000000000E+00 0.000000000000E+00 1.000000000000E+00\n",
      "2.108500000000E+00 2.108500000000E+00 0.000000000000E+00\n",
      "-1.000000000000E+00 0.000000000000E+00 0.000000000000E+00\n",
      "0.000000000000E+00 -1.000000000000E+00 0.000000000000E+00\n",
      "0.000000000000E+00 0.000000000000E+00 1.000000000000E+00\n",
      "2.108500000000E+00 2.108500000000E+00 0.000000000000E+00\n",
      "0.000000000000E+00 1.000000000000E+00 0.000000000000E+00\n",
      "-1.000000000000E+00 0.000000000000E+00 0.000000000000E+00\n",
      "0.000000000000E+00 0.000000000000E+00 1.000000000000E+00\n",
      "2.108500000000E+00 2.108500000000E+00 0.000000000000E+00\n",
      "-1.000000000000E+00 0.000000000000E+00 0.000000000000E+00\n",
      "0.000000000000E+00 1.000000000000E+00 0.000000000000E+00\n",
      "0.000000000000E+00 0.000000000000E+00 1.000000000000E+00\n",
      "2.108500000000E+00 2.108500000000E+00 0.000000000000E+00\n",
      "0.000000000000E+00 1.000000000000E+00 0.000000000000E+00\n",
      "1.000000000000E+00 0.000000000000E+00 0.000000000000E+00\n",
      "0.000000000000E+00 0.000000000000E+00 1.000000000000E+00\n",
      "2.108500000000E+00 2.108500000000E+00 0.000000000000E+00\n",
      "1.000000000000E+00 0.000000000000E+00 0.000000000000E+00\n",
      "0.000000000000E+00 -1.000000000000E+00 0.000000000000E+00\n",
      "0.000000000000E+00 0.000000000000E+00 1.000000000000E+00\n",
      "2.108500000000E+00 2.108500000000E+00 0.000000000000E+00\n",
      "0.000000000000E+00 -1.000000000000E+00 0.000000000000E+00\n",
      "-1.000000000000E+00 0.000000000000E+00 0.000000000000E+00\n",
      "0.000000000000E+00 0.000000000000E+00 1.000000000000E+00\n",
      "2.108500000000E+00 2.108500000000E+00 0.000000000000E+00\n",
      "8\n",
      "12 0.000000000000E+00 0.000000000000E+00 -1.054250000000E+00\n",
      "12 2.108500000000E+00 2.108500000000E+00 -1.054250000000E+00\n",
      "12 2.108500000000E+00 0.000000000000E+00 1.054250000000E+00\n",
      "12 0.000000000000E+00 2.108500000000E+00 1.054250000000E+00\n",
      "8 2.108500000000E+00 2.108500000000E+00 1.054250000000E+00\n",
      "8 0.000000000000E+00 0.000000000000E+00 1.054250000000E+00\n",
      "8 0.000000000000E+00 2.108500000000E+00 -1.054250000000E+00\n",
      "8 2.108500000000E+00 0.000000000000E+00 -1.054250000000E+00\n",
      "225 32"
     ]
    }
   ],
   "source": [
    "! cat data/mgo_write_gui.gui"
   ]
  },
  {
   "cell_type": "markdown",
   "id": "1133ed57",
   "metadata": {},
   "source": [
    "#### slab (2D)"
   ]
  },
  {
   "cell_type": "code",
   "execution_count": 31,
   "id": "502ec530",
   "metadata": {},
   "outputs": [],
   "source": [
    "from pymatgen.core import Structure, Lattice\n",
    "from pymatgen.core.surface import SlabGenerator\n",
    "\n",
    "#Generate bulk structure\n",
    "substrate = Structure.from_spacegroup(\"Fm-3m\", Lattice.cubic(4.217), [\"Mg\",'O'], [[0, 0, 0],[0.5,0.5,0.5]])\n",
    "#Generate slab\n",
    "substrate = SlabGenerator(substrate, (1,0,0), 5., 10., center_slab=True).get_slab()\n",
    "\n",
    "#The dimensionality parameter is optional. \n",
    "mgo_slab_gui = cry_pmg2gui(substrate, dimensionality=2)\n",
    "\n",
    "mgo_slab_gui.write_crystal_gui('data/mgo_100_write_gui.gui',mgo_slab_gui)"
   ]
  },
  {
   "cell_type": "code",
   "execution_count": 32,
   "id": "dc48a185",
   "metadata": {},
   "outputs": [
    {
     "name": "stdout",
     "output_type": "stream",
     "text": [
      "2   1   1\n",
      "2.981869296264E+00 0.000000000000E+00 0.000000000000E+00\n",
      "-0.000000000000E+00 2.981869296264E+00 0.000000000000E+00\n",
      "0.000000000000E+00 0.000000000000E+00 5.000000000000E+02\n",
      "8\n",
      "1.000000000000E+00 -0.000000000000E+00 0.000000000000E+00\n",
      "0.000000000000E+00 1.000000000000E+00 0.000000000000E+00\n",
      "0.000000000000E+00 0.000000000000E+00 1.000000000000E+00\n",
      "0.000000000000E+00 0.000000000000E+00 0.000000000000E+00\n",
      "-0.000000000000E+00 -1.000000000000E+00 0.000000000000E+00\n",
      "1.000000000000E+00 0.000000000000E+00 0.000000000000E+00\n",
      "0.000000000000E+00 -0.000000000000E+00 1.000000000000E+00\n",
      "0.000000000000E+00 0.000000000000E+00 0.000000000000E+00\n",
      "-1.000000000000E+00 0.000000000000E+00 0.000000000000E+00\n",
      "0.000000000000E+00 -1.000000000000E+00 0.000000000000E+00\n",
      "-0.000000000000E+00 -0.000000000000E+00 1.000000000000E+00\n",
      "0.000000000000E+00 0.000000000000E+00 0.000000000000E+00\n",
      "0.000000000000E+00 1.000000000000E+00 0.000000000000E+00\n",
      "-1.000000000000E+00 -0.000000000000E+00 0.000000000000E+00\n",
      "-0.000000000000E+00 0.000000000000E+00 1.000000000000E+00\n",
      "0.000000000000E+00 0.000000000000E+00 0.000000000000E+00\n",
      "-1.000000000000E+00 -0.000000000000E+00 0.000000000000E+00\n",
      "0.000000000000E+00 1.000000000000E+00 0.000000000000E+00\n",
      "-0.000000000000E+00 -0.000000000000E+00 1.000000000000E+00\n",
      "0.000000000000E+00 0.000000000000E+00 0.000000000000E+00\n",
      "-0.000000000000E+00 1.000000000000E+00 0.000000000000E+00\n",
      "1.000000000000E+00 0.000000000000E+00 0.000000000000E+00\n",
      "0.000000000000E+00 0.000000000000E+00 1.000000000000E+00\n",
      "0.000000000000E+00 0.000000000000E+00 0.000000000000E+00\n",
      "1.000000000000E+00 0.000000000000E+00 0.000000000000E+00\n",
      "0.000000000000E+00 -1.000000000000E+00 0.000000000000E+00\n",
      "0.000000000000E+00 -0.000000000000E+00 1.000000000000E+00\n",
      "0.000000000000E+00 0.000000000000E+00 0.000000000000E+00\n",
      "0.000000000000E+00 -1.000000000000E+00 0.000000000000E+00\n",
      "-1.000000000000E+00 -0.000000000000E+00 0.000000000000E+00\n",
      "-0.000000000000E+00 -0.000000000000E+00 1.000000000000E+00\n",
      "0.000000000000E+00 0.000000000000E+00 0.000000000000E+00\n",
      "8\n",
      "12 0.000000000000E+00 0.000000000000E+00 3.162750000000E+00\n",
      "12 1.490934648132E+00 1.490934648132E+00 1.054250000000E+00\n",
      "12 0.000000000000E+00 0.000000000000E+00 -1.054250000000E+00\n",
      "12 1.490934648132E+00 1.490934648132E+00 -3.162750000000E+00\n",
      "8 0.000000000000E+00 0.000000000000E+00 1.054250000000E+00\n",
      "8 1.490934648132E+00 1.490934648132E+00 3.162750000000E+00\n",
      "8 0.000000000000E+00 0.000000000000E+00 -3.162750000000E+00\n",
      "8 1.490934648132E+00 1.490934648132E+00 -1.054250000000E+00\n",
      "1 1"
     ]
    }
   ],
   "source": [
    "! cat data/mgo_100_write_gui.gui"
   ]
  }
 ],
 "metadata": {
  "kernelspec": {
   "display_name": "Python 3 (ipykernel)",
   "language": "python",
   "name": "python3"
  },
  "language_info": {
   "codemirror_mode": {
    "name": "ipython",
    "version": 3
   },
   "file_extension": ".py",
   "mimetype": "text/x-python",
   "name": "python",
   "nbconvert_exporter": "python",
   "pygments_lexer": "ipython3",
   "version": "3.9.16"
  }
 },
 "nbformat": 4,
 "nbformat_minor": 5
}
