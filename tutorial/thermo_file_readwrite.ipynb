{
 "cells": [
  {
   "cell_type": "markdown",
   "id": "85bb3049",
   "metadata": {},
   "source": [
    "# Basic I/O of DFPT\n",
    "The density functional perturbation theory (DFPT) specific methods and attributes are available in 'crystal_io.py' since July 2022.\n",
    "\n",
    "**Classes used in this tutorial are defined in 'CRYSTALpy.crystal_io'. Documentations and source codes are attached at the bottom of this page.**"
   ]
  },
  {
   "cell_type": "markdown",
   "id": "2573d3d0",
   "metadata": {},
   "source": [
    "## Tests\n",
    "\n",
    "4 tests are performed. The first one is for $\\Gamma$ point frequencies. The second one is for dispersion calculations. The third one has negative frequencies, in order to examine the method `clean_imaginary`. The last one is to illustrate the general applicability of this module to QHA outputs.\n",
    "\n",
    "1. Form I paracetamol, 'freqf1-r0.out', $\\Gamma$ point HA frequencies, with occasional warning messages. nqpoint = 1, nmode = 240, natom = 80.  \n",
    "2. A graphene primitive cell, 'nostr-modes.out', phonon dispersion calculated along the $\\Gamma-K-M$ path. nqpoint = 123, nmode = 6, natom = 2.  \n",
    "3. Form II paracetamol, 'f2p2q-r1.out', $\\Gamma$ point HA frequencies, with imaginary modes. nqpoint = 1, nmode = 480, natom = 160.  \n",
    "4. Corundum, 'corundum.out', available on [crystal tutorial website](https://tutorials.crystalsolutions.eu/tutorials/Tutorial_QHA/AL2O3_SC30_QHA.out). Used to illustrate the structure of data when reading outputs by the QHA module of CRYSTAL. "
   ]
  },
  {
   "cell_type": "markdown",
   "id": "c7d8d4e0",
   "metadata": {},
   "source": [
    "### Get energy, qpoints and frequencies at each qpoint\n",
    "\n",
    "nqpoint = 1, nmode = 240 for paracetamol case, nqpoint = 123, nmode = 3 for graphene case. In both cases, nqpoint should be an integer and nmode should be a numpy array."
   ]
  },
  {
   "cell_type": "code",
   "execution_count": 1,
   "id": "f458c8f9",
   "metadata": {
    "scrolled": true
   },
   "outputs": [
    {
     "name": "stdout",
     "output_type": "stream",
     "text": [
      "Paracetamol EDFT: -5402457.523570631\n",
      "Paracetamol qpoint: 1 [[0. 0. 0.]]\n",
      "Paracetamol modes: 1 [240]\n"
     ]
    }
   ],
   "source": [
    "from CRYSTALpy.crystal_io import Crystal_output\n",
    "\n",
    "paracetamol = Crystal_output()\n",
    "paracetamol.read_cry_output('data/freqf1-r0.out')\n",
    "paracetamol.get_mode()\n",
    "print('Paracetamol EDFT:', paracetamol.edft[0])\n",
    "print('Paracetamol qpoint:', paracetamol.nqpoint, paracetamol.qpoint)\n",
    "print('Paracetamol modes:', len(paracetamol.nmode), paracetamol.nmode)"
   ]
  },
  {
   "cell_type": "code",
   "execution_count": 2,
   "id": "5cf3f4ec",
   "metadata": {},
   "outputs": [
    {
     "name": "stdout",
     "output_type": "stream",
     "text": [
      "Graphene EDFT: -28768041.661716238\n",
      "Graphene qpoints: 123\n",
      "Graphene modes: 123 [6 6 6 6 6 6 6 6 6 6 6 6 6 6 6 6 6 6 6 6 6 6 6 6 6 6 6 6 6 6 6 6 6 6 6 6 6\n",
      " 6 6 6 6 6 6 6 6 6 6 6 6 6 6 6 6 6 6 6 6 6 6 6 6 6 6 6 6 6 6 6 6 6 6 6 6 6\n",
      " 6 6 6 6 6 6 6 6 6 6 6 6 6 6 6 6 6 6 6 6 6 6 6 6 6 6 6 6 6 6 6 6 6 6 6 6 6\n",
      " 6 6 6 6 6 6 6 6 6 6 6 6]\n"
     ]
    }
   ],
   "source": [
    "graphene = Crystal_output()\n",
    "graphene.read_cry_output('data/nostr_modes.out')\n",
    "graphene.get_mode()\n",
    "print('Graphene EDFT:', graphene.edft[0])\n",
    "print('Graphene qpoints:', graphene.nqpoint)\n",
    "print('Graphene modes:', len(graphene.nmode), graphene.nmode)"
   ]
  },
  {
   "cell_type": "markdown",
   "id": "16550ab4",
   "metadata": {},
   "source": [
    "### Get eigenvectors\n",
    "Self.eigenvector should be a 1 (nqpoint) * 240 (nmode) * 80 (natom) * 3 (xyz) numpy array for paracetamol case. A 123 * 6 * 2 * 3 array for graphene case."
   ]
  },
  {
   "cell_type": "markdown",
   "id": "8ad0ac5d",
   "metadata": {},
   "source": [
    "Example: Find the qpoint coordinate, frequency and eigenvectors of all atoms in the graphene primitive cell, with a given qpoint (75) and vibrational mode (3rd)"
   ]
  },
  {
   "cell_type": "code",
   "execution_count": 3,
   "id": "d88c6de7",
   "metadata": {},
   "outputs": [
    {
     "name": "stdout",
     "output_type": "stream",
     "text": [
      "Paracetamol\n",
      "nqpoint= 1 nmode= 240 natom= 80 first eigenvector= [ 0.11126206  0.         -0.01098885]\n",
      "Graphene\n",
      "nqpoint= 123 nmode= 6 natom= 2 first eigenvector= [ 0.         -0.          0.70710678]\n"
     ]
    }
   ],
   "source": [
    "paracetamol.get_eigenvector()\n",
    "\n",
    "print('Paracetamol')\n",
    "print('nqpoint=', len(paracetamol.eigenvector),\n",
    "      'nmode=', len(paracetamol.eigenvector[0]),\n",
    "      'natom=', len(paracetamol.eigenvector[0, 0]),\n",
    "      'first eigenvector=', paracetamol.eigenvector[0, 0, 0])\n",
    "\n",
    "lattice = graphene.get_eigenvector()\n",
    "print('Graphene')\n",
    "print('nqpoint=', len(graphene.eigenvector),\n",
    "      'nmode=', len(graphene.eigenvector[0]),\n",
    "      'natom=', len(graphene.eigenvector[0, 0]),\n",
    "      'first eigenvector=', graphene.eigenvector[0, 0, 0])\n"
   ]
  },
  {
   "cell_type": "code",
   "execution_count": 4,
   "id": "f03b4019",
   "metadata": {},
   "outputs": [
    {
     "name": "stdout",
     "output_type": "stream",
     "text": [
      "Wavevector coordinates: [0.47083333 0.05833333 0.        ]\n",
      "Frequency: 19.8656\n",
      "Eigenvectors: [[ 3.49519213e-04  7.13019194e-01 -3.49519213e-04]\n",
      " [-3.49519213e-03  7.01135541e-01  3.49519213e-04]]\n"
     ]
    }
   ],
   "source": [
    "print('Wavevector coordinates:', graphene.qpoint[74])\n",
    "print('Frequency:', graphene.frequency[74, 2])\n",
    "print('Eigenvectors:', graphene.eigenvector[74, 2])"
   ]
  },
  {
   "cell_type": "markdown",
   "id": "34c672b6",
   "metadata": {},
   "source": [
    "Compare with the crystal output file:\n",
    "\n",
    "At the start point of $K-M$ path:  \n",
    "```\n",
    " *******************************************************************************\n",
    "\n",
    "  PHONONS ALONG PATH:   2 NUMBER OF K POINTS:   41\n",
    "\n",
    "  FROM K  (   2   2   0 ) TO K  (   3   0   0 ) WITH DENOMINATOR    6\n",
    "\n",
    "  THE POSITION OF THE POINTS IS EXPRESSED IN UNITS        OF DENOMINATOR  240\n",
    "\n",
    " *******************************************************************************\n",
    "```\n",
    " \n",
    " At the 75th qpoint:  \n",
    "```\n",
    " DISPERSION K POINT NUMBER    75 COORD:  C( 113  14   0 )    WEIGHT:    1.\n",
    "\n",
    "    MODES         EIGV          FREQUENCIES     IRREP\n",
    "             (HARTREE**2)   (CM**-1)     (THZ)\n",
    "    1-   1    0.4928E-05    487.1942   14.6057  (  1)\n",
    "    2-   2    0.8383E-05    635.4696   19.0509  (  1)\n",
    "    3-   3    0.9116E-05    662.6443   19.8656  (  1)\n",
    "    4-   4    0.3933E-04   1376.3503   41.2619  (  1)\n",
    "    5-   5    0.4131E-04   1410.6170   42.2892  (  1)\n",
    "    6-   6    0.4439E-04   1462.3150   43.8391  (  1)\n",
    "\n",
    " MODES IN PHASE\n",
    "\n",
    " FREQ(CM**-1)    487.19    635.47    662.64   1376.35   1410.62   1462.32\n",
    "\n",
    " AT.   1 C  X     0.0001    0.0001    0.0001   -0.2006    0.1997    0.0072\n",
    "            Y     0.0000   -0.0001    0.2040    0.0015   -0.0002   -0.1963\n",
    "            Z     0.2041   -0.2007   -0.0001    0.0001    0.0001    0.0000\n",
    " AT.   2 C  X    -0.0001    0.0001   -0.0010    0.2041    0.1963    0.0003\n",
    "            Y     0.0000   -0.0001    0.2006   -0.0004   -0.0077    0.1996\n",
    "            Z     0.2007    0.2041    0.0001    0.0001   -0.0001   -0.0000 \n",
    "```\n"
   ]
  },
  {
   "cell_type": "markdown",
   "id": "cbba9bc8",
   "metadata": {},
   "source": [
    "### Get rid of negative frequency\n",
    "A test is performed on a harmonic phonon output with negative frequencies. In principle, the user is expected to redo all calculations to get rid of imaginary modes, instead of continuing thermodynamic analysis. Here we assume the user does not know the existance of imagninary modes.\n",
    "\n",
    "Tests performed on Form II paracetamol $\\Gamma$ point, stretched by 2% volumetric strain. There are 160 atoms, 480 modes, 1 qpoint. The output is attached in the same directory named as 'f2p2q-r1.out'. Modes 1-5 are negative, as given below:\n",
    "\n",
    "```\n",
    "    MODES         EIGV          FREQUENCIES     IRREP  IR   INTENS    RAMAN\n",
    "             (HARTREE**2)   (CM**-1)     (THZ)             (KM/MOL)\n",
    "    1-   1   -0.7201E-07    -58.8941   -1.7656  (B3g)   I (     0.00)   A\n",
    "    2-   2   -0.6031E-07    -53.9001   -1.6159  (Ag )   I (     0.00)   A\n",
    "    3-   3   -0.3525E-07    -41.2052   -1.2353  (Au )   I (     0.00)   I\n",
    "    4-   4   -0.1932E-07    -30.5064   -0.9146  (B2g)   I (     0.00)   A\n",
    "    5-   5   -0.2848E-08    -11.7124   -0.3511  (B1g)   I (     0.00)   A\n",
    "    6-   6   -0.4132E-19      0.0000    0.0000  (B2u)   A (     0.00)   I\n",
    "```\n",
    "\n",
    "PS: Never use pob-TZVP basis set for energies, that is miserable :-)"
   ]
  },
  {
   "cell_type": "code",
   "execution_count": 5,
   "id": "985f98aa",
   "metadata": {},
   "outputs": [
    {
     "name": "stdout",
     "output_type": "stream",
     "text": [
      "WARNING: Negative frequencies detected - Calculated thermodynamics might be inaccurate.\n",
      "WARNING: Negative frequencies will be substituted by NaN.\n",
      "[nan nan nan nan nan  0.]\n",
      "[[        nan         nan         nan]\n",
      " [        nan         nan         nan]\n",
      " [        nan         nan         nan]\n",
      " [        nan         nan         nan]\n",
      " [        nan         nan         nan]\n",
      " [-0.07905694 -0.          0.        ]]\n"
     ]
    }
   ],
   "source": [
    "neg_freq = Crystal_output()\n",
    "neg_freq.read_cry_output('data/f2p2q-r1.out')\n",
    "neg_freq.get_mode()\n",
    "neg_freq.get_eigenvector()\n",
    "neg_freq.clean_imaginary()\n",
    "\n",
    "print(neg_freq.frequency[0, :6])\n",
    "print(neg_freq.eigenvector[0, :6, 0, :])"
   ]
  },
  {
   "cell_type": "markdown",
   "id": "77db324d-5033-4a96-950f-e1119326106f",
   "metadata": {},
   "source": [
    "### Read outputs from QHA module\n",
    "\n",
    "The QHA module of CRYSTAL includes automatic generation, optimization and frequency calculations at $\\Gamma$ point. Therefore a different strategy is adopted and keeps the structure of code consistent. Since in all cases, nqpoint = 1, this dimension is removed to avoid an extra 'ncalc' dimension. `Crystal_output().frequency` becomes a 'ncalc\\*nmode' list that corresponds to frequencies at each volume, or HA phonon calculation, instead of at each q point. Other attributes are changed accordingly."
   ]
  },
  {
   "cell_type": "code",
   "execution_count": 7,
   "id": "27693bda-617f-479b-872a-db906e7634a2",
   "metadata": {},
   "outputs": [
    {
     "name": "stdout",
     "output_type": "stream",
     "text": [
      "4\n",
      "[[0. 0. 0.]\n",
      " [0. 0. 0.]\n",
      " [0. 0. 0.]\n",
      " [0. 0. 0.]]\n",
      "[90 90 90 90]\n"
     ]
    }
   ],
   "source": [
    "qha_freq = Crystal_output()\n",
    "qha_freq.read_cry_output('data/corundum.out')\n",
    "qha_freq.get_mode()\n",
    "qha_freq.get_eigenvector()\n",
    "\n",
    "print(qha_freq.nqpoint)\n",
    "print(qha_freq.qpoint)\n",
    "print(qha_freq.nmode)"
   ]
  },
  {
   "cell_type": "markdown",
   "id": "001b5d58-2e3c-4e45-85f1-1c486e5cf911",
   "metadata": {},
   "source": [
    "## Class Crystal_output\n",
    "\n",
    "Class Crystal_output can be used to extract the harmonic frequency calculation data from the output.\n",
    "\n",
    "### Methods\n",
    "#### `self.check_freq_file()`  \n",
    "  \n",
    "Check whether an output file is specified and whether it is a frequency calculation file. Not a standalone method. The identifier used: \n",
    "```\n",
    "+++ SYMMETRY ADAPTION OF VIBRATIONAL MODES +++\n",
    "```\n",
    "No input, no output attribute."
   ]
  },
  {
   "cell_type": "code",
   "execution_count": null,
   "id": "ec7564ad-228b-487a-9a9b-b01df9e28fcf",
   "metadata": {},
   "outputs": [],
   "source": [
    "    \"\"\"\n",
    "    Thermodynamic-specific attributes, including:\n",
    "        self.edft: get_qpoint, DFT total energy at central point, with probable\n",
    "                   corrections. Unit: KJ / mol cell\n",
    "        self.nqpoint: get_qpoint, Number of q points\n",
    "        self.qpoint: get_qpoint, Fractional coordinates of qpoints\n",
    "        self.nmode: get_mode, Number of vibrational modes at all qpoints\n",
    "        self.frequency: get_mode, Frequencies of all modes at all qpoints.\n",
    "                        Unit: THz\n",
    "        self.eigenvector: get_eigenvector, Eigenvectors (classical amplitude)\n",
    "                          of all atoms all modes at all qpoints. Unit: Angstrom\n",
    "    \"\"\"\n",
    "\n",
    "    def check_freq_file(self):\n",
    "        \"\"\"\n",
    "        Not a standalone method. Check if the output is specified and if it is\n",
    "        a frequency output. The identifier:\n",
    "        +++ SYMMETRY ADAPTION OF VIBRATIONAL MODES +++\n",
    "\n",
    "        Input:\n",
    "            -\n",
    "        Output:\n",
    "            is_freq: bool, True if the identifier is found.\n",
    "        \"\"\"\n",
    "        import re\n",
    "        import sys\n",
    "\n",
    "        if not hasattr(self, 'data'):\n",
    "            print('ERROR: Output file not specified.')\n",
    "            sys.exit(1)\n",
    "\n",
    "        is_freq = False\n",
    "\n",
    "        for line in self.data:\n",
    "            if re.match(r'^\\s*\\+\\+\\+\\sSYMMETRY\\sADAPTION\\sOF\\sVIBRATIONAL\\sMODES\\s\\+\\+\\+', line):\n",
    "                is_freq = True\n",
    "                break\n",
    "            else:\n",
    "                continue\n",
    "\n",
    "        return is_freq"
   ]
  },
  {
   "cell_type": "markdown",
   "id": "a8851d21-1b9b-4bc9-8712-70dba1977b44",
   "metadata": {},
   "source": [
    "#### `self.get_qpoint()`\n",
    "  \n",
    "Get DFT total energy of the system and the list of q points where the vibrational frequency is calculated. Dispersion output (multiple q points) is supported. \n",
    "\n",
    "To avoid ambigious definition, the search for DFT total energy is integrated into this method. To consider possible empirical corrections, the total energy reported at the central point when taking the numerical secondary derivatives is used, instead of the converged value at the final step of SCF.\n",
    "\n",
    "No input.\n",
    "\n",
    "Output attributes:\n",
    "- `self.edft` DFT total energy. Unit: KJ / mol cell. Note: For harmonic calculations at $\\Gamma$ and dispersion calculations, the length of `self.edft` is 1 * 1 since only 1 central calculation is performed. For QHA calculations, its length is nSampling point * 1 list.\n",
    "- `self.nqpoint` Number of q points where the frequencies are calculated.\n",
    "- `self.qpoint` Fractional coordinates of qpoints in the first Brillouin zone."
   ]
  },
  {
   "cell_type": "code",
   "execution_count": null,
   "id": "f7b1b22b-7f74-4fc0-9726-a6e012eb520d",
   "metadata": {},
   "outputs": [],
   "source": [
    "    def get_qpoint(self):\n",
    "        \"\"\"\n",
    "        Get the lattice information, DFT total energy and qpoints at which the\n",
    "        phonon frequency is calculated.\n",
    "\n",
    "        Note: edft is a list to make the script compatible with QHA output. The\n",
    "              sampled HA calculations in QHA output are recognized as HA\n",
    "              calculations at various qpoints. \n",
    "\n",
    "              For other cases, self.edft is an array of the same numbers,\n",
    "              corresponding to the number of qpoints.\n",
    "\n",
    "        Input:\n",
    "            -\n",
    "        Output:\n",
    "            self.edft, nqpoint * 1 array, DFT total energy. Unit: KJ / mol cell\n",
    "            self.nqpoint, int, Number of q points where the frequencies are\n",
    "                          calculated.\n",
    "            self.qpoint, nq * 3 numpy float array, Fractional coordinates of\n",
    "                         qpoints.\n",
    "        \"\"\"\n",
    "        import re\n",
    "        import numpy as np\n",
    "        import sys\n",
    "\n",
    "        is_freq = self.check_freq_file()\n",
    "        if not is_freq:\n",
    "            print('ERROR: Not a frequency output.')\n",
    "            sys.exit(1)\n",
    "\n",
    "        edft = np.array([], dtype=float)\n",
    "        self.nqpoint = 0\n",
    "        self.qpoint = np.array([], dtype=float)\n",
    "\n",
    "        for i, line in enumerate(self.data):\n",
    "# Keywords in gradient calculation\n",
    "            if re.match(r'\\s*CENTRAL POINT', line):\n",
    "                edft = np.append(edft, float(line.strip().split()[2]) * 2625.500256)\n",
    "\n",
    "            if re.search(r'EXPRESSED IN UNITS\\s*OF DENOMINATOR', line):\n",
    "                shrink = int(line.strip().split()[-1])\n",
    "\n",
    "# Keywords in dipersion calculation\n",
    "            if re.match(r'\\s*DISPERSION K POINT NUMBER', line):\n",
    "                coord = np.array(line.strip().split()[7:10], dtype=float)\n",
    "                self.qpoint = np.append(self.qpoint, coord / shrink)\n",
    "                self.nqpoint += 1\n",
    "\n",
    "# HA Gamma point calculation\n",
    "        if self.nqpoint == 0 and len(edft) == 1:\n",
    "            self.nqpoint = 1\n",
    "            self.qpoint = np.array([[0, 0, 0]], dtype=float)\n",
    "            self.edft = edft\n",
    "# QHA Gamma point calculation\n",
    "        elif self.nqpoint == 0 and len(edft) > 1:\n",
    "            self.nqpoint = len(edft)\n",
    "            self.qpoint = np.array([[0, 0, 0] for i in range(self.nqpoint)], dtype=float)\n",
    "# HA dispersion calculation\n",
    "        elif self.nqpoint > 0 and len(edft) == 1:\n",
    "            self.qpoint = np.reshape(self.qpoint, (-1, 3))\n",
    "            self.edft = edft\n",
    "        else:\n",
    "            print('ERROR: Only support: 1. HA, Gamma point 2. QHA, gamma point 3. HA dispersion.')\n",
    "            sys.exit(1)\n",
    "\n",
    "        return self.edft, self.nqpoint, self.qpoint"
   ]
  },
  {
   "cell_type": "markdown",
   "id": "bac4a5bf-7837-43a3-8a45-d2e1d4faae27",
   "metadata": {},
   "source": [
    "#### `self.get_mode()`\n",
    "Get frequencies of all modes at all the q points sampled and compute the total number of vibration modes (natoms * 3).\n",
    "\n",
    "No input. \n",
    "\n",
    "Output attributes:\n",
    "- `self.nmode` Number of vibration modes at each qpoint\n",
    "- `self.frequency` Harmonic vibrational frequency $\\nu$. Unit: THz\n",
    "\n",
    "Note: \n",
    "\n",
    "Angular frequency: $\\omega = 2\\pi\\nu$  \n",
    "Eigen value of dynamic matrix: $\\lambda = \\nu^{2}$"
   ]
  },
  {
   "cell_type": "code",
   "execution_count": null,
   "id": "e1f6c01a-ac12-4d66-8229-55060ffe8f03",
   "metadata": {},
   "outputs": [],
   "source": [
    "    def get_mode(self):\n",
    "        \"\"\"\n",
    "        Get corresponding vibrational frequencies and for all modes and\n",
    "        compute the total number of vibration modes (natoms * 3).\n",
    "\n",
    "        Input:\n",
    "            -\n",
    "        Output:\n",
    "            self.nmode, nqpoint * 1 numpy int array, Number of vibration modes\n",
    "                        at each qpoints.\n",
    "            self.frequency: nqpoint * nmode numpy float array, Harmonic\n",
    "                            vibrational frequency. Unit: THz\n",
    "        \"\"\"\n",
    "        import numpy as np\n",
    "        import re\n",
    "\n",
    "        if not hasattr(self, 'nqpoint'):\n",
    "            self.get_qpoint()\n",
    "\n",
    "        self.frequency = np.array([], dtype=float)\n",
    "\n",
    "        countline = 0\n",
    "        while countline < len(self.data):\n",
    "            is_freq = False\n",
    "            if re.match(r'\\s*DISPERSION K POINT NUMBER\\s*\\d',\n",
    "                        self.data[countline]):\n",
    "                countline += 2\n",
    "                is_freq = True\n",
    "\n",
    "            if re.match(r'\\s*MODES\\s*EIGV\\s*FREQUENCIES\\s*IRREP',\n",
    "                        self.data[countline]):\n",
    "                countline += 2\n",
    "                is_freq = True\n",
    "\n",
    "            while self.data[countline].strip() and is_freq:\n",
    "                line_data = re.findall(r'\\-*[\\d\\.]+[E\\d\\-\\+]*',\n",
    "                                       self.data[countline])\n",
    "                if line_data:\n",
    "                    nm_a = int(line_data[0].strip('-'))\n",
    "                    nm_b = int(line_data[1])\n",
    "                    freq = float(line_data[4])\n",
    "\n",
    "                for mode in range(nm_a, nm_b + 1):\n",
    "                    self.frequency = np.append(self.frequency, freq)\n",
    "\n",
    "                countline += 1\n",
    "\n",
    "            countline += 1\n",
    "\n",
    "        self.frequency = np.reshape(self.frequency, (self.nqpoint, -1))\n",
    "        self.nmode = np.array([len(i) for i in self.frequency], dtype=int)\n",
    "\n",
    "        return self.nmode, self.frequency"
   ]
  },
  {
   "cell_type": "markdown",
   "id": "86502c5f-12e2-4084-9af9-3cda1d52737e",
   "metadata": {},
   "source": [
    "#### `self.get_eigenvector()`\n",
    "Get the eigenvectors of all normal modeson all the atoms in the supercell. Eigenvectors are normalised to classical amplitudes. \n",
    "\n",
    "No input. Output attributes:\n",
    "- `self.eigenvector` Eigenvectors expressed in Cartesian coordinate, at all atoms, all modes and all qpoints. Classical amplitude(298.15K). Unit: Angstrom"
   ]
  },
  {
   "cell_type": "code",
   "execution_count": null,
   "id": "ec2728a0-09c3-40a1-ab47-196a9ee778f1",
   "metadata": {},
   "outputs": [],
   "source": [
    "    def get_eigenvector(self):\n",
    "        \"\"\"\n",
    "        Get corresponding mode eigenvectors for all modes on all\n",
    "        atoms in the supercell.\n",
    "\n",
    "        Input:\n",
    "            -\n",
    "        Output:\n",
    "            self.eigenvector, nqpoint * nmode * natom * 3 numpy float array,\n",
    "                              Eigenvectors expressed in Cartesian coordinate,\n",
    "                              at all atoms, all modes and all qpoints.\n",
    "                              Classical amplitude. Unit: Angstrom\n",
    "        \"\"\"\n",
    "        import numpy as np\n",
    "        import re\n",
    "\n",
    "        if not hasattr(self, 'nmode'):\n",
    "            self.get_mode()\n",
    "\n",
    "        total_mode = np.sum(self.nmode)\n",
    "        countline = 0\n",
    "        # Multiple blocks for 1 mode. Maximum 6 columns for 1 block.\n",
    "        if np.max(self.nmode) >= 6:\n",
    "            countmode = 6\n",
    "        else:\n",
    "            countmode = total_mode\n",
    "\n",
    "        # Read the eigenvector region as its original shape\n",
    "        block_label = False\n",
    "        total_data = []\n",
    "        while countline < len(self.data) and countmode <= total_mode:\n",
    "            # Gamma point / phonon dispersion calculation\n",
    "            if re.match(r'\\s*MODES IN PHASE', self.data[countline]) or\\\n",
    "               re.match(r'\\s*NORMAL MODES NORMALIZED', self.data[countline]):\n",
    "                block_label = True\n",
    "            elif re.match(r'\\s*MODES IN ANTI-PHASE', self.data[countline]):\n",
    "                block_label = False\n",
    "\n",
    "            # Enter a block\n",
    "            if re.match(r'\\s*FREQ\\(CM\\*\\*\\-1\\)', self.data[countline]) and\\\n",
    "               block_label:\n",
    "                countline += 2\n",
    "                block_data = []\n",
    "                while self.data[countline].strip():\n",
    "                    # Trim annotation part (12 characters)\n",
    "                    line_data = re.findall(r'\\-*[\\d\\.]+[E\\d\\-\\+]*',\n",
    "                                           self.data[countline][13:])\n",
    "                    if line_data:\n",
    "                        block_data.append(line_data)\n",
    "\n",
    "                    countline += 1\n",
    "\n",
    "                countmode += len(line_data)\n",
    "                total_data.append(block_data)\n",
    "\n",
    "            countline += 1\n",
    "\n",
    "        total_data = np.array(total_data, dtype=float)\n",
    "\n",
    "        # Rearrage eigenvectors\n",
    "        block_per_q = len(total_data) / self.nqpoint\n",
    "        self.eigenvector = []\n",
    "        # 1st dimension, nqpoint\n",
    "        for q in range(self.nqpoint):\n",
    "            index_bg = int(q * block_per_q)\n",
    "            index_ed = int((q + 1) * block_per_q)\n",
    "            q_data = np.hstack([i for i in total_data[index_bg: index_ed]])\n",
    "        # 2nd dimension, nmode\n",
    "            q_data = np.transpose(q_data)\n",
    "        # 3rd dimension, natom\n",
    "            natom = int(self.nmode[q] / 3)\n",
    "            q_rearrange = [np.split(m, natom, axis=0) for m in q_data]\n",
    "\n",
    "            self.eigenvector.append(q_rearrange)\n",
    "\n",
    "        self.eigenvector = np.array(self.eigenvector)\n",
    "        \n",
    "        # Normalize eigenvectors of each mode to 1\n",
    "        for idx_q, q in enumerate(self.eigenvector):\n",
    "            for idx_m, m in enumerate(q):\n",
    "                self.eigenvector[idx_q, idx_m] = \\\n",
    "                    self.eigenvector[idx_q, idx_m] / np.linalg.norm(m)\n",
    "\n",
    "        return self.eigenvector"
   ]
  },
  {
   "cell_type": "markdown",
   "id": "9df8f037-d61f-429c-a549-8c502faee7fd",
   "metadata": {},
   "source": [
    "#### `clean_imaginary()`\n",
    "Not a standalone method. Used after get_mode(). Substitute the negative frequencies with numpy NaN values and keep the original shape of numpy arrays. The threshold of a negative frequency is -0.0001 THz.\n",
    "\n",
    "No input. No output attributes."
   ]
  },
  {
   "cell_type": "code",
   "execution_count": null,
   "id": "1c54d3b4-d11f-4fda-9d01-93879088a809",
   "metadata": {},
   "outputs": [],
   "source": [
    "    def clean_imaginary(self):\n",
    "        \"\"\"\n",
    "        Substitute imaginary modes and corresponding eigenvectors with numpy\n",
    "        NaN format and print warning message.\n",
    "\n",
    "        Input:\n",
    "            -\n",
    "        Output:\n",
    "            cleaned attributes.\n",
    "            self.frequency\n",
    "            self.eigenvector\n",
    "        \"\"\"\n",
    "        import numpy as np\n",
    "\n",
    "        for q, freq in enumerate(self.frequency):\n",
    "            if freq[0] > -1e-4:\n",
    "                continue\n",
    "\n",
    "            print(\n",
    "                'WARNING: Negative frequencies detected - Calculated thermodynamics might be inaccurate.')\n",
    "            print('WARNING: Negative frequencies will be substituted by NaN.')\n",
    "\n",
    "            neg_rank = np.where(freq <= -1e-4)[0]\n",
    "            self.frequency[q, neg_rank] = np.nan\n",
    "\n",
    "            if hasattr(self, 'eigenvector'):\n",
    "                natom = int(self.nmode[q] / 3)\n",
    "                nan_eigvt = np.full([natom, 3], np.nan)\n",
    "                self.eigenvector[q, neg_rank] = nan_eigvt\n",
    "\n",
    "        if hasattr(self, 'eigenvector'):\n",
    "            return self.frequency, self.eigenvector\n",
    "        else:\n",
    "            return self.frequency"
   ]
  }
 ],
 "metadata": {
  "kernelspec": {
   "display_name": "Python 3 (ipykernel)",
   "language": "python",
   "name": "python3"
  },
  "language_info": {
   "codemirror_mode": {
    "name": "ipython",
    "version": 3
   },
   "file_extension": ".py",
   "mimetype": "text/x-python",
   "name": "python",
   "nbconvert_exporter": "python",
   "pygments_lexer": "ipython3",
   "version": "3.8.13"
  }
 },
 "nbformat": 4,
 "nbformat_minor": 5
}
