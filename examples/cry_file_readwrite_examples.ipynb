{
 "cells": [
  {
   "cell_type": "markdown",
   "id": "b126abea",
   "metadata": {},
   "source": [
    "# Example notebook for the functions contained in cry_file_readwrite.py"
   ]
  },
  {
   "cell_type": "markdown",
   "id": "ae758e1d",
   "metadata": {},
   "source": [
    "### Crystal_input class"
   ]
  },
  {
   "cell_type": "code",
   "execution_count": 1,
   "id": "8a775d1b",
   "metadata": {},
   "outputs": [],
   "source": [
    "import sys\n",
    "sys.path.insert(1, '../')\n",
    "\n",
    "from cry_file_readwrite import Crystal_input"
   ]
  },
  {
   "cell_type": "markdown",
   "id": "aa34d937",
   "metadata": {},
   "source": [
    "Create a crystal input object"
   ]
  },
  {
   "cell_type": "code",
   "execution_count": 5,
   "id": "9e6ab8da",
   "metadata": {},
   "outputs": [
    {
     "data": {
      "text/plain": [
       "<cry_file_readwrite.Crystal_input at 0x7f900181a100>"
      ]
     },
     "execution_count": 5,
     "metadata": {},
     "output_type": "execute_result"
    }
   ],
   "source": [
    "mgo_input = Crystal_input('data/mgo.d12')\n",
    "mgo_input"
   ]
  },
  {
   "cell_type": "markdown",
   "id": "142007c7",
   "metadata": {},
   "source": [
    "### Crystal_output class"
   ]
  },
  {
   "cell_type": "code",
   "execution_count": 1,
   "id": "e5fd7dd9",
   "metadata": {},
   "outputs": [
    {
     "name": "stderr",
     "output_type": "stream",
     "text": [
      "ERROR:root:Internal Python error in the inspect module.\n",
      "Below is the traceback from this internal error.\n",
      "\n"
     ]
    },
    {
     "name": "stdout",
     "output_type": "stream",
     "text": [
      "EXITING: a .out file needs to be specified\n",
      "Traceback (most recent call last):\n",
      "  File \"/Users/brunocamino/Desktop/Imperial/crystal-code-tools/crystal-functions/examples/../cry_file_readwrite.py\", line 92, in __init__\n",
      "    file = open(output_name, 'r')\n",
      "FileNotFoundError: [Errno 2] No such file or directory: 'examples/data/mgo.out'\n",
      "\n",
      "During handling of the above exception, another exception occurred:\n",
      "\n",
      "Traceback (most recent call last):\n",
      "  File \"/Users/brunocamino/miniconda3/envs/cc/lib/python3.9/site-packages/IPython/core/interactiveshell.py\", line 3441, in run_code\n",
      "    exec(code_obj, self.user_global_ns, self.user_ns)\n",
      "  File \"/var/folders/f2/8kc7y9697m59bwltxjd42y300000gn/T/ipykernel_24654/2246504910.py\", line 4, in <module>\n",
      "    from cry_file_readwrite import Crystal_output\n",
      "  File \"/Users/brunocamino/Desktop/Imperial/crystal-code-tools/crystal-functions/examples/../cry_file_readwrite.py\", line 434, in <module>\n",
      "    a = Crystal_output('examples/data/mgo.out')\n",
      "  File \"/Users/brunocamino/Desktop/Imperial/crystal-code-tools/crystal-functions/examples/../cry_file_readwrite.py\", line 97, in __init__\n",
      "    sys.exit(1)\n",
      "SystemExit: 1\n",
      "\n",
      "During handling of the above exception, another exception occurred:\n",
      "\n",
      "Traceback (most recent call last):\n",
      "  File \"/Users/brunocamino/miniconda3/envs/cc/lib/python3.9/site-packages/IPython/core/ultratb.py\", line 1101, in get_records\n",
      "    return _fixed_getinnerframes(etb, number_of_lines_of_context, tb_offset)\n",
      "  File \"/Users/brunocamino/miniconda3/envs/cc/lib/python3.9/site-packages/IPython/core/ultratb.py\", line 248, in wrapped\n",
      "    return f(*args, **kwargs)\n",
      "  File \"/Users/brunocamino/miniconda3/envs/cc/lib/python3.9/site-packages/IPython/core/ultratb.py\", line 281, in _fixed_getinnerframes\n",
      "    records = fix_frame_records_filenames(inspect.getinnerframes(etb, context))\n",
      "  File \"/Users/brunocamino/miniconda3/envs/cc/lib/python3.9/inspect.py\", line 1541, in getinnerframes\n",
      "    frameinfo = (tb.tb_frame,) + getframeinfo(tb, context)\n",
      "AttributeError: 'tuple' object has no attribute 'tb_frame'\n"
     ]
    },
    {
     "ename": "TypeError",
     "evalue": "object of type 'NoneType' has no len()",
     "output_type": "error",
     "traceback": [
      "\u001b[0;31m---------------------------------------------------------------------------\u001b[0m",
      "\u001b[0;31mFileNotFoundError\u001b[0m                         Traceback (most recent call last)",
      "\u001b[0;32m~/Desktop/Imperial/crystal-code-tools/crystal-functions/examples/../cry_file_readwrite.py\u001b[0m in \u001b[0;36m__init__\u001b[0;34m(self, output_name)\u001b[0m\n\u001b[1;32m     91\u001b[0m                 \u001b[0moutput_name\u001b[0m \u001b[0;34m=\u001b[0m \u001b[0moutput_name\u001b[0m\u001b[0;34m+\u001b[0m\u001b[0;34m'.out'\u001b[0m\u001b[0;34m\u001b[0m\u001b[0;34m\u001b[0m\u001b[0m\n\u001b[0;32m---> 92\u001b[0;31m             \u001b[0mfile\u001b[0m \u001b[0;34m=\u001b[0m \u001b[0mopen\u001b[0m\u001b[0;34m(\u001b[0m\u001b[0moutput_name\u001b[0m\u001b[0;34m,\u001b[0m \u001b[0;34m'r'\u001b[0m\u001b[0;34m)\u001b[0m\u001b[0;34m\u001b[0m\u001b[0;34m\u001b[0m\u001b[0m\n\u001b[0m\u001b[1;32m     93\u001b[0m             \u001b[0mself\u001b[0m\u001b[0;34m.\u001b[0m\u001b[0mdata\u001b[0m \u001b[0;34m=\u001b[0m \u001b[0mfile\u001b[0m\u001b[0;34m.\u001b[0m\u001b[0mreadlines\u001b[0m\u001b[0;34m(\u001b[0m\u001b[0;34m)\u001b[0m\u001b[0;34m\u001b[0m\u001b[0;34m\u001b[0m\u001b[0m\n",
      "\u001b[0;31mFileNotFoundError\u001b[0m: [Errno 2] No such file or directory: 'examples/data/mgo.out'",
      "\nDuring handling of the above exception, another exception occurred:\n",
      "\u001b[0;31mSystemExit\u001b[0m                                Traceback (most recent call last)",
      "    \u001b[0;31m[... skipping hidden 1 frame]\u001b[0m\n",
      "\u001b[0;32m/var/folders/f2/8kc7y9697m59bwltxjd42y300000gn/T/ipykernel_24654/2246504910.py\u001b[0m in \u001b[0;36m<module>\u001b[0;34m\u001b[0m\n\u001b[1;32m      3\u001b[0m \u001b[0;34m\u001b[0m\u001b[0m\n\u001b[0;32m----> 4\u001b[0;31m \u001b[0;32mfrom\u001b[0m \u001b[0mcry_file_readwrite\u001b[0m \u001b[0;32mimport\u001b[0m \u001b[0mCrystal_output\u001b[0m\u001b[0;34m\u001b[0m\u001b[0;34m\u001b[0m\u001b[0m\n\u001b[0m",
      "\u001b[0;32m~/Desktop/Imperial/crystal-code-tools/crystal-functions/examples/../cry_file_readwrite.py\u001b[0m in \u001b[0;36m<module>\u001b[0;34m\u001b[0m\n\u001b[1;32m    433\u001b[0m \u001b[0;31m###TESTING\u001b[0m\u001b[0;34m\u001b[0m\u001b[0;34m\u001b[0m\u001b[0m\n\u001b[0;32m--> 434\u001b[0;31m \u001b[0ma\u001b[0m \u001b[0;34m=\u001b[0m \u001b[0mCrystal_output\u001b[0m\u001b[0;34m(\u001b[0m\u001b[0;34m'examples/data/mgo.out'\u001b[0m\u001b[0;34m)\u001b[0m\u001b[0;34m\u001b[0m\u001b[0;34m\u001b[0m\u001b[0m\n\u001b[0m\u001b[1;32m    435\u001b[0m \u001b[0;31m#print('final_energy\\n',a.final_energy())\u001b[0m\u001b[0;34m\u001b[0m\u001b[0;34m\u001b[0m\u001b[0m\n",
      "\u001b[0;32m~/Desktop/Imperial/crystal-code-tools/crystal-functions/examples/../cry_file_readwrite.py\u001b[0m in \u001b[0;36m__init__\u001b[0;34m(self, output_name)\u001b[0m\n\u001b[1;32m     96\u001b[0m             \u001b[0mprint\u001b[0m\u001b[0;34m(\u001b[0m\u001b[0;34m'EXITING: a .out file needs to be specified'\u001b[0m\u001b[0;34m)\u001b[0m\u001b[0;34m\u001b[0m\u001b[0;34m\u001b[0m\u001b[0m\n\u001b[0;32m---> 97\u001b[0;31m             \u001b[0msys\u001b[0m\u001b[0;34m.\u001b[0m\u001b[0mexit\u001b[0m\u001b[0;34m(\u001b[0m\u001b[0;36m1\u001b[0m\u001b[0;34m)\u001b[0m\u001b[0;34m\u001b[0m\u001b[0;34m\u001b[0m\u001b[0m\n\u001b[0m\u001b[1;32m     98\u001b[0m \u001b[0;34m\u001b[0m\u001b[0m\n",
      "\u001b[0;31mSystemExit\u001b[0m: 1",
      "\nDuring handling of the above exception, another exception occurred:\n",
      "\u001b[0;31mTypeError\u001b[0m                                 Traceback (most recent call last)",
      "    \u001b[0;31m[... skipping hidden 1 frame]\u001b[0m\n",
      "\u001b[0;32m~/miniconda3/envs/cc/lib/python3.9/site-packages/IPython/core/interactiveshell.py\u001b[0m in \u001b[0;36mshowtraceback\u001b[0;34m(self, exc_tuple, filename, tb_offset, exception_only, running_compiled_code)\u001b[0m\n\u001b[1;32m   2052\u001b[0m                     stb = ['An exception has occurred, use %tb to see '\n\u001b[1;32m   2053\u001b[0m                            'the full traceback.\\n']\n\u001b[0;32m-> 2054\u001b[0;31m                     stb.extend(self.InteractiveTB.get_exception_only(etype,\n\u001b[0m\u001b[1;32m   2055\u001b[0m                                                                      value))\n\u001b[1;32m   2056\u001b[0m                 \u001b[0;32melse\u001b[0m\u001b[0;34m:\u001b[0m\u001b[0;34m\u001b[0m\u001b[0;34m\u001b[0m\u001b[0m\n",
      "\u001b[0;32m~/miniconda3/envs/cc/lib/python3.9/site-packages/IPython/core/ultratb.py\u001b[0m in \u001b[0;36mget_exception_only\u001b[0;34m(self, etype, value)\u001b[0m\n\u001b[1;32m    752\u001b[0m         \u001b[0mvalue\u001b[0m \u001b[0;34m:\u001b[0m \u001b[0mexception\u001b[0m \u001b[0mvalue\u001b[0m\u001b[0;34m\u001b[0m\u001b[0;34m\u001b[0m\u001b[0m\n\u001b[1;32m    753\u001b[0m         \"\"\"\n\u001b[0;32m--> 754\u001b[0;31m         \u001b[0;32mreturn\u001b[0m \u001b[0mListTB\u001b[0m\u001b[0;34m.\u001b[0m\u001b[0mstructured_traceback\u001b[0m\u001b[0;34m(\u001b[0m\u001b[0mself\u001b[0m\u001b[0;34m,\u001b[0m \u001b[0metype\u001b[0m\u001b[0;34m,\u001b[0m \u001b[0mvalue\u001b[0m\u001b[0;34m)\u001b[0m\u001b[0;34m\u001b[0m\u001b[0;34m\u001b[0m\u001b[0m\n\u001b[0m\u001b[1;32m    755\u001b[0m \u001b[0;34m\u001b[0m\u001b[0m\n\u001b[1;32m    756\u001b[0m     \u001b[0;32mdef\u001b[0m \u001b[0mshow_exception_only\u001b[0m\u001b[0;34m(\u001b[0m\u001b[0mself\u001b[0m\u001b[0;34m,\u001b[0m \u001b[0metype\u001b[0m\u001b[0;34m,\u001b[0m \u001b[0mevalue\u001b[0m\u001b[0;34m)\u001b[0m\u001b[0;34m:\u001b[0m\u001b[0;34m\u001b[0m\u001b[0;34m\u001b[0m\u001b[0m\n",
      "\u001b[0;32m~/miniconda3/envs/cc/lib/python3.9/site-packages/IPython/core/ultratb.py\u001b[0m in \u001b[0;36mstructured_traceback\u001b[0;34m(self, etype, evalue, etb, tb_offset, context)\u001b[0m\n\u001b[1;32m    627\u001b[0m             \u001b[0mchained_exceptions_tb_offset\u001b[0m \u001b[0;34m=\u001b[0m \u001b[0;36m0\u001b[0m\u001b[0;34m\u001b[0m\u001b[0;34m\u001b[0m\u001b[0m\n\u001b[1;32m    628\u001b[0m             out_list = (\n\u001b[0;32m--> 629\u001b[0;31m                 self.structured_traceback(\n\u001b[0m\u001b[1;32m    630\u001b[0m                     \u001b[0metype\u001b[0m\u001b[0;34m,\u001b[0m \u001b[0mevalue\u001b[0m\u001b[0;34m,\u001b[0m \u001b[0;34m(\u001b[0m\u001b[0metb\u001b[0m\u001b[0;34m,\u001b[0m \u001b[0mchained_exc_ids\u001b[0m\u001b[0;34m)\u001b[0m\u001b[0;34m,\u001b[0m\u001b[0;34m\u001b[0m\u001b[0;34m\u001b[0m\u001b[0m\n\u001b[1;32m    631\u001b[0m                     chained_exceptions_tb_offset, context)\n",
      "\u001b[0;32m~/miniconda3/envs/cc/lib/python3.9/site-packages/IPython/core/ultratb.py\u001b[0m in \u001b[0;36mstructured_traceback\u001b[0;34m(self, etype, value, tb, tb_offset, number_of_lines_of_context)\u001b[0m\n\u001b[1;32m   1365\u001b[0m         \u001b[0;32melse\u001b[0m\u001b[0;34m:\u001b[0m\u001b[0;34m\u001b[0m\u001b[0;34m\u001b[0m\u001b[0m\n\u001b[1;32m   1366\u001b[0m             \u001b[0mself\u001b[0m\u001b[0;34m.\u001b[0m\u001b[0mtb\u001b[0m \u001b[0;34m=\u001b[0m \u001b[0mtb\u001b[0m\u001b[0;34m\u001b[0m\u001b[0;34m\u001b[0m\u001b[0m\n\u001b[0;32m-> 1367\u001b[0;31m         return FormattedTB.structured_traceback(\n\u001b[0m\u001b[1;32m   1368\u001b[0m             self, etype, value, tb, tb_offset, number_of_lines_of_context)\n\u001b[1;32m   1369\u001b[0m \u001b[0;34m\u001b[0m\u001b[0m\n",
      "\u001b[0;32m~/miniconda3/envs/cc/lib/python3.9/site-packages/IPython/core/ultratb.py\u001b[0m in \u001b[0;36mstructured_traceback\u001b[0;34m(self, etype, value, tb, tb_offset, number_of_lines_of_context)\u001b[0m\n\u001b[1;32m   1265\u001b[0m         \u001b[0;32mif\u001b[0m \u001b[0mmode\u001b[0m \u001b[0;32min\u001b[0m \u001b[0mself\u001b[0m\u001b[0;34m.\u001b[0m\u001b[0mverbose_modes\u001b[0m\u001b[0;34m:\u001b[0m\u001b[0;34m\u001b[0m\u001b[0;34m\u001b[0m\u001b[0m\n\u001b[1;32m   1266\u001b[0m             \u001b[0;31m# Verbose modes need a full traceback\u001b[0m\u001b[0;34m\u001b[0m\u001b[0;34m\u001b[0m\u001b[0m\n\u001b[0;32m-> 1267\u001b[0;31m             return VerboseTB.structured_traceback(\n\u001b[0m\u001b[1;32m   1268\u001b[0m                 \u001b[0mself\u001b[0m\u001b[0;34m,\u001b[0m \u001b[0metype\u001b[0m\u001b[0;34m,\u001b[0m \u001b[0mvalue\u001b[0m\u001b[0;34m,\u001b[0m \u001b[0mtb\u001b[0m\u001b[0;34m,\u001b[0m \u001b[0mtb_offset\u001b[0m\u001b[0;34m,\u001b[0m \u001b[0mnumber_of_lines_of_context\u001b[0m\u001b[0;34m\u001b[0m\u001b[0;34m\u001b[0m\u001b[0m\n\u001b[1;32m   1269\u001b[0m             )\n",
      "\u001b[0;32m~/miniconda3/envs/cc/lib/python3.9/site-packages/IPython/core/ultratb.py\u001b[0m in \u001b[0;36mstructured_traceback\u001b[0;34m(self, etype, evalue, etb, tb_offset, number_of_lines_of_context)\u001b[0m\n\u001b[1;32m   1122\u001b[0m         \u001b[0;34m\"\"\"Return a nice text document describing the traceback.\"\"\"\u001b[0m\u001b[0;34m\u001b[0m\u001b[0;34m\u001b[0m\u001b[0m\n\u001b[1;32m   1123\u001b[0m \u001b[0;34m\u001b[0m\u001b[0m\n\u001b[0;32m-> 1124\u001b[0;31m         formatted_exception = self.format_exception_as_a_whole(etype, evalue, etb, number_of_lines_of_context,\n\u001b[0m\u001b[1;32m   1125\u001b[0m                                                                tb_offset)\n\u001b[1;32m   1126\u001b[0m \u001b[0;34m\u001b[0m\u001b[0m\n",
      "\u001b[0;32m~/miniconda3/envs/cc/lib/python3.9/site-packages/IPython/core/ultratb.py\u001b[0m in \u001b[0;36mformat_exception_as_a_whole\u001b[0;34m(self, etype, evalue, etb, number_of_lines_of_context, tb_offset)\u001b[0m\n\u001b[1;32m   1080\u001b[0m \u001b[0;34m\u001b[0m\u001b[0m\n\u001b[1;32m   1081\u001b[0m \u001b[0;34m\u001b[0m\u001b[0m\n\u001b[0;32m-> 1082\u001b[0;31m         \u001b[0mlast_unique\u001b[0m\u001b[0;34m,\u001b[0m \u001b[0mrecursion_repeat\u001b[0m \u001b[0;34m=\u001b[0m \u001b[0mfind_recursion\u001b[0m\u001b[0;34m(\u001b[0m\u001b[0morig_etype\u001b[0m\u001b[0;34m,\u001b[0m \u001b[0mevalue\u001b[0m\u001b[0;34m,\u001b[0m \u001b[0mrecords\u001b[0m\u001b[0;34m)\u001b[0m\u001b[0;34m\u001b[0m\u001b[0;34m\u001b[0m\u001b[0m\n\u001b[0m\u001b[1;32m   1083\u001b[0m \u001b[0;34m\u001b[0m\u001b[0m\n\u001b[1;32m   1084\u001b[0m         \u001b[0mframes\u001b[0m \u001b[0;34m=\u001b[0m \u001b[0mself\u001b[0m\u001b[0;34m.\u001b[0m\u001b[0mformat_records\u001b[0m\u001b[0;34m(\u001b[0m\u001b[0mrecords\u001b[0m\u001b[0;34m,\u001b[0m \u001b[0mlast_unique\u001b[0m\u001b[0;34m,\u001b[0m \u001b[0mrecursion_repeat\u001b[0m\u001b[0;34m)\u001b[0m\u001b[0;34m\u001b[0m\u001b[0;34m\u001b[0m\u001b[0m\n",
      "\u001b[0;32m~/miniconda3/envs/cc/lib/python3.9/site-packages/IPython/core/ultratb.py\u001b[0m in \u001b[0;36mfind_recursion\u001b[0;34m(etype, value, records)\u001b[0m\n\u001b[1;32m    380\u001b[0m     \u001b[0;31m# first frame (from in to out) that looks different.\u001b[0m\u001b[0;34m\u001b[0m\u001b[0;34m\u001b[0m\u001b[0m\n\u001b[1;32m    381\u001b[0m     \u001b[0;32mif\u001b[0m \u001b[0;32mnot\u001b[0m \u001b[0mis_recursion_error\u001b[0m\u001b[0;34m(\u001b[0m\u001b[0metype\u001b[0m\u001b[0;34m,\u001b[0m \u001b[0mvalue\u001b[0m\u001b[0;34m,\u001b[0m \u001b[0mrecords\u001b[0m\u001b[0;34m)\u001b[0m\u001b[0;34m:\u001b[0m\u001b[0;34m\u001b[0m\u001b[0;34m\u001b[0m\u001b[0m\n\u001b[0;32m--> 382\u001b[0;31m         \u001b[0;32mreturn\u001b[0m \u001b[0mlen\u001b[0m\u001b[0;34m(\u001b[0m\u001b[0mrecords\u001b[0m\u001b[0;34m)\u001b[0m\u001b[0;34m,\u001b[0m \u001b[0;36m0\u001b[0m\u001b[0;34m\u001b[0m\u001b[0;34m\u001b[0m\u001b[0m\n\u001b[0m\u001b[1;32m    383\u001b[0m \u001b[0;34m\u001b[0m\u001b[0m\n\u001b[1;32m    384\u001b[0m     \u001b[0;31m# Select filename, lineno, func_name to track frames with\u001b[0m\u001b[0;34m\u001b[0m\u001b[0;34m\u001b[0m\u001b[0m\n",
      "\u001b[0;31mTypeError\u001b[0m: object of type 'NoneType' has no len()"
     ]
    }
   ],
   "source": [
    "import sys\n",
    "sys.path.insert(1, '../')\n",
    "\n",
    "from cry_file_readwrite import Crystal_output"
   ]
  },
  {
   "cell_type": "code",
   "execution_count": 2,
   "id": "c8fe3683",
   "metadata": {},
   "outputs": [
    {
     "data": {
      "text/plain": [
       "<cry_file_readwrite.Crystal_output at 0x7fa6300116a0>"
      ]
     },
     "execution_count": 2,
     "metadata": {},
     "output_type": "execute_result"
    }
   ],
   "source": [
    "mgo_output = Crystal_output('data/mgo.out')\n",
    "mgo_output"
   ]
  },
  {
   "cell_type": "markdown",
   "id": "5839009b",
   "metadata": {},
   "source": [
    "#### Functions and properties"
   ]
  },
  {
   "cell_type": "code",
   "execution_count": 3,
   "id": "0f1ddae0",
   "metadata": {},
   "outputs": [
    {
     "name": "stdout",
     "output_type": "stream",
     "text": [
      "Final energy = -7495.341792877063 eV \n",
      "\n",
      "WARNING: no Fermi energy found in the output file. efermi = None\n",
      "Fermi energy = None eV \n",
      "\n",
      "Primitive lattice \n",
      " [[0.     2.1085 2.1085]\n",
      " [2.1085 0.     2.1085]\n",
      " [2.1085 2.1085 0.    ]] \n",
      "\n",
      "Reciprocal lattice \n",
      " [[-1.48996571  1.48996571  1.48996571]\n",
      " [ 1.48996571 -1.48996571  1.48996571]\n",
      " [ 1.48996571  1.48996571 -1.48996571]] \n",
      "\n",
      "Band gap = 7.1237 eV \n",
      "\n",
      "Last geometry = \n",
      " [[12.   0.   0.   0. ]\n",
      " [ 8.  -0.5 -0.5 -0.5]] \n",
      "\n",
      "Symmetry operators = \n",
      " [['1.00' '0.00' '0.00' '0.00' '1.00' '0.00' '0.00' '0.00' '1.00' '0.00'\n",
      "  '0.00' '0.00']\n",
      " ['0.00' '1.00' '0.00' '1.00' '0.00' '0.00' '-1.00' '-1.00' '-1.00'\n",
      "  '0.00' '0.00' '0.00']\n",
      " ['-1.00' '-1.00' '-1.00' '0.00' '0.00' '1.00' '0.00' '1.00' '0.00'\n",
      "  '0.00' '0.00' '0.00']\n",
      " ['0.00' '0.00' '1.00' '-1.00' '-1.00' '-1.00' '1.00' '0.00' '0.00'\n",
      "  '0.00' '0.00' '0.00']\n",
      " ['0.00' '0.00' '1.00' '1.00' '0.00' '0.00' '0.00' '1.00' '0.00' '0.00'\n",
      "  '0.00' '0.00']\n",
      " ['0.00' '1.00' '0.00' '0.00' '0.00' '1.00' '1.00' '0.00' '0.00' '0.00'\n",
      "  '0.00' '0.00']\n",
      " ['1.00' '0.00' '0.00' '0.00' '0.00' '1.00' '-1.00' '-1.00' '-1.00'\n",
      "  '0.00' '0.00' '0.00']\n",
      " ['1.00' '0.00' '0.00' '-1.00' '-1.00' '-1.00' '0.00' '1.00' '0.00'\n",
      "  '0.00' '0.00' '0.00']\n",
      " ['-1.00' '-1.00' '-1.00' '0.00' '1.00' '0.00' '1.00' '0.00' '0.00'\n",
      "  '0.00' '0.00' '0.00']\n",
      " ['0.00' '0.00' '1.00' '0.00' '1.00' '0.00' '-1.00' '-1.00' '-1.00'\n",
      "  '0.00' '0.00' '0.00']\n",
      " ['0.00' '1.00' '0.00' '-1.00' '-1.00' '-1.00' '0.00' '0.00' '1.00'\n",
      "  '0.00' '0.00' '0.00']\n",
      " ['-1.00' '-1.00' '-1.00' '1.00' '0.00' '0.00' '0.00' '0.00' '1.00'\n",
      "  '0.00' '0.00' '0.00']\n",
      " ['0.00' '-1.00' '0.00' '-1.00' '0.00' '0.00' '0.00' '0.00' '-1.00'\n",
      "  '0.00' '0.00' '0.00']\n",
      " ['-1.00' '0.00' '0.00' '0.00' '-1.00' '0.00' '1.00' '1.00' '1.00' '0.00'\n",
      "  '0.00' '0.00']\n",
      " ['0.00' '0.00' '-1.00' '1.00' '1.00' '1.00' '0.00' '-1.00' '0.00' '0.00'\n",
      "  '0.00' '0.00']\n",
      " ['1.00' '1.00' '1.00' '0.00' '0.00' '-1.00' '-1.00' '0.00' '0.00' '0.00'\n",
      "  '0.00' '0.00']\n",
      " ['-1.00' '0.00' '0.00' '0.00' '0.00' '-1.00' '0.00' '-1.00' '0.00'\n",
      "  '0.00' '0.00' '0.00']\n",
      " ['0.00' '0.00' '-1.00' '0.00' '-1.00' '0.00' '-1.00' '0.00' '0.00'\n",
      "  '0.00' '0.00' '0.00']\n",
      " ['0.00' '0.00' '-1.00' '-1.00' '0.00' '0.00' '1.00' '1.00' '1.00' '0.00'\n",
      "  '0.00' '0.00']\n",
      " ['1.00' '1.00' '1.00' '-1.00' '0.00' '0.00' '0.00' '-1.00' '0.00' '0.00'\n",
      "  '0.00' '0.00']\n",
      " ['0.00' '-1.00' '0.00' '1.00' '1.00' '1.00' '-1.00' '0.00' '0.00' '0.00'\n",
      "  '0.00' '0.00']\n",
      " ['0.00' '-1.00' '0.00' '0.00' '0.00' '-1.00' '1.00' '1.00' '1.00' '0.00'\n",
      "  '0.00' '0.00']\n",
      " ['1.00' '1.00' '1.00' '0.00' '-1.00' '0.00' '0.00' '0.00' '-1.00' '0.00'\n",
      "  '0.00' '0.00']\n",
      " ['-1.00' '0.00' '0.00' '1.00' '1.00' '1.00' '0.00' '0.00' '-1.00' '0.00'\n",
      "  '0.00' '0.00']\n",
      " ['-1.00' '0.00' '0.00' '0.00' '-1.00' '0.00' '0.00' '0.00' '-1.00'\n",
      "  '0.00' '0.00' '0.00']\n",
      " ['0.00' '-1.00' '0.00' '-1.00' '0.00' '0.00' '1.00' '1.00' '1.00' '0.00'\n",
      "  '0.00' '0.00']\n",
      " ['1.00' '1.00' '1.00' '0.00' '0.00' '-1.00' '0.00' '-1.00' '0.00' '0.00'\n",
      "  '0.00' '0.00']\n",
      " ['0.00' '0.00' '-1.00' '1.00' '1.00' '1.00' '-1.00' '0.00' '0.00' '0.00'\n",
      "  '0.00' '0.00']\n",
      " ['0.00' '0.00' '-1.00' '-1.00' '0.00' '0.00' '0.00' '-1.00' '0.00'\n",
      "  '0.00' '0.00' '0.00']\n",
      " ['0.00' '-1.00' '0.00' '0.00' '0.00' '-1.00' '-1.00' '0.00' '0.00'\n",
      "  '0.00' '0.00' '0.00']\n",
      " ['-1.00' '0.00' '0.00' '0.00' '0.00' '-1.00' '1.00' '1.00' '1.00' '0.00'\n",
      "  '0.00' '0.00']\n",
      " ['-1.00' '0.00' '0.00' '1.00' '1.00' '1.00' '0.00' '-1.00' '0.00' '0.00'\n",
      "  '0.00' '0.00']\n",
      " ['1.00' '1.00' '1.00' '0.00' '-1.00' '0.00' '-1.00' '0.00' '0.00' '0.00'\n",
      "  '0.00' '0.00']\n",
      " ['0.00' '0.00' '-1.00' '0.00' '-1.00' '0.00' '1.00' '1.00' '1.00' '0.00'\n",
      "  '0.00' '0.00']\n",
      " ['0.00' '-1.00' '0.00' '1.00' '1.00' '1.00' '0.00' '0.00' '-1.00' '0.00'\n",
      "  '0.00' '0.00']\n",
      " ['1.00' '1.00' '1.00' '-1.00' '0.00' '0.00' '0.00' '0.00' '-1.00' '0.00'\n",
      "  '0.00' '0.00']\n",
      " ['0.00' '1.00' '0.00' '1.00' '0.00' '0.00' '0.00' '0.00' '1.00' '0.00'\n",
      "  '0.00' '0.00']\n",
      " ['1.00' '0.00' '0.00' '0.00' '1.00' '0.00' '-1.00' '-1.00' '-1.00'\n",
      "  '0.00' '0.00' '0.00']\n",
      " ['0.00' '0.00' '1.00' '-1.00' '-1.00' '-1.00' '0.00' '1.00' '0.00'\n",
      "  '0.00' '0.00' '0.00']\n",
      " ['-1.00' '-1.00' '-1.00' '0.00' '0.00' '1.00' '1.00' '0.00' '0.00'\n",
      "  '0.00' '0.00' '0.00']\n",
      " ['1.00' '0.00' '0.00' '0.00' '0.00' '1.00' '0.00' '1.00' '0.00' '0.00'\n",
      "  '0.00' '0.00']\n",
      " ['0.00' '0.00' '1.00' '0.00' '1.00' '0.00' '1.00' '0.00' '0.00' '0.00'\n",
      "  '0.00' '0.00']\n",
      " ['0.00' '0.00' '1.00' '1.00' '0.00' '0.00' '-1.00' '-1.00' '-1.00'\n",
      "  '0.00' '0.00' '0.00']\n",
      " ['-1.00' '-1.00' '-1.00' '1.00' '0.00' '0.00' '0.00' '1.00' '0.00'\n",
      "  '0.00' '0.00' '0.00']\n",
      " ['0.00' '1.00' '0.00' '-1.00' '-1.00' '-1.00' '1.00' '0.00' '0.00'\n",
      "  '0.00' '0.00' '0.00']\n",
      " ['0.00' '1.00' '0.00' '0.00' '0.00' '1.00' '-1.00' '-1.00' '-1.00'\n",
      "  '0.00' '0.00' '0.00']\n",
      " ['-1.00' '-1.00' '-1.00' '0.00' '1.00' '0.00' '0.00' '0.00' '1.00'\n",
      "  '0.00' '0.00' '0.00']\n",
      " ['1.00' '0.00' '0.00' '-1.00' '-1.00' '-1.00' '0.00' '0.00' '1.00'\n",
      "  '0.00' '0.00' '0.00']] \n",
      "\n"
     ]
    }
   ],
   "source": [
    "#Final energy\n",
    "print(\"Final energy = %s eV \\n\" % mgo_output.final_energy())\n",
    "\n",
    "#Fermi energy\n",
    "print(\"Fermi energy = %s eV \\n\" % mgo_output.fermi_energy())\n",
    "\n",
    "#Primitive lattice\n",
    "print(\"Primitive lattice \\n %s \\n\" % mgo_output.primitive_lattice())\n",
    "\n",
    "#Reciprocal lattice\n",
    "print(\"Reciprocal lattice \\n %s \\n\" % mgo_output.reciprocal_lattice())\n",
    "\n",
    "#Band gap\n",
    "print(\"Band gap = %s eV \\n\" % mgo_output.get_band_gap())\n",
    "\n",
    "#Last geometry\n",
    "print(\"Last geometry = \\n %s \\n\" % mgo_output.extract_last_geom(print_cart=True))\n",
    "\n",
    "#Symmetry operators\n",
    "print(\"Symmetry operators = \\n %s \\n\" % mgo_output.symm_ops())"
   ]
  },
  {
   "cell_type": "code",
   "execution_count": null,
   "id": "62d4732b",
   "metadata": {},
   "outputs": [],
   "source": []
  }
 ],
 "metadata": {
  "kernelspec": {
   "display_name": "Python 3 (ipykernel)",
   "language": "python",
   "name": "python3"
  },
  "language_info": {
   "codemirror_mode": {
    "name": "ipython",
    "version": 3
   },
   "file_extension": ".py",
   "mimetype": "text/x-python",
   "name": "python",
   "nbconvert_exporter": "python",
   "pygments_lexer": "ipython3",
   "version": "3.9.7"
  }
 },
 "nbformat": 4,
 "nbformat_minor": 5
}
