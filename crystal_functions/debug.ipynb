{
 "cells": [
  {
   "cell_type": "code",
   "execution_count": null,
   "id": "58d63fd5",
   "metadata": {},
   "outputs": [],
   "source": [
    "#ls"
   ]
  },
  {
   "cell_type": "code",
   "execution_count": 1,
   "id": "c4568fa4",
   "metadata": {},
   "outputs": [],
   "source": [
    "from file_readwrite import *\n",
    "from plot import *"
   ]
  },
  {
   "cell_type": "code",
   "execution_count": 2,
   "id": "e8fc5b6e",
   "metadata": {},
   "outputs": [],
   "source": [
    "seebeck= Properties_output().read_cry_seebeck('./transport_zrnins_inter_SEEBECK.DAT')"
   ]
  },
  {
   "cell_type": "code",
   "execution_count": 3,
   "id": "fcdb60bb",
   "metadata": {},
   "outputs": [],
   "source": [
    "seebeck2= Properties_output().read_cry_seebeck('./transport_zrnins_sb_SEEBECK.DAT')"
   ]
  },
  {
   "cell_type": "code",
   "execution_count": 4,
   "id": "e6710a27",
   "metadata": {},
   "outputs": [],
   "source": [
    "seebeck3= Properties_output().read_cry_seebeck('./transport_zrnins_antisito_SEEBECK.DAT')"
   ]
  },
  {
   "cell_type": "code",
   "execution_count": 5,
   "id": "b9fbeacb",
   "metadata": {},
   "outputs": [],
   "source": [
    "seebeck4= Properties_output().read_cry_seebeck('./boltz_final_newk60_SEEBECK.DAT')"
   ]
  },
  {
   "cell_type": "code",
   "execution_count": 3,
   "id": "f2d28291",
   "metadata": {},
   "outputs": [
    {
     "ename": "NameError",
     "evalue": "name 'seebeck2' is not defined",
     "output_type": "error",
     "traceback": [
      "\u001b[1;31m---------------------------------------------------------------------------\u001b[0m",
      "\u001b[1;31mNameError\u001b[0m                                 Traceback (most recent call last)",
      "Input \u001b[1;32mIn [3]\u001b[0m, in \u001b[0;36m<cell line: 1>\u001b[1;34m()\u001b[0m\n\u001b[1;32m----> 1\u001b[0m plot_cry_multiseebeck(seebeck, \u001b[43mseebeck2\u001b[49m, seebeck3, seebeck4)\n",
      "\u001b[1;31mNameError\u001b[0m: name 'seebeck2' is not defined"
     ]
    }
   ],
   "source": [
    "plot_cry_multiseebeck(seebeck, seebeck2, seebeck3, seebeck4)"
   ]
  },
  {
   "cell_type": "code",
   "execution_count": null,
   "id": "a77d91f3",
   "metadata": {},
   "outputs": [],
   "source": [
    "plot_cry_seebeck_potential(seebeck)"
   ]
  },
  {
   "cell_type": "code",
   "execution_count": null,
   "id": "75c56955",
   "metadata": {},
   "outputs": [],
   "source": []
  }
 ],
 "metadata": {
  "kernelspec": {
   "display_name": "Python 3 (ipykernel)",
   "language": "python",
   "name": "python3"
  },
  "language_info": {
   "codemirror_mode": {
    "name": "ipython",
    "version": 3
   },
   "file_extension": ".py",
   "mimetype": "text/x-python",
   "name": "python",
   "nbconvert_exporter": "python",
   "pygments_lexer": "ipython3",
   "version": "3.9.12"
  }
 },
 "nbformat": 4,
 "nbformat_minor": 5
}
