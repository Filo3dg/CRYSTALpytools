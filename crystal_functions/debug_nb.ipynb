{
 "cells": [
  {
   "cell_type": "code",
   "execution_count": null,
   "id": "b9a8bf47",
   "metadata": {},
   "outputs": [],
   "source": [
    "from file_readwrite import *\n",
    "from plot import *"
   ]
  },
  {
   "cell_type": "code",
   "execution_count": null,
   "id": "93bcf64e",
   "metadata": {},
   "outputs": [],
   "source": [
    "urea_contour_plot = Properties_output().read_cry_contour('./pl2d_cry.SURFKKIN')"
   ]
  },
  {
   "cell_type": "code",
   "execution_count": null,
   "id": "af542a10",
   "metadata": {},
   "outputs": [],
   "source": [
    "plot_cry_contour(urea_contour_plot)"
   ]
  },
  {
   "cell_type": "code",
   "execution_count": null,
   "id": "11970186",
   "metadata": {},
   "outputs": [],
   "source": [
    "#ref"
   ]
  },
  {
   "cell_type": "code",
   "execution_count": null,
   "id": "662fab5f",
   "metadata": {},
   "outputs": [],
   "source": [
    "urea_contour_plot_ref = Properties_output().read_cry_contour('./pl2d_cry_pato.SURFKKIN')"
   ]
  },
  {
   "cell_type": "code",
   "execution_count": null,
   "id": "77932029",
   "metadata": {},
   "outputs": [],
   "source": [
    "#plot_cry_contour(urea_contour_plot_ref)"
   ]
  },
  {
   "cell_type": "code",
   "execution_count": null,
   "id": "dd353b6a",
   "metadata": {},
   "outputs": [],
   "source": [
    "plot_cry_contour_differences(urea_contour_plot,urea_contour_plot_ref)"
   ]
  },
  {
   "cell_type": "code",
   "execution_count": null,
   "id": "86c23c3a",
   "metadata": {},
   "outputs": [],
   "source": []
  },
  {
   "cell_type": "code",
   "execution_count": null,
   "id": "6ebae76c",
   "metadata": {},
   "outputs": [],
   "source": []
  },
  {
   "cell_type": "code",
   "execution_count": null,
   "id": "bb8324e6",
   "metadata": {},
   "outputs": [],
   "source": []
  }
 ],
 "metadata": {
  "kernelspec": {
   "display_name": "Python 3 (ipykernel)",
   "language": "python",
   "name": "python3"
  },
  "language_info": {
   "codemirror_mode": {
    "name": "ipython",
    "version": 3
   },
   "file_extension": ".py",
   "mimetype": "text/x-python",
   "name": "python",
   "nbconvert_exporter": "python",
   "pygments_lexer": "ipython3",
   "version": "3.8.12"
  }
 },
 "nbformat": 4,
 "nbformat_minor": 5
}
