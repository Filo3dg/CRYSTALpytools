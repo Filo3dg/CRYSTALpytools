{
 "cells": [
  {
   "cell_type": "markdown",
   "id": "605cc082",
   "metadata": {},
   "source": [
    "# Unit tests notebook"
   ]
  },
  {
   "cell_type": "markdown",
   "id": "1fca47e0",
   "metadata": {},
   "source": [
    "# file_readwrite"
   ]
  },
  {
   "cell_type": "markdown",
   "id": "719bc49a",
   "metadata": {},
   "source": [
    "### Crystal_input"
   ]
  },
  {
   "cell_type": "code",
   "execution_count": 2,
   "id": "9352e624",
   "metadata": {},
   "outputs": [
    {
     "name": "stdout",
     "output_type": "stream",
     "text": [
      "File for input testing: ./data_test/mgo.d12\n"
     ]
    },
    {
     "data": {
      "text/html": [
       "<div>\n",
       "<style scoped>\n",
       "    .dataframe tbody tr th:only-of-type {\n",
       "        vertical-align: middle;\n",
       "    }\n",
       "\n",
       "    .dataframe tbody tr th {\n",
       "        vertical-align: top;\n",
       "    }\n",
       "\n",
       "    .dataframe thead th {\n",
       "        text-align: right;\n",
       "    }\n",
       "</style>\n",
       "<table border=\"1\" class=\"dataframe\">\n",
       "  <thead>\n",
       "    <tr style=\"text-align: right;\">\n",
       "      <th></th>\n",
       "      <th>0</th>\n",
       "    </tr>\n",
       "  </thead>\n",
       "  <tbody>\n",
       "    <tr>\n",
       "      <th>geom_block</th>\n",
       "      <td>True</td>\n",
       "    </tr>\n",
       "    <tr>\n",
       "      <th>bs_block</th>\n",
       "      <td>True</td>\n",
       "    </tr>\n",
       "    <tr>\n",
       "      <th>func_block</th>\n",
       "      <td>True</td>\n",
       "    </tr>\n",
       "    <tr>\n",
       "      <th>scf_block</th>\n",
       "      <td>True</td>\n",
       "    </tr>\n",
       "    <tr>\n",
       "      <th>add_ghost</th>\n",
       "      <td>True</td>\n",
       "    </tr>\n",
       "    <tr>\n",
       "      <th>sp_to_opt</th>\n",
       "      <td>True</td>\n",
       "    </tr>\n",
       "    <tr>\n",
       "      <th>opt_to_sp</th>\n",
       "      <td>True</td>\n",
       "    </tr>\n",
       "  </tbody>\n",
       "</table>\n",
       "</div>"
      ],
      "text/plain": [
       "               0\n",
       "geom_block  True\n",
       "bs_block    True\n",
       "func_block  True\n",
       "scf_block   True\n",
       "add_ghost   True\n",
       "sp_to_opt   True\n",
       "opt_to_sp   True"
      ]
     },
     "execution_count": 2,
     "metadata": {},
     "output_type": "execute_result"
    }
   ],
   "source": [
    "import sys\n",
    "sys.path.insert(1,'../crystal_functions/')\n",
    "from unit_test import *\n",
    "import pandas as pd\n",
    "#from crystal_functions.unit_test import *\n",
    "\n",
    "input_test = crystal_input_test('./data_test/')\n",
    "\n",
    "pd.DataFrame(input_test[1],input_test[0])"
   ]
  },
  {
   "cell_type": "markdown",
   "id": "d6272357",
   "metadata": {},
   "source": [
    "### Crystal_output"
   ]
  },
  {
   "cell_type": "code",
   "execution_count": 1,
   "id": "80e29c9f",
   "metadata": {},
   "outputs": [
    {
     "name": "stdout",
     "output_type": "stream",
     "text": [
      "File for input testing: ./data_test/mgo.out\n"
     ]
    },
    {
     "data": {
      "text/html": [
       "<div>\n",
       "<style scoped>\n",
       "    .dataframe tbody tr th:only-of-type {\n",
       "        vertical-align: middle;\n",
       "    }\n",
       "\n",
       "    .dataframe tbody tr th {\n",
       "        vertical-align: top;\n",
       "    }\n",
       "\n",
       "    .dataframe thead th {\n",
       "        text-align: right;\n",
       "    }\n",
       "</style>\n",
       "<table border=\"1\" class=\"dataframe\">\n",
       "  <thead>\n",
       "    <tr style=\"text-align: right;\">\n",
       "      <th></th>\n",
       "      <th>0</th>\n",
       "    </tr>\n",
       "  </thead>\n",
       "  <tbody>\n",
       "    <tr>\n",
       "      <th>converged</th>\n",
       "      <td>True</td>\n",
       "    </tr>\n",
       "    <tr>\n",
       "      <th>get_dimensionality</th>\n",
       "      <td>True</td>\n",
       "    </tr>\n",
       "    <tr>\n",
       "      <th>get_final_energy</th>\n",
       "      <td>True</td>\n",
       "    </tr>\n",
       "    <tr>\n",
       "      <th>get_scf_convergence</th>\n",
       "      <td>True</td>\n",
       "    </tr>\n",
       "    <tr>\n",
       "      <th>get_num_cycles</th>\n",
       "      <td>True</td>\n",
       "    </tr>\n",
       "    <tr>\n",
       "      <th>get_fermi_energy</th>\n",
       "      <td>True</td>\n",
       "    </tr>\n",
       "    <tr>\n",
       "      <th>get_primitive_lattice</th>\n",
       "      <td>True</td>\n",
       "    </tr>\n",
       "    <tr>\n",
       "      <th>get_reciprocal_lattice</th>\n",
       "      <td>True</td>\n",
       "    </tr>\n",
       "    <tr>\n",
       "      <th>get_band_gap</th>\n",
       "      <td>True</td>\n",
       "    </tr>\n",
       "    <tr>\n",
       "      <th>get_last_geom</th>\n",
       "      <td>True</td>\n",
       "    </tr>\n",
       "    <tr>\n",
       "      <th>get_symm_ops</th>\n",
       "      <td>True</td>\n",
       "    </tr>\n",
       "    <tr>\n",
       "      <th>get_forces</th>\n",
       "      <td>True</td>\n",
       "    </tr>\n",
       "    <tr>\n",
       "      <th>get_mulliken_charges</th>\n",
       "      <td>True</td>\n",
       "    </tr>\n",
       "  </tbody>\n",
       "</table>\n",
       "</div>"
      ],
      "text/plain": [
       "                           0\n",
       "converged               True\n",
       "get_dimensionality      True\n",
       "get_final_energy        True\n",
       "get_scf_convergence     True\n",
       "get_num_cycles          True\n",
       "get_fermi_energy        True\n",
       "get_primitive_lattice   True\n",
       "get_reciprocal_lattice  True\n",
       "get_band_gap            True\n",
       "get_last_geom           True\n",
       "get_symm_ops            True\n",
       "get_forces              True\n",
       "get_mulliken_charges    True"
      ]
     },
     "execution_count": 1,
     "metadata": {},
     "output_type": "execute_result"
    }
   ],
   "source": [
    "import sys\n",
    "sys.path.insert(1,'../crystal_functions/')\n",
    "from unit_test import *\n",
    "import pandas as pd\n",
    "\n",
    "output_test = crystal_output_test('./data_test/')\n",
    "\n",
    "pd.DataFrame(output_test[1],output_test[0])"
   ]
  },
  {
   "cell_type": "markdown",
   "id": "a84e073e",
   "metadata": {},
   "source": [
    "# convert"
   ]
  },
  {
   "cell_type": "code",
   "execution_count": 1,
   "id": "2fddc51b",
   "metadata": {},
   "outputs": [
    {
     "name": "stdout",
     "output_type": "stream",
     "text": [
      "[[0.         2.12011001 2.12011001]\n",
      " [2.12011001 0.         2.12011001]\n",
      " [2.12011001 2.12011001 0.        ]]\n",
      "[[-1.29819297e-16  2.12011001e+00  2.12011001e+00]\n",
      " [ 2.12011001e+00  0.00000000e+00  2.12011001e+00]\n",
      " [ 2.12011001e+00  2.12011001e+00  2.59638594e-16]]\n"
     ]
    },
    {
     "data": {
      "text/html": [
       "<div>\n",
       "<style scoped>\n",
       "    .dataframe tbody tr th:only-of-type {\n",
       "        vertical-align: middle;\n",
       "    }\n",
       "\n",
       "    .dataframe tbody tr th {\n",
       "        vertical-align: top;\n",
       "    }\n",
       "\n",
       "    .dataframe thead th {\n",
       "        text-align: right;\n",
       "    }\n",
       "</style>\n",
       "<table border=\"1\" class=\"dataframe\">\n",
       "  <thead>\n",
       "    <tr style=\"text-align: right;\">\n",
       "      <th></th>\n",
       "      <th>0</th>\n",
       "    </tr>\n",
       "  </thead>\n",
       "  <tbody>\n",
       "    <tr>\n",
       "      <th>cry_out2pmg</th>\n",
       "      <td>True</td>\n",
       "    </tr>\n",
       "    <tr>\n",
       "      <th>cry_gui2pmg</th>\n",
       "      <td>True</td>\n",
       "    </tr>\n",
       "  </tbody>\n",
       "</table>\n",
       "</div>"
      ],
      "text/plain": [
       "                0\n",
       "cry_out2pmg  True\n",
       "cry_gui2pmg  True"
      ]
     },
     "execution_count": 1,
     "metadata": {},
     "output_type": "execute_result"
    }
   ],
   "source": [
    "import sys\n",
    "sys.path.insert(1,'../crystal_functions/')\n",
    "from unit_test import *\n",
    "import pandas as pd\n",
    "\n",
    "output_test = convert_test('./data_test/')\n",
    "\n",
    "pd.DataFrame(output_test[1],output_test[0])"
   ]
  },
  {
   "cell_type": "code",
   "execution_count": 4,
   "id": "939711e5",
   "metadata": {},
   "outputs": [
    {
     "data": {
      "text/plain": [
       "True"
      ]
     },
     "execution_count": 4,
     "metadata": {},
     "output_type": "execute_result"
    }
   ],
   "source": [
    "\n",
    "import numpy as np\n",
    "a = np.array([[0.    , 2.1085, 2.1085],\n",
    "       [2.1085, 0.    , 2.1085],\n",
    "       [2.1085, 2.1085, 0.    ]])\n",
    "b = np.array([[0.    , 2.1085, 2.1085],\n",
    "       [2.1085, 0.    , 2.1085],\n",
    "       [2.1085, 2.1085, 0.    ]])\n",
    "\n",
    "np.all(a == b)"
   ]
  },
  {
   "cell_type": "code",
   "execution_count": 8,
   "id": "acd4de55",
   "metadata": {},
   "outputs": [
    {
     "data": {
      "text/plain": [
       "['MGO BULK - GEOMETRY TEST\\n',\n",
       " 'CRYSTAL\\n',\n",
       " '0 0 0\\n',\n",
       " '225\\n',\n",
       " '4.217\\n',\n",
       " '2\\n',\n",
       " '12 0.    0.    0.\\n',\n",
       " '8 0.5   0.5   0.5\\n',\n",
       " 'END\\n']"
      ]
     },
     "execution_count": 8,
     "metadata": {},
     "output_type": "execute_result"
    }
   ],
   "source": [
    "from crystal_functions.file_readwrite import Crystal_input\n",
    "tst = Crystal_input('./data_test/mgo.d12')\n",
    "tst.sp_to_opt()\n",
    "tst.opt_to_sp()\n",
    "tst.geom_block"
   ]
  }
 ],
 "metadata": {
  "kernelspec": {
   "display_name": "Python 3 (ipykernel)",
   "language": "python",
   "name": "python3"
  },
  "language_info": {
   "codemirror_mode": {
    "name": "ipython",
    "version": 3
   },
   "file_extension": ".py",
   "mimetype": "text/x-python",
   "name": "python",
   "nbconvert_exporter": "python",
   "pygments_lexer": "ipython3",
   "version": "3.9.10"
  }
 },
 "nbformat": 4,
 "nbformat_minor": 5
}
