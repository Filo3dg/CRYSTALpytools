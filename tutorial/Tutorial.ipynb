{
 "cells": [
  {
   "cell_type": "markdown",
   "id": "ef2ddff6",
   "metadata": {},
   "source": [
    "# crystal_functions tutorial"
   ]
  },
  {
   "cell_type": "markdown",
   "id": "73ebacf6",
   "metadata": {},
   "source": [
    "## CRYSTAL input"
   ]
  },
  {
   "cell_type": "markdown",
   "id": "ea468f9d",
   "metadata": {},
   "source": [
    "First, functions need to be imported. Since crystal_functions was installed via pip, python already knows where to find it. Therefore, all functions can be imported following this logic:\n",
    "\n",
    "```console\n",
    "from crystal_functions.module_name import function_name\n",
    "```\n",
    "In this first exercise, we need to use the Crystal_input class that sits in the file_readwrite module:"
   ]
  },
  {
   "cell_type": "code",
   "execution_count": 1,
   "id": "ab4173e9",
   "metadata": {},
   "outputs": [],
   "source": [
    "#from crystal_functions.file_readwrite import Crystal_input\n",
    "\n",
    "import sys\n",
    "sys.path.insert(1, '../crystal_functions/')\n",
    "from file_readwrite import Crystal_input, Crystal_output, Properties_input, Crystal_gui, Properties_output, write_properties_input\n",
    "from convert import *"
   ]
  },
  {
   "cell_type": "markdown",
   "id": "128f57dc",
   "metadata": {},
   "source": [
    "### Build the input from blocks"
   ]
  },
  {
   "cell_type": "markdown",
   "id": "a2ed704a",
   "metadata": {},
   "source": [
    "The first exercise will be creating and writing a CRYSTAL input file. We will see later a more convenient way to do this, but for now we are just going to pass crystal_functions a list of parameters that we need to build the input and then write it. This corresponds to manually writing to file, but instead of writing to file we are creating python lists (delimited by square brackets and using commas as separators):"
   ]
  },
  {
   "cell_type": "code",
   "execution_count": 2,
   "id": "235c6db0",
   "metadata": {},
   "outputs": [],
   "source": [
    "geom_block = ['CRYSTAL\\n',\n",
    "             '0 0 0\\n',\n",
    "             '225\\n',\n",
    "             '4.217\\n',\n",
    "             '2\\n',\n",
    "             '12 0.    0.    0.\\n',\n",
    "             '8 0.5   0.5   0.5\\n']\n",
    "bs_block   = ['BASISSET\\n','POB-DZVP\\n']\n",
    "func_block = ['DFT\\n', 'B3LYP\\n', 'XXLGRID\\n', 'ENDDFT\\n']\n",
    "scf_block  = [['TOLINTEG\\n', '7 7 7 7 14\\n'],\n",
    "             ['SHRINK\\n', '12 24\\n'],\n",
    "             ['MAXCYCLE\\n', '200\\n'],\n",
    "             ['FMIXING\\n', '70\\n'],\n",
    "             'DIIS\\n',\n",
    "             'ENDSCF\\n']\n",
    "title = 'MgO crystal_functions tutorial' #optional"
   ]
  },
  {
   "cell_type": "markdown",
   "id": "28d6f4bb",
   "metadata": {},
   "source": [
    "Then we need to create the Crystal_input object. This is called initialising the object:"
   ]
  },
  {
   "cell_type": "code",
   "execution_count": 3,
   "id": "1a658578",
   "metadata": {},
   "outputs": [],
   "source": [
    "mgo_input = Crystal_input()"
   ]
  },
  {
   "cell_type": "markdown",
   "id": "a2ddbef6",
   "metadata": {},
   "source": [
    "If we try to see what mgo_input, by executing the following command:"
   ]
  },
  {
   "cell_type": "code",
   "execution_count": 4,
   "id": "4466c4bf",
   "metadata": {},
   "outputs": [
    {
     "name": "stdout",
     "output_type": "stream",
     "text": [
      "<file_readwrite.Crystal_input object at 0x107e07f40>\n"
     ]
    }
   ],
   "source": [
    "print(mgo_input)"
   ]
  },
  {
   "cell_type": "markdown",
   "id": "3f770df1",
   "metadata": {},
   "source": [
    "You can see this is an object of the class file_readwrite.Crystal_input.\n",
    "\n",
    "Now that the object has been initialised, we want to add information to it and that is when the lists we prepared earlier will be used. We are going to use the from_file function, which belongs to the Crystal_input class. If you are not familiar with python, you only need to know that if a function belongs to a class, it is called by adding .function_name() after the object created by the class. In this instance, mgo_input is an object of the Crystal_input class. Therefore, to use a function on it we will use:\n",
    "\n",
    "```console\n",
    "mgo_input.from_blocks()\n",
    "```\n",
    "We are first going to execute the command above and see the error message because it is very informative. \n"
   ]
  },
  {
   "cell_type": "code",
   "execution_count": 5,
   "id": "655e6e61",
   "metadata": {},
   "outputs": [],
   "source": [
    "#mgo_input.from_blocks()"
   ]
  },
  {
   "cell_type": "markdown",
   "id": "f3df3356",
   "metadata": {},
   "source": [
    "This can be used everytime we are not sure about the arguments for a function. You should see that the from_blocks() takes four positional arguments. Positional, in this context means mandatory. There is also a fifth optional one, which is “title”. The reason why this is optional is because a default value has already been defined in the function itself.\n",
    "\n",
    "Now we can run the command "
   ]
  },
  {
   "cell_type": "code",
   "execution_count": 6,
   "id": "d340943a",
   "metadata": {},
   "outputs": [],
   "source": [
    "mgo_input.from_blocks(geom_block=geom_block, bs_block=bs_block, \n",
    "                                        func_block=func_block, scf_block=scf_block, title=title)"
   ]
  },
  {
   "cell_type": "markdown",
   "id": "eb573263",
   "metadata": {},
   "source": [
    "If we didn’t include title, crystal_functions would use “crystal_functions generated input” as first line of the input.\n",
    "\n",
    "Now mgo_input will contain the information about the different blocks. We can test this by executing:"
   ]
  },
  {
   "cell_type": "code",
   "execution_count": 7,
   "id": "f5796013",
   "metadata": {},
   "outputs": [
    {
     "data": {
      "text/plain": [
       "['CRYSTAL\\n',\n",
       " '0 0 0\\n',\n",
       " '225\\n',\n",
       " '4.217\\n',\n",
       " '2\\n',\n",
       " '12 0.    0.    0.\\n',\n",
       " '8 0.5   0.5   0.5\\n']"
      ]
     },
     "execution_count": 7,
     "metadata": {},
     "output_type": "execute_result"
    }
   ],
   "source": [
    "mgo_input.geom_block"
   ]
  },
  {
   "cell_type": "markdown",
   "id": "4cb2893d",
   "metadata": {},
   "source": [
    "This displays the geom_block. \n",
    "\n",
    "You can also visualise the whole input by using:"
   ]
  },
  {
   "cell_type": "code",
   "execution_count": 8,
   "id": "94039878",
   "metadata": {},
   "outputs": [
    {
     "name": "stdout",
     "output_type": "stream",
     "text": [
      "MgO crystal_functions tutorial\n",
      "CRYSTAL\n",
      "0 0 0\n",
      "225\n",
      "4.217\n",
      "2\n",
      "12 0.    0.    0.\n",
      "8 0.5   0.5   0.5\n",
      "BASISSET\n",
      "POB-DZVP\n",
      "DFT\n",
      "B3LYP\n",
      "XXLGRID\n",
      "ENDDFT\n",
      "TOLINTEG\n",
      "7 7 7 7 14\n",
      "SHRINK\n",
      "12 24\n",
      "MAXCYCLE\n",
      "200\n",
      "FMIXING\n",
      "70\n",
      "DIIS\n",
      "ENDSCF\n"
     ]
    }
   ],
   "source": [
    "mgo_input.print_input()"
   ]
  },
  {
   "cell_type": "markdown",
   "id": "da822921",
   "metadata": {},
   "source": [
    "### Build the input from an existing .d12 file"
   ]
  },
  {
   "cell_type": "markdown",
   "id": "3d6c7a5b",
   "metadata": {},
   "source": [
    "If we already have a CRYSTAL input (.d12) saved to file, we can generate the Crystal_input object by reading this file. The .from_file function takes the path to the input file as an argument:"
   ]
  },
  {
   "cell_type": "code",
   "execution_count": 9,
   "id": "82d40944",
   "metadata": {},
   "outputs": [
    {
     "name": "stdout",
     "output_type": "stream",
     "text": [
      "MGO BULK - GEOMETRY TEST\n",
      "CRYSTAL\n",
      "0 0 0\n",
      "225\n",
      "4.217\n",
      "2\n",
      "12 0.    0.    0.\n",
      "8 0.5   0.5   0.5\n",
      "END\n",
      "12 4\n",
      "0 0 8 2.0 1.0\n",
      " 68370.0 0.0002226\n",
      " 9661.0 0.001901\n",
      " 2041.0 0.011042\n",
      " 529.6 0.05005\n",
      " 159.17 0.1690\n",
      " 54.71 0.36695\n",
      " 21.236 0.4008\n",
      " 8.791 0.1487\n",
      "0 1 5 8.0 1.0\n",
      " 143.7 -0.00671 0.00807\n",
      " 31.27 -0.07927 0.06401\n",
      " 9.661 -0.08088 0.2092\n",
      " 3.726 0.2947 0.3460\n",
      " 1.598 0.5714 0.3731\n",
      "0 1 1 2.0 1.0\n",
      " 0.688 1.0 1.0\n",
      "0 1 1 0.0 1.0\n",
      " 0.28 1.0 1.0\n",
      "8 4\n",
      "0 0 8 2.0 1.0\n",
      " 8020.0 0.00108\n",
      " 1338.0 0.00804\n",
      " 255.4 0.05324\n",
      " 69.22 0.1681\n",
      " 23.90 0.3581\n",
      " 9.264 0.3855\n",
      " 3.851 0.1468\n",
      " 1.212 0.0728\n",
      "0 1 4 6.0 1.0\n",
      " 49.43 -0.00883 0.00958\n",
      " 10.47 -0.0915 0.0696\n",
      " 3.235 -0.0402 0.2065\n",
      " 1.217 0.379 0.347\n",
      "0 1 1 0.0 1.0\n",
      " 0.4764 1.0 1.0\n",
      "0 1 1 0.0 1.0\n",
      " 0.1802 1.0 1.0\n",
      "99 0\n",
      "ENDBS\n",
      "DFT\n",
      "B3LYP\n",
      "XXLGRID\n",
      "ENDDFT\n",
      "TOLINTEG\n",
      "7 7 7 7 14\n",
      "SHRINK\n",
      "12 24\n",
      "MAXCYCLE\n",
      "200\n",
      "FMIXING\n",
      "70\n",
      "DIIS\n",
      "ENDSCF\n"
     ]
    }
   ],
   "source": [
    "mgo_input_2 = Crystal_input()\n",
    "mgo_input_2.from_file('data/mgo.d12')\n",
    "mgo_input_2.print_input()"
   ]
  },
  {
   "cell_type": "markdown",
   "id": "a31dc99d",
   "metadata": {},
   "source": [
    "### Manipulation of the CRYSTAL input"
   ]
  },
  {
   "cell_type": "markdown",
   "id": "2af9f3d7",
   "metadata": {},
   "source": [
    "Once the Crystal_input object was created, we can use its class specific functions to modify it directly in this notebook.\n",
    "\n",
    "The first task will be to transform the input, which is the one for an scf calculations, into a geometry optimisation one. We are going to use the .sp_to_opt() function:"
   ]
  },
  {
   "cell_type": "code",
   "execution_count": 10,
   "id": "69a9922f",
   "metadata": {},
   "outputs": [],
   "source": [
    "mgo_input_2.sp_to_opt()"
   ]
  },
  {
   "cell_type": "markdown",
   "id": "75c25926",
   "metadata": {},
   "source": [
    "Since no arguments were passed to the function, only the OPTGEOM will be added:"
   ]
  },
  {
   "cell_type": "code",
   "execution_count": 11,
   "id": "3ff2352b",
   "metadata": {},
   "outputs": [
    {
     "data": {
      "text/plain": [
       "['CRYSTAL\\n',\n",
       " '0 0 0\\n',\n",
       " '225\\n',\n",
       " '4.217\\n',\n",
       " '2\\n',\n",
       " '12 0.    0.    0.\\n',\n",
       " '8 0.5   0.5   0.5\\n',\n",
       " 'OPTGEOM\\n',\n",
       " 'END\\n',\n",
       " 'END\\n']"
      ]
     },
     "execution_count": 11,
     "metadata": {},
     "output_type": "execute_result"
    }
   ],
   "source": [
    "mgo_input_2.geom_block"
   ]
  },
  {
   "cell_type": "markdown",
   "id": "8822776a",
   "metadata": {},
   "source": [
    "And now let's transform the input back into a single point calculation. \n",
    "\n",
    "**Can you guess what function will perform this task? If so, write in the cell below and print the geom_block to make sure it worked.**"
   ]
  },
  {
   "cell_type": "code",
   "execution_count": 12,
   "id": "cdc3d19f",
   "metadata": {},
   "outputs": [
    {
     "data": {
      "text/plain": [
       "['CRYSTAL\\n',\n",
       " '0 0 0\\n',\n",
       " '225\\n',\n",
       " '4.217\\n',\n",
       " '2\\n',\n",
       " '12 0.    0.    0.\\n',\n",
       " '8 0.5   0.5   0.5\\n',\n",
       " 'END\\n']"
      ]
     },
     "execution_count": 12,
     "metadata": {},
     "output_type": "execute_result"
    }
   ],
   "source": [
    "mgo_input_2.opt_to_sp()\n",
    "mgo_input_2.geom_block"
   ]
  },
  {
   "cell_type": "markdown",
   "id": "f3fd2533",
   "metadata": {},
   "source": [
    "**Now that you have seen how to use functions to act on the Crystal_input object, play with the other functions of the class. What information can be extracted from the Crystal_input object and what actions can be performed on the class?**\n",
    "\n",
    "_Hint: in Jupyter Notebooks, if you click tab after object\\_name. you will see a list of available functions and attributes._"
   ]
  },
  {
   "cell_type": "code",
   "execution_count": 13,
   "id": "a32be014",
   "metadata": {},
   "outputs": [],
   "source": [
    "#mgo_input."
   ]
  },
  {
   "cell_type": "markdown",
   "id": "d7325b6b",
   "metadata": {},
   "source": [
    "### Write the CRYSTAL input to file"
   ]
  },
  {
   "cell_type": "markdown",
   "id": "d9d1b2eb",
   "metadata": {},
   "source": [
    "After generating and modifying the Crystal_input, the next step will be writing it to file. This is because CRYSTAL will need a .d12 input written to file in order to run the calculation. This will be done by using the \n",
    "```console\n",
    "write_crystal_input()\n",
    "```\n",
    "This function is part of the file_readwrite functions, but does not belong to any class. Therefore, it is called by simply using the function name and parsing its variables, as opposite to the functions that we have used so far. \n",
    "\n",
    "First, we will also need to import it since it is not part of the Crystal_input class:"
   ]
  },
  {
   "cell_type": "code",
   "execution_count": 14,
   "id": "db9c2789",
   "metadata": {},
   "outputs": [],
   "source": [
    "from crystal_functions.file_readwrite import write_crystal_input "
   ]
  },
  {
   "cell_type": "markdown",
   "id": "675719ac",
   "metadata": {},
   "source": [
    "Now we can can call the function. It takes two positional arguments:\n",
    "- input_name: name of the file to be written\n",
    "- crystal_input: Crystal_input object"
   ]
  },
  {
   "cell_type": "code",
   "execution_count": 15,
   "id": "59e2b31f",
   "metadata": {},
   "outputs": [],
   "source": [
    "input_name = 'data/mgo_input_tutorial.d12'\n",
    "write_crystal_input(input_name, mgo_input)"
   ]
  },
  {
   "cell_type": "markdown",
   "id": "3595f70b",
   "metadata": {},
   "source": [
    "We can verify the file was written and its content by using the following command, where the ! at the beginning of the line allows to execute bash commands from the Notebook:"
   ]
  },
  {
   "cell_type": "code",
   "execution_count": 16,
   "id": "bf8b9b44",
   "metadata": {},
   "outputs": [
    {
     "name": "stdout",
     "output_type": "stream",
     "text": [
      "CRYSTAL\r\n",
      "0 0 0\r\n",
      "225\r\n",
      "4.217\r\n",
      "2\r\n",
      "12 0.    0.    0.\r\n",
      "8 0.5   0.5   0.5\r\n",
      "BASISSET\r\n",
      "POB-DZVP\r\n",
      "DFT\r\n",
      "B3LYP\r\n",
      "XXLGRID\r\n",
      "ENDDFT\r\n",
      "TOLINTEG\r\n",
      "7 7 7 7 14\r\n",
      "SHRINK\r\n",
      "12 24\r\n",
      "MAXCYCLE\r\n",
      "200\r\n",
      "FMIXING\r\n",
      "70\r\n",
      "DIIS\r\n",
      "ENDSCF\r\n"
     ]
    }
   ],
   "source": [
    "! cat 'data/mgo_input_tutorial.d12'"
   ]
  },
  {
   "cell_type": "markdown",
   "id": "3c738e34",
   "metadata": {},
   "source": [
    "### Set the runcry and runprop path (optional)"
   ]
  },
  {
   "cell_type": "code",
   "execution_count": null,
   "id": "5a43fc95",
   "metadata": {},
   "outputs": [],
   "source": []
  },
  {
   "cell_type": "markdown",
   "id": "b295841b",
   "metadata": {},
   "source": [
    "## CRYSTAL output"
   ]
  },
  {
   "cell_type": "markdown",
   "id": "daed84c4",
   "metadata": {},
   "source": [
    "The same approach we used to read the input, can be applied to reading the CRYSTAL output.\n",
    "\n",
    "**Can you guess what the class that reads the output is called? Please import it in the cell below.**\n",
    "\n",
    "_Hint: What can you see if you type_\n",
    "```console\n",
    "from crystal_functions.file_readwrite import\n",
    "```\n",
    "_and press Tab after the 'import' command? Can you see a class that might read the Crystal_output?_"
   ]
  },
  {
   "cell_type": "code",
   "execution_count": 17,
   "id": "27a70513",
   "metadata": {},
   "outputs": [],
   "source": [
    "#from crystal_functions.file_readwrite import Crystal_output"
   ]
  },
  {
   "cell_type": "markdown",
   "id": "88b8dbe7",
   "metadata": {},
   "source": [
    "For this example we are going to use the 'data/mgo_optgeom.out'.\n",
    "\n",
    "Like for the Crystal_input, we will first initialise the object and then read the file."
   ]
  },
  {
   "cell_type": "code",
   "execution_count": 18,
   "id": "c578f54e",
   "metadata": {},
   "outputs": [],
   "source": [
    "mgo_output = Crystal_output()\n",
    "mgo_output.read_cry_output('data/mgo_optgeom.out')"
   ]
  },
  {
   "cell_type": "markdown",
   "id": "9a25ba1f",
   "metadata": {},
   "source": [
    "Now that the mgo_output was created and the CRYSTAL output file was read, the functions belonging to the Crystal_object class can be used to extract information from the object itself.\n",
    "\n",
    "For example, let's see what the final energy of the system is. For this we will use the function:"
   ]
  },
  {
   "cell_type": "code",
   "execution_count": 19,
   "id": "c7a0f7b1",
   "metadata": {},
   "outputs": [
    {
     "data": {
      "text/plain": [
       "-7495.341792877063"
      ]
     },
     "execution_count": 19,
     "metadata": {},
     "output_type": "execute_result"
    }
   ],
   "source": [
    "mgo_output.get_final_energy()"
   ]
  },
  {
   "cell_type": "markdown",
   "id": "64662291",
   "metadata": {},
   "source": [
    "**Explore what other information can be extracted from the Crystal_output object by completing the code in the cell below:**\n",
    "\n",
    "_Hint: remember the Tab key is your friend and that in python functions end with ()_"
   ]
  },
  {
   "cell_type": "code",
   "execution_count": 20,
   "id": "638b02cc",
   "metadata": {},
   "outputs": [
    {
     "name": "stdout",
     "output_type": "stream",
     "text": [
      "The dimensionality of the system is 3\n",
      "The band gap of the system is 7.1237 eV\n",
      "The Fermi energy of the system is -4.13671240282 eV\n"
     ]
    }
   ],
   "source": [
    "print('The dimensionality of the system is %s'%mgo_output.get_dimensionality())\n",
    "print('The band gap of the system is %s eV'%mgo_output.get_band_gap())\n",
    "print('The Fermi energy of the system is %s eV'%mgo_output.get_fermi_energy())"
   ]
  },
  {
   "cell_type": "code",
   "execution_count": 21,
   "id": "4fead9a4",
   "metadata": {},
   "outputs": [],
   "source": [
    "#print('The dimensionality of the system is %s'%mgo_output.INSERT_FUNCTION_HERE)\n",
    "#print('The band gap of the system is %s eV'%mgo_output.INSERT_FUNCTION_HERE)\n",
    "#print('The Fermi energy of the system is %s eV'%mgo_output.INSERT_FUNCTION_HERE)"
   ]
  },
  {
   "cell_type": "markdown",
   "id": "4b8d7c1b",
   "metadata": {},
   "source": [
    "In the cell above, all functions return one value only (a scalar or an integer). Some other functions will return:\n",
    "- other data structure, such as lists, for example the get_mulliken_charges() function\n",
    "- more than one value/structure, for example the get_last_geom() function. Let's have a look at what we get back when we execute this function:"
   ]
  },
  {
   "cell_type": "code",
   "execution_count": 22,
   "id": "b2034fce",
   "metadata": {},
   "outputs": [
    {
     "name": "stderr",
     "output_type": "stream",
     "text": [
      "<frozen importlib._bootstrap>:228: RuntimeWarning: scipy._lib.messagestream.MessageStream size changed, may indicate binary incompatibility. Expected 56 from C header, got 64 from PyObject\n"
     ]
    },
    {
     "data": {
      "text/plain": [
       "[[[0.0, 2.12011000819, 2.12011000819],\n",
       "  [2.12011000819, 0.0, 2.12011000819],\n",
       "  [2.12011000819, 2.12011000819, 0.0]],\n",
       " [12, 8],\n",
       " [[0.0, 0.0, 0.0], [-2.12011000819, -2.12011000819, -2.12011000819]]]"
      ]
     },
     "execution_count": 22,
     "metadata": {},
     "output_type": "execute_result"
    }
   ],
   "source": [
    "mgo_output.get_last_geom()"
   ]
  },
  {
   "cell_type": "markdown",
   "id": "f8128c27",
   "metadata": {},
   "source": [
    "If you would like to know what these values are, the best approach is to have a look at the source code itself. This can be found at this <a href=\"https://github.com/crystal-code-tools/crystal_functions/blob/main/crystal_functions/file_readwrite.py\">link</a> (look for \"get_last_geom\").\n",
    "\n",
    "You should see that the list returned at the end of the function, self.last_geom, contains three elements:\n",
    "- the lattice vectors (2D list)\n",
    "- the atomic numbers (list)\n",
    "- the cartesian coordinates (list)\n",
    "\n",
    "Therefore, a better way to extract information from this function is to assign the values as shown below:"
   ]
  },
  {
   "cell_type": "code",
   "execution_count": 23,
   "id": "28dc9491",
   "metadata": {},
   "outputs": [
    {
     "name": "stdout",
     "output_type": "stream",
     "text": [
      "The system's lattice vectors are:\n",
      " [[0.0, 2.12011000819, 2.12011000819], [2.12011000819, 0.0, 2.12011000819], [2.12011000819, 2.12011000819, 0.0]]\n",
      "The system's atomic numbers are:\n",
      " [12, 8]\n",
      "The system's cartesian coordinates are:\n",
      " [[0.0, 0.0, 0.0], [-2.12011000819, -2.12011000819, -2.12011000819]]\n"
     ]
    }
   ],
   "source": [
    "lattice_vectors, atomic_numbers, cart_coords = mgo_output.get_last_geom()\n",
    "print('The system\\'s lattice vectors are:\\n',lattice_vectors)\n",
    "print('The system\\'s atomic numbers are:\\n',atomic_numbers)\n",
    "print('The system\\'s cartesian coordinates are:\\n',cart_coords)"
   ]
  },
  {
   "cell_type": "markdown",
   "id": "1ff75c48",
   "metadata": {},
   "source": [
    "For a full list of information that can be extracted from the Crystal_output object, please refer to <a href=\"https://github.com/crystal-code-tools/crystal_functions/blob/main/examples/file_readwrite.ipynb\">this example notebook</a>."
   ]
  },
  {
   "cell_type": "markdown",
   "id": "419e9775",
   "metadata": {},
   "source": [
    "## Crystal_gui"
   ]
  },
  {
   "cell_type": "markdown",
   "id": "f87cea20",
   "metadata": {},
   "source": [
    "The Crystal_gui class reads the CRYSTAL .gui (sometimes called .f34 or .optcxxx, where xxx is an integer in geometry optimisations). This object will be used in the convert module discussed below to generate ASE and pymatgen objects from CRYSTAL gui files\n",
    "\n",
    "***Create a Crystal_gui object by reading the mgo_optgeom.gui file contained in the data folder. Then explore what its attributes and functions (if any) are.***"
   ]
  },
  {
   "cell_type": "code",
   "execution_count": 24,
   "id": "18c7de0a",
   "metadata": {},
   "outputs": [],
   "source": [
    "#from crystal_functions.file_readwrite import Crystal_gui"
   ]
  },
  {
   "cell_type": "code",
   "execution_count": 25,
   "id": "6e356710",
   "metadata": {},
   "outputs": [],
   "source": [
    "#mgo_gui = Crystal_gui()\n",
    "#mgo_gui.read_cry_gui('data/mgo_optgeom.gui')"
   ]
  },
  {
   "cell_type": "code",
   "execution_count": 26,
   "id": "382706f3",
   "metadata": {},
   "outputs": [],
   "source": [
    "#print('The lattice is: %s'%mgo_gui.lattice)\n",
    "#print('The atom numbers are: %s'%mgo_gui.atom_number)\n",
    "#print('The cartesian coordinates are: %s'%mgo_gui.atom_positions)"
   ]
  },
  {
   "cell_type": "markdown",
   "id": "253f082c",
   "metadata": {},
   "source": [
    "## properties input"
   ]
  },
  {
   "cell_type": "markdown",
   "id": "2d861aca",
   "metadata": {},
   "source": [
    "The next class we are going to explore is the Properties_input class. This, as the name suggests, is used to create and modify inputs for the properties code. \n",
    "\n",
    "**Import the Properties_input in the cell below:**"
   ]
  },
  {
   "cell_type": "code",
   "execution_count": 27,
   "id": "cea64069",
   "metadata": {},
   "outputs": [],
   "source": [
    "#from crystal_functions.file_readwrite import Properties_input"
   ]
  },
  {
   "cell_type": "markdown",
   "id": "50e2680b",
   "metadata": {},
   "source": [
    "### Band structure"
   ]
  },
  {
   "cell_type": "markdown",
   "id": "ccd5d664",
   "metadata": {},
   "source": [
    "Let's start by initialising the properties input object:"
   ]
  },
  {
   "cell_type": "code",
   "execution_count": 28,
   "id": "911549a1",
   "metadata": {},
   "outputs": [],
   "source": [
    "mgo_bands_input = Properties_input()"
   ]
  },
  {
   "cell_type": "markdown",
   "id": "dfd0f9db",
   "metadata": {},
   "source": [
    "The crystal_functions module allows the user to define the band structure path in different ways. We are going to start with the simple approach of manually defining the fractional coordinate of the k points as a list of lists:"
   ]
  },
  {
   "cell_type": "code",
   "execution_count": 29,
   "id": "36706f1e",
   "metadata": {},
   "outputs": [],
   "source": [
    "k_path = [[0,0,0],[0.5,0,0],[0.5,0.5,0.5],[0.25,0,0.5]]"
   ]
  },
  {
   "cell_type": "markdown",
   "id": "c7acbd90",
   "metadata": {},
   "source": [
    "We also need to define some more parameters to prepare the band structure input:"
   ]
  },
  {
   "cell_type": "code",
   "execution_count": 30,
   "id": "6cbddc0c",
   "metadata": {},
   "outputs": [],
   "source": [
    "n_kpoints = 200 #number of points along the path\n",
    "first_band = 1 \n",
    "last_band = 26"
   ]
  },
  {
   "cell_type": "markdown",
   "id": "e8acf3de",
   "metadata": {},
   "source": [
    "We are now ready to create the property block for the band structure calculation:"
   ]
  },
  {
   "cell_type": "code",
   "execution_count": 31,
   "id": "3430399a",
   "metadata": {},
   "outputs": [
    {
     "data": {
      "text/plain": [
       "['BAND\\n',\n",
       " 'BAND STRUCTURE CALCULATION\\n',\n",
       " '3 4 200 1 26 1 0\\n',\n",
       " '0 0 0  2 0 0\\n',\n",
       " '2 0 0  2 2 2\\n',\n",
       " '2 2 2  1 0 2\\n',\n",
       " 'END\\n']"
      ]
     },
     "execution_count": 31,
     "metadata": {},
     "output_type": "execute_result"
    }
   ],
   "source": [
    "mgo_bands_input.make_bands_block(k_path,n_kpoints, first_band, last_band)"
   ]
  },
  {
   "cell_type": "markdown",
   "id": "79d90a50",
   "metadata": {},
   "source": [
    "As you can see in the cell above, crystal_functions transformed the fractional coordinates of the key points into the shrinking factor/integers structure used by CRYSTAL.\n",
    "\n",
    "We will see later an even easier way to define the k point path by using the pymatgen module.\n",
    "\n",
    "Often, before a properties calculation, we are interested in running a newk calculation. This is a block at the beginning of the properties input. It can be added to the Properties_input object by using:"
   ]
  },
  {
   "cell_type": "code",
   "execution_count": 32,
   "id": "3ff145c4",
   "metadata": {},
   "outputs": [
    {
     "data": {
      "text/plain": [
       "['NEWK\\n', '12 24\\n', '1 0\\n']"
      ]
     },
     "execution_count": 32,
     "metadata": {},
     "output_type": "execute_result"
    }
   ],
   "source": [
    "mgo_bands_input.make_newk_block(12,24)"
   ]
  },
  {
   "cell_type": "markdown",
   "id": "eeb71096",
   "metadata": {},
   "source": [
    "Where 12 and 24 define the k point grids"
   ]
  },
  {
   "cell_type": "markdown",
   "id": "6ca4d812",
   "metadata": {},
   "source": [
    "### Write the properties input to file"
   ]
  },
  {
   "cell_type": "code",
   "execution_count": 33,
   "id": "86f9fd9c",
   "metadata": {},
   "outputs": [],
   "source": [
    "#from crystal_functions.file_readwrite import write_properties_input"
   ]
  },
  {
   "cell_type": "code",
   "execution_count": 34,
   "id": "b667c185",
   "metadata": {},
   "outputs": [],
   "source": [
    "write_properties_input('data/mgo_bands_tutorial.d3',mgo_bands_input)"
   ]
  },
  {
   "cell_type": "markdown",
   "id": "576726ce",
   "metadata": {},
   "source": [
    "And let's confirm the input was written to file:"
   ]
  },
  {
   "cell_type": "code",
   "execution_count": 35,
   "id": "1283eb9b",
   "metadata": {},
   "outputs": [
    {
     "name": "stdout",
     "output_type": "stream",
     "text": [
      "NEWK\r\n",
      "12 24\r\n",
      "1 0\r\n",
      "BAND\r\n",
      "BAND STRUCTURE CALCULATION\r\n",
      "3 4 200 1 26 1 0\r\n",
      "0 0 0  2 0 0\r\n",
      "2 0 0  2 2 2\r\n",
      "2 2 2  1 0 2\r\n",
      "END\r\n"
     ]
    }
   ],
   "source": [
    "! cat data/mgo_bands_tutorial.d3"
   ]
  },
  {
   "cell_type": "markdown",
   "id": "8e44f334",
   "metadata": {},
   "source": [
    "### Density of states"
   ]
  },
  {
   "cell_type": "markdown",
   "id": "a3ce95b3",
   "metadata": {},
   "source": [
    "**Write the input for a MgO PDOS calculation, both with atom and AO projection**\n",
    "\n",
    "_If you are unsure about the parameters for the function, try to see what the error message is when you don't specify any. The projections are lists of lists._"
   ]
  },
  {
   "cell_type": "code",
   "execution_count": 36,
   "id": "b167d7d9",
   "metadata": {},
   "outputs": [],
   "source": [
    "#mgo_pdos = Properties_input()\n",
    "#mgo_pdos.make_pdoss_block([[1],[2]],proj_type='atom', e_range=[-5,10])"
   ]
  },
  {
   "cell_type": "code",
   "execution_count": 37,
   "id": "63d3c7b2",
   "metadata": {},
   "outputs": [],
   "source": [
    "#mgo_pdos = Properties_input()\n",
    "#mgo_pdos.make_pdoss_block([[1,2,3,4,5,6,7,8,9,10,11,12,13],\n",
    "#                           [14,15,16,17,18,19,20,21,22,23,24,25,26]],proj_type='ao', e_range=[-5,10])"
   ]
  },
  {
   "cell_type": "markdown",
   "id": "a0379c47",
   "metadata": {},
   "source": [
    "## properties output"
   ]
  },
  {
   "cell_type": "markdown",
   "id": "1e2ccf47",
   "metadata": {},
   "source": [
    "The crystal_functions module allows the user to read a large variety of properties outputs. The full list can be found at (INSERT LINK TO DOC).\n",
    "\n",
    "The logic follows the Crystal_output class, with the difference that different types output will be read depending on what the property is. The main goal of a properties object will be plotting, so let's start by creating the object and then move onto plotting.\n",
    "\n",
    "***At this stage you should be familiar with the importing the class, initialisation, reading file, extracting properties logic. In the data folder there are the output files for:***\n",
    "- ***band structure (data/mgo_BAND_dat.BAND)***\n",
    "- ***density of states (mgo_DOSS_dat.DOSS)***\n",
    "- ***LET'S ADD A CONTOUR PLOT***"
   ]
  },
  {
   "cell_type": "code",
   "execution_count": 38,
   "id": "dc6a5c44",
   "metadata": {},
   "outputs": [],
   "source": [
    "mgo_bands_output = Properties_output()\n",
    "mgo_bands_output.read_cry_bands('data/mgo_BAND_dat.BAND')"
   ]
  },
  {
   "cell_type": "code",
   "execution_count": 39,
   "id": "151a3b1a",
   "metadata": {},
   "outputs": [],
   "source": [
    "mgo_doss_output = Properties_output()\n",
    "mgo_doss_output.read_cry_doss('data/mgo_DOSS_dat.DOSS')"
   ]
  },
  {
   "cell_type": "markdown",
   "id": "d5c28cdf",
   "metadata": {},
   "source": [
    "## Plot the properties"
   ]
  },
  {
   "cell_type": "markdown",
   "id": "742bf89d",
   "metadata": {},
   "source": [
    "The plotting functions are collected in the plot module, we will, therefore, procede to import both the bands and doss plotting functions."
   ]
  },
  {
   "cell_type": "code",
   "execution_count": 40,
   "id": "6d345e6e",
   "metadata": {},
   "outputs": [],
   "source": [
    "from crystal_functions.plot import plot_cry_bands, plot_cry_doss"
   ]
  },
  {
   "cell_type": "markdown",
   "id": "fa51b0e2",
   "metadata": {},
   "source": [
    "As you can imagine, there are plenty of settings that can be twicked in a plot. The plotting functions will have many preset values that can be modified when executing the function. In order to see all the parameters, the best way is to have a look at the source code <a href=\"https://github.com/crystal-code-tools/crystal_functions/blob/main/crystal_functions/plot.py\">here</a>. If there is also some more parameter you would like the plotting functions to implement, please feel free to add and submit a pull request on GitHub, or get in touch with us.\n",
    "\n",
    "Let's start by plotting the band structure:"
   ]
  },
  {
   "cell_type": "code",
   "execution_count": 41,
   "id": "6c384e93",
   "metadata": {},
   "outputs": [],
   "source": [
    "#plot_cry_bands(mgo_bands_output, energy_range=[-5,10])"
   ]
  },
  {
   "cell_type": "markdown",
   "id": "431671f5",
   "metadata": {},
   "source": [
    "***And now you should be able to plot the DOSS***"
   ]
  },
  {
   "cell_type": "markdown",
   "id": "39aac150",
   "metadata": {},
   "source": [
    "## Conversion to <a href=\"https://pymatgen.org/index.html\">pymatgen</a> and <a href=\"https://wiki.fysik.dtu.dk/ase/\">ASE</a>"
   ]
  },
  {
   "cell_type": "markdown",
   "id": "31b4cce5",
   "metadata": {},
   "source": [
    "So far we have explored the functions that create the Crystal_objects. Now, we are going to focus on the functions that transform the Crystal_objects into <a href=\"https://wiki.fysik.dtu.dk/ase/ase/atoms.html\">ASE Atoms</a> objects and <a href=\"https://pymatgen.org/pymatgen.core.structure.html\">pymatgen Structure</a> objects. Atoms and Structures are the name of the central data structure in ASE and pymatgen, respectively.\n",
    "\n",
    "These functions play the very important role of allowing the user to connect a CRYSTAL input/output to very well developed and maintained distributions, such as ASE and pymatgen. These two distributions have plenty of functions that can make wonders in modifying, analysing and visualising structures."
   ]
  },
  {
   "cell_type": "code",
   "execution_count": 42,
   "id": "0bca7892",
   "metadata": {},
   "outputs": [],
   "source": [
    "#from crystal_functions.convert import * "
   ]
  },
  {
   "cell_type": "markdown",
   "id": "c2156b3e",
   "metadata": {},
   "source": [
    "### gui -> pymatgen"
   ]
  },
  {
   "cell_type": "markdown",
   "id": "e747a10f",
   "metadata": {},
   "source": [
    "Let's start by transforming a gui file into a pymatgen object. First we need to create the Crystal_gui object"
   ]
  },
  {
   "cell_type": "code",
   "execution_count": 43,
   "id": "22ea6e54",
   "metadata": {},
   "outputs": [],
   "source": [
    "mgo_gui = Crystal_gui()\n",
    "mgo_gui.read_cry_gui('data/mgo_optgeom.gui')"
   ]
  },
  {
   "cell_type": "markdown",
   "id": "a4c6256b",
   "metadata": {},
   "source": [
    "Let's then transform the gui object into the pymatgen Structure object and print it."
   ]
  },
  {
   "cell_type": "code",
   "execution_count": 44,
   "id": "242c7c4f",
   "metadata": {},
   "outputs": [
    {
     "data": {
      "text/plain": [
       "Structure Summary\n",
       "Lattice\n",
       "    abc : 2.998288327305232 2.998288327305232 2.998288327305232\n",
       " angles : 59.99999999999999 59.99999999999999 59.99999999999999\n",
       " volume : 19.059222678792402\n",
       "      A : 0.0 2.12011000819 2.12011000819\n",
       "      B : 2.12011000819 0.0 2.12011000819\n",
       "      C : 2.12011000819 2.12011000819 0.0\n",
       "PeriodicSite: Mg (0.0000, 0.0000, 0.0000) [0.0000, 0.0000, 0.0000]\n",
       "PeriodicSite: O (-2.1201, -2.1201, -2.1201) [-0.5000, -0.5000, -0.5000]"
      ]
     },
     "execution_count": 44,
     "metadata": {},
     "output_type": "execute_result"
    }
   ],
   "source": [
    "mgo_pmg = cry_gui2pmg(mgo_gui)\n",
    "mgo_pmg"
   ]
  },
  {
   "cell_type": "markdown",
   "id": "3cb2606b",
   "metadata": {},
   "source": [
    "The pymatgen package contains a wide range of objects and functions to modify and analyse periodic structures. If you are interested in its functionality, please refer to the <a href=\"https://pymatgen.org/\">documentation page </a>."
   ]
  },
  {
   "cell_type": "markdown",
   "id": "ead02868",
   "metadata": {},
   "source": [
    "### out -> pymatgen"
   ]
  },
  {
   "cell_type": "markdown",
   "id": "e9f28b87",
   "metadata": {},
   "source": [
    "***Following the logic discussed for the gui files, create a pymatgen object starting from the mgo_optgeom.out file contained in the data folder.***"
   ]
  },
  {
   "cell_type": "code",
   "execution_count": 45,
   "id": "9d1a6dd7",
   "metadata": {},
   "outputs": [
    {
     "data": {
      "text/plain": [
       "Structure Summary\n",
       "Lattice\n",
       "    abc : 2.998288327305232 2.998288327305232 2.998288327305232\n",
       " angles : 59.99999999999999 59.99999999999999 59.99999999999999\n",
       " volume : 19.059222678792402\n",
       "      A : 0.0 2.12011000819 2.12011000819\n",
       "      B : 2.12011000819 0.0 2.12011000819\n",
       "      C : 2.12011000819 2.12011000819 0.0\n",
       "PeriodicSite: Mg (0.0000, 0.0000, 0.0000) [0.0000, 0.0000, 0.0000]\n",
       "PeriodicSite: O (-2.1201, -2.1201, -2.1201) [-0.5000, -0.5000, -0.5000]"
      ]
     },
     "execution_count": 45,
     "metadata": {},
     "output_type": "execute_result"
    }
   ],
   "source": [
    "mgo_out = Crystal_output()\n",
    "mgo_out.read_cry_output('data/mgo_optgeom.out')\n",
    "mgo_pmg_out = cry_out2pmg(mgo_out)\n",
    "mgo_pmg_out"
   ]
  },
  {
   "cell_type": "markdown",
   "id": "e623d687",
   "metadata": {},
   "source": [
    "### gui -> ASE"
   ]
  },
  {
   "cell_type": "markdown",
   "id": "4badf1a6",
   "metadata": {},
   "source": [
    "The ASE package also contains a wide range of objects and functions to modify, analyse and visualise periodic structures. If you are interested in its functionality, please refer to the <a href=\"https://wiki.fysik.dtu.dk/ase/tutorials/tutorials.html\">documentation page </a>."
   ]
  },
  {
   "cell_type": "markdown",
   "id": "0dd4267e",
   "metadata": {},
   "source": [
    "***Following the logic discussed above, create an ASE object starting from the mgo_optgeom.gui file contained in the data folder.***"
   ]
  },
  {
   "cell_type": "code",
   "execution_count": 46,
   "id": "bd6bb13d",
   "metadata": {},
   "outputs": [
    {
     "data": {
      "text/plain": [
       "Atoms(symbols='MgO', pbc=True, cell=[[0.0, 2.12011000819, 2.12011000819], [2.12011000819, 0.0, 2.12011000819], [2.12011000819, 2.12011000819, 0.0]])"
      ]
     },
     "execution_count": 46,
     "metadata": {},
     "output_type": "execute_result"
    }
   ],
   "source": [
    "mgo_gui = Crystal_gui()\n",
    "mgo_gui.read_cry_gui('data/mgo_optgeom.gui')\n",
    "mgo_ase = cry_gui2ase(mgo_gui)\n",
    "mgo_ase"
   ]
  },
  {
   "cell_type": "markdown",
   "id": "7c3e6081",
   "metadata": {},
   "source": [
    "### out -> ASE"
   ]
  },
  {
   "cell_type": "markdown",
   "id": "3a9439e3",
   "metadata": {},
   "source": [
    "***Following the logic discussed above, create an ASE object starting from the mgo_optgeom.out file contained in the data folder.***"
   ]
  },
  {
   "cell_type": "code",
   "execution_count": 47,
   "id": "d635f650",
   "metadata": {},
   "outputs": [
    {
     "data": {
      "text/plain": [
       "Atoms(symbols='MgO', pbc=True, cell=[[0.0, 2.12011000819, 2.12011000819], [2.12011000819, 0.0, 2.12011000819], [2.12011000819, 2.12011000819, 0.0]])"
      ]
     },
     "execution_count": 47,
     "metadata": {},
     "output_type": "execute_result"
    }
   ],
   "source": [
    "mgo_out = Crystal_output()\n",
    "mgo_out.read_cry_output('data/mgo_optgeom.out')\n",
    "mgo_ase = cry_out2ase(mgo_out)\n",
    "mgo_ase"
   ]
  },
  {
   "cell_type": "code",
   "execution_count": null,
   "id": "e1604cc9",
   "metadata": {},
   "outputs": [],
   "source": []
  }
 ],
 "metadata": {
  "kernelspec": {
   "display_name": "Python 3 (ipykernel)",
   "language": "python",
   "name": "python3"
  },
  "language_info": {
   "codemirror_mode": {
    "name": "ipython",
    "version": 3
   },
   "file_extension": ".py",
   "mimetype": "text/x-python",
   "name": "python",
   "nbconvert_exporter": "python",
   "pygments_lexer": "ipython3",
   "version": "3.9.10"
  }
 },
 "nbformat": 4,
 "nbformat_minor": 5
}
