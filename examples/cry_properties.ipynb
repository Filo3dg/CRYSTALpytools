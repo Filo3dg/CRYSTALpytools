{
 "cells": [
  {
   "cell_type": "markdown",
   "id": "68158073",
   "metadata": {},
   "source": [
    "# Example notebook for the functions contained in cry_properties.py"
   ]
  },
  {
   "cell_type": "markdown",
   "id": "56179e55",
   "metadata": {},
   "source": [
    "### newk"
   ]
  },
  {
   "cell_type": "code",
   "execution_count": 1,
   "id": "a5e86f39",
   "metadata": {},
   "outputs": [],
   "source": [
    "import sys\n",
    "sys.path.insert(1, '../')\n",
    "\n",
    "from cry_properties import cry_newk"
   ]
  },
  {
   "cell_type": "code",
   "execution_count": 6,
   "id": "b38286a7",
   "metadata": {},
   "outputs": [
    {
     "data": {
      "text/plain": [
       "['NEWK\\n', '12 24\\n', '1 0\\n']"
      ]
     },
     "execution_count": 6,
     "metadata": {},
     "output_type": "execute_result"
    }
   ],
   "source": [
    "newk_block = cry_newk(12,24)\n",
    "newk_block"
   ]
  },
  {
   "cell_type": "markdown",
   "id": "d69cdae0",
   "metadata": {},
   "source": [
    "### bands"
   ]
  },
  {
   "cell_type": "code",
   "execution_count": 3,
   "id": "23e2f215",
   "metadata": {},
   "outputs": [],
   "source": [
    "import sys\n",
    "sys.path.insert(1, '../')\n",
    "\n",
    "from cry_properties import cry_bands"
   ]
  },
  {
   "cell_type": "code",
   "execution_count": 9,
   "id": "1cf0add3",
   "metadata": {},
   "outputs": [
    {
     "name": "stdout",
     "output_type": "stream",
     "text": [
      "['BAND\\n', 'Bands\\n', '3 4 200 1 26 0 1\\n', '0 0 0  2 0 0\\n', '2 0 0  2 2 2\\n', '2 2 2  1 0 2\\n', 'END\\n']\n"
     ]
    }
   ],
   "source": [
    "k_path = [[0,0,0],[0.5,0,0],[0.5,0.5,0.5],[0.25,0,0.5]]\n",
    "n_kpoints = 200\n",
    "first_band = 1\n",
    "last_band = 26\n",
    "bands_block = cry_bands(k_path,n_kpoints,first_band,last_band)"
   ]
  },
  {
   "cell_type": "markdown",
   "id": "1980908a",
   "metadata": {},
   "source": [
    "#### Write bands input"
   ]
  },
  {
   "cell_type": "code",
   "execution_count": null,
   "id": "3657320c",
   "metadata": {},
   "outputs": [],
   "source": []
  }
 ],
 "metadata": {
  "kernelspec": {
   "display_name": "Python 3 (ipykernel)",
   "language": "python",
   "name": "python3"
  },
  "language_info": {
   "codemirror_mode": {
    "name": "ipython",
    "version": 3
   },
   "file_extension": ".py",
   "mimetype": "text/x-python",
   "name": "python",
   "nbconvert_exporter": "python",
   "pygments_lexer": "ipython3",
   "version": "3.9.7"
  }
 },
 "nbformat": 4,
 "nbformat_minor": 5
}
