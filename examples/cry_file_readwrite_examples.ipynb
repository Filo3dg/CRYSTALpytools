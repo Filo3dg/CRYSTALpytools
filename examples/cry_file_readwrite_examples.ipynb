{
 "cells": [
  {
   "cell_type": "markdown",
   "id": "68158073",
   "metadata": {},
   "source": [
    "# Example notebook for the functions contained in cry_file_readwrite.py"
   ]
  },
  {
   "cell_type": "markdown",
   "id": "56179e55",
   "metadata": {},
   "source": [
    "### Crystal_input class"
   ]
  },
  {
   "cell_type": "code",
   "execution_count": 1,
   "id": "032121ab",
   "metadata": {},
   "outputs": [],
   "source": [
    "import sys\n",
    "sys.path.insert(1, '../')\n",
    "\n",
    "from cry_file_readwrite import Crystal_input"
   ]
  },
  {
   "cell_type": "markdown",
   "id": "cbfdbe40",
   "metadata": {},
   "source": [
    "Create a crystal input object"
   ]
  },
  {
   "cell_type": "code",
   "execution_count": 2,
   "id": "ed435d4f",
   "metadata": {},
   "outputs": [
    {
     "data": {
      "text/plain": [
       "<cry_file_readwrite.Crystal_input at 0x7fb3d8091130>"
      ]
     },
     "execution_count": 2,
     "metadata": {},
     "output_type": "execute_result"
    }
   ],
   "source": [
    "mgo_input = Crystal_input('data/mgo.d12')\n",
    "mgo_input"
   ]
  },
  {
   "cell_type": "markdown",
   "id": "fe2d3647",
   "metadata": {},
   "source": [
    "### Crystal_output class"
   ]
  },
  {
   "cell_type": "code",
   "execution_count": 3,
   "id": "0a495139",
   "metadata": {},
   "outputs": [],
   "source": [
    "import sys\n",
    "sys.path.insert(1, '../')\n",
    "\n",
    "from cry_file_readwrite import Crystal_output"
   ]
  },
  {
   "cell_type": "code",
   "execution_count": 4,
   "id": "bfb6e6f8",
   "metadata": {},
   "outputs": [
    {
     "data": {
      "text/plain": [
       "<cry_file_readwrite.Crystal_output at 0x7fb3d8091be0>"
      ]
     },
     "execution_count": 4,
     "metadata": {},
     "output_type": "execute_result"
    }
   ],
   "source": [
    "mgo_output = Crystal_output('data/mgo_optgeom.out')\n",
    "mgo_output"
   ]
  },
  {
   "cell_type": "markdown",
   "id": "58b3f761",
   "metadata": {},
   "source": [
    "#### Functions and properties"
   ]
  },
  {
   "cell_type": "code",
   "execution_count": 5,
   "id": "0bf048c7",
   "metadata": {},
   "outputs": [
    {
     "name": "stdout",
     "output_type": "stream",
     "text": [
      "Final energy = -7495.341792877063 eV \n",
      "\n",
      "Fermi energy = -4.13671240282 eV \n",
      "\n",
      "Primitive lattice \n",
      " [[0.     2.1085 2.1085]\n",
      " [2.1085 0.     2.1085]\n",
      " [2.1085 2.1085 0.    ]] \n",
      "\n",
      "Reciprocal lattice \n",
      " [[-1.48996571  1.48996571  1.48996571]\n",
      " [ 1.48996571 -1.48996571  1.48996571]\n",
      " [ 1.48996571  1.48996571 -1.48996571]] \n",
      "\n",
      "Band gap = 7.1237 eV \n",
      "\n",
      "Last geometry = \n",
      " [[0.         0.         0.        ]\n",
      " [2.12011001 2.12011001 2.12011001]] \n",
      "\n",
      "Symmetry operators = \n",
      " [['1.00' '0.00' '0.00' '0.00' '1.00' '0.00' '0.00' '0.00' '1.00' '0.00'\n",
      "  '0.00' '0.00']\n",
      " ['0.00' '1.00' '0.00' '1.00' '0.00' '0.00' '-1.00' '-1.00' '-1.00'\n",
      "  '0.00' '0.00' '0.00']\n",
      " ['-1.00' '-1.00' '-1.00' '0.00' '0.00' '1.00' '0.00' '1.00' '0.00'\n",
      "  '0.00' '0.00' '0.00']\n",
      " ['0.00' '0.00' '1.00' '-1.00' '-1.00' '-1.00' '1.00' '0.00' '0.00'\n",
      "  '0.00' '0.00' '0.00']\n",
      " ['0.00' '0.00' '1.00' '1.00' '0.00' '0.00' '0.00' '1.00' '0.00' '0.00'\n",
      "  '0.00' '0.00']\n",
      " ['0.00' '1.00' '0.00' '0.00' '0.00' '1.00' '1.00' '0.00' '0.00' '0.00'\n",
      "  '0.00' '0.00']\n",
      " ['1.00' '0.00' '0.00' '0.00' '0.00' '1.00' '-1.00' '-1.00' '-1.00'\n",
      "  '0.00' '0.00' '0.00']\n",
      " ['1.00' '0.00' '0.00' '-1.00' '-1.00' '-1.00' '0.00' '1.00' '0.00'\n",
      "  '0.00' '0.00' '0.00']\n",
      " ['-1.00' '-1.00' '-1.00' '0.00' '1.00' '0.00' '1.00' '0.00' '0.00'\n",
      "  '0.00' '0.00' '0.00']\n",
      " ['0.00' '0.00' '1.00' '0.00' '1.00' '0.00' '-1.00' '-1.00' '-1.00'\n",
      "  '0.00' '0.00' '0.00']\n",
      " ['0.00' '1.00' '0.00' '-1.00' '-1.00' '-1.00' '0.00' '0.00' '1.00'\n",
      "  '0.00' '0.00' '0.00']\n",
      " ['-1.00' '-1.00' '-1.00' '1.00' '0.00' '0.00' '0.00' '0.00' '1.00'\n",
      "  '0.00' '0.00' '0.00']\n",
      " ['0.00' '-1.00' '0.00' '-1.00' '0.00' '0.00' '0.00' '0.00' '-1.00'\n",
      "  '0.00' '0.00' '0.00']\n",
      " ['-1.00' '0.00' '0.00' '0.00' '-1.00' '0.00' '1.00' '1.00' '1.00' '0.00'\n",
      "  '0.00' '0.00']\n",
      " ['0.00' '0.00' '-1.00' '1.00' '1.00' '1.00' '0.00' '-1.00' '0.00' '0.00'\n",
      "  '0.00' '0.00']\n",
      " ['1.00' '1.00' '1.00' '0.00' '0.00' '-1.00' '-1.00' '0.00' '0.00' '0.00'\n",
      "  '0.00' '0.00']\n",
      " ['-1.00' '0.00' '0.00' '0.00' '0.00' '-1.00' '0.00' '-1.00' '0.00'\n",
      "  '0.00' '0.00' '0.00']\n",
      " ['0.00' '0.00' '-1.00' '0.00' '-1.00' '0.00' '-1.00' '0.00' '0.00'\n",
      "  '0.00' '0.00' '0.00']\n",
      " ['0.00' '0.00' '-1.00' '-1.00' '0.00' '0.00' '1.00' '1.00' '1.00' '0.00'\n",
      "  '0.00' '0.00']\n",
      " ['1.00' '1.00' '1.00' '-1.00' '0.00' '0.00' '0.00' '-1.00' '0.00' '0.00'\n",
      "  '0.00' '0.00']\n",
      " ['0.00' '-1.00' '0.00' '1.00' '1.00' '1.00' '-1.00' '0.00' '0.00' '0.00'\n",
      "  '0.00' '0.00']\n",
      " ['0.00' '-1.00' '0.00' '0.00' '0.00' '-1.00' '1.00' '1.00' '1.00' '0.00'\n",
      "  '0.00' '0.00']\n",
      " ['1.00' '1.00' '1.00' '0.00' '-1.00' '0.00' '0.00' '0.00' '-1.00' '0.00'\n",
      "  '0.00' '0.00']\n",
      " ['-1.00' '0.00' '0.00' '1.00' '1.00' '1.00' '0.00' '0.00' '-1.00' '0.00'\n",
      "  '0.00' '0.00']\n",
      " ['-1.00' '0.00' '0.00' '0.00' '-1.00' '0.00' '0.00' '0.00' '-1.00'\n",
      "  '0.00' '0.00' '0.00']\n",
      " ['0.00' '-1.00' '0.00' '-1.00' '0.00' '0.00' '1.00' '1.00' '1.00' '0.00'\n",
      "  '0.00' '0.00']\n",
      " ['1.00' '1.00' '1.00' '0.00' '0.00' '-1.00' '0.00' '-1.00' '0.00' '0.00'\n",
      "  '0.00' '0.00']\n",
      " ['0.00' '0.00' '-1.00' '1.00' '1.00' '1.00' '-1.00' '0.00' '0.00' '0.00'\n",
      "  '0.00' '0.00']\n",
      " ['0.00' '0.00' '-1.00' '-1.00' '0.00' '0.00' '0.00' '-1.00' '0.00'\n",
      "  '0.00' '0.00' '0.00']\n",
      " ['0.00' '-1.00' '0.00' '0.00' '0.00' '-1.00' '-1.00' '0.00' '0.00'\n",
      "  '0.00' '0.00' '0.00']\n",
      " ['-1.00' '0.00' '0.00' '0.00' '0.00' '-1.00' '1.00' '1.00' '1.00' '0.00'\n",
      "  '0.00' '0.00']\n",
      " ['-1.00' '0.00' '0.00' '1.00' '1.00' '1.00' '0.00' '-1.00' '0.00' '0.00'\n",
      "  '0.00' '0.00']\n",
      " ['1.00' '1.00' '1.00' '0.00' '-1.00' '0.00' '-1.00' '0.00' '0.00' '0.00'\n",
      "  '0.00' '0.00']\n",
      " ['0.00' '0.00' '-1.00' '0.00' '-1.00' '0.00' '1.00' '1.00' '1.00' '0.00'\n",
      "  '0.00' '0.00']\n",
      " ['0.00' '-1.00' '0.00' '1.00' '1.00' '1.00' '0.00' '0.00' '-1.00' '0.00'\n",
      "  '0.00' '0.00']\n",
      " ['1.00' '1.00' '1.00' '-1.00' '0.00' '0.00' '0.00' '0.00' '-1.00' '0.00'\n",
      "  '0.00' '0.00']\n",
      " ['0.00' '1.00' '0.00' '1.00' '0.00' '0.00' '0.00' '0.00' '1.00' '0.00'\n",
      "  '0.00' '0.00']\n",
      " ['1.00' '0.00' '0.00' '0.00' '1.00' '0.00' '-1.00' '-1.00' '-1.00'\n",
      "  '0.00' '0.00' '0.00']\n",
      " ['0.00' '0.00' '1.00' '-1.00' '-1.00' '-1.00' '0.00' '1.00' '0.00'\n",
      "  '0.00' '0.00' '0.00']\n",
      " ['-1.00' '-1.00' '-1.00' '0.00' '0.00' '1.00' '1.00' '0.00' '0.00'\n",
      "  '0.00' '0.00' '0.00']\n",
      " ['1.00' '0.00' '0.00' '0.00' '0.00' '1.00' '0.00' '1.00' '0.00' '0.00'\n",
      "  '0.00' '0.00']\n",
      " ['0.00' '0.00' '1.00' '0.00' '1.00' '0.00' '1.00' '0.00' '0.00' '0.00'\n",
      "  '0.00' '0.00']\n",
      " ['0.00' '0.00' '1.00' '1.00' '0.00' '0.00' '-1.00' '-1.00' '-1.00'\n",
      "  '0.00' '0.00' '0.00']\n",
      " ['-1.00' '-1.00' '-1.00' '1.00' '0.00' '0.00' '0.00' '1.00' '0.00'\n",
      "  '0.00' '0.00' '0.00']\n",
      " ['0.00' '1.00' '0.00' '-1.00' '-1.00' '-1.00' '1.00' '0.00' '0.00'\n",
      "  '0.00' '0.00' '0.00']\n",
      " ['0.00' '1.00' '0.00' '0.00' '0.00' '1.00' '-1.00' '-1.00' '-1.00'\n",
      "  '0.00' '0.00' '0.00']\n",
      " ['-1.00' '-1.00' '-1.00' '0.00' '1.00' '0.00' '0.00' '0.00' '1.00'\n",
      "  '0.00' '0.00' '0.00']\n",
      " ['1.00' '0.00' '0.00' '-1.00' '-1.00' '-1.00' '0.00' '0.00' '1.00'\n",
      "  '0.00' '0.00' '0.00']] \n",
      "\n",
      "Forces on atoms = \n",
      " [[-4.18889278e-16 -4.11372640e-16 -4.14981546e-16]\n",
      " [ 4.14263349e-16  4.13107364e-16  4.14981546e-16]] \n",
      " Forces on cell = \n",
      " [[-0.00148273  0.00148273  0.00148273]\n",
      " [ 0.00148273 -0.00148273  0.00148273]\n",
      " [ 0.00148273  0.00148273 -0.00148273]] \n",
      " Gradient = \n",
      " ['0.020466', '0.004693', '0.000069', '0.000032'] \n",
      "\n",
      "Total energy = \n",
      " [-274.76833675 -275.2516679  -275.43320012 -275.44853243 -275.44858649\n",
      " -275.44859107 -275.44859113 -275.44859114] \n",
      " Delta energy = \n",
      " [-2.75e+02 -4.83e-01 -1.82e-01 -1.53e-02 -5.41e-05 -4.58e-06 -6.45e-08\n",
      " -3.77e-09] \n",
      "\n"
     ]
    }
   ],
   "source": [
    "#Final energy\n",
    "print(\"Final energy = %s eV \\n\" % mgo_output.final_energy())\n",
    "\n",
    "#Fermi energy\n",
    "print(\"Fermi energy = %s eV \\n\" % mgo_output.fermi_energy())\n",
    "\n",
    "#Primitive lattice\n",
    "print(\"Primitive lattice \\n %s \\n\" % mgo_output.primitive_lattice())\n",
    "\n",
    "#Reciprocal lattice\n",
    "print(\"Reciprocal lattice \\n %s \\n\" % mgo_output.reciprocal_lattice())\n",
    "\n",
    "#Band gap\n",
    "print(\"Band gap = %s eV \\n\" % mgo_output.get_band_gap())\n",
    "\n",
    "#Last geometry\n",
    "mgo_output.extract_last_geom(print_cart=False)\n",
    "print(\"Last geometry = \\n %s \\n\" % mgo_output.atom_positions_cart)\n",
    "\n",
    "#Symmetry operators\n",
    "print(\"Symmetry operators = \\n %s \\n\" % mgo_output.symm_ops())\n",
    "\n",
    "#Forces\n",
    "print(\"Forces on atoms = \\n %s \\n Forces on cell = \\n %s \\n Gradient = \\n %s \\n\" % (mgo_output.forces(grad=True)[0],\n",
    "                                                                                    mgo_output.forces(grad=True)[1],\n",
    "                                                                                    mgo_output.grad))\n",
    "#Scf convergence\n",
    "print(\"Total energy = \\n %s \\n Delta energy = \\n %s \\n\" % (mgo_output.scf_convergence()[0],\n",
    "                                                           mgo_output.scf_convergence()[1]))"
   ]
  },
  {
   "cell_type": "markdown",
   "id": "bb1f72fe",
   "metadata": {},
   "source": [
    "### Bands class"
   ]
  },
  {
   "cell_type": "code",
   "execution_count": 6,
   "id": "844eb99c",
   "metadata": {},
   "outputs": [],
   "source": [
    "import sys\n",
    "sys.path.insert(1, '../')\n",
    "\n",
    "from cry_file_readwrite import Crystal_bands"
   ]
  },
  {
   "cell_type": "code",
   "execution_count": 7,
   "id": "9603f104",
   "metadata": {},
   "outputs": [
    {
     "data": {
      "text/plain": [
       "<cry_file_readwrite.Crystal_bands at 0x7fb3d811d1f0>"
      ]
     },
     "execution_count": 7,
     "metadata": {},
     "output_type": "execute_result"
    }
   ],
   "source": [
    "mgo_bands = Crystal_bands('data/mgo_BAND_dat.BAND')\n",
    "mgo_bands"
   ]
  },
  {
   "cell_type": "markdown",
   "id": "17e06d40",
   "metadata": {},
   "source": [
    "### Doss class"
   ]
  },
  {
   "cell_type": "code",
   "execution_count": 8,
   "id": "da296dbc",
   "metadata": {},
   "outputs": [],
   "source": [
    "import sys\n",
    "sys.path.insert(1, '../')\n",
    "\n",
    "from cry_file_readwrite import Crystal_doss"
   ]
  },
  {
   "cell_type": "code",
   "execution_count": 9,
   "id": "ec69cfae",
   "metadata": {
    "scrolled": true
   },
   "outputs": [
    {
     "data": {
      "text/plain": [
       "<cry_file_readwrite.Crystal_doss at 0x7fb3d80bf820>"
      ]
     },
     "execution_count": 9,
     "metadata": {},
     "output_type": "execute_result"
    }
   ],
   "source": [
    "mgo_doss = Crystal_doss('data/mgo_DOSS_dat.DOSS')\n",
    "mgo_doss"
   ]
  },
  {
   "cell_type": "markdown",
   "id": "a42b438f",
   "metadata": {},
   "source": [
    "### write_cry_input function"
   ]
  },
  {
   "cell_type": "code",
   "execution_count": 10,
   "id": "2417bd82",
   "metadata": {},
   "outputs": [],
   "source": [
    "import sys\n",
    "sys.path.insert(1, '../')\n",
    "\n",
    "from cry_file_readwrite import Crystal_input\n",
    "from cry_file_readwrite import write_cry_input"
   ]
  },
  {
   "cell_type": "code",
   "execution_count": 11,
   "id": "f008e190",
   "metadata": {},
   "outputs": [],
   "source": [
    "#Write input starting from original input\n",
    "#Read the original input\n",
    "mgo_original_input = Crystal_input('data/mgo.d12')\n",
    "\n",
    "#Write the input\n",
    "new_input_name = 'data/mgo_from_file.d12'\n",
    "write_cry_input(new_input_name,crystal_input=mgo_original_input)"
   ]
  },
  {
   "cell_type": "code",
   "execution_count": 12,
   "id": "c894748b",
   "metadata": {},
   "outputs": [],
   "source": [
    "#Write input starting from blocks\n",
    "#Define the blocks\n",
    "geom_block = ['MGO BULK - GEOMETRY TEST\\n',\n",
    " 'CRYSTAL\\n',\n",
    " '0 0 0\\n',\n",
    " '225\\n',\n",
    " '4.217\\n',\n",
    " '2\\n',\n",
    " '12 0.    0.    0.\\n',\n",
    " '8 0.5   0.5   0.5\\n',\n",
    " 'END\\n']\n",
    "bs_block = ['12 4\\n',\n",
    " '0 0 8 2.0 1.0\\n',\n",
    " ' 68370.0 0.0002226\\n',\n",
    " ' 9661.0 0.001901\\n',\n",
    " ' 2041.0 0.011042\\n',\n",
    " ' 529.6 0.05005\\n',\n",
    " ' 159.17 0.1690\\n',\n",
    " ' 54.71 0.36695\\n',\n",
    " ' 21.236 0.4008\\n',\n",
    " ' 8.791 0.1487\\n',\n",
    " '0 1 5 8.0 1.0\\n',\n",
    " ' 143.7 -0.00671 0.00807\\n',\n",
    " ' 31.27 -0.07927 0.06401\\n',\n",
    " ' 9.661 -0.08088 0.2092\\n',\n",
    " ' 3.726 0.2947 0.3460\\n',\n",
    " ' 1.598 0.5714 0.3731\\n',\n",
    " '0 1 1 2.0 1.0\\n',\n",
    " ' 0.688 1.0 1.0\\n',\n",
    " '0 1 1 0.0 1.0\\n',\n",
    " ' 0.28 1.0 1.0\\n',\n",
    " '8 4\\n',\n",
    " '0 0 8 2.0 1.0\\n',\n",
    " ' 8020.0 0.00108\\n',\n",
    " ' 1338.0 0.00804\\n',\n",
    " ' 255.4 0.05324\\n',\n",
    " ' 69.22 0.1681\\n',\n",
    " ' 23.90 0.3581\\n',\n",
    " ' 9.264 0.3855\\n',\n",
    " ' 3.851 0.1468\\n',\n",
    " ' 1.212 0.0728\\n',\n",
    " '0 1 4 6.0 1.0\\n',\n",
    " ' 49.43 -0.00883 0.00958\\n',\n",
    " ' 10.47 -0.0915 0.0696\\n',\n",
    " ' 3.235 -0.0402 0.2065\\n',\n",
    " ' 1.217 0.379 0.347\\n',\n",
    " '0 1 1 0.0 1.0\\n',\n",
    " ' 0.4764 1.0 1.0\\n',\n",
    " '0 1 1 0.0 1.0\\n',\n",
    " ' 0.1802 1.0 1.0\\n',\n",
    " '99 0\\n',\n",
    " 'ENDBS\\n']\n",
    "func_block = ['DFT\\n', 'B3LYP\\n', 'XXLGRID\\n', 'ENDDFT\\n']\n",
    "scf_block = [['TOLINTEG\\n', '7 7 7 7 14\\n'],\n",
    " ['SHRINK\\n', '12 24\\n'],\n",
    " ['MAXCYCLE\\n', '200\\n'],\n",
    " ['FMIXING\\n', '70\\n'],\n",
    " 'DIIS\\n',\n",
    " 'ENDSCF\\n']\n",
    "\n",
    "#Write the input\n",
    "new_input_name = 'data/mgo_from_blocks.d12'\n",
    "write_cry_input(new_input_name,crystal_blocks=[geom_block,bs_block,func_block,scf_block])"
   ]
  },
  {
   "cell_type": "code",
   "execution_count": 16,
   "id": "ead43d9d",
   "metadata": {},
   "outputs": [
    {
     "name": "stdout",
     "output_type": "stream",
     "text": [
      "MGO BULK - GEOMETRY TEST\r\n",
      "CRYSTAL\r\n",
      "0 0 0\r\n",
      "225\r\n",
      "4.217\r\n",
      "2\r\n",
      "12 0.    0.    0.\r\n",
      "8 0.5   0.5   0.5\r\n",
      "END\r\n",
      "12 4\r\n",
      "0 0 8 2.0 1.0\r\n",
      " 68370.0 0.0002226\r\n",
      " 9661.0 0.001901\r\n",
      " 2041.0 0.011042\r\n",
      " 529.6 0.05005\r\n",
      " 159.17 0.1690\r\n",
      " 54.71 0.36695\r\n",
      " 21.236 0.4008\r\n",
      " 8.791 0.1487\r\n",
      "0 1 5 8.0 1.0\r\n",
      " 143.7 -0.00671 0.00807\r\n",
      " 31.27 -0.07927 0.06401\r\n",
      " 9.661 -0.08088 0.2092\r\n",
      " 3.726 0.2947 0.3460\r\n",
      " 1.598 0.5714 0.3731\r\n",
      "0 1 1 2.0 1.0\r\n",
      " 0.688 1.0 1.0\r\n",
      "0 1 1 0.0 1.0\r\n",
      " 0.28 1.0 1.0\r\n",
      "8 4\r\n",
      "0 0 8 2.0 1.0\r\n",
      " 8020.0 0.00108\r\n",
      " 1338.0 0.00804\r\n",
      " 255.4 0.05324\r\n",
      " 69.22 0.1681\r\n",
      " 23.90 0.3581\r\n",
      " 9.264 0.3855\r\n",
      " 3.851 0.1468\r\n",
      " 1.212 0.0728\r\n",
      "0 1 4 6.0 1.0\r\n",
      " 49.43 -0.00883 0.00958\r\n",
      " 10.47 -0.0915 0.0696\r\n",
      " 3.235 -0.0402 0.2065\r\n",
      " 1.217 0.379 0.347\r\n",
      "0 1 1 0.0 1.0\r\n",
      " 0.4764 1.0 1.0\r\n",
      "0 1 1 0.0 1.0\r\n",
      " 0.1802 1.0 1.0\r\n",
      "99 0\r\n",
      "ENDBS\r\n",
      "DFT\r\n",
      "B3LYP\r\n",
      "XXLGRID\r\n",
      "ENDDFT\r\n",
      "TOLINTEG\r\n",
      "7 7 7 7 14\r\n",
      "SHRINK\r\n",
      "12 24\r\n",
      "MAXCYCLE\r\n",
      "200\r\n",
      "FMIXING\r\n",
      "70\r\n",
      "DIIS\r\n",
      "ENDSCF\r\n"
     ]
    }
   ],
   "source": [
    "!cat data/mgo_from_blocks.d12"
   ]
  },
  {
   "cell_type": "code",
   "execution_count": 13,
   "id": "a5e86f39",
   "metadata": {},
   "outputs": [],
   "source": [
    "#Write input for external object (ASE or pymatgen)\n",
    "#Start from original inout \n",
    "mgo_original_input = Crystal_input('data/mgo.d12')\n",
    "\n",
    "#Generate the external object\n",
    "from pymatgen.core import Structure, Lattice             \n",
    "from pymatgen.symmetry.analyzer import SpacegroupAnalyzer\n",
    "\n",
    "substrate = Structure.from_spacegroup(\"Fm-3m\", Lattice.cubic(4.217), [\"Mg\",\"O\"], [[0, 0, 0],[0.5,0.5,0.5]])\n",
    "substrate_primitive = SpacegroupAnalyzer(substrate).get_primitive_standard_structure() \n",
    "\n",
    "#Write the input\n",
    "new_input_name = 'data/mgo_external_obj.d12'\n",
    "write_cry_input(new_input_name,crystal_input=mgo_original_input,external_obj=substrate_primitive)"
   ]
  },
  {
   "cell_type": "markdown",
   "id": "17f3027e",
   "metadata": {},
   "source": [
    "### write_cry_properties function"
   ]
  },
  {
   "cell_type": "markdown",
   "id": "7b110038",
   "metadata": {},
   "source": [
    "#### bands"
   ]
  },
  {
   "cell_type": "code",
   "execution_count": 1,
   "id": "960ee949",
   "metadata": {},
   "outputs": [],
   "source": [
    "import sys\n",
    "sys.path.insert(1, '../')\n",
    "\n",
    "from cry_file_readwrite import write_cry_properties\n",
    "from cry_properties import cry_newk, cry_bands\n",
    "\n",
    "#Prepare the newk_block\n",
    "newk_block = cry_newk(12,24)\n",
    "\n",
    "#Prepare the band_block\n",
    "k_path = [[0,0,0],[0.5,0,0],[0.5,0.5,0.5],[0.25,0,0.5]]\n",
    "n_kpoints = 200\n",
    "first_band = 1\n",
    "last_band = 26\n",
    "bands_block = cry_bands(k_path,n_kpoints,first_band,last_band)\n",
    "\n",
    "#Write the input\n",
    "write_cry_properties('data/bands_input.d3',bands_block,newk_block)"
   ]
  },
  {
   "cell_type": "code",
   "execution_count": 2,
   "id": "5c8532ca",
   "metadata": {},
   "outputs": [
    {
     "name": "stdout",
     "output_type": "stream",
     "text": [
      "NEWK\r\n",
      "12 24\r\n",
      "1 0\r\n",
      "BAND\r\n",
      "BAND STRUCTURE CALCULATION\r\n",
      "3 4 200 1 26 0 1\r\n",
      "0 0 0  2 0 0\r\n",
      "2 0 0  2 2 2\r\n",
      "2 2 2  1 0 2\r\n",
      "END\r\n"
     ]
    }
   ],
   "source": [
    "!cat data/bands_input.d3"
   ]
  },
  {
   "cell_type": "markdown",
   "id": "7f7be16a",
   "metadata": {},
   "source": [
    "#### doss"
   ]
  },
  {
   "cell_type": "code",
   "execution_count": 3,
   "id": "d8243cd5",
   "metadata": {},
   "outputs": [],
   "source": [
    "import sys\n",
    "sys.path.insert(1, '../')\n",
    "\n",
    "from cry_file_readwrite import write_cry_properties\n",
    "from cry_properties import cry_newk, cry_doss\n",
    "\n",
    "#Prepare the newk_block\n",
    "newk_block = cry_newk(12,24)\n",
    "\n",
    "#Prepare the doss_block\n",
    "\n",
    "doss_block = cry_doss(n_points=200,e_range=[-5,15],plotting_option=2,poly=12,print_option=1)\n",
    "\n",
    "#Write the input\n",
    "write_cry_properties('data/doss_input.d3',doss_block,newk_block)"
   ]
  },
  {
   "cell_type": "code",
   "execution_count": 5,
   "id": "17d9c58a",
   "metadata": {},
   "outputs": [
    {
     "name": "stdout",
     "output_type": "stream",
     "text": [
      "NEWK\r\n",
      "12 24\r\n",
      "1 0\r\n",
      "DOSS\r\n",
      "0 200 -1 -1 2 12 1\r\n",
      "-0.18374651800348382 0.5512395540104514\r\n",
      "END\r\n"
     ]
    }
   ],
   "source": [
    "!cat data/doss_input.d3"
   ]
  },
  {
   "cell_type": "markdown",
   "id": "49c3a100",
   "metadata": {},
   "source": [
    "#### pdoss"
   ]
  },
  {
   "cell_type": "code",
   "execution_count": 2,
   "id": "0f0fc8d8",
   "metadata": {},
   "outputs": [],
   "source": [
    "import sys\n",
    "sys.path.insert(1, '../')\n",
    "\n",
    "from cry_file_readwrite import write_cry_properties\n",
    "from cry_properties import cry_newk, cry_pdoss\n",
    "\n",
    "#Prepare the newk_block\n",
    "newk_block = cry_newk(12,24)\n",
    "\n",
    "#Prepare the pdoss_block\n",
    "projections = [[1],[2]]\n",
    "pdoss_block = cry_pdoss(projections,proj_type='atom',n_points=200,band_range=[1,26],\n",
    "                       plotting_option=2,poly=12,print_option=1)\n",
    "\n",
    "#Write the input\n",
    "write_cry_properties('data/pdoss_input.d3',pdoss_block,newk_block)"
   ]
  },
  {
   "cell_type": "code",
   "execution_count": 4,
   "id": "31354596",
   "metadata": {},
   "outputs": [
    {
     "name": "stdout",
     "output_type": "stream",
     "text": [
      "NEWK\r\n",
      "12 24\r\n",
      "1 0\r\n",
      "DOSS\r\n",
      "2 200 1 26 2 12 1\r\n",
      "-1 1\r\n",
      "-1 2\r\n",
      "END\r\n"
     ]
    }
   ],
   "source": [
    "!cat data/pdoss_input.d3"
   ]
  }
 ],
 "metadata": {
  "kernelspec": {
   "display_name": "Python 3 (ipykernel)",
   "language": "python",
   "name": "python3"
  },
  "language_info": {
   "codemirror_mode": {
    "name": "ipython",
    "version": 3
   },
   "file_extension": ".py",
   "mimetype": "text/x-python",
   "name": "python",
   "nbconvert_exporter": "python",
   "pygments_lexer": "ipython3",
   "version": "3.9.7"
  }
 },
 "nbformat": 4,
 "nbformat_minor": 5
}
