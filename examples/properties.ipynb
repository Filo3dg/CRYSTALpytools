{
 "cells": [
  {
   "cell_type": "markdown",
   "id": "68158073",
   "metadata": {},
   "source": [
    "# Example notebook for the functions contained in cry_properties.py"
   ]
  },
  {
   "cell_type": "markdown",
   "id": "56179e55",
   "metadata": {},
   "source": [
    "### newk"
   ]
  },
  {
   "cell_type": "code",
   "execution_count": 1,
   "id": "a5e86f39",
   "metadata": {},
   "outputs": [],
   "source": [
    "from crystal_functions.properties import cry_newk"
   ]
  },
  {
   "cell_type": "code",
   "execution_count": 2,
   "id": "b38286a7",
   "metadata": {},
   "outputs": [
    {
     "data": {
      "text/plain": [
       "['NEWK\\n', '12 24\\n', '1 0\\n']"
      ]
     },
     "execution_count": 2,
     "metadata": {},
     "output_type": "execute_result"
    }
   ],
   "source": [
    "newk_block = cry_newk(12,24)\n",
    "newk_block"
   ]
  },
  {
   "cell_type": "markdown",
   "id": "d69cdae0",
   "metadata": {},
   "source": [
    "### bands"
   ]
  },
  {
   "cell_type": "code",
   "execution_count": 3,
   "id": "23e2f215",
   "metadata": {},
   "outputs": [],
   "source": [
    "from crystal_functions.properties import cry_bands"
   ]
  },
  {
   "cell_type": "markdown",
   "id": "1c4ec7db",
   "metadata": {},
   "source": [
    "#### k path specified as list of k point coordinates (fractional)"
   ]
  },
  {
   "cell_type": "code",
   "execution_count": 4,
   "id": "1cf0add3",
   "metadata": {},
   "outputs": [
    {
     "data": {
      "text/plain": [
       "['BAND\\n',\n",
       " 'BAND STRUCTURE CALCULATION\\n',\n",
       " '3 4 200 1 26 1 0\\n',\n",
       " '0 0 0  2 0 0\\n',\n",
       " '2 0 0  2 2 2\\n',\n",
       " '2 2 2  1 0 2\\n',\n",
       " 'END\\n']"
      ]
     },
     "execution_count": 4,
     "metadata": {},
     "output_type": "execute_result"
    }
   ],
   "source": [
    "k_path = [[0,0,0],[0.5,0,0],[0.5,0.5,0.5],[0.25,0,0.5]]\n",
    "n_kpoints = 200\n",
    "first_band = 1\n",
    "last_band = 26\n",
    "bands_block = cry_bands(k_path,n_kpoints,first_band,last_band)\n",
    "bands_block"
   ]
  },
  {
   "cell_type": "markdown",
   "id": "cbe6d771",
   "metadata": {},
   "source": [
    "#### k path specified as pymatgen HighSymmKpath object"
   ]
  },
  {
   "cell_type": "code",
   "execution_count": 5,
   "id": "fe83bc1f",
   "metadata": {},
   "outputs": [
    {
     "data": {
      "text/plain": [
       "['BAND\\n',\n",
       " 'BAND STRUCTURE CALCULATION\\n',\n",
       " '11 8 200 1 26 1 0\\n',\n",
       " '0 0 0  4 0 4\\n',\n",
       " '4 0 4  4 2 5\\n',\n",
       " '4 2 5  2 2 5\\n',\n",
       " '2 2 5  0 0 0\\n',\n",
       " '0 0 0  4 4 4\\n',\n",
       " '4 4 4  5 2 5\\n',\n",
       " '5 2 5  4 2 5\\n',\n",
       " '4 2 5  4 4 4\\n',\n",
       " '4 4 4  2 2 5\\n',\n",
       " '2 2 5  5 2 5\\n',\n",
       " '5 2 5  4 0 4\\n',\n",
       " 'END\\n']"
      ]
     },
     "execution_count": 5,
     "metadata": {},
     "output_type": "execute_result"
    }
   ],
   "source": [
    "import sys\n",
    "sys.path.insert(1, '../')\n",
    "\n",
    "from pymatgen.symmetry.bandstructure import HighSymmKpath\n",
    "from pymatgen.symmetry.analyzer import SpacegroupAnalyzer\n",
    "from crystal_functions.file_readwrite import Crystal_output\n",
    "from crystal_functions.convert import cry_out2pmg\n",
    "from crystal_functions.properties import cry_bands\n",
    "\n",
    "#Read the structure\n",
    "mgo = Crystal_output('data/mgo.out')\n",
    "mgo = cry_out2pmg(mgo)\n",
    "mgo_prim = SpacegroupAnalyzer(mgo).get_primitive_standard_structure(international_monoclinic=False)\n",
    "\n",
    "#Obtain the k path object\n",
    "k_path = HighSymmKpath(mgo_prim)\n",
    "\n",
    "n_kpoints = 200\n",
    "first_band = 1\n",
    "last_band = 26\n",
    "bands_block = cry_bands(k_path,n_kpoints,first_band,last_band)\n",
    "bands_block"
   ]
  },
  {
   "cell_type": "markdown",
   "id": "c62460a9",
   "metadata": {},
   "source": [
    "### doss"
   ]
  },
  {
   "cell_type": "code",
   "execution_count": 6,
   "id": "5384e5a4",
   "metadata": {},
   "outputs": [
    {
     "data": {
      "text/plain": [
       "['DOSS\\n', '0 200 1 26 2 12 1\\n', 'END\\n']"
      ]
     },
     "execution_count": 6,
     "metadata": {},
     "output_type": "execute_result"
    }
   ],
   "source": [
    "from crystal_functions.properties import cry_doss\n",
    "\n",
    "#Band range\n",
    "doss_block = cry_doss(n_points=200,band_range=[1,26],plotting_option=2,poly=12,print_option=1)\n",
    "doss_block"
   ]
  },
  {
   "cell_type": "code",
   "execution_count": 7,
   "id": "adfe9a91",
   "metadata": {},
   "outputs": [
    {
     "data": {
      "text/plain": [
       "['DOSS\\n',\n",
       " '0 200 -1 -1 2 12 1\\n',\n",
       " '-0.18374651800348382 0.5512395540104514\\n',\n",
       " 'END\\n']"
      ]
     },
     "execution_count": 7,
     "metadata": {},
     "output_type": "execute_result"
    }
   ],
   "source": [
    "from crystal_functions.properties import cry_doss\n",
    "\n",
    "#Energy range (in eV)\n",
    "doss_block = cry_doss(n_points=200,e_range=[-5,15],plotting_option=2,poly=12,print_option=1)\n",
    "doss_block"
   ]
  },
  {
   "cell_type": "markdown",
   "id": "f60dec0c",
   "metadata": {},
   "source": [
    "### pdoss"
   ]
  },
  {
   "cell_type": "code",
   "execution_count": 8,
   "id": "bc6ca24f",
   "metadata": {
    "collapsed": true
   },
   "outputs": [
    {
     "ename": "ModuleNotFoundError",
     "evalue": "No module named 'cry_file_readwrite'",
     "output_type": "error",
     "traceback": [
      "\u001b[0;31m---------------------------------------------------------------------------\u001b[0m",
      "\u001b[0;31mModuleNotFoundError\u001b[0m                       Traceback (most recent call last)",
      "\u001b[0;32m/var/folders/f2/8kc7y9697m59bwltxjd42y300000gn/T/ipykernel_63384/2765533586.py\u001b[0m in \u001b[0;36m<module>\u001b[0;34m\u001b[0m\n\u001b[1;32m      3\u001b[0m \u001b[0;31m#Atom index from input\u001b[0m\u001b[0;34m\u001b[0m\u001b[0;34m\u001b[0m\u001b[0m\n\u001b[1;32m      4\u001b[0m \u001b[0mprojections\u001b[0m \u001b[0;34m=\u001b[0m \u001b[0;34m[\u001b[0m\u001b[0;34m[\u001b[0m\u001b[0;36m1\u001b[0m\u001b[0;34m]\u001b[0m\u001b[0;34m,\u001b[0m\u001b[0;34m[\u001b[0m\u001b[0;36m2\u001b[0m\u001b[0;34m]\u001b[0m\u001b[0;34m]\u001b[0m\u001b[0;34m\u001b[0m\u001b[0;34m\u001b[0m\u001b[0m\n\u001b[0;32m----> 5\u001b[0;31m pdoss_block = cry_pdoss(projections,proj_type='atom',n_points=200,band_range=[1,26],\n\u001b[0m\u001b[1;32m      6\u001b[0m                        plotting_option=2,poly=12,print_option=1)\n\u001b[1;32m      7\u001b[0m \u001b[0mpdoss_block\u001b[0m\u001b[0;34m\u001b[0m\u001b[0;34m\u001b[0m\u001b[0m\n",
      "\u001b[0;32m~/miniconda3/envs/test_env/lib/python3.9/site-packages/crystal_functions/properties.py\u001b[0m in \u001b[0;36mcry_pdoss\u001b[0;34m(projections, proj_type, output_file, n_points, band_range, e_range, plotting_option, poly, print_option)\u001b[0m\n\u001b[1;32m    132\u001b[0m \u001b[0;34m\u001b[0m\u001b[0m\n\u001b[1;32m    133\u001b[0m     \u001b[0;32mimport\u001b[0m \u001b[0msys\u001b[0m\u001b[0;34m\u001b[0m\u001b[0;34m\u001b[0m\u001b[0m\n\u001b[0;32m--> 134\u001b[0;31m     \u001b[0;32mfrom\u001b[0m \u001b[0mcry_file_readwrite\u001b[0m \u001b[0;32mimport\u001b[0m \u001b[0mCrystal_output\u001b[0m\u001b[0;34m\u001b[0m\u001b[0;34m\u001b[0m\u001b[0m\n\u001b[0m\u001b[1;32m    135\u001b[0m \u001b[0;34m\u001b[0m\u001b[0m\n\u001b[1;32m    136\u001b[0m     \u001b[0mpdoss_block\u001b[0m \u001b[0;34m=\u001b[0m \u001b[0;34m[\u001b[0m\u001b[0;34m]\u001b[0m\u001b[0;34m\u001b[0m\u001b[0;34m\u001b[0m\u001b[0m\n",
      "\u001b[0;31mModuleNotFoundError\u001b[0m: No module named 'cry_file_readwrite'"
     ]
    }
   ],
   "source": [
    "from crystal_functions.properties import cry_pdoss\n",
    "\n",
    "#Atom index from input\n",
    "projections = [[1],[2]]\n",
    "pdoss_block = cry_pdoss(projections,proj_type='atom',n_points=200,band_range=[1,26],\n",
    "                       plotting_option=2,poly=12,print_option=1)\n",
    "pdoss_block"
   ]
  },
  {
   "cell_type": "code",
   "execution_count": 9,
   "id": "cfcf35de",
   "metadata": {
    "collapsed": true
   },
   "outputs": [
    {
     "ename": "ModuleNotFoundError",
     "evalue": "No module named 'cry_file_readwrite'",
     "output_type": "error",
     "traceback": [
      "\u001b[0;31m---------------------------------------------------------------------------\u001b[0m",
      "\u001b[0;31mModuleNotFoundError\u001b[0m                       Traceback (most recent call last)",
      "\u001b[0;32m/var/folders/f2/8kc7y9697m59bwltxjd42y300000gn/T/ipykernel_63384/1832034118.py\u001b[0m in \u001b[0;36m<module>\u001b[0;34m\u001b[0m\n\u001b[1;32m      6\u001b[0m               [14, 15, 16, 17, 18, 19, 20, 21, 22, 23, 24, 25, 26]]\n\u001b[1;32m      7\u001b[0m \u001b[0;34m\u001b[0m\u001b[0m\n\u001b[0;32m----> 8\u001b[0;31m pdoss_block = cry_pdoss(projections,proj_type='ao',n_points=200,band_range=[1,26],\n\u001b[0m\u001b[1;32m      9\u001b[0m                        plotting_option=2,poly=12,print_option=1)\n\u001b[1;32m     10\u001b[0m \u001b[0mpdoss_block\u001b[0m\u001b[0;34m\u001b[0m\u001b[0;34m\u001b[0m\u001b[0m\n",
      "\u001b[0;32m~/miniconda3/envs/test_env/lib/python3.9/site-packages/crystal_functions/properties.py\u001b[0m in \u001b[0;36mcry_pdoss\u001b[0;34m(projections, proj_type, output_file, n_points, band_range, e_range, plotting_option, poly, print_option)\u001b[0m\n\u001b[1;32m    132\u001b[0m \u001b[0;34m\u001b[0m\u001b[0m\n\u001b[1;32m    133\u001b[0m     \u001b[0;32mimport\u001b[0m \u001b[0msys\u001b[0m\u001b[0;34m\u001b[0m\u001b[0;34m\u001b[0m\u001b[0m\n\u001b[0;32m--> 134\u001b[0;31m     \u001b[0;32mfrom\u001b[0m \u001b[0mcry_file_readwrite\u001b[0m \u001b[0;32mimport\u001b[0m \u001b[0mCrystal_output\u001b[0m\u001b[0;34m\u001b[0m\u001b[0;34m\u001b[0m\u001b[0m\n\u001b[0m\u001b[1;32m    135\u001b[0m \u001b[0;34m\u001b[0m\u001b[0m\n\u001b[1;32m    136\u001b[0m     \u001b[0mpdoss_block\u001b[0m \u001b[0;34m=\u001b[0m \u001b[0;34m[\u001b[0m\u001b[0;34m]\u001b[0m\u001b[0;34m\u001b[0m\u001b[0;34m\u001b[0m\u001b[0m\n",
      "\u001b[0;31mModuleNotFoundError\u001b[0m: No module named 'cry_file_readwrite'"
     ]
    }
   ],
   "source": [
    "from crystal_functions.properties import cry_pdoss\n",
    "import numpy as np\n",
    "\n",
    "#AO index from input\n",
    "projections = [[1, 2, 3, 4, 5, 6, 7, 8, 9, 10, 11, 12, 13],\n",
    "              [14, 15, 16, 17, 18, 19, 20, 21, 22, 23, 24, 25, 26]]\n",
    "\n",
    "pdoss_block = cry_pdoss(projections,proj_type='ao',n_points=200,band_range=[1,26],\n",
    "                       plotting_option=2,poly=12,print_option=1)\n",
    "pdoss_block"
   ]
  },
  {
   "cell_type": "code",
   "execution_count": 10,
   "id": "4e4197b8",
   "metadata": {
    "collapsed": true
   },
   "outputs": [
    {
     "ename": "ModuleNotFoundError",
     "evalue": "No module named 'cry_file_readwrite'",
     "output_type": "error",
     "traceback": [
      "\u001b[0;31m---------------------------------------------------------------------------\u001b[0m",
      "\u001b[0;31mModuleNotFoundError\u001b[0m                       Traceback (most recent call last)",
      "\u001b[0;32m/var/folders/f2/8kc7y9697m59bwltxjd42y300000gn/T/ipykernel_63384/2016671186.py\u001b[0m in \u001b[0;36m<module>\u001b[0;34m\u001b[0m\n\u001b[1;32m      5\u001b[0m \u001b[0mprojections\u001b[0m \u001b[0;34m=\u001b[0m \u001b[0;34m[\u001b[0m\u001b[0;34m[\u001b[0m\u001b[0;34m'Mg'\u001b[0m\u001b[0;34m]\u001b[0m\u001b[0;34m,\u001b[0m\u001b[0;34m[\u001b[0m\u001b[0;34m'O'\u001b[0m\u001b[0;34m]\u001b[0m\u001b[0;34m]\u001b[0m\u001b[0;34m\u001b[0m\u001b[0;34m\u001b[0m\u001b[0m\n\u001b[1;32m      6\u001b[0m \u001b[0;34m\u001b[0m\u001b[0m\n\u001b[0;32m----> 7\u001b[0;31m pdoss_block = cry_pdoss(projections,proj_type='atom',output_file='data/mgo.out',n_points=200,band_range=[1,26],\n\u001b[0m\u001b[1;32m      8\u001b[0m                        plotting_option=2,poly=12,print_option=1)\n\u001b[1;32m      9\u001b[0m \u001b[0mpdoss_block\u001b[0m\u001b[0;34m\u001b[0m\u001b[0;34m\u001b[0m\u001b[0m\n",
      "\u001b[0;32m~/miniconda3/envs/test_env/lib/python3.9/site-packages/crystal_functions/properties.py\u001b[0m in \u001b[0;36mcry_pdoss\u001b[0;34m(projections, proj_type, output_file, n_points, band_range, e_range, plotting_option, poly, print_option)\u001b[0m\n\u001b[1;32m    132\u001b[0m \u001b[0;34m\u001b[0m\u001b[0m\n\u001b[1;32m    133\u001b[0m     \u001b[0;32mimport\u001b[0m \u001b[0msys\u001b[0m\u001b[0;34m\u001b[0m\u001b[0;34m\u001b[0m\u001b[0m\n\u001b[0;32m--> 134\u001b[0;31m     \u001b[0;32mfrom\u001b[0m \u001b[0mcry_file_readwrite\u001b[0m \u001b[0;32mimport\u001b[0m \u001b[0mCrystal_output\u001b[0m\u001b[0;34m\u001b[0m\u001b[0;34m\u001b[0m\u001b[0m\n\u001b[0m\u001b[1;32m    135\u001b[0m \u001b[0;34m\u001b[0m\u001b[0m\n\u001b[1;32m    136\u001b[0m     \u001b[0mpdoss_block\u001b[0m \u001b[0;34m=\u001b[0m \u001b[0;34m[\u001b[0m\u001b[0;34m]\u001b[0m\u001b[0;34m\u001b[0m\u001b[0;34m\u001b[0m\u001b[0m\n",
      "\u001b[0;31mModuleNotFoundError\u001b[0m: No module named 'cry_file_readwrite'"
     ]
    }
   ],
   "source": [
    "from crystal_functions.properties import cry_pdoss\n",
    "import numpy as np\n",
    "\n",
    "#Atom index from symbol\n",
    "projections = [['Mg'],['O']]\n",
    "\n",
    "pdoss_block = cry_pdoss(projections,proj_type='atom',output_file='data/mgo.out',n_points=200,band_range=[1,26],\n",
    "                       plotting_option=2,poly=12,print_option=1)\n",
    "pdoss_block"
   ]
  }
 ],
 "metadata": {
  "kernelspec": {
   "display_name": "Python 3 (ipykernel)",
   "language": "python",
   "name": "python3"
  },
  "language_info": {
   "codemirror_mode": {
    "name": "ipython",
    "version": 3
   },
   "file_extension": ".py",
   "mimetype": "text/x-python",
   "name": "python",
   "nbconvert_exporter": "python",
   "pygments_lexer": "ipython3",
   "version": "3.9.10"
  }
 },
 "nbformat": 4,
 "nbformat_minor": 5
}
