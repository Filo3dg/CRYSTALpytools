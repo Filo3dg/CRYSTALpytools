{
 "cells": [
  {
   "cell_type": "markdown",
   "id": "68158073",
   "metadata": {},
   "source": [
    "# Example notebook for the functions contained in cry_convert.py"
   ]
  },
  {
   "cell_type": "markdown",
   "id": "56179e55",
   "metadata": {},
   "source": [
    "### cry_out2pmg function"
   ]
  },
  {
   "cell_type": "code",
   "execution_count": 1,
   "id": "67db808d",
   "metadata": {},
   "outputs": [],
   "source": [
    "import sys\n",
    "sys.path.insert(1, '../')\n",
    "\n",
    "from cry_convert import cry_out2pmg"
   ]
  },
  {
   "cell_type": "code",
   "execution_count": 6,
   "id": "9bf1a511",
   "metadata": {},
   "outputs": [
    {
     "data": {
      "text/plain": [
       "Structure Summary\n",
       "Lattice\n",
       "    abc : 4.24022001638 4.24022001638 4.24022001638\n",
       " angles : 90.0 90.0 90.0\n",
       " volume : 76.23689071516961\n",
       "      A : 4.24022001638 0.0 2.5963859353701527e-16\n",
       "      B : -2.5963859353701527e-16 4.24022001638 2.5963859353701527e-16\n",
       "      C : 0.0 0.0 4.24022001638\n",
       "PeriodicSite: Mg (0.0000, 0.0000, 0.0000) [0.0000, 0.0000, 0.0000]\n",
       "PeriodicSite: Mg (-0.0000, 2.1201, 2.1201) [0.0000, 0.5000, 0.5000]\n",
       "PeriodicSite: Mg (2.1201, 0.0000, 2.1201) [0.5000, 0.0000, 0.5000]\n",
       "PeriodicSite: Mg (2.1201, 2.1201, 0.0000) [0.5000, 0.5000, 0.0000]\n",
       "PeriodicSite: O (2.1201, 0.0000, 0.0000) [0.5000, 0.0000, 0.0000]\n",
       "PeriodicSite: O (2.1201, 2.1201, 2.1201) [0.5000, 0.5000, 0.5000]\n",
       "PeriodicSite: O (0.0000, 0.0000, 2.1201) [0.0000, 0.0000, 0.5000]\n",
       "PeriodicSite: O (-0.0000, 2.1201, 0.0000) [0.0000, 0.5000, 0.0000]"
      ]
     },
     "execution_count": 6,
     "metadata": {},
     "output_type": "execute_result"
    }
   ],
   "source": [
    "mpg_structure = cry_out2pmg('data/mgo_optgeom.out',initial=False)\n",
    "mpg_structure"
   ]
  }
 ],
 "metadata": {
  "kernelspec": {
   "display_name": "Python 3 (ipykernel)",
   "language": "python",
   "name": "python3"
  },
  "language_info": {
   "codemirror_mode": {
    "name": "ipython",
    "version": 3
   },
   "file_extension": ".py",
   "mimetype": "text/x-python",
   "name": "python",
   "nbconvert_exporter": "python",
   "pygments_lexer": "ipython3",
   "version": "3.9.7"
  }
 },
 "nbformat": 4,
 "nbformat_minor": 5
}
