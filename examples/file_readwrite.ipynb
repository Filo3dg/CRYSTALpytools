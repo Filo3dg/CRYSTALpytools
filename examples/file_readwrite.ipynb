{
 "cells": [
  {
   "cell_type": "markdown",
   "id": "68158073",
   "metadata": {},
   "source": [
    "# Example notebook for the functions contained in cry_file_readwrite.py"
   ]
  },
  {
   "cell_type": "markdown",
   "id": "56179e55",
   "metadata": {},
   "source": [
    "### Crystal_input class"
   ]
  },
  {
   "cell_type": "code",
   "execution_count": 1,
   "id": "032121ab",
   "metadata": {},
   "outputs": [],
   "source": [
    "from crystal_functions.file_readwrite import Crystal_input"
   ]
  },
  {
   "cell_type": "markdown",
   "id": "cbfdbe40",
   "metadata": {},
   "source": [
    "Create a crystal input object"
   ]
  },
  {
   "cell_type": "code",
   "execution_count": 2,
   "id": "ed435d4f",
   "metadata": {},
   "outputs": [
    {
     "data": {
      "text/plain": [
       "['MGO BULK - GEOMETRY TEST\\n',\n",
       " 'CRYSTAL\\n',\n",
       " '0 0 0\\n',\n",
       " '225\\n',\n",
       " '4.217\\n',\n",
       " '2\\n',\n",
       " '12 0.    0.    0.\\n',\n",
       " '8 0.5   0.5   0.5\\n',\n",
       " 'END\\n']"
      ]
     },
     "execution_count": 2,
     "metadata": {},
     "output_type": "execute_result"
    }
   ],
   "source": [
    "mgo_input = Crystal_input('data/mgo.d12')\n",
    "mgo_input.geom_block"
   ]
  },
  {
   "cell_type": "markdown",
   "id": "fe2d3647",
   "metadata": {},
   "source": [
    "### Crystal_output class"
   ]
  },
  {
   "cell_type": "code",
   "execution_count": 3,
   "id": "0a495139",
   "metadata": {},
   "outputs": [],
   "source": [
    "from crystal_functions.file_readwrite import Crystal_output"
   ]
  },
  {
   "cell_type": "code",
   "execution_count": 4,
   "id": "bfb6e6f8",
   "metadata": {},
   "outputs": [
    {
     "data": {
      "text/plain": [
       "<crystal_functions.file_readwrite.Crystal_output at 0x1037360a0>"
      ]
     },
     "execution_count": 4,
     "metadata": {},
     "output_type": "execute_result"
    }
   ],
   "source": [
    "mgo_output = Crystal_output('data/mgo_optgeom.out')\n",
    "mgo_output"
   ]
  },
  {
   "cell_type": "markdown",
   "id": "58b3f761",
   "metadata": {},
   "source": [
    "#### Functions and properties"
   ]
  },
  {
   "cell_type": "code",
   "execution_count": 5,
   "id": "0bf048c7",
   "metadata": {},
   "outputs": [
    {
     "name": "stdout",
     "output_type": "stream",
     "text": [
      "Final energy = -7495.341792877063 eV \n",
      "\n",
      "Fermi energy = -4.13671240282 eV \n",
      "\n",
      "Primitive lattice \n",
      " [[0.     2.1085 2.1085]\n",
      " [2.1085 0.     2.1085]\n",
      " [2.1085 2.1085 0.    ]] \n",
      "\n",
      "Reciprocal lattice \n",
      " [[-1.48996571  1.48996571  1.48996571]\n",
      " [ 1.48996571 -1.48996571  1.48996571]\n",
      " [ 1.48996571  1.48996571 -1.48996571]] \n",
      "\n",
      "Band gap = 7.1237 eV \n",
      "\n"
     ]
    },
    {
     "name": "stderr",
     "output_type": "stream",
     "text": [
      "<frozen importlib._bootstrap>:228: RuntimeWarning: scipy._lib.messagestream.MessageStream size changed, may indicate binary incompatibility. Expected 56 from C header, got 64 from PyObject\n"
     ]
    },
    {
     "name": "stdout",
     "output_type": "stream",
     "text": [
      "Last geometry = \n",
      " [[[0.0, 2.12011000819, 2.12011000819], [2.12011000819, 0.0, 2.12011000819], [2.12011000819, 2.12011000819, 0.0]], [12, 8], [[0.0, 0.0, 0.0], [2.12011000819, 2.12011000819, 2.12011000819]]] \n",
      "\n",
      "Symmetry operators = \n",
      " [[ 1.  0.  0.  0.  1.  0.  0.  0.  1.  0.  0.  0.]\n",
      " [ 0.  1.  0.  1.  0.  0. -1. -1. -1.  0.  0.  0.]\n",
      " [-1. -1. -1.  0.  0.  1.  0.  1.  0.  0.  0.  0.]\n",
      " [ 0.  0.  1. -1. -1. -1.  1.  0.  0.  0.  0.  0.]\n",
      " [ 0.  0.  1.  1.  0.  0.  0.  1.  0.  0.  0.  0.]\n",
      " [ 0.  1.  0.  0.  0.  1.  1.  0.  0.  0.  0.  0.]\n",
      " [ 1.  0.  0.  0.  0.  1. -1. -1. -1.  0.  0.  0.]\n",
      " [ 1.  0.  0. -1. -1. -1.  0.  1.  0.  0.  0.  0.]\n",
      " [-1. -1. -1.  0.  1.  0.  1.  0.  0.  0.  0.  0.]\n",
      " [ 0.  0.  1.  0.  1.  0. -1. -1. -1.  0.  0.  0.]\n",
      " [ 0.  1.  0. -1. -1. -1.  0.  0.  1.  0.  0.  0.]\n",
      " [-1. -1. -1.  1.  0.  0.  0.  0.  1.  0.  0.  0.]\n",
      " [ 0. -1.  0. -1.  0.  0.  0.  0. -1.  0.  0.  0.]\n",
      " [-1.  0.  0.  0. -1.  0.  1.  1.  1.  0.  0.  0.]\n",
      " [ 0.  0. -1.  1.  1.  1.  0. -1.  0.  0.  0.  0.]\n",
      " [ 1.  1.  1.  0.  0. -1. -1.  0.  0.  0.  0.  0.]\n",
      " [-1.  0.  0.  0.  0. -1.  0. -1.  0.  0.  0.  0.]\n",
      " [ 0.  0. -1.  0. -1.  0. -1.  0.  0.  0.  0.  0.]\n",
      " [ 0.  0. -1. -1.  0.  0.  1.  1.  1.  0.  0.  0.]\n",
      " [ 1.  1.  1. -1.  0.  0.  0. -1.  0.  0.  0.  0.]\n",
      " [ 0. -1.  0.  1.  1.  1. -1.  0.  0.  0.  0.  0.]\n",
      " [ 0. -1.  0.  0.  0. -1.  1.  1.  1.  0.  0.  0.]\n",
      " [ 1.  1.  1.  0. -1.  0.  0.  0. -1.  0.  0.  0.]\n",
      " [-1.  0.  0.  1.  1.  1.  0.  0. -1.  0.  0.  0.]\n",
      " [-1.  0.  0.  0. -1.  0.  0.  0. -1.  0.  0.  0.]\n",
      " [ 0. -1.  0. -1.  0.  0.  1.  1.  1.  0.  0.  0.]\n",
      " [ 1.  1.  1.  0.  0. -1.  0. -1.  0.  0.  0.  0.]\n",
      " [ 0.  0. -1.  1.  1.  1. -1.  0.  0.  0.  0.  0.]\n",
      " [ 0.  0. -1. -1.  0.  0.  0. -1.  0.  0.  0.  0.]\n",
      " [ 0. -1.  0.  0.  0. -1. -1.  0.  0.  0.  0.  0.]\n",
      " [-1.  0.  0.  0.  0. -1.  1.  1.  1.  0.  0.  0.]\n",
      " [-1.  0.  0.  1.  1.  1.  0. -1.  0.  0.  0.  0.]\n",
      " [ 1.  1.  1.  0. -1.  0. -1.  0.  0.  0.  0.  0.]\n",
      " [ 0.  0. -1.  0. -1.  0.  1.  1.  1.  0.  0.  0.]\n",
      " [ 0. -1.  0.  1.  1.  1.  0.  0. -1.  0.  0.  0.]\n",
      " [ 1.  1.  1. -1.  0.  0.  0.  0. -1.  0.  0.  0.]\n",
      " [ 0.  1.  0.  1.  0.  0.  0.  0.  1.  0.  0.  0.]\n",
      " [ 1.  0.  0.  0.  1.  0. -1. -1. -1.  0.  0.  0.]\n",
      " [ 0.  0.  1. -1. -1. -1.  0.  1.  0.  0.  0.  0.]\n",
      " [-1. -1. -1.  0.  0.  1.  1.  0.  0.  0.  0.  0.]\n",
      " [ 1.  0.  0.  0.  0.  1.  0.  1.  0.  0.  0.  0.]\n",
      " [ 0.  0.  1.  0.  1.  0.  1.  0.  0.  0.  0.  0.]\n",
      " [ 0.  0.  1.  1.  0.  0. -1. -1. -1.  0.  0.  0.]\n",
      " [-1. -1. -1.  1.  0.  0.  0.  1.  0.  0.  0.  0.]\n",
      " [ 0.  1.  0. -1. -1. -1.  1.  0.  0.  0.  0.  0.]\n",
      " [ 0.  1.  0.  0.  0.  1. -1. -1. -1.  0.  0.  0.]\n",
      " [-1. -1. -1.  0.  1.  0.  0.  0.  1.  0.  0.  0.]\n",
      " [ 1.  0.  0. -1. -1. -1.  0.  0.  1.  0.  0.  0.]] \n",
      "\n",
      "Forces on cell = \n",
      " [[-0.00148273  0.00148273  0.00148273]\n",
      " [ 0.00148273 -0.00148273  0.00148273]\n",
      " [ 0.00148273  0.00148273 -0.00148273]] \n",
      " Forces on atoms = \n",
      " [[-4.18889278e-16 -4.11372640e-16 -4.14981546e-16]\n",
      " [ 4.14263349e-16  4.13107364e-16  4.14981546e-16]] \n",
      " Gradient = \n",
      " ['0.020466', '0.004693', '0.000069', '0.000032'] \n",
      "\n",
      "Total energy = \n",
      " [-7476.83111864 -7489.9832359  -7494.92298163 -7495.34019539\n",
      " -7495.34166646 -7495.34179102 -7495.34179278 -7495.34179288] \n",
      " Delta energy = \n",
      " [-7.48313500e+03 -1.31431062e+01 -4.95247480e+00 -4.16334420e-01\n",
      " -1.47213674e-03 -1.24628212e-04 -1.75513530e-06 -1.02586978e-07] \n",
      "\n"
     ]
    }
   ],
   "source": [
    "#Final energy\n",
    "print(\"Final energy = %s eV \\n\" % mgo_output.get_final_energy())\n",
    "\n",
    "#Fermi energy\n",
    "print(\"Fermi energy = %s eV \\n\" % mgo_output.get_fermi_energy())\n",
    "\n",
    "#Primitive lattice\n",
    "print(\"Primitive lattice \\n %s \\n\" % mgo_output.get_primitive_lattice())\n",
    "\n",
    "#Reciprocal lattice\n",
    "print(\"Reciprocal lattice \\n %s \\n\" % mgo_output.get_reciprocal_lattice())\n",
    "\n",
    "#Band gap\n",
    "print(\"Band gap = %s eV \\n\" % mgo_output.get_band_gap())\n",
    "\n",
    "#Last geometry\n",
    "print(\"Last geometry = \\n %s \\n\" % mgo_output.get_last_geom())\n",
    "\n",
    "#Symmetry operators\n",
    "print(\"Symmetry operators = \\n %s \\n\" % mgo_output.get_symm_ops())\n",
    "\n",
    "#Forces\n",
    "print(\"Forces on cell = \\n %s \\n Forces on atoms = \\n %s \\n Gradient = \\n %s \\n\" % (mgo_output.get_forces(grad=True)[0],\n",
    "                                                                                    mgo_output.get_forces(grad=True)[1],\n",
    "                                                                                    mgo_output.grad))\n",
    "#Scf convergence\n",
    "print(\"Total energy = \\n %s \\n Delta energy = \\n %s \\n\" % (mgo_output.get_scf_convergence()[0],\n",
    "                                                           mgo_output.get_scf_convergence()[1]))"
   ]
  },
  {
   "cell_type": "markdown",
   "id": "bb1f72fe",
   "metadata": {},
   "source": [
    "### Properties_output class"
   ]
  },
  {
   "cell_type": "code",
   "execution_count": 6,
   "id": "844eb99c",
   "metadata": {},
   "outputs": [],
   "source": [
    "from crystal_functions.file_readwrite import Properties_output"
   ]
  },
  {
   "cell_type": "markdown",
   "id": "31c14b9a",
   "metadata": {},
   "source": [
    "#### Bands"
   ]
  },
  {
   "cell_type": "code",
   "execution_count": 7,
   "id": "7525ccbb",
   "metadata": {},
   "outputs": [
    {
     "data": {
      "text/plain": [
       "array([[0.  , 0.  , 0.  ],\n",
       "       [0.5 , 0.  , 0.5 ],\n",
       "       [0.5 , 0.5 , 0.5 ],\n",
       "       [0.  , 0.  , 0.  ],\n",
       "       [0.5 , 0.25, 0.75]])"
      ]
     },
     "execution_count": 7,
     "metadata": {},
     "output_type": "execute_result"
    }
   ],
   "source": [
    "mgo_bands = Properties_output('../examples/data/mgo_BAND_dat.BAND')\n",
    "mgo_bands = mgo_bands.read_cry_bands()\n",
    "mgo_bands.k_point_inp_coordinates"
   ]
  },
  {
   "cell_type": "markdown",
   "id": "17e06d40",
   "metadata": {},
   "source": [
    "#### Doss"
   ]
  },
  {
   "cell_type": "code",
   "execution_count": 8,
   "id": "ec69cfae",
   "metadata": {
    "scrolled": true
   },
   "outputs": [],
   "source": [
    "mgo_doss = Properties_output('data/mgo_DOSS_dat.DOSS')\n",
    "mgo_doss = mgo_doss.read_cry_doss()"
   ]
  },
  {
   "cell_type": "markdown",
   "id": "a42b438f",
   "metadata": {},
   "source": [
    "### write_cry_input function"
   ]
  },
  {
   "cell_type": "code",
   "execution_count": 9,
   "id": "2417bd82",
   "metadata": {},
   "outputs": [],
   "source": [
    "from crystal_functions.file_readwrite import Crystal_input\n",
    "from crystal_functions.file_readwrite import write_crystal_input"
   ]
  },
  {
   "cell_type": "markdown",
   "id": "cec38561",
   "metadata": {},
   "source": [
    "#### Use existing input file"
   ]
  },
  {
   "cell_type": "code",
   "execution_count": 10,
   "id": "f008e190",
   "metadata": {},
   "outputs": [],
   "source": [
    "#Read the original input\n",
    "mgo_original_input = Crystal_input('data/mgo.d12')\n",
    "\n",
    "#Write the input\n",
    "new_input_name = 'data/mgo_from_file.d12'\n",
    "write_crystal_input(new_input_name,crystal_input=mgo_original_input)"
   ]
  },
  {
   "cell_type": "markdown",
   "id": "b13a9160",
   "metadata": {},
   "source": [
    "#### Build from blocks"
   ]
  },
  {
   "cell_type": "code",
   "execution_count": 11,
   "id": "c894748b",
   "metadata": {},
   "outputs": [],
   "source": [
    "#Define the blocks\n",
    "geom_block = ['MGO BULK - GEOMETRY TEST\\n',\n",
    " 'CRYSTAL\\n',\n",
    " '0 0 0\\n',\n",
    " '225\\n',\n",
    " '4.217\\n',\n",
    " '2\\n',\n",
    " '12 0.    0.    0.\\n',\n",
    " '8 0.5   0.5   0.5\\n',\n",
    " 'END\\n']\n",
    "bs_block = ['12 4\\n',\n",
    " '0 0 8 2.0 1.0\\n',\n",
    " ' 68370.0 0.0002226\\n',\n",
    " ' 9661.0 0.001901\\n',\n",
    " ' 2041.0 0.011042\\n',\n",
    " ' 529.6 0.05005\\n',\n",
    " ' 159.17 0.1690\\n',\n",
    " ' 54.71 0.36695\\n',\n",
    " ' 21.236 0.4008\\n',\n",
    " ' 8.791 0.1487\\n',\n",
    " '0 1 5 8.0 1.0\\n',\n",
    " ' 143.7 -0.00671 0.00807\\n',\n",
    " ' 31.27 -0.07927 0.06401\\n',\n",
    " ' 9.661 -0.08088 0.2092\\n',\n",
    " ' 3.726 0.2947 0.3460\\n',\n",
    " ' 1.598 0.5714 0.3731\\n',\n",
    " '0 1 1 2.0 1.0\\n',\n",
    " ' 0.688 1.0 1.0\\n',\n",
    " '0 1 1 0.0 1.0\\n',\n",
    " ' 0.28 1.0 1.0\\n',\n",
    " '8 4\\n',\n",
    " '0 0 8 2.0 1.0\\n',\n",
    " ' 8020.0 0.00108\\n',\n",
    " ' 1338.0 0.00804\\n',\n",
    " ' 255.4 0.05324\\n',\n",
    " ' 69.22 0.1681\\n',\n",
    " ' 23.90 0.3581\\n',\n",
    " ' 9.264 0.3855\\n',\n",
    " ' 3.851 0.1468\\n',\n",
    " ' 1.212 0.0728\\n',\n",
    " '0 1 4 6.0 1.0\\n',\n",
    " ' 49.43 -0.00883 0.00958\\n',\n",
    " ' 10.47 -0.0915 0.0696\\n',\n",
    " ' 3.235 -0.0402 0.2065\\n',\n",
    " ' 1.217 0.379 0.347\\n',\n",
    " '0 1 1 0.0 1.0\\n',\n",
    " ' 0.4764 1.0 1.0\\n',\n",
    " '0 1 1 0.0 1.0\\n',\n",
    " ' 0.1802 1.0 1.0\\n',\n",
    " '99 0\\n',\n",
    " 'ENDBS\\n']\n",
    "func_block = ['DFT\\n', 'B3LYP\\n', 'XXLGRID\\n', 'ENDDFT\\n']\n",
    "scf_block = [['TOLINTEG\\n', '7 7 7 7 14\\n'],\n",
    " ['SHRINK\\n', '12 24\\n'],\n",
    " ['MAXCYCLE\\n', '200\\n'],\n",
    " ['FMIXING\\n', '70\\n'],\n",
    " 'DIIS\\n',\n",
    " 'ENDSCF\\n']\n",
    "\n",
    "#Write the input\n",
    "new_input_name = 'data/mgo_from_blocks.d12'\n",
    "write_crystal_input(new_input_name,crystal_blocks=[geom_block,bs_block,func_block,scf_block])"
   ]
  },
  {
   "cell_type": "code",
   "execution_count": 12,
   "id": "a5e86f39",
   "metadata": {},
   "outputs": [],
   "source": [
    "#Write input for external object (ASE or pymatgen)\n",
    "#Start from original inout \n",
    "mgo_original_input = Crystal_input('data/mgo.d12')\n",
    "\n",
    "#Generate the external object\n",
    "from pymatgen.core import Structure, Lattice             \n",
    "from pymatgen.symmetry.analyzer import SpacegroupAnalyzer\n",
    "\n",
    "substrate = Structure.from_spacegroup(\"Fm-3m\", Lattice.cubic(4.217), [\"Mg\",\"O\"], [[0, 0, 0],[0.5,0.5,0.5]])\n",
    "substrate_primitive = SpacegroupAnalyzer(substrate).get_primitive_standard_structure() \n",
    "\n",
    "#Write the input\n",
    "new_input_name = 'data/mgo_external_obj.d12'\n",
    "write_crystal_input(new_input_name,crystal_input=mgo_original_input,external_obj=substrate_primitive)"
   ]
  },
  {
   "cell_type": "markdown",
   "id": "ac37f16d",
   "metadata": {},
   "source": [
    "### write_cry_properties function"
   ]
  },
  {
   "cell_type": "markdown",
   "id": "1c9d3903",
   "metadata": {},
   "source": [
    "#### bands from k points coordinates"
   ]
  },
  {
   "cell_type": "code",
   "execution_count": 13,
   "id": "1aa05d78",
   "metadata": {},
   "outputs": [],
   "source": [
    "from crystal_functions.file_readwrite import Properties_input\n",
    "from crystal_functions.file_readwrite import write_properties_input\n",
    "\n",
    "#Prepare the newk_block\n",
    "newk_block = Properties_input().make_newk_block(12,24)\n",
    "\n",
    "#Prepare the band_block\n",
    "k_path = [[0,0,0],[0.5,0,0],[0.5,0.5,0.5],[0.25,0,0.5]]\n",
    "n_kpoints = 200\n",
    "first_band = 1\n",
    "last_band = 26\n",
    "bands_block = Properties_input().make_bands_block(k_path,n_kpoints,first_band,last_band)\n",
    "\n",
    "#Write the input\n",
    "write_properties_input('data/bands_input_1.d3',bands_block,newk_block)"
   ]
  },
  {
   "cell_type": "markdown",
   "id": "b74efb1e",
   "metadata": {},
   "source": [
    "#### bands from pymatgen HighSymmKpath object"
   ]
  },
  {
   "cell_type": "code",
   "execution_count": 14,
   "id": "9698e3ba",
   "metadata": {},
   "outputs": [],
   "source": [
    "from pymatgen.symmetry.bandstructure import HighSymmKpath\n",
    "from pymatgen.symmetry.analyzer import SpacegroupAnalyzer\n",
    "\n",
    "from crystal_functions.file_readwrite import write_properties_input\n",
    "from crystal_functions.file_readwrite import Crystal_output\n",
    "from crystal_functions.file_readwrite import Properties_input\n",
    "from crystal_functions.convert import cry_out2pmg\n",
    "\n",
    "\n",
    "#Prepare the newk_block\n",
    "newk_block = Properties_input().make_newk_block(12,24)\n",
    "\n",
    "#Read the structure\n",
    "mgo = Crystal_output('data/mgo.out')\n",
    "mgo = cry_out2pmg(mgo)\n",
    "mgo_prim = SpacegroupAnalyzer(mgo).get_primitive_standard_structure(international_monoclinic=False)\n",
    "\n",
    "#Obtain the k path object\n",
    "k_path = HighSymmKpath(mgo_prim)\n",
    "\n",
    "n_kpoints = 200\n",
    "first_band = 1\n",
    "last_band = 26\n",
    "bands_block = Properties_input().make_bands_block(k_path,n_kpoints,first_band,last_band)\n",
    "\n",
    "#Write the input\n",
    "write_properties_input('data/bands_input_2.d3',bands_block,newk_block)"
   ]
  },
  {
   "cell_type": "code",
   "execution_count": 15,
   "id": "90cba974",
   "metadata": {},
   "outputs": [
    {
     "data": {
      "text/plain": [
       "['BAND\\n',\n",
       " 'BAND STRUCTURE CALCULATION\\n',\n",
       " '11 8 200 1 26 1 0\\n',\n",
       " '0 0 0  4 0 4\\n',\n",
       " '4 0 4  4 2 5\\n',\n",
       " '4 2 5  2 2 5\\n',\n",
       " '2 2 5  0 0 0\\n',\n",
       " '0 0 0  4 4 4\\n',\n",
       " '4 4 4  5 2 5\\n',\n",
       " '5 2 5  4 2 5\\n',\n",
       " '4 2 5  4 4 4\\n',\n",
       " '4 4 4  2 2 5\\n',\n",
       " '2 2 5  5 2 5\\n',\n",
       " '5 2 5  4 0 4\\n',\n",
       " 'END\\n']"
      ]
     },
     "execution_count": 15,
     "metadata": {},
     "output_type": "execute_result"
    }
   ],
   "source": [
    "bands_block"
   ]
  },
  {
   "cell_type": "markdown",
   "id": "1b252258",
   "metadata": {},
   "source": [
    "#### doss"
   ]
  },
  {
   "cell_type": "code",
   "execution_count": 16,
   "id": "1ce65af5",
   "metadata": {},
   "outputs": [],
   "source": [
    "from crystal_functions.file_readwrite import write_properties_input\n",
    "from crystal_functions.file_readwrite import Properties_input\n",
    "\n",
    "#Prepare the newk_block\n",
    "newk_block = Properties_input().make_newk_block(12,24)\n",
    "\n",
    "#Prepare the doss_block\n",
    "\n",
    "doss_block = Properties_input().make_doss_block(n_points=200,e_range=[-5,15],plotting_option=2,poly=12,print_option=1)\n",
    "\n",
    "#Write the input\n",
    "write_properties_input('data/doss_input.d3',doss_block,newk_block)"
   ]
  },
  {
   "cell_type": "code",
   "execution_count": 17,
   "id": "933b281c",
   "metadata": {},
   "outputs": [
    {
     "name": "stdout",
     "output_type": "stream",
     "text": [
      "DOSS\r\n",
      "0 200 -1 -1 2 12 1\r\n",
      "-0.18374651800348382 0.5512395540104514\r\n",
      "END\r\n",
      "NEWK\r\n",
      "12 24\r\n",
      "1 0\r\n"
     ]
    }
   ],
   "source": [
    "!cat data/doss_input.d3"
   ]
  },
  {
   "cell_type": "markdown",
   "id": "503866da",
   "metadata": {},
   "source": [
    "#### pdoss (atoms)"
   ]
  },
  {
   "cell_type": "code",
   "execution_count": 18,
   "id": "62c51e8e",
   "metadata": {},
   "outputs": [],
   "source": [
    "\n",
    "\n",
    "#Prepare the newk_block\n",
    "newk_block = Properties_input().make_newk_block(12,24)\n",
    "\n",
    "#Prepare the pdoss_block\n",
    "projections = [[1],[2]]\n",
    "pdoss_block = Properties_input().make_pdoss_block(projections,proj_type='atom',n_points=200,band_range=[1,26],\n",
    "                       plotting_option=2,poly=12,print_option=1)\n",
    "\n",
    "#Write the input\n",
    "write_properties_input('data/pdoss_input.d3',pdoss_block,newk_block)"
   ]
  },
  {
   "cell_type": "code",
   "execution_count": 19,
   "id": "42fd2517",
   "metadata": {},
   "outputs": [
    {
     "name": "stdout",
     "output_type": "stream",
     "text": [
      "DOSS\r\n",
      "2 200 1 26 2 12 1\r\n",
      "-1 1\r\n",
      "-1 2\r\n",
      "END\r\n",
      "NEWK\r\n",
      "12 24\r\n",
      "1 0\r\n"
     ]
    }
   ],
   "source": [
    "!cat data/pdoss_input.d3"
   ]
  },
  {
   "cell_type": "markdown",
   "id": "30fa6e6e",
   "metadata": {},
   "source": [
    "#### pdoss (ao)"
   ]
  },
  {
   "cell_type": "code",
   "execution_count": 20,
   "id": "89f9c099",
   "metadata": {},
   "outputs": [
    {
     "data": {
      "text/plain": [
       "['DOSS\\n',\n",
       " '2 200 1 26 2 12 1\\n',\n",
       " '13 1 2 3 4 5 6 7 8 9 10 11 12 13\\n',\n",
       " '13 14 15 16 17 18 19 20 21 22 23 24 25 26\\n',\n",
       " 'END\\n']"
      ]
     },
     "execution_count": 20,
     "metadata": {},
     "output_type": "execute_result"
    }
   ],
   "source": [
    "from crystal_functions.file_readwrite import write_properties_input\n",
    "from crystal_functions.file_readwrite import Properties_input\n",
    "\n",
    "#AO index from input\n",
    "projections = [[1, 2, 3, 4, 5, 6, 7, 8, 9, 10, 11, 12, 13],\n",
    "              [14, 15, 16, 17, 18, 19, 20, 21, 22, 23, 24, 25, 26]]\n",
    "\n",
    "pdoss_block = Properties_input().make_pdoss_block(projections,proj_type='ao',n_points=200,band_range=[1,26],\n",
    "                       plotting_option=2,poly=12,print_option=1)\n",
    "pdoss_block"
   ]
  },
  {
   "cell_type": "markdown",
   "id": "8666bd36",
   "metadata": {},
   "source": [
    "### write_cry_gui function"
   ]
  },
  {
   "cell_type": "markdown",
   "id": "0b70b5b3",
   "metadata": {},
   "source": [
    "#### from pymatgen structure"
   ]
  },
  {
   "cell_type": "markdown",
   "id": "176df04b",
   "metadata": {},
   "source": [
    "#### bulk (3D)"
   ]
  },
  {
   "cell_type": "code",
   "execution_count": 21,
   "id": "36f7ffd0",
   "metadata": {},
   "outputs": [],
   "source": [
    "from crystal_functions.file_readwrite import write_crystal_gui\n",
    "\n",
    "from pymatgen.core import Structure, Lattice\n",
    "from pymatgen.core.surface import SlabGenerator\n",
    "\n",
    "#Generate bulk structure\n",
    "substrate = Structure.from_spacegroup(\"Fm-3m\", Lattice.cubic(4.217), [\"Mg\",'O'], [[0, 0, 0],[0.5,0.5,0.5]])\n",
    "\n",
    "#The dimensionality parameter is optional. The function will recognise it is a pymatgen bulk object\n",
    "write_crystal_gui('data/mgo_write_gui.gui',substrate,dimensionality=3)"
   ]
  },
  {
   "cell_type": "markdown",
   "id": "1133ed57",
   "metadata": {},
   "source": [
    "#### slab (2D)"
   ]
  },
  {
   "cell_type": "code",
   "execution_count": 1,
   "id": "502ec530",
   "metadata": {},
   "outputs": [
    {
     "ename": "ModuleNotFoundError",
     "evalue": "No module named 'crystal_functions'",
     "output_type": "error",
     "traceback": [
      "\u001b[0;31m---------------------------------------------------------------------------\u001b[0m",
      "\u001b[0;31mModuleNotFoundError\u001b[0m                       Traceback (most recent call last)",
      "\u001b[0;32m/var/folders/6r/15rwhds13s3ghcz0rf3cmv0r0000gn/T/ipykernel_6768/1117988950.py\u001b[0m in \u001b[0;36m<module>\u001b[0;34m\u001b[0m\n\u001b[0;32m----> 1\u001b[0;31m \u001b[0;32mfrom\u001b[0m \u001b[0mcrystal_functions\u001b[0m\u001b[0;34m.\u001b[0m\u001b[0mfile_readwrite\u001b[0m \u001b[0;32mimport\u001b[0m \u001b[0mwrite_crystal_gui\u001b[0m\u001b[0;34m\u001b[0m\u001b[0;34m\u001b[0m\u001b[0m\n\u001b[0m\u001b[1;32m      2\u001b[0m \u001b[0;34m\u001b[0m\u001b[0m\n\u001b[1;32m      3\u001b[0m \u001b[0;32mfrom\u001b[0m \u001b[0mpymatgen\u001b[0m\u001b[0;34m.\u001b[0m\u001b[0mcore\u001b[0m \u001b[0;32mimport\u001b[0m \u001b[0mStructure\u001b[0m\u001b[0;34m,\u001b[0m \u001b[0mLattice\u001b[0m\u001b[0;34m\u001b[0m\u001b[0;34m\u001b[0m\u001b[0m\n\u001b[1;32m      4\u001b[0m \u001b[0;32mfrom\u001b[0m \u001b[0mpymatgen\u001b[0m\u001b[0;34m.\u001b[0m\u001b[0mcore\u001b[0m\u001b[0;34m.\u001b[0m\u001b[0msurface\u001b[0m \u001b[0;32mimport\u001b[0m \u001b[0mSlabGenerator\u001b[0m\u001b[0;34m\u001b[0m\u001b[0;34m\u001b[0m\u001b[0m\n\u001b[1;32m      5\u001b[0m \u001b[0;34m\u001b[0m\u001b[0m\n",
      "\u001b[0;31mModuleNotFoundError\u001b[0m: No module named 'crystal_functions'"
     ]
    }
   ],
   "source": [
    "from crystal_functions.file_readwrite import write_crystal_gui\n",
    "\n",
    "from pymatgen.core import Structure, Lattice\n",
    "from pymatgen.core.surface import SlabGenerator\n",
    "\n",
    "#Generate bulk structure\n",
    "substrate = Structure.from_spacegroup(\"Fm-3m\", Lattice.cubic(4.217), [\"Mg\",'O'], [[0, 0, 0],[0.5,0.5,0.5]])\n",
    "#Generate slab\n",
    "substrate = SlabGenerator(substrate, (1,0,0), 5., 10., center_slab=False).get_slab()\n",
    "\n",
    "#The dimensionality parameter is optional. The function will recognise it is a pymatgen Slab object\n",
    "write_crystal_gui('data/mgo_100_write_gui.gui',substrate,dimensionality=2)"
   ]
  },
  {
   "cell_type": "code",
   "execution_count": null,
   "id": "fd0f4f92",
   "metadata": {},
   "outputs": [],
   "source": []
  },
  {
   "cell_type": "code",
   "execution_count": null,
   "id": "aa882f03",
   "metadata": {},
   "outputs": [],
   "source": []
  }
 ],
 "metadata": {
  "kernelspec": {
   "display_name": "Python 3 (ipykernel)",
   "language": "python",
   "name": "python3"
  },
  "language_info": {
   "codemirror_mode": {
    "name": "ipython",
    "version": 3
   },
   "file_extension": ".py",
   "mimetype": "text/x-python",
   "name": "python",
   "nbconvert_exporter": "python",
   "pygments_lexer": "ipython3",
   "version": "3.8.12"
  }
 },
 "nbformat": 4,
 "nbformat_minor": 5
}
