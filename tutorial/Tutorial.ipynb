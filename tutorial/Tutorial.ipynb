{
 "cells": [
  {
   "cell_type": "markdown",
   "id": "ef2ddff6",
   "metadata": {},
   "source": [
    "# crystal_functions tutorial"
   ]
  },
  {
   "cell_type": "markdown",
   "id": "5221c9b9",
   "metadata": {},
   "source": [
    "First, functions need to be imported. Since crystal_functions was installed via pip, python already knows where to find it. Therefore, all functions can be imported following this logic:\n",
    "\n",
    "```console\n",
    "from crystal_functions.module_name import function_name\n",
    "```\n",
    "In this first exercise, we need to use the Crystal_input class that sits in the file_readwrite module:"
   ]
  },
  {
   "cell_type": "code",
   "execution_count": 8,
   "id": "00fd9008",
   "metadata": {},
   "outputs": [],
   "source": [
    "from crystal_functions.file_readwrite import Crystal_input"
   ]
  },
  {
   "cell_type": "markdown",
   "id": "f91597a1",
   "metadata": {},
   "source": [
    "### Build the input from blocks"
   ]
  },
  {
   "cell_type": "markdown",
   "id": "744ebd8f",
   "metadata": {},
   "source": [
    "The first exercise will be creating and writing a CRYSTAL input file. We will see later a more convenient way to do this, but for now we are just going to pass crystal_functions a list of parameters that we need to build the input and then write it. This corresponds to manually writing to file, but instead of writing to file we are creating python lists (delimited by square brackets and using commas as separators):"
   ]
  },
  {
   "cell_type": "code",
   "execution_count": 21,
   "id": "235c6db0",
   "metadata": {},
   "outputs": [],
   "source": [
    "geom_block = ['CRYSTAL\\n',\n",
    "             '0 0 0\\n',\n",
    "             '225\\n',\n",
    "             '4.217\\n',\n",
    "             '2\\n',\n",
    "             '12 0.    0.    0.\\n',\n",
    "             '8 0.5   0.5   0.5\\n',\n",
    "             'END\\n']\n",
    "bs_block   = ['BASISSET\\n','POB-DZVP\\n']\n",
    "func_block = ['DFT\\n', 'B3LYP\\n', 'XXLGRID\\n', 'ENDDFT\\n']\n",
    "scf_block  = [['TOLINTEG\\n', '7 7 7 7 14\\n'],\n",
    "             ['SHRINK\\n', '12 24\\n'],\n",
    "             ['MAXCYCLE\\n', '200\\n'],\n",
    "             ['FMIXING\\n', '70\\n'],\n",
    "             'DIIS\\n',\n",
    "             'ENDSCF\\n']\n",
    "title = 'MgO crystal_functions tutorial' #optional"
   ]
  },
  {
   "cell_type": "markdown",
   "id": "28d6f4bb",
   "metadata": {},
   "source": [
    "Then we need to create the Crystal_input object. This is called initialising the object:"
   ]
  },
  {
   "cell_type": "code",
   "execution_count": 11,
   "id": "1a658578",
   "metadata": {},
   "outputs": [],
   "source": [
    "mgo_input = Crystal_input()"
   ]
  },
  {
   "cell_type": "markdown",
   "id": "eb58a534",
   "metadata": {},
   "source": [
    "If we try to see what mgo_input, by executing the following command:"
   ]
  },
  {
   "cell_type": "code",
   "execution_count": 12,
   "id": "f46db4aa",
   "metadata": {},
   "outputs": [
    {
     "name": "stdout",
     "output_type": "stream",
     "text": [
      "<file_readwrite.Crystal_input object at 0x106ce8ac0>\n"
     ]
    }
   ],
   "source": [
    "print(mgo_input)"
   ]
  },
  {
   "cell_type": "markdown",
   "id": "d77b5e1b",
   "metadata": {},
   "source": [
    "You can see this is an object of the class file_readwrite.Crystal_input.\n",
    "\n",
    "Now that the object has been initialised, we want to add information to it and that is when the lists we prepared earlier will be used. We are going to use the from_file function, which belongs to the Crystal_input class. If you are not familiar with python, you only need to know that if a function belongs to a class, it is called by adding .function_name() after the object created by the class. In this instance, mgo_input is an object of the Crystal_input class. Therefore, to use a function on it we will use:\n",
    "\n",
    "```console\n",
    "mgo_input.from_blocks()\n",
    "```\n",
    "We are first going to execute the command above and see the error message because it is very informative. \n"
   ]
  },
  {
   "cell_type": "code",
   "execution_count": 14,
   "id": "75113eb0",
   "metadata": {},
   "outputs": [
    {
     "ename": "TypeError",
     "evalue": "from_blocks() missing 4 required positional arguments: 'geom_block', 'bs_block', 'func_block', and 'scf_block'",
     "output_type": "error",
     "traceback": [
      "\u001b[0;31m---------------------------------------------------------------------------\u001b[0m",
      "\u001b[0;31mTypeError\u001b[0m                                 Traceback (most recent call last)",
      "\u001b[0;32m/var/folders/f2/8kc7y9697m59bwltxjd42y300000gn/T/ipykernel_15025/4206541661.py\u001b[0m in \u001b[0;36m<module>\u001b[0;34m\u001b[0m\n\u001b[0;32m----> 1\u001b[0;31m \u001b[0mmgo_input\u001b[0m\u001b[0;34m.\u001b[0m\u001b[0mfrom_blocks\u001b[0m\u001b[0;34m(\u001b[0m\u001b[0;34m)\u001b[0m\u001b[0;34m\u001b[0m\u001b[0;34m\u001b[0m\u001b[0m\n\u001b[0m",
      "\u001b[0;31mTypeError\u001b[0m: from_blocks() missing 4 required positional arguments: 'geom_block', 'bs_block', 'func_block', and 'scf_block'"
     ]
    }
   ],
   "source": [
    "mgo_input.from_blocks()"
   ]
  },
  {
   "cell_type": "markdown",
   "id": "03532db7",
   "metadata": {},
   "source": [
    "This can be used everytime we are not sure about the arguments for a function. You should see that the from_blocks() takes four positional arguments. Positional, in this context means mandatory. There is also a fifth optional one, which is “title”. The reason why this is optional is because a default value has already been defined in the function itself.\n",
    "\n",
    "Now we can run the command "
   ]
  },
  {
   "cell_type": "code",
   "execution_count": 22,
   "id": "27f6fe87",
   "metadata": {},
   "outputs": [
    {
     "data": {
      "text/plain": [
       "<file_readwrite.Crystal_input at 0x106ce8ac0>"
      ]
     },
     "execution_count": 22,
     "metadata": {},
     "output_type": "execute_result"
    }
   ],
   "source": [
    "mgo_input.from_blocks(geom_block=geom_block, bs_block=bs_block, \n",
    "                                        func_block=func_block, scf_block=scf_block, title=title)"
   ]
  },
  {
   "cell_type": "markdown",
   "id": "39bd4713",
   "metadata": {},
   "source": [
    "If we didn’t include title, crystal_functions would use “crystal_functions generated input” as first line of the input.\n",
    "\n",
    "Now mgo_input will contain the information about the different blocks. We can test this by executing:"
   ]
  },
  {
   "cell_type": "code",
   "execution_count": 23,
   "id": "f0243e17",
   "metadata": {},
   "outputs": [
    {
     "data": {
      "text/plain": [
       "['CRYSTAL\\n',\n",
       " '0 0 0\\n',\n",
       " '225\\n',\n",
       " '4.217\\n',\n",
       " '2\\n',\n",
       " '12 0.    0.    0.\\n',\n",
       " '8 0.5   0.5   0.5\\n',\n",
       " 'END\\n']"
      ]
     },
     "execution_count": 23,
     "metadata": {},
     "output_type": "execute_result"
    }
   ],
   "source": [
    "mgo_input.geom_block"
   ]
  },
  {
   "cell_type": "markdown",
   "id": "4b18e296",
   "metadata": {},
   "source": [
    "This displays the geom_block. \n",
    "\n",
    "You can also visualise the whole input by using:"
   ]
  },
  {
   "cell_type": "code",
   "execution_count": 24,
   "id": "4eb8b321",
   "metadata": {},
   "outputs": [
    {
     "name": "stdout",
     "output_type": "stream",
     "text": [
      "MgO crystal_functions tutorial\n",
      "CRYSTAL\n",
      "0 0 0\n",
      "225\n",
      "4.217\n",
      "2\n",
      "12 0.    0.    0.\n",
      "8 0.5   0.5   0.5\n",
      "END\n",
      "BASISSET\n",
      "POB-DZVP\n",
      "DFT\n",
      "B3LYP\n",
      "XXLGRID\n",
      "ENDDFT\n",
      "TOLINTEG\n",
      "7 7 7 7 14\n",
      "SHRINK\n",
      "12 24\n",
      "MAXCYCLE\n",
      "200\n",
      "FMIXING\n",
      "70\n",
      "DIIS\n",
      "ENDSCF\n"
     ]
    }
   ],
   "source": [
    "mgo_input.print_input()"
   ]
  },
  {
   "cell_type": "markdown",
   "id": "3c738e34",
   "metadata": {},
   "source": [
    "### Set the runcry and runprop path (optional)"
   ]
  },
  {
   "cell_type": "code",
   "execution_count": null,
   "id": "5a43fc95",
   "metadata": {},
   "outputs": [],
   "source": []
  },
  {
   "cell_type": "markdown",
   "id": "25718e04",
   "metadata": {},
   "source": [
    "# REMOVE BELOW"
   ]
  },
  {
   "cell_type": "code",
   "execution_count": 10,
   "id": "fab164f6",
   "metadata": {},
   "outputs": [],
   "source": [
    "import sys\n",
    "sys.path.insert(1, '../crystal_functions/')\n",
    "from file_readwrite import Crystal_input"
   ]
  }
 ],
 "metadata": {
  "kernelspec": {
   "display_name": "Python 3 (ipykernel)",
   "language": "python",
   "name": "python3"
  },
  "language_info": {
   "codemirror_mode": {
    "name": "ipython",
    "version": 3
   },
   "file_extension": ".py",
   "mimetype": "text/x-python",
   "name": "python",
   "nbconvert_exporter": "python",
   "pygments_lexer": "ipython3",
   "version": "3.9.10"
  }
 },
 "nbformat": 4,
 "nbformat_minor": 5
}
