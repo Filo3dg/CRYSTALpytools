{
 "cells": [
  {
   "cell_type": "markdown",
   "id": "2b8b7e97",
   "metadata": {},
   "source": [
    "# Lattice Dynamics and Density Functional Perturbation Theory - Harmonic Level\n",
    "\n",
    "The script 'thermodyanmics.py' is a comprehensive module for lattice dynamics based on harmonic and quasi-harmonic level of theory. For simplicity, this tutorial is focused only on harmonic phonons. For quasi-harmonic part, please refer to 'thermodynamics-QHA'.\n",
    "\n",
    "**Classes used in this tutorial are defined in 'CRYSTALpytools.thermodynamics'. Documentations and source codes are attached at the bottom of this page.**"
   ]
  },
  {
   "cell_type": "markdown",
   "id": "efd2f171",
   "metadata": {},
   "source": [
    "## Tests\n",
    "2 tests are performed. One is based on $\\Gamma$ point calculations and the other one is based on phonon dispersion calculations.\n",
    "\n",
    "1. Thermodynamic properties at room temperature (298.15K), 0 pressure - For comparison with CRYSTAL17 output.  \n",
    "2. Thermodynamic properties from 0K to 300K, with the interval of 20K and from 0 GPa to 0.5 GPa with the interval of - To illustrate the structure of output file and key information. \n",
    "\n",
    "**N.B.** It is somehow meanless to consider pressure & Gibbs free energy at Harmonic level, since the volume is assumed as constant. $G(T, p)=F(T)+pV$."
   ]
  },
  {
   "cell_type": "markdown",
   "id": "eb53b0a9",
   "metadata": {},
   "source": [
    "### Room temperature (298.15K), 0 pressure thermodyanmics\n",
    "This part is used for comparison with CRYSTAL17 output file, in order to illustrate the equivalence of methods adopted here and the method of CRYSTAL17. $\\Gamma$ point calculation of Form I paracetamol is used ('freqf1-r0.out' in 'data/'). Reference data with the same environmental conditions can be found in the same file. No output file is generated. \n",
    "\n",
    "The 'pressure' specified is the value given in the same output file. For comparison only."
   ]
  },
  {
   "cell_type": "code",
   "execution_count": 1,
   "id": "18a94ee0",
   "metadata": {},
   "outputs": [
    {
     "ename": "NameError",
     "evalue": "name 'H_to_kjmol' is not defined",
     "output_type": "error",
     "traceback": [
      "\u001b[0;31m---------------------------------------------------------------------------\u001b[0m",
      "\u001b[0;31mNameError\u001b[0m                                 Traceback (most recent call last)",
      "\u001b[0;32m/var/folders/f2/8kc7y9697m59bwltxjd42y300000gn/T/ipykernel_64836/3374293850.py\u001b[0m in \u001b[0;36m<module>\u001b[0;34m\u001b[0m\n\u001b[1;32m      2\u001b[0m \u001b[0;32mfrom\u001b[0m \u001b[0mCRYSTALpytools\u001b[0m\u001b[0;34m.\u001b[0m\u001b[0mthermodynamics\u001b[0m \u001b[0;32mimport\u001b[0m \u001b[0mHarmonic\u001b[0m\u001b[0;34m\u001b[0m\u001b[0;34m\u001b[0m\u001b[0m\n\u001b[1;32m      3\u001b[0m \u001b[0;34m\u001b[0m\u001b[0m\n\u001b[0;32m----> 4\u001b[0;31m rm_condition = Harmonic(write_out=False).from_file(\n\u001b[0m\u001b[1;32m      5\u001b[0m     \u001b[0;34m'data/freqf1-r0.out'\u001b[0m\u001b[0;34m,\u001b[0m \u001b[0mscelphono\u001b[0m\u001b[0;34m=\u001b[0m\u001b[0;34m[\u001b[0m\u001b[0;34m[\u001b[0m\u001b[0;36m1\u001b[0m\u001b[0;34m,\u001b[0m \u001b[0;36m0\u001b[0m\u001b[0;34m,\u001b[0m \u001b[0;36m0\u001b[0m\u001b[0;34m]\u001b[0m\u001b[0;34m,\u001b[0m \u001b[0;34m[\u001b[0m\u001b[0;36m0\u001b[0m\u001b[0;34m,\u001b[0m \u001b[0;36m1\u001b[0m\u001b[0;34m,\u001b[0m \u001b[0;36m0\u001b[0m\u001b[0;34m]\u001b[0m\u001b[0;34m,\u001b[0m \u001b[0;34m[\u001b[0m\u001b[0;36m0\u001b[0m\u001b[0;34m,\u001b[0m \u001b[0;36m0\u001b[0m\u001b[0;34m,\u001b[0m \u001b[0;36m1\u001b[0m\u001b[0;34m]\u001b[0m\u001b[0;34m]\u001b[0m\u001b[0;34m,\u001b[0m \u001b[0mauto_calc\u001b[0m\u001b[0;34m=\u001b[0m\u001b[0;32mFalse\u001b[0m\u001b[0;34m\u001b[0m\u001b[0;34m\u001b[0m\u001b[0m\n\u001b[1;32m      6\u001b[0m )\n",
      "\u001b[0;32m~/miniconda3/envs/test_env/lib/python3.9/site-packages/CRYSTALpytools/thermodynamics.py\u001b[0m in \u001b[0;36mfrom_file\u001b[0;34m(self, output_name, scelphono, read_eigenvector, auto_calc)\u001b[0m\n\u001b[1;32m    328\u001b[0m \u001b[0;34m\u001b[0m\u001b[0m\n\u001b[1;32m    329\u001b[0m         \u001b[0msuper\u001b[0m\u001b[0;34m(\u001b[0m\u001b[0mHarmonic\u001b[0m\u001b[0;34m,\u001b[0m \u001b[0mself\u001b[0m\u001b[0;34m)\u001b[0m\u001b[0;34m.\u001b[0m\u001b[0mread_cry_output\u001b[0m\u001b[0;34m(\u001b[0m\u001b[0moutput_name\u001b[0m\u001b[0;34m)\u001b[0m\u001b[0;34m\u001b[0m\u001b[0;34m\u001b[0m\u001b[0m\n\u001b[0;32m--> 330\u001b[0;31m         \u001b[0msuper\u001b[0m\u001b[0;34m(\u001b[0m\u001b[0mHarmonic\u001b[0m\u001b[0;34m,\u001b[0m \u001b[0mself\u001b[0m\u001b[0;34m)\u001b[0m\u001b[0;34m.\u001b[0m\u001b[0mget_mode\u001b[0m\u001b[0;34m(\u001b[0m\u001b[0;34m)\u001b[0m\u001b[0;34m\u001b[0m\u001b[0;34m\u001b[0m\u001b[0m\n\u001b[0m\u001b[1;32m    331\u001b[0m         \u001b[0msuper\u001b[0m\u001b[0;34m(\u001b[0m\u001b[0mHarmonic\u001b[0m\u001b[0;34m,\u001b[0m \u001b[0mself\u001b[0m\u001b[0;34m)\u001b[0m\u001b[0;34m.\u001b[0m\u001b[0mclean_imaginary\u001b[0m\u001b[0;34m(\u001b[0m\u001b[0;34m)\u001b[0m\u001b[0;34m\u001b[0m\u001b[0;34m\u001b[0m\u001b[0m\n\u001b[1;32m    332\u001b[0m         \u001b[0mself\u001b[0m\u001b[0;34m.\u001b[0m\u001b[0m_generate_structure\u001b[0m\u001b[0;34m(\u001b[0m\u001b[0mscelphono\u001b[0m\u001b[0;34m=\u001b[0m\u001b[0mscelphono\u001b[0m\u001b[0;34m)\u001b[0m\u001b[0;34m\u001b[0m\u001b[0;34m\u001b[0m\u001b[0m\n",
      "\u001b[0;32m~/miniconda3/envs/test_env/lib/python3.9/site-packages/CRYSTALpytools/crystal_io.py\u001b[0m in \u001b[0;36mget_mode\u001b[0;34m(self)\u001b[0m\n\u001b[1;32m    969\u001b[0m \u001b[0;34m\u001b[0m\u001b[0m\n\u001b[1;32m    970\u001b[0m         \u001b[0;32mif\u001b[0m \u001b[0;32mnot\u001b[0m \u001b[0mhasattr\u001b[0m\u001b[0;34m(\u001b[0m\u001b[0mself\u001b[0m\u001b[0;34m,\u001b[0m \u001b[0;34m'nqpoint'\u001b[0m\u001b[0;34m)\u001b[0m\u001b[0;34m:\u001b[0m\u001b[0;34m\u001b[0m\u001b[0;34m\u001b[0m\u001b[0m\n\u001b[0;32m--> 971\u001b[0;31m             \u001b[0mself\u001b[0m\u001b[0;34m.\u001b[0m\u001b[0mget_qpoint\u001b[0m\u001b[0;34m(\u001b[0m\u001b[0;34m)\u001b[0m\u001b[0;34m\u001b[0m\u001b[0;34m\u001b[0m\u001b[0m\n\u001b[0m\u001b[1;32m    972\u001b[0m \u001b[0;34m\u001b[0m\u001b[0m\n\u001b[1;32m    973\u001b[0m         \u001b[0mself\u001b[0m\u001b[0;34m.\u001b[0m\u001b[0mfrequency\u001b[0m \u001b[0;34m=\u001b[0m \u001b[0mnp\u001b[0m\u001b[0;34m.\u001b[0m\u001b[0marray\u001b[0m\u001b[0;34m(\u001b[0m\u001b[0;34m[\u001b[0m\u001b[0;34m]\u001b[0m\u001b[0;34m,\u001b[0m \u001b[0mdtype\u001b[0m\u001b[0;34m=\u001b[0m\u001b[0mfloat\u001b[0m\u001b[0;34m)\u001b[0m\u001b[0;34m\u001b[0m\u001b[0;34m\u001b[0m\u001b[0m\n",
      "\u001b[0;32m~/miniconda3/envs/test_env/lib/python3.9/site-packages/CRYSTALpytools/crystal_io.py\u001b[0m in \u001b[0;36mget_qpoint\u001b[0;34m(self)\u001b[0m\n\u001b[1;32m    921\u001b[0m \u001b[0;31m# Keywords in gradient calculation\u001b[0m\u001b[0;34m\u001b[0m\u001b[0;34m\u001b[0m\u001b[0m\n\u001b[1;32m    922\u001b[0m             \u001b[0;32mif\u001b[0m \u001b[0mre\u001b[0m\u001b[0;34m.\u001b[0m\u001b[0mmatch\u001b[0m\u001b[0;34m(\u001b[0m\u001b[0;34mr'\\s*CENTRAL POINT'\u001b[0m\u001b[0;34m,\u001b[0m \u001b[0mline\u001b[0m\u001b[0;34m)\u001b[0m\u001b[0;34m:\u001b[0m\u001b[0;34m\u001b[0m\u001b[0;34m\u001b[0m\u001b[0m\n\u001b[0;32m--> 923\u001b[0;31m                 \u001b[0medft\u001b[0m \u001b[0;34m=\u001b[0m \u001b[0mnp\u001b[0m\u001b[0;34m.\u001b[0m\u001b[0mappend\u001b[0m\u001b[0;34m(\u001b[0m\u001b[0medft\u001b[0m\u001b[0;34m,\u001b[0m \u001b[0mH_to_kjmol\u001b[0m\u001b[0;34m(\u001b[0m\u001b[0mfloat\u001b[0m\u001b[0;34m(\u001b[0m\u001b[0mline\u001b[0m\u001b[0;34m.\u001b[0m\u001b[0mstrip\u001b[0m\u001b[0;34m(\u001b[0m\u001b[0;34m)\u001b[0m\u001b[0;34m.\u001b[0m\u001b[0msplit\u001b[0m\u001b[0;34m(\u001b[0m\u001b[0;34m)\u001b[0m\u001b[0;34m[\u001b[0m\u001b[0;36m2\u001b[0m\u001b[0;34m]\u001b[0m\u001b[0;34m)\u001b[0m\u001b[0;34m)\u001b[0m\u001b[0;34m)\u001b[0m\u001b[0;34m\u001b[0m\u001b[0;34m\u001b[0m\u001b[0m\n\u001b[0m\u001b[1;32m    924\u001b[0m \u001b[0;34m\u001b[0m\u001b[0m\n\u001b[1;32m    925\u001b[0m             \u001b[0;32mif\u001b[0m \u001b[0mre\u001b[0m\u001b[0;34m.\u001b[0m\u001b[0msearch\u001b[0m\u001b[0;34m(\u001b[0m\u001b[0;34mr'EXPRESSED IN UNITS\\s*OF DENOMINATOR'\u001b[0m\u001b[0;34m,\u001b[0m \u001b[0mline\u001b[0m\u001b[0;34m)\u001b[0m\u001b[0;34m:\u001b[0m\u001b[0;34m\u001b[0m\u001b[0;34m\u001b[0m\u001b[0m\n",
      "\u001b[0;31mNameError\u001b[0m: name 'H_to_kjmol' is not defined"
     ]
    }
   ],
   "source": [
    "from CRYSTALpytools import thermodynamics\n",
    "from CRYSTALpytools.thermodynamics import Harmonic\n",
    "\n",
    "rm_condition = Harmonic(write_out=False).from_file(\n",
    "    'data/freqf1-r0.out', scelphono=[[1, 0, 0], [0, 1, 0], [0, 0, 1]], auto_calc=False\n",
    ")\n",
    "E_h, E_g, E_zp, U_vib, S, C_v = rm_condition.thermodynamics(\n",
    "    temperature=[298.15], pressure=[0.10132500E-3]\n",
    ")\n",
    "\n",
    "# Note: All attributes are lists.\n",
    "print('DFT total energy (EL) = ', rm_condition.edft, 'KJ/mol')\n",
    "print('Helmholtz free energy (EL+E0+ET-TS) = ', E_h[0, 0], ' KJ/mol')\n",
    "print('Gibbs free energy (EL+E0+ET+pV-TS) = ', E_g[0, 0, 0], ' KJ/mol')\n",
    "print('Zero-point energy (E0) = ', E_zp[0], ' KJ/mol')\n",
    "print('Vibrational contribution to interla energy - E0 (ET) = ', U_vib[0, 0] - E_zp[0], ' KJ/mol')\n",
    "print('Entropy*Temperature (TS) = ', S[0, 0] * 298.15, ' J/mol')\n",
    "print('Heat capacity = ', C_v[0, 0], ' J/mol*K')\n",
    "print('Entropy = ', S[0, 0], ' J/mol*K')"
   ]
  },
  {
   "cell_type": "markdown",
   "id": "86c8c9d4",
   "metadata": {},
   "source": [
    "References from 'freqf1-r0.out' (line 11703~11738) are attached below. Here are several findings:\n",
    "\n",
    "1. Parameters derived from vibrational frequencies shows good agreement with reference data, with the error at the level of 10^-4 KJ/mol. The choice of physical constants and different unit conversion coefficients might lead to the discrepancy, where the physical constants play a major role (See below).  \n",
    "2. The difference in DFT total energy lies in different coefficients for unit conversion. In CRYSTAL17 case, 1 Hartree = 2625.5 KJ/mol. In the current case, 1 Hartree = 2625.500256 KJ/mol.  \n",
    "3. The PV term is neglected at room condition. Helmholtz free energy is the focus of this tutorial since the Harmonic class was initially developed for QHA fittings. To calculate Gibbs free energy at HA level, use this equation: $G(T,p) = F(T) + pV$\n",
    "\n",
    "```\n",
    " *******************************************************************************\n",
    "\n",
    " HARMONIC VIBRATIONAL CONTRIBUTIONS TO THERMODYNAMIC FUNCTIONS AT GIVEN\n",
    " TEMPERATURE AND PRESSURE:\n",
    "\n",
    " (EL = ELECTRONIC ENERGY\n",
    "  E0 = ZERO-POINT ENERGY\n",
    "  ET = THERMAL CONTRIBUTION TO THE VIBRATIONAL ENERGY\n",
    "  PV = PRESSURE * VOLUME\n",
    "  TS = TEMPERATURE * ENTROPY)\n",
    "\n",
    "                          AU/CELL             EV/CELL                 KJ/MOL\n",
    " EL            :   -2057.686915559598  -55992.507576455653    -5402456.23545757\n",
    " E0            :       0.670005954735      18.231788914567        1759.10038625\n",
    "\n",
    "\n",
    " *******************************************************************************\n",
    "\n",
    " THERMODYNAMIC FUNCTIONS WITH VIBRATIONAL CONTRIBUTIONS\n",
    "\n",
    " AT (T =  298.15 K, P =   0.10132500E+00 MPA):\n",
    "\n",
    "                          AU/CELL             EV/CELL                 KJ/MOL\n",
    " ET            :       0.040831798552       1.111089725297         107.20387199\n",
    " PV            :       0.000017530544       0.000477030356           0.04602644\n",
    " TS            :       0.080307302905       2.185272809177         210.84679406\n",
    " ET+PV-TS      :      -0.039457973810      -1.073706053524        -103.59689564\n",
    " EL+E0+ET+PV-TS:   -2057.056367578673  -55975.349493594607    -5400800.73196695\n",
    "\n",
    " OTHER THERMODYNAMIC FUNCTIONS:\n",
    "\n",
    "                      mHARTREE/(CELL*K)     mEV/(CELL*K)              J/(MOL*K)\n",
    " ENTROPY       :       0.269352013769       7.329440916241         707.18361249\n",
    " HEAT CAPACITY :       0.253504784422       6.898215882635         665.57671770\n",
    "\n",
    " *******************************************************************************\n",
    "```"
   ]
  },
  {
   "cell_type": "markdown",
   "id": "28d9a473",
   "metadata": {},
   "source": [
    "### Multiple q points, Multiple temperatures & pressures\n",
    "Class Harmonic can calculate the HA thermodynamics at a set of q points in order to sample various cell sizes. As a test case illustrating the effectiveness of this, a phonon dispersion calculation is performed based on the $\\Gamma$ point frequency data of Form I paracetamol crystal. `SCELPHONO` is set to be 1 to save computation time.\n",
    "\n",
    "The reference data is 'f1-disp.out' - Frequencies at $\\Gamma$ are different from the 'f1freq-r0.out' case due to unknown reasons. In this case, nqpoint = 140, nmode = 240, natom = 80. The temperature range is set to be 0K ~ 300K, with intervals of 30K while the pressure range is set to be 0 GPa ~ 0.5 GPa, with intervals of 0.1 GPa. Since negative frequencies presents, warning messages will be printed. \n",
    "\n",
    "All the calculations are automatically executed. The output file is 'f1-disp-HA.dat'. Phonon dispersions are summed up, which, in the current case, is not necessary since the primitive cell is sufficiently large. This option is useful for smaller primitive cells."
   ]
  },
  {
   "cell_type": "code",
   "execution_count": null,
   "id": "d5e8d24b",
   "metadata": {},
   "outputs": [],
   "source": [
    "import numpy as np\n",
    "\n",
    "t = np.arange(0, 301, 30)\n",
    "p = np.arange(0, 0.51, 0.1)\n",
    "Harmonic(\n",
    "    temperature=t, pressure=p, write_out=True, filename='data/f1-disp-HA.dat'\n",
    ").from_file(\n",
    "    'data/f1-disp.out', scelphono=[[1, 0, 0], [0, 1, 0], [0, 0, 1]]\n",
    ")"
   ]
  }
 ],
 "metadata": {
  "kernelspec": {
   "display_name": "Python 3 (ipykernel)",
   "language": "python",
   "name": "python3"
  },
  "language_info": {
   "codemirror_mode": {
    "name": "ipython",
    "version": 3
   },
   "file_extension": ".py",
   "mimetype": "text/x-python",
   "name": "python",
   "nbconvert_exporter": "python",
   "pygments_lexer": "ipython3",
   "version": "3.9.10"
  }
 },
 "nbformat": 4,
 "nbformat_minor": 5
}
