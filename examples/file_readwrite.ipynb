{
 "cells": [
  {
   "cell_type": "markdown",
   "id": "68158073",
   "metadata": {},
   "source": [
    "# Example notebook for the functions contained in cry_crystal_io.py"
   ]
  },
  {
   "cell_type": "markdown",
   "id": "56179e55",
   "metadata": {},
   "source": [
    "### Crystal_input class"
   ]
  },
  {
   "cell_type": "code",
   "execution_count": 5,
   "id": "032121ab",
   "metadata": {},
   "outputs": [],
   "source": [
    "from CRYSTALpytools.crystal_io import Crystal_input"
   ]
  },
  {
   "cell_type": "markdown",
   "id": "cbfdbe40",
   "metadata": {},
   "source": [
    "#### Create a crystal input object from blocks"
   ]
  },
  {
   "cell_type": "code",
   "execution_count": 6,
   "id": "1bd7a743",
   "metadata": {},
   "outputs": [],
   "source": [
    "geom_block = ['MGO BULK - GEOMETRY TEST\\n',\n",
    "             'CRYSTAL\\n',\n",
    "             '0 0 0\\n',\n",
    "             '225\\n',\n",
    "             '4.217\\n',\n",
    "             '2\\n',\n",
    "             '12 0.    0.    0.\\n',\n",
    "             '8 0.5   0.5   0.5\\n',\n",
    "             'END\\n']\n",
    "bs_block   = ['BASISSET\\n','POB-DZVP\\n']\n",
    "func_block = ['DFT\\n', 'B3LYP\\n', 'XXLGRID\\n', 'ENDDFT\\n']\n",
    "scf_block  = [['TOLINTEG\\n', '7 7 7 7 14\\n'],\n",
    "             ['SHRINK\\n', '12 24\\n'],\n",
    "             ['MAXCYCLE\\n', '200\\n'],\n",
    "             ['FMIXING\\n', '70\\n'],\n",
    "             'DIIS\\n',\n",
    "             'ENDSCF\\n']"
   ]
  },
  {
   "cell_type": "code",
   "execution_count": 7,
   "id": "d32d69cc",
   "metadata": {},
   "outputs": [
    {
     "data": {
      "text/plain": [
       "['MGO BULK - GEOMETRY TEST\\n',\n",
       " 'CRYSTAL\\n',\n",
       " '0 0 0\\n',\n",
       " '225\\n',\n",
       " '4.217\\n',\n",
       " '2\\n',\n",
       " '12 0.    0.    0.\\n',\n",
       " '8 0.5   0.5   0.5\\n',\n",
       " 'END\\n']"
      ]
     },
     "execution_count": 7,
     "metadata": {},
     "output_type": "execute_result"
    }
   ],
   "source": [
    "mgo_input = Crystal_input().from_blocks(geom_block,bs_block,func_block,scf_block)\n",
    "mgo_input.geom_block"
   ]
  },
  {
   "cell_type": "markdown",
   "id": "01c1e947",
   "metadata": {},
   "source": [
    "#### Create a crystal input object from an existing input file"
   ]
  },
  {
   "cell_type": "code",
   "execution_count": 8,
   "id": "ed435d4f",
   "metadata": {},
   "outputs": [
    {
     "data": {
      "text/plain": [
       "['CRYSTAL\\n',\n",
       " '0 0 0\\n',\n",
       " '225\\n',\n",
       " '4.217\\n',\n",
       " '2\\n',\n",
       " '12 0.    0.    0.\\n',\n",
       " '8 0.5   0.5   0.5\\n',\n",
       " 'END\\n']"
      ]
     },
     "execution_count": 8,
     "metadata": {},
     "output_type": "execute_result"
    }
   ],
   "source": [
    "mgo_input = Crystal_input().from_file('data/mgo.d12')\n",
    "mgo_input.geom_block"
   ]
  },
  {
   "cell_type": "markdown",
   "id": "fe2d3647",
   "metadata": {},
   "source": [
    "### Crystal_output class"
   ]
  },
  {
   "cell_type": "code",
   "execution_count": 9,
   "id": "0a495139",
   "metadata": {},
   "outputs": [],
   "source": [
    "from CRYSTALpytools.crystal_io import Crystal_output"
   ]
  },
  {
   "cell_type": "markdown",
   "id": "6c93a21e",
   "metadata": {},
   "source": [
    "#### 3D system"
   ]
  },
  {
   "cell_type": "code",
   "execution_count": 10,
   "id": "bfb6e6f8",
   "metadata": {},
   "outputs": [
    {
     "data": {
      "text/plain": [
       "<CRYSTALpytools.crystal_io.Crystal_output at 0x108f017f0>"
      ]
     },
     "execution_count": 10,
     "metadata": {},
     "output_type": "execute_result"
    }
   ],
   "source": [
    "mgo_output = Crystal_output().read_cry_output('data/mgo_optgeom.out')\n",
    "mgo_output"
   ]
  },
  {
   "cell_type": "markdown",
   "id": "58b3f761",
   "metadata": {},
   "source": [
    "#### Functions and properties"
   ]
  },
  {
   "cell_type": "code",
   "execution_count": 11,
   "id": "0bf048c7",
   "metadata": {},
   "outputs": [
    {
     "name": "stdout",
     "output_type": "stream",
     "text": [
      "Final energy = -7495.338004353834 eV \n",
      "\n",
      "Fermi energy = -4.136710311917215 eV \n",
      "\n",
      "Primitive lattice \n",
      " [[0.     2.1085 2.1085]\n",
      " [2.1085 0.     2.1085]\n",
      " [2.1085 2.1085 0.    ]] \n",
      "\n",
      "Reciprocal lattice \n",
      " [[-1.48996571e+20  1.48996571e+20  1.48996571e+20]\n",
      " [ 1.48996571e+20 -1.48996571e+20  1.48996571e+20]\n",
      " [ 1.48996571e+20  1.48996571e+20 -1.48996571e+20]] \n",
      "\n",
      "Band gap = 7.1237 eV \n",
      "\n",
      "Last geometry = \n",
      " [[[0.0, 2.12011000819, 2.12011000819], [2.12011000819, 0.0, 2.12011000819], [2.12011000819, 2.12011000819, 0.0]], [12, 8], [[0.0, 0.0, 0.0], [-2.12011000819, -2.12011000819, -2.12011000819]]] \n",
      "\n",
      "Symmetry operators = \n",
      " [[ 1.  0.  0.  0.  1.  0.  0.  0.  1.  0.  0.  0.]\n",
      " [ 0.  1.  0.  1.  0.  0. -1. -1. -1.  0.  0.  0.]\n",
      " [-1. -1. -1.  0.  0.  1.  0.  1.  0.  0.  0.  0.]\n",
      " [ 0.  0.  1. -1. -1. -1.  1.  0.  0.  0.  0.  0.]\n",
      " [ 0.  0.  1.  1.  0.  0.  0.  1.  0.  0.  0.  0.]\n",
      " [ 0.  1.  0.  0.  0.  1.  1.  0.  0.  0.  0.  0.]\n",
      " [ 1.  0.  0.  0.  0.  1. -1. -1. -1.  0.  0.  0.]\n",
      " [ 1.  0.  0. -1. -1. -1.  0.  1.  0.  0.  0.  0.]\n",
      " [-1. -1. -1.  0.  1.  0.  1.  0.  0.  0.  0.  0.]\n",
      " [ 0.  0.  1.  0.  1.  0. -1. -1. -1.  0.  0.  0.]\n",
      " [ 0.  1.  0. -1. -1. -1.  0.  0.  1.  0.  0.  0.]\n",
      " [-1. -1. -1.  1.  0.  0.  0.  0.  1.  0.  0.  0.]\n",
      " [ 0. -1.  0. -1.  0.  0.  0.  0. -1.  0.  0.  0.]\n",
      " [-1.  0.  0.  0. -1.  0.  1.  1.  1.  0.  0.  0.]\n",
      " [ 0.  0. -1.  1.  1.  1.  0. -1.  0.  0.  0.  0.]\n",
      " [ 1.  1.  1.  0.  0. -1. -1.  0.  0.  0.  0.  0.]\n",
      " [-1.  0.  0.  0.  0. -1.  0. -1.  0.  0.  0.  0.]\n",
      " [ 0.  0. -1.  0. -1.  0. -1.  0.  0.  0.  0.  0.]\n",
      " [ 0.  0. -1. -1.  0.  0.  1.  1.  1.  0.  0.  0.]\n",
      " [ 1.  1.  1. -1.  0.  0.  0. -1.  0.  0.  0.  0.]\n",
      " [ 0. -1.  0.  1.  1.  1. -1.  0.  0.  0.  0.  0.]\n",
      " [ 0. -1.  0.  0.  0. -1.  1.  1.  1.  0.  0.  0.]\n",
      " [ 1.  1.  1.  0. -1.  0.  0.  0. -1.  0.  0.  0.]\n",
      " [-1.  0.  0.  1.  1.  1.  0.  0. -1.  0.  0.  0.]\n",
      " [-1.  0.  0.  0. -1.  0.  0.  0. -1.  0.  0.  0.]\n",
      " [ 0. -1.  0. -1.  0.  0.  1.  1.  1.  0.  0.  0.]\n",
      " [ 1.  1.  1.  0.  0. -1.  0. -1.  0.  0.  0.  0.]\n",
      " [ 0.  0. -1.  1.  1.  1. -1.  0.  0.  0.  0.  0.]\n",
      " [ 0.  0. -1. -1.  0.  0.  0. -1.  0.  0.  0.  0.]\n",
      " [ 0. -1.  0.  0.  0. -1. -1.  0.  0.  0.  0.  0.]\n",
      " [-1.  0.  0.  0.  0. -1.  1.  1.  1.  0.  0.  0.]\n",
      " [-1.  0.  0.  1.  1.  1.  0. -1.  0.  0.  0.  0.]\n",
      " [ 1.  1.  1.  0. -1.  0. -1.  0.  0.  0.  0.  0.]\n",
      " [ 0.  0. -1.  0. -1.  0.  1.  1.  1.  0.  0.  0.]\n",
      " [ 0. -1.  0.  1.  1.  1.  0.  0. -1.  0.  0.  0.]\n",
      " [ 1.  1.  1. -1.  0.  0.  0.  0. -1.  0.  0.  0.]\n",
      " [ 0.  1.  0.  1.  0.  0.  0.  0.  1.  0.  0.  0.]\n",
      " [ 1.  0.  0.  0.  1.  0. -1. -1. -1.  0.  0.  0.]\n",
      " [ 0.  0.  1. -1. -1. -1.  0.  1.  0.  0.  0.  0.]\n",
      " [-1. -1. -1.  0.  0.  1.  1.  0.  0.  0.  0.  0.]\n",
      " [ 1.  0.  0.  0.  0.  1.  0.  1.  0.  0.  0.  0.]\n",
      " [ 0.  0.  1.  0.  1.  0.  1.  0.  0.  0.  0.  0.]\n",
      " [ 0.  0.  1.  1.  0.  0. -1. -1. -1.  0.  0.  0.]\n",
      " [-1. -1. -1.  1.  0.  0.  0.  1.  0.  0.  0.  0.]\n",
      " [ 0.  1.  0. -1. -1. -1.  1.  0.  0.  0.  0.  0.]\n",
      " [ 0.  1.  0.  0.  0.  1. -1. -1. -1.  0.  0.  0.]\n",
      " [-1. -1. -1.  0.  1.  0.  0.  0.  1.  0.  0.  0.]\n",
      " [ 1.  0.  0. -1. -1. -1.  0.  0.  1.  0.  0.  0.]] \n",
      "\n",
      "Forces on cell = \n",
      " [[-0.00148273  0.00148273  0.00148273]\n",
      " [ 0.00148273 -0.00148273  0.00148273]\n",
      " [ 0.00148273  0.00148273 -0.00148273]] \n",
      " Forces on atoms = \n",
      " [[-4.18889278e-16 -4.11372640e-16 -4.14981546e-16]\n",
      " [ 4.14263349e-16  4.13107364e-16  4.14981546e-16]] \n",
      " Gradient = \n",
      " ['0.020466', '0.004693', '0.000069', '0.000032'] \n",
      "\n",
      "Total energy = \n",
      " [-7476.82733948 -7489.97945008 -7494.91919331 -7495.33640687\n",
      " -7495.33787794 -7495.33800249 -7495.33800425 -7495.33800435] \n",
      " Delta energy = \n",
      " [-7.48313122e+03 -1.31430996e+01 -4.95247230e+00 -4.16334210e-01\n",
      " -1.47213600e-03 -1.24628149e-04 -1.75513441e-06 -1.02586926e-07] \n",
      "\n"
     ]
    }
   ],
   "source": [
    "#Final energy\n",
    "print(\"Final energy = %s eV \\n\" % mgo_output.get_final_energy())\n",
    "\n",
    "#Fermi energy\n",
    "print(\"Fermi energy = %s eV \\n\" % mgo_output.get_fermi_energy())\n",
    "\n",
    "#Primitive lattice\n",
    "print(\"Primitive lattice \\n %s \\n\" % mgo_output.get_primitive_lattice())\n",
    "\n",
    "#Reciprocal lattice\n",
    "print(\"Reciprocal lattice \\n %s \\n\" % mgo_output.get_reciprocal_lattice())\n",
    "\n",
    "#Band gap\n",
    "print(\"Band gap = %s eV \\n\" % mgo_output.get_band_gap())\n",
    "\n",
    "#Last geometry\n",
    "print(\"Last geometry = \\n %s \\n\" % mgo_output.get_last_geom())\n",
    "\n",
    "#Symmetry operators\n",
    "print(\"Symmetry operators = \\n %s \\n\" % mgo_output.get_symm_ops())\n",
    "\n",
    "#Forces\n",
    "print(\"Forces on cell = \\n %s \\n Forces on atoms = \\n %s \\n Gradient = \\n %s \\n\" % (mgo_output.get_forces(grad=True)[0],\n",
    "                                                                                    mgo_output.get_forces(grad=True)[1],\n",
    "                                                                                    mgo_output.grad))\n",
    "#Scf convergence\n",
    "print(\"Total energy = \\n %s \\n Delta energy = \\n %s \\n\" % (mgo_output.get_scf_convergence()[0],\n",
    "                                                           mgo_output.get_scf_convergence()[1]))"
   ]
  },
  {
   "cell_type": "markdown",
   "id": "97ab3742",
   "metadata": {},
   "source": [
    "#### 0D system"
   ]
  },
  {
   "cell_type": "code",
   "execution_count": 12,
   "id": "1cc03b02",
   "metadata": {},
   "outputs": [],
   "source": [
    "co_output = Crystal_output().read_cry_output('data/co.out')"
   ]
  },
  {
   "cell_type": "code",
   "execution_count": 13,
   "id": "7798fb5e",
   "metadata": {},
   "outputs": [
    {
     "name": "stdout",
     "output_type": "stream",
     "text": [
      "Final energy = -3037.8791718413563 eV \n",
      "\n",
      "Fermi energy = -7.247933954451301 eV \n",
      "\n",
      "WARNING: no lattice vectors found in the output file. lattice = []\n",
      "Primitive lattice \n",
      " None \n",
      "\n",
      "Reciprocal lattice \n",
      " None \n",
      "\n",
      "Band gap = 10.9012 eV \n",
      "\n",
      "Last geometry = \n",
      " [[[12.0, 0.0, 0.0], [0.0, 12.0, 0.0], [0.0, 0.0, 12.0]], [6, 8], [[-0.06372620712817, -0.03982887945511, -0.03186310356409], [0.8637262071282, 0.5398288794551, 0.4318631035641]]] \n",
      "\n",
      "Symmetry operators = \n",
      " None \n",
      "\n",
      "Forces on cell = \n",
      " [] \n",
      " Forces on atoms = \n",
      " [[-0.48652346 -0.30407721 -0.24326191]\n",
      " [ 0.48652346  0.30407721  0.24326191]] \n",
      " Gradient = \n",
      " ['0.881299', '0.033031', '0.014444', '0.005748', '0.000292', '0.000266'] \n",
      "\n",
      "Total energy = \n",
      " [-3050.41709057 -3037.8127751  -3037.86317042 -3037.87780122\n",
      " -3037.87917172 -3037.87917184 -3037.87917184] \n",
      " Delta energy = \n",
      " [-3.04767526e+03  1.25988718e+01 -5.03410646e-02 -1.46397258e-02\n",
      " -1.37145387e-03 -1.17281075e-07 -7.48313122e-10] \n",
      "\n"
     ]
    }
   ],
   "source": [
    "#Final energy\n",
    "print(\"Final energy = %s eV \\n\" % co_output.get_final_energy())\n",
    "\n",
    "#Fermi energy\n",
    "print(\"Fermi energy = %s eV \\n\" % co_output.get_fermi_energy())\n",
    "\n",
    "#Primitive lattice\n",
    "print(\"Primitive lattice \\n %s \\n\" % co_output.get_primitive_lattice())\n",
    "\n",
    "#Reciprocal lattice\n",
    "print(\"Reciprocal lattice \\n %s \\n\" % co_output.get_reciprocal_lattice())\n",
    "\n",
    "#Band gap\n",
    "print(\"Band gap = %s eV \\n\" % co_output.get_band_gap())\n",
    "\n",
    "#Last geometry\n",
    "print(\"Last geometry = \\n %s \\n\" % co_output.get_last_geom())\n",
    "\n",
    "#Symmetry operators\n",
    "print(\"Symmetry operators = \\n %s \\n\" % co_output.get_symm_ops())\n",
    "\n",
    "#Forces\n",
    "print(\"Forces on cell = \\n %s \\n Forces on atoms = \\n %s \\n Gradient = \\n %s \\n\" % (co_output.get_forces(grad=True)[0],\n",
    "                                                                                    co_output.get_forces(grad=True)[1],\n",
    "                                                                                    co_output.grad))\n",
    "#Scf convergence\n",
    "print(\"Total energy = \\n %s \\n Delta energy = \\n %s \\n\" % (co_output.get_scf_convergence()[0],\n",
    "                                                           co_output.get_scf_convergence()[1]))"
   ]
  },
  {
   "cell_type": "markdown",
   "id": "bb1f72fe",
   "metadata": {},
   "source": [
    "### Properties_output class"
   ]
  },
  {
   "cell_type": "code",
   "execution_count": 14,
   "id": "844eb99c",
   "metadata": {},
   "outputs": [],
   "source": [
    "from CRYSTALpytools.crystal_io import Properties_output"
   ]
  },
  {
   "cell_type": "markdown",
   "id": "31c14b9a",
   "metadata": {},
   "source": [
    "#### Bands"
   ]
  },
  {
   "cell_type": "code",
   "execution_count": 15,
   "id": "7525ccbb",
   "metadata": {},
   "outputs": [
    {
     "data": {
      "text/plain": [
       "<CRYSTALpytools.crystal_io.Properties_output at 0x1504068b0>"
      ]
     },
     "execution_count": 15,
     "metadata": {},
     "output_type": "execute_result"
    }
   ],
   "source": [
    "mgo_bands = Properties_output()\n",
    "mgo_bands.read_cry_bands('../examples/data/mgo_BAND_dat.BAND')\n",
    "mgo_bands"
   ]
  },
  {
   "cell_type": "markdown",
   "id": "17e06d40",
   "metadata": {},
   "source": [
    "#### Doss"
   ]
  },
  {
   "cell_type": "code",
   "execution_count": 16,
   "id": "ec69cfae",
   "metadata": {
    "scrolled": true
   },
   "outputs": [
    {
     "data": {
      "text/plain": [
       "<CRYSTALpytools.crystal_io.Properties_output at 0x1504063d0>"
      ]
     },
     "execution_count": 16,
     "metadata": {},
     "output_type": "execute_result"
    }
   ],
   "source": [
    "mgo_doss = Properties_output()\n",
    "mgo_doss = mgo_doss.read_cry_doss('data/mgo_DOSS_dat.DOSS')\n",
    "mgo_doss"
   ]
  },
  {
   "cell_type": "markdown",
   "id": "a42b438f",
   "metadata": {},
   "source": [
    "### write_cry_input function"
   ]
  },
  {
   "cell_type": "code",
   "execution_count": 19,
   "id": "2417bd82",
   "metadata": {},
   "outputs": [],
   "source": [
    "from CRYSTALpytools.crystal_io import Crystal_input"
   ]
  },
  {
   "cell_type": "markdown",
   "id": "cec38561",
   "metadata": {},
   "source": [
    "#### Use existing input file"
   ]
  },
  {
   "cell_type": "code",
   "execution_count": 20,
   "id": "f008e190",
   "metadata": {},
   "outputs": [],
   "source": [
    "#Read the original input\n",
    "mgo_original_input = Crystal_input().from_file('data/mgo.d12')\n",
    "\n",
    "#Write the input\n",
    "new_input_name = 'data/mgo_from_file.d12'\n",
    "mgo_original_input.write_crystal_input(new_input_name)"
   ]
  },
  {
   "cell_type": "markdown",
   "id": "b13a9160",
   "metadata": {},
   "source": [
    "#### Build from blocks"
   ]
  },
  {
   "cell_type": "code",
   "execution_count": 22,
   "id": "c894748b",
   "metadata": {},
   "outputs": [],
   "source": [
    "#Define the blocks\n",
    "geom_block = ['MGO BULK - GEOMETRY TEST\\n',\n",
    " 'CRYSTAL\\n',\n",
    " '0 0 0\\n',\n",
    " '225\\n',\n",
    " '4.217\\n',\n",
    " '2\\n',\n",
    " '12 0.    0.    0.\\n',\n",
    " '8 0.5   0.5   0.5\\n',\n",
    " 'END\\n']\n",
    "bs_block = ['12 4\\n',\n",
    " '0 0 8 2.0 1.0\\n',\n",
    " ' 68370.0 0.0002226\\n',\n",
    " ' 9661.0 0.001901\\n',\n",
    " ' 2041.0 0.011042\\n',\n",
    " ' 529.6 0.05005\\n',\n",
    " ' 159.17 0.1690\\n',\n",
    " ' 54.71 0.36695\\n',\n",
    " ' 21.236 0.4008\\n',\n",
    " ' 8.791 0.1487\\n',\n",
    " '0 1 5 8.0 1.0\\n',\n",
    " ' 143.7 -0.00671 0.00807\\n',\n",
    " ' 31.27 -0.07927 0.06401\\n',\n",
    " ' 9.661 -0.08088 0.2092\\n',\n",
    " ' 3.726 0.2947 0.3460\\n',\n",
    " ' 1.598 0.5714 0.3731\\n',\n",
    " '0 1 1 2.0 1.0\\n',\n",
    " ' 0.688 1.0 1.0\\n',\n",
    " '0 1 1 0.0 1.0\\n',\n",
    " ' 0.28 1.0 1.0\\n',\n",
    " '8 4\\n',\n",
    " '0 0 8 2.0 1.0\\n',\n",
    " ' 8020.0 0.00108\\n',\n",
    " ' 1338.0 0.00804\\n',\n",
    " ' 255.4 0.05324\\n',\n",
    " ' 69.22 0.1681\\n',\n",
    " ' 23.90 0.3581\\n',\n",
    " ' 9.264 0.3855\\n',\n",
    " ' 3.851 0.1468\\n',\n",
    " ' 1.212 0.0728\\n',\n",
    " '0 1 4 6.0 1.0\\n',\n",
    " ' 49.43 -0.00883 0.00958\\n',\n",
    " ' 10.47 -0.0915 0.0696\\n',\n",
    " ' 3.235 -0.0402 0.2065\\n',\n",
    " ' 1.217 0.379 0.347\\n',\n",
    " '0 1 1 0.0 1.0\\n',\n",
    " ' 0.4764 1.0 1.0\\n',\n",
    " '0 1 1 0.0 1.0\\n',\n",
    " ' 0.1802 1.0 1.0\\n',\n",
    " '99 0\\n',\n",
    " 'ENDBS\\n']\n",
    "func_block = ['DFT\\n', 'B3LYP\\n', 'XXLGRID\\n', 'ENDDFT\\n']\n",
    "scf_block = [['TOLINTEG\\n', '7 7 7 7 14\\n'],\n",
    " ['SHRINK\\n', '12 24\\n'],\n",
    " ['MAXCYCLE\\n', '200\\n'],\n",
    " ['FMIXING\\n', '70\\n'],\n",
    " 'DIIS\\n',\n",
    " 'ENDSCF\\n']\n",
    "\n",
    "#Write the input object\n",
    "mgo_from_blocks = Crystal_input().from_blocks(geom_block,bs_block,func_block,scf_block)\n",
    "new_input_name = 'data/mgo_from_blocks.d12'\n",
    "mgo_from_blocks.write_crystal_input(new_input_name)"
   ]
  },
  {
   "cell_type": "code",
   "execution_count": 23,
   "id": "a5e86f39",
   "metadata": {},
   "outputs": [
    {
     "ename": "NameError",
     "evalue": "name 'gui_objwrite_crystal_gui' is not defined",
     "output_type": "error",
     "traceback": [
      "\u001b[0;31m---------------------------------------------------------------------------\u001b[0m",
      "\u001b[0;31mNameError\u001b[0m                                 Traceback (most recent call last)",
      "Cell \u001b[0;32mIn[23], line 14\u001b[0m\n\u001b[1;32m     12\u001b[0m \u001b[38;5;66;03m#Write the input\u001b[39;00m\n\u001b[1;32m     13\u001b[0m new_input_name \u001b[38;5;241m=\u001b[39m \u001b[38;5;124m'\u001b[39m\u001b[38;5;124mdata/mgo_external_obj.d12\u001b[39m\u001b[38;5;124m'\u001b[39m\n\u001b[0;32m---> 14\u001b[0m \u001b[43mmgo_original_input\u001b[49m\u001b[38;5;241;43m.\u001b[39;49m\u001b[43mwrite_crystal_input\u001b[49m\u001b[43m(\u001b[49m\u001b[43mnew_input_name\u001b[49m\u001b[43m,\u001b[49m\u001b[43mexternal_obj\u001b[49m\u001b[38;5;241;43m=\u001b[39;49m\u001b[43msubstrate_primitive\u001b[49m\u001b[43m)\u001b[49m\n",
      "File \u001b[0;32m~/miniconda3/envs/test_env2/lib/python3.9/site-packages/CRYSTALpytools/crystal_io.py:230\u001b[0m, in \u001b[0;36mCrystal_input.write_crystal_input\u001b[0;34m(self, input_name, external_obj)\u001b[0m\n\u001b[1;32m    228\u001b[0m     gui_file_name \u001b[38;5;241m=\u001b[39m input_name[:\u001b[38;5;241m-\u001b[39m\u001b[38;5;241m4\u001b[39m]\u001b[38;5;241m+\u001b[39m\u001b[38;5;124m'\u001b[39m\u001b[38;5;124m.gui\u001b[39m\u001b[38;5;124m'\u001b[39m\n\u001b[1;32m    229\u001b[0m     gui_obj \u001b[38;5;241m=\u001b[39m cry_pmg2gui(external_obj)\n\u001b[0;32m--> 230\u001b[0m     \u001b[43mgui_objwrite_crystal_gui\u001b[49m(gui_file_name)\n\u001b[1;32m    232\u001b[0m \u001b[38;5;28;01melse\u001b[39;00m:\n\u001b[1;32m    233\u001b[0m     \u001b[38;5;28mprint\u001b[39m(\n\u001b[1;32m    234\u001b[0m         \u001b[38;5;124m'\u001b[39m\u001b[38;5;124mEXITING: external object format not recognised, please specfy an ASE or pymatgen object\u001b[39m\u001b[38;5;124m'\u001b[39m)\n",
      "\u001b[0;31mNameError\u001b[0m: name 'gui_objwrite_crystal_gui' is not defined"
     ]
    }
   ],
   "source": [
    "#Write input for external object (ASE or pymatgen)\n",
    "#Start from original inout \n",
    "mgo_original_input = Crystal_input().from_file('data/mgo.d12')\n",
    "\n",
    "#Generate the external object\n",
    "from pymatgen.core import Structure, Lattice             \n",
    "from pymatgen.symmetry.analyzer import SpacegroupAnalyzer\n",
    "\n",
    "substrate = Structure.from_spacegroup(\"Fm-3m\", Lattice.cubic(4.217), [\"Mg\",\"O\"], [[0, 0, 0],[0.5,0.5,0.5]])\n",
    "substrate_primitive = SpacegroupAnalyzer(substrate).get_primitive_standard_structure() \n",
    "\n",
    "#Write the input\n",
    "new_input_name = 'data/mgo_external_obj.d12'\n",
    "mgo_original_input.write_crystal_input(new_input_name,external_obj=substrate_primitive)"
   ]
  },
  {
   "cell_type": "markdown",
   "id": "ac37f16d",
   "metadata": {},
   "source": [
    "### write_cry_properties function"
   ]
  },
  {
   "cell_type": "markdown",
   "id": "1c9d3903",
   "metadata": {},
   "source": [
    "#### bands from k points coordinates"
   ]
  },
  {
   "cell_type": "code",
   "execution_count": 25,
   "id": "1aa05d78",
   "metadata": {},
   "outputs": [],
   "source": [
    "from CRYSTALpytools.crystal_io import Properties_input\n",
    "\n",
    "#Create the bands input object\n",
    "bands_input = Properties_input()\n",
    "#Add the newk block to the input object\n",
    "bands_input.make_newk_block(12,24)\n",
    "\n",
    "#Prepare the band_block\n",
    "k_path = [[0,0,0],[0.5,0,0],[0.5,0.5,0.5],[0.25,0,0.5]]\n",
    "n_kpoints = 200\n",
    "first_band = 1\n",
    "last_band = 26\n",
    "bands_input.make_bands_block(k_path,n_kpoints,first_band,last_band)\n",
    "\n",
    "#Write the input\n",
    "bands_input.write_properties_input('data/bands_input_1.d3')"
   ]
  },
  {
   "cell_type": "code",
   "execution_count": 26,
   "id": "22d53374",
   "metadata": {},
   "outputs": [
    {
     "data": {
      "text/plain": [
       "['BAND\\n',\n",
       " 'BAND STRUCTURE CALCULATION\\n',\n",
       " '3 4 200 1 26 1 0\\n',\n",
       " '0 0 0  2 0 0\\n',\n",
       " '2 0 0  2 2 2\\n',\n",
       " '2 2 2  1 0 2\\n',\n",
       " 'END\\n']"
      ]
     },
     "execution_count": 26,
     "metadata": {},
     "output_type": "execute_result"
    }
   ],
   "source": [
    "bands_input.property_block"
   ]
  },
  {
   "cell_type": "markdown",
   "id": "b74efb1e",
   "metadata": {},
   "source": [
    "#### bands from pymatgen HighSymmKpath object"
   ]
  },
  {
   "cell_type": "code",
   "execution_count": 28,
   "id": "9698e3ba",
   "metadata": {},
   "outputs": [],
   "source": [
    "from pymatgen.symmetry.bandstructure import HighSymmKpath\n",
    "from pymatgen.symmetry.analyzer import SpacegroupAnalyzer\n",
    "\n",
    "from CRYSTALpytools.crystal_io import Crystal_output\n",
    "from CRYSTALpytools.crystal_io import Properties_input\n",
    "from CRYSTALpytools.convert import cry_out2pmg\n",
    "\n",
    "\n",
    "#Create the bands input object\n",
    "bands_input = Properties_input()\n",
    "#Add the newk block to the input object\n",
    "bands_input.make_newk_block(12,24)\n",
    "\n",
    "#Read the structure\n",
    "mgo = Crystal_output().read_cry_output('data/mgo.out')\n",
    "mgo = cry_out2pmg(mgo)\n",
    "mgo_prim = SpacegroupAnalyzer(mgo).get_primitive_standard_structure(international_monoclinic=False)\n",
    "\n",
    "#Obtain the k path object\n",
    "k_path = HighSymmKpath(mgo_prim)\n",
    "\n",
    "n_kpoints = 200\n",
    "first_band = 1\n",
    "last_band = 26\n",
    "bands_input.make_bands_block(k_path,n_kpoints,first_band,last_band)\n",
    "\n",
    "#Write the input\n",
    "bands_input.write_properties_input('data/bands_input_2.d3')"
   ]
  },
  {
   "cell_type": "code",
   "execution_count": 29,
   "id": "90cba974",
   "metadata": {},
   "outputs": [
    {
     "data": {
      "text/plain": [
       "['BAND\\n',\n",
       " 'BAND STRUCTURE CALCULATION\\n',\n",
       " '11 8 200 1 26 1 0\\n',\n",
       " '0 0 0  4 0 4\\n',\n",
       " '4 0 4  4 2 5\\n',\n",
       " '4 2 5  2 2 5\\n',\n",
       " '2 2 5  0 0 0\\n',\n",
       " '0 0 0  4 4 4\\n',\n",
       " '4 4 4  5 2 5\\n',\n",
       " '5 2 5  4 2 5\\n',\n",
       " '4 2 5  4 4 4\\n',\n",
       " '4 4 4  2 2 5\\n',\n",
       " '2 2 5  5 2 5\\n',\n",
       " '5 2 5  4 0 4\\n',\n",
       " 'END\\n']"
      ]
     },
     "execution_count": 29,
     "metadata": {},
     "output_type": "execute_result"
    }
   ],
   "source": [
    "bands_input.property_block"
   ]
  },
  {
   "cell_type": "markdown",
   "id": "1b252258",
   "metadata": {},
   "source": [
    "#### doss"
   ]
  },
  {
   "cell_type": "code",
   "execution_count": 30,
   "id": "1ce65af5",
   "metadata": {},
   "outputs": [
    {
     "ename": "TypeError",
     "evalue": "unsupported operand type(s) for +: 'float' and 'str'",
     "output_type": "error",
     "traceback": [
      "\u001b[0;31m---------------------------------------------------------------------------\u001b[0m",
      "\u001b[0;31mTypeError\u001b[0m                                 Traceback (most recent call last)",
      "Cell \u001b[0;32mIn[30], line 10\u001b[0m\n\u001b[1;32m      6\u001b[0m doss_input\u001b[38;5;241m.\u001b[39mmake_newk_block(\u001b[38;5;241m12\u001b[39m,\u001b[38;5;241m24\u001b[39m)\n\u001b[1;32m      8\u001b[0m \u001b[38;5;66;03m#Prepare the doss_block\u001b[39;00m\n\u001b[0;32m---> 10\u001b[0m \u001b[43mdoss_input\u001b[49m\u001b[38;5;241;43m.\u001b[39;49m\u001b[43mmake_doss_block\u001b[49m\u001b[43m(\u001b[49m\u001b[43mn_points\u001b[49m\u001b[38;5;241;43m=\u001b[39;49m\u001b[38;5;241;43m200\u001b[39;49m\u001b[43m,\u001b[49m\u001b[43me_range\u001b[49m\u001b[38;5;241;43m=\u001b[39;49m\u001b[43m[\u001b[49m\u001b[38;5;241;43m-\u001b[39;49m\u001b[38;5;241;43m5\u001b[39;49m\u001b[43m,\u001b[49m\u001b[38;5;241;43m15\u001b[39;49m\u001b[43m]\u001b[49m\u001b[43m,\u001b[49m\u001b[43mplotting_option\u001b[49m\u001b[38;5;241;43m=\u001b[39;49m\u001b[38;5;241;43m2\u001b[39;49m\u001b[43m,\u001b[49m\u001b[43mpoly\u001b[49m\u001b[38;5;241;43m=\u001b[39;49m\u001b[38;5;241;43m12\u001b[39;49m\u001b[43m,\u001b[49m\u001b[43mprint_option\u001b[49m\u001b[38;5;241;43m=\u001b[39;49m\u001b[38;5;241;43m1\u001b[39;49m\u001b[43m)\u001b[49m\n\u001b[1;32m     12\u001b[0m \u001b[38;5;66;03m#Write the input\u001b[39;00m\n\u001b[1;32m     13\u001b[0m doss_input\u001b[38;5;241m.\u001b[39mwrite_properties_input(\u001b[38;5;124m'\u001b[39m\u001b[38;5;124mdata/doss_input.d3\u001b[39m\u001b[38;5;124m'\u001b[39m,doss_input)\n",
      "File \u001b[0;32m~/miniconda3/envs/test_env2/lib/python3.9/site-packages/CRYSTALpytools/crystal_io.py:1309\u001b[0m, in \u001b[0;36mProperties_input.make_doss_block\u001b[0;34m(self, n_points, band_range, e_range, plotting_option, poly, print_option)\u001b[0m\n\u001b[1;32m   1303\u001b[0m doss_block\u001b[38;5;241m.\u001b[39mappend(\u001b[38;5;28mstr\u001b[39m(\u001b[38;5;241m0\u001b[39m)\u001b[38;5;241m+\u001b[39m\u001b[38;5;124m'\u001b[39m\u001b[38;5;124m \u001b[39m\u001b[38;5;124m'\u001b[39m\u001b[38;5;241m+\u001b[39m\u001b[38;5;28mstr\u001b[39m(n_points)\u001b[38;5;241m+\u001b[39m\u001b[38;5;124m'\u001b[39m\u001b[38;5;124m \u001b[39m\u001b[38;5;124m'\u001b[39m\u001b[38;5;241m+\u001b[39m\u001b[38;5;28mstr\u001b[39m(doss_range[\u001b[38;5;241m0\u001b[39m])\u001b[38;5;241m+\u001b[39m\u001b[38;5;124m'\u001b[39m\u001b[38;5;124m \u001b[39m\u001b[38;5;124m'\u001b[39m \u001b[38;5;241m+\u001b[39m\n\u001b[1;32m   1304\u001b[0m                   \u001b[38;5;28mstr\u001b[39m(doss_range[\u001b[38;5;241m1\u001b[39m])\u001b[38;5;241m+\u001b[39m\u001b[38;5;124m'\u001b[39m\u001b[38;5;124m \u001b[39m\u001b[38;5;124m'\u001b[39m\u001b[38;5;241m+\u001b[39m\u001b[38;5;28mstr\u001b[39m(plotting_option)\u001b[38;5;241m+\u001b[39m\u001b[38;5;124m'\u001b[39m\u001b[38;5;124m \u001b[39m\u001b[38;5;124m'\u001b[39m\u001b[38;5;241m+\u001b[39m\u001b[38;5;28mstr\u001b[39m(poly)\u001b[38;5;241m+\u001b[39m\u001b[38;5;124m'\u001b[39m\u001b[38;5;124m \u001b[39m\u001b[38;5;124m'\u001b[39m \u001b[38;5;241m+\u001b[39m\n\u001b[1;32m   1305\u001b[0m                   \u001b[38;5;28mstr\u001b[39m(print_option)\u001b[38;5;241m+\u001b[39m\u001b[38;5;124m'\u001b[39m\u001b[38;5;130;01m\\n\u001b[39;00m\u001b[38;5;124m'\u001b[39m)\n\u001b[1;32m   1307\u001b[0m \u001b[38;5;28;01mif\u001b[39;00m doss_range \u001b[38;5;241m==\u001b[39m [\u001b[38;5;241m-\u001b[39m\u001b[38;5;241m1\u001b[39m, \u001b[38;5;241m-\u001b[39m\u001b[38;5;241m1\u001b[39m]:\n\u001b[1;32m   1308\u001b[0m     doss_block\u001b[38;5;241m.\u001b[39mappend(\n\u001b[0;32m-> 1309\u001b[0m         \u001b[38;5;28mstr\u001b[39m(units\u001b[38;5;241m.\u001b[39meV_to_H(e_range[\u001b[38;5;241m0\u001b[39m]))\u001b[38;5;241m+\u001b[39m\u001b[38;5;124m'\u001b[39m\u001b[38;5;124m \u001b[39m\u001b[38;5;124m'\u001b[39m\u001b[38;5;241m+\u001b[39m\u001b[38;5;28mstr\u001b[39m(\u001b[43munits\u001b[49m\u001b[38;5;241;43m.\u001b[39;49m\u001b[43meV_to_H\u001b[49m\u001b[43m(\u001b[49m\u001b[43me_range\u001b[49m\u001b[43m[\u001b[49m\u001b[38;5;241;43m1\u001b[39;49m\u001b[43m]\u001b[49m\u001b[43m)\u001b[49m\u001b[38;5;241;43m+\u001b[39;49m\u001b[38;5;124;43m'\u001b[39;49m\u001b[38;5;130;43;01m\\n\u001b[39;49;00m\u001b[38;5;124;43m'\u001b[39;49m))\n\u001b[1;32m   1311\u001b[0m doss_block\u001b[38;5;241m.\u001b[39mappend(\u001b[38;5;124m'\u001b[39m\u001b[38;5;124mEND\u001b[39m\u001b[38;5;130;01m\\n\u001b[39;00m\u001b[38;5;124m'\u001b[39m)\n\u001b[1;32m   1313\u001b[0m \u001b[38;5;28mself\u001b[39m\u001b[38;5;241m.\u001b[39mproperty_block \u001b[38;5;241m=\u001b[39m doss_block\n",
      "\u001b[0;31mTypeError\u001b[0m: unsupported operand type(s) for +: 'float' and 'str'"
     ]
    }
   ],
   "source": [
    "from CRYSTALpytools.crystal_io import Properties_input\n",
    "\n",
    "#Create the doss input object\n",
    "doss_input = Properties_input()\n",
    "#Add the newk block to the input object\n",
    "doss_input.make_newk_block(12,24)\n",
    "\n",
    "#Prepare the doss_block\n",
    "\n",
    "doss_input.make_doss_block(n_points=200,e_range=[-5,15],plotting_option=2,poly=12,print_option=1)\n",
    "\n",
    "#Write the input\n",
    "doss_input.write_properties_input('data/doss_input.d3',doss_input)"
   ]
  },
  {
   "cell_type": "code",
   "execution_count": null,
   "id": "933b281c",
   "metadata": {},
   "outputs": [],
   "source": [
    "!cat data/doss_input.d3"
   ]
  },
  {
   "cell_type": "markdown",
   "id": "503866da",
   "metadata": {},
   "source": [
    "#### pdoss (atoms)"
   ]
  },
  {
   "cell_type": "code",
   "execution_count": 33,
   "id": "62c51e8e",
   "metadata": {},
   "outputs": [],
   "source": [
    "from CRYSTALpytools.crystal_io import Properties_input\n",
    "\n",
    "#Create the doss input object\n",
    "pdoss_input = Properties_input()\n",
    "#Add the newk block to the input object\n",
    "pdoss_input.make_newk_block(12,24)\n",
    "\n",
    "#Prepare the pdoss_block\n",
    "projections = [[1],[2]]\n",
    "pdoss_input.make_pdoss_block(projections,proj_type='atom',n_points=200,band_range=[1,26],\n",
    "                       plotting_option=2,poly=12,print_option=1)\n",
    "\n",
    "#Write the input\n",
    "pdoss_input.write_properties_input('data/pdoss_input.d3')"
   ]
  },
  {
   "cell_type": "code",
   "execution_count": null,
   "id": "42fd2517",
   "metadata": {},
   "outputs": [],
   "source": [
    "!cat data/pdoss_input.d3"
   ]
  },
  {
   "cell_type": "markdown",
   "id": "30fa6e6e",
   "metadata": {},
   "source": [
    "#### pdoss (ao)"
   ]
  },
  {
   "cell_type": "code",
   "execution_count": 34,
   "id": "89f9c099",
   "metadata": {},
   "outputs": [],
   "source": [
    "from CRYSTALpytools.crystal_io import Properties_input\n",
    "\n",
    "#Create the doss input object\n",
    "pdoss_input = Properties_input()\n",
    "#Add the newk block to the input object\n",
    "pdoss_input.make_newk_block(12,24)\n",
    "\n",
    "#Prepare the pdoss_block\n",
    "projections = [[1, 2, 3, 4, 5, 6, 7, 8, 9, 10, 11, 12, 13],\n",
    "              [14, 15, 16, 17, 18, 19, 20, 21, 22, 23, 24, 25, 26]]\n",
    "pdoss_input.make_pdoss_block(projections,proj_type='ao',n_points=200,band_range=[1,26],\n",
    "                       plotting_option=2,poly=12,print_option=1)\n",
    "\n",
    "#Write the input\n",
    "pdoss_input.write_properties_input('data/pdoss_input_ao.d3')"
   ]
  },
  {
   "cell_type": "code",
   "execution_count": null,
   "id": "4cbf8ebd",
   "metadata": {},
   "outputs": [],
   "source": [
    "!cat data/pdoss_input_ao.d3"
   ]
  },
  {
   "cell_type": "markdown",
   "id": "8666bd36",
   "metadata": {},
   "source": [
    "### write_cry_gui function"
   ]
  },
  {
   "cell_type": "markdown",
   "id": "0b70b5b3",
   "metadata": {},
   "source": [
    "#### from pymatgen structure"
   ]
  },
  {
   "cell_type": "markdown",
   "id": "176df04b",
   "metadata": {},
   "source": [
    "#### bulk (3D)"
   ]
  },
  {
   "cell_type": "code",
   "execution_count": 37,
   "id": "36f7ffd0",
   "metadata": {},
   "outputs": [],
   "source": [
    "from CRYSTALpytools.crystal_io import Crystal_gui\n",
    "from CRYSTALpytools.convert import cry_pmg2gui\n",
    "\n",
    "from pymatgen.core import Structure, Lattice\n",
    "\n",
    "#Generate bulk structure\n",
    "substrate = Structure.from_spacegroup(\"Fm-3m\", Lattice.cubic(4.217), [\"Mg\",'O'], [[0, 0, 0],[0.5,0.5,0.5]])\n",
    "\n",
    "#The dimensionality parameter is optional. The function will recognise it is a pymatgen bulk object\n",
    "#Create the gui object by converting the pymatgen structure\n",
    "mgo_gui = cry_pmg2gui(substrate,dimensionality=2)\n",
    "\n",
    "mgo_gui.write_crystal_gui('data/mgo_write_gui.gui')"
   ]
  },
  {
   "cell_type": "code",
   "execution_count": 38,
   "id": "e6bae971",
   "metadata": {
    "collapsed": true
   },
   "outputs": [
    {
     "name": "stdout",
     "output_type": "stream",
     "text": [
      "2   1   1\r\n",
      "4.217000000000E+00 0.000000000000E+00 0.000000000000E+00\r\n",
      "0.000000000000E+00 4.217000000000E+00 0.000000000000E+00\r\n",
      "0.000000000000E+00 0.000000000000E+00 5.000000000000E+02\r\n",
      "32\r\n",
      "1.000000000000E+00 0.000000000000E+00 0.000000000000E+00\r\n",
      "0.000000000000E+00 1.000000000000E+00 0.000000000000E+00\r\n",
      "0.000000000000E+00 0.000000000000E+00 1.000000000000E+00\r\n",
      "0.000000000000E+00 0.000000000000E+00 0.000000000000E+00\r\n",
      "0.000000000000E+00 -1.000000000000E+00 0.000000000000E+00\r\n",
      "1.000000000000E+00 0.000000000000E+00 0.000000000000E+00\r\n",
      "0.000000000000E+00 0.000000000000E+00 1.000000000000E+00\r\n",
      "0.000000000000E+00 0.000000000000E+00 0.000000000000E+00\r\n",
      "-1.000000000000E+00 0.000000000000E+00 0.000000000000E+00\r\n",
      "0.000000000000E+00 -1.000000000000E+00 0.000000000000E+00\r\n",
      "0.000000000000E+00 0.000000000000E+00 1.000000000000E+00\r\n",
      "0.000000000000E+00 0.000000000000E+00 0.000000000000E+00\r\n",
      "0.000000000000E+00 1.000000000000E+00 0.000000000000E+00\r\n",
      "-1.000000000000E+00 0.000000000000E+00 0.000000000000E+00\r\n",
      "0.000000000000E+00 0.000000000000E+00 1.000000000000E+00\r\n",
      "0.000000000000E+00 0.000000000000E+00 0.000000000000E+00\r\n",
      "-1.000000000000E+00 0.000000000000E+00 0.000000000000E+00\r\n",
      "0.000000000000E+00 1.000000000000E+00 0.000000000000E+00\r\n",
      "0.000000000000E+00 0.000000000000E+00 1.000000000000E+00\r\n",
      "0.000000000000E+00 0.000000000000E+00 0.000000000000E+00\r\n",
      "0.000000000000E+00 1.000000000000E+00 0.000000000000E+00\r\n",
      "1.000000000000E+00 0.000000000000E+00 0.000000000000E+00\r\n",
      "0.000000000000E+00 0.000000000000E+00 1.000000000000E+00\r\n",
      "0.000000000000E+00 0.000000000000E+00 0.000000000000E+00\r\n",
      "1.000000000000E+00 0.000000000000E+00 0.000000000000E+00\r\n",
      "0.000000000000E+00 -1.000000000000E+00 0.000000000000E+00\r\n",
      "0.000000000000E+00 0.000000000000E+00 1.000000000000E+00\r\n",
      "0.000000000000E+00 0.000000000000E+00 0.000000000000E+00\r\n",
      "0.000000000000E+00 -1.000000000000E+00 0.000000000000E+00\r\n",
      "-1.000000000000E+00 0.000000000000E+00 0.000000000000E+00\r\n",
      "0.000000000000E+00 0.000000000000E+00 1.000000000000E+00\r\n",
      "0.000000000000E+00 0.000000000000E+00 0.000000000000E+00\r\n",
      "-1.000000000000E+00 0.000000000000E+00 0.000000000000E+00\r\n",
      "0.000000000000E+00 -1.000000000000E+00 0.000000000000E+00\r\n",
      "0.000000000000E+00 0.000000000000E+00 -1.000000000000E+00\r\n",
      "0.000000000000E+00 2.108500000000E+00 0.000000000000E+00\r\n",
      "0.000000000000E+00 1.000000000000E+00 0.000000000000E+00\r\n",
      "-1.000000000000E+00 0.000000000000E+00 0.000000000000E+00\r\n",
      "0.000000000000E+00 0.000000000000E+00 -1.000000000000E+00\r\n",
      "0.000000000000E+00 2.108500000000E+00 0.000000000000E+00\r\n",
      "1.000000000000E+00 0.000000000000E+00 0.000000000000E+00\r\n",
      "0.000000000000E+00 1.000000000000E+00 0.000000000000E+00\r\n",
      "0.000000000000E+00 0.000000000000E+00 -1.000000000000E+00\r\n",
      "0.000000000000E+00 2.108500000000E+00 0.000000000000E+00\r\n",
      "0.000000000000E+00 -1.000000000000E+00 0.000000000000E+00\r\n",
      "1.000000000000E+00 0.000000000000E+00 0.000000000000E+00\r\n",
      "0.000000000000E+00 0.000000000000E+00 -1.000000000000E+00\r\n",
      "0.000000000000E+00 2.108500000000E+00 0.000000000000E+00\r\n",
      "1.000000000000E+00 0.000000000000E+00 0.000000000000E+00\r\n",
      "0.000000000000E+00 -1.000000000000E+00 0.000000000000E+00\r\n",
      "0.000000000000E+00 0.000000000000E+00 -1.000000000000E+00\r\n",
      "0.000000000000E+00 2.108500000000E+00 0.000000000000E+00\r\n",
      "0.000000000000E+00 -1.000000000000E+00 0.000000000000E+00\r\n",
      "-1.000000000000E+00 0.000000000000E+00 0.000000000000E+00\r\n",
      "0.000000000000E+00 0.000000000000E+00 -1.000000000000E+00\r\n",
      "0.000000000000E+00 2.108500000000E+00 0.000000000000E+00\r\n",
      "-1.000000000000E+00 0.000000000000E+00 0.000000000000E+00\r\n",
      "0.000000000000E+00 1.000000000000E+00 0.000000000000E+00\r\n",
      "0.000000000000E+00 0.000000000000E+00 -1.000000000000E+00\r\n",
      "0.000000000000E+00 2.108500000000E+00 0.000000000000E+00\r\n",
      "0.000000000000E+00 1.000000000000E+00 0.000000000000E+00\r\n",
      "1.000000000000E+00 0.000000000000E+00 0.000000000000E+00\r\n",
      "0.000000000000E+00 0.000000000000E+00 -1.000000000000E+00\r\n",
      "0.000000000000E+00 2.108500000000E+00 0.000000000000E+00\r\n",
      "-1.000000000000E+00 0.000000000000E+00 0.000000000000E+00\r\n",
      "0.000000000000E+00 -1.000000000000E+00 0.000000000000E+00\r\n",
      "0.000000000000E+00 0.000000000000E+00 -1.000000000000E+00\r\n",
      "2.108500000000E+00 0.000000000000E+00 0.000000000000E+00\r\n",
      "0.000000000000E+00 1.000000000000E+00 0.000000000000E+00\r\n",
      "-1.000000000000E+00 0.000000000000E+00 0.000000000000E+00\r\n",
      "0.000000000000E+00 0.000000000000E+00 -1.000000000000E+00\r\n",
      "2.108500000000E+00 0.000000000000E+00 0.000000000000E+00\r\n",
      "1.000000000000E+00 0.000000000000E+00 0.000000000000E+00\r\n",
      "0.000000000000E+00 1.000000000000E+00 0.000000000000E+00\r\n",
      "0.000000000000E+00 0.000000000000E+00 -1.000000000000E+00\r\n",
      "2.108500000000E+00 0.000000000000E+00 0.000000000000E+00\r\n",
      "0.000000000000E+00 -1.000000000000E+00 0.000000000000E+00\r\n",
      "1.000000000000E+00 0.000000000000E+00 0.000000000000E+00\r\n",
      "0.000000000000E+00 0.000000000000E+00 -1.000000000000E+00\r\n",
      "2.108500000000E+00 0.000000000000E+00 0.000000000000E+00\r\n",
      "1.000000000000E+00 0.000000000000E+00 0.000000000000E+00\r\n",
      "0.000000000000E+00 -1.000000000000E+00 0.000000000000E+00\r\n",
      "0.000000000000E+00 0.000000000000E+00 -1.000000000000E+00\r\n",
      "2.108500000000E+00 0.000000000000E+00 0.000000000000E+00\r\n",
      "0.000000000000E+00 -1.000000000000E+00 0.000000000000E+00\r\n",
      "-1.000000000000E+00 0.000000000000E+00 0.000000000000E+00\r\n",
      "0.000000000000E+00 0.000000000000E+00 -1.000000000000E+00\r\n",
      "2.108500000000E+00 0.000000000000E+00 0.000000000000E+00\r\n",
      "-1.000000000000E+00 0.000000000000E+00 0.000000000000E+00\r\n",
      "0.000000000000E+00 1.000000000000E+00 0.000000000000E+00\r\n",
      "0.000000000000E+00 0.000000000000E+00 -1.000000000000E+00\r\n",
      "2.108500000000E+00 0.000000000000E+00 0.000000000000E+00\r\n",
      "0.000000000000E+00 1.000000000000E+00 0.000000000000E+00\r\n",
      "1.000000000000E+00 0.000000000000E+00 0.000000000000E+00\r\n",
      "0.000000000000E+00 0.000000000000E+00 -1.000000000000E+00\r\n",
      "2.108500000000E+00 0.000000000000E+00 0.000000000000E+00\r\n",
      "1.000000000000E+00 0.000000000000E+00 0.000000000000E+00\r\n",
      "0.000000000000E+00 1.000000000000E+00 0.000000000000E+00\r\n",
      "0.000000000000E+00 0.000000000000E+00 1.000000000000E+00\r\n",
      "2.108500000000E+00 2.108500000000E+00 0.000000000000E+00\r\n",
      "0.000000000000E+00 -1.000000000000E+00 0.000000000000E+00\r\n",
      "1.000000000000E+00 0.000000000000E+00 0.000000000000E+00\r\n",
      "0.000000000000E+00 0.000000000000E+00 1.000000000000E+00\r\n",
      "2.108500000000E+00 2.108500000000E+00 0.000000000000E+00\r\n",
      "-1.000000000000E+00 0.000000000000E+00 0.000000000000E+00\r\n",
      "0.000000000000E+00 -1.000000000000E+00 0.000000000000E+00\r\n",
      "0.000000000000E+00 0.000000000000E+00 1.000000000000E+00\r\n",
      "2.108500000000E+00 2.108500000000E+00 0.000000000000E+00\r\n",
      "0.000000000000E+00 1.000000000000E+00 0.000000000000E+00\r\n",
      "-1.000000000000E+00 0.000000000000E+00 0.000000000000E+00\r\n",
      "0.000000000000E+00 0.000000000000E+00 1.000000000000E+00\r\n",
      "2.108500000000E+00 2.108500000000E+00 0.000000000000E+00\r\n",
      "-1.000000000000E+00 0.000000000000E+00 0.000000000000E+00\r\n",
      "0.000000000000E+00 1.000000000000E+00 0.000000000000E+00\r\n",
      "0.000000000000E+00 0.000000000000E+00 1.000000000000E+00\r\n",
      "2.108500000000E+00 2.108500000000E+00 0.000000000000E+00\r\n",
      "0.000000000000E+00 1.000000000000E+00 0.000000000000E+00\r\n",
      "1.000000000000E+00 0.000000000000E+00 0.000000000000E+00\r\n",
      "0.000000000000E+00 0.000000000000E+00 1.000000000000E+00\r\n",
      "2.108500000000E+00 2.108500000000E+00 0.000000000000E+00\r\n",
      "1.000000000000E+00 0.000000000000E+00 0.000000000000E+00\r\n",
      "0.000000000000E+00 -1.000000000000E+00 0.000000000000E+00\r\n",
      "0.000000000000E+00 0.000000000000E+00 1.000000000000E+00\r\n",
      "2.108500000000E+00 2.108500000000E+00 0.000000000000E+00\r\n",
      "0.000000000000E+00 -1.000000000000E+00 0.000000000000E+00\r\n",
      "-1.000000000000E+00 0.000000000000E+00 0.000000000000E+00\r\n",
      "0.000000000000E+00 0.000000000000E+00 1.000000000000E+00\r\n",
      "2.108500000000E+00 2.108500000000E+00 0.000000000000E+00\r\n",
      "8\r\n",
      "12 0.000000000000E+00 0.000000000000E+00 -1.054250000000E+00\r\n",
      "12 2.108500000000E+00 2.108500000000E+00 -1.054250000000E+00\r\n",
      "12 2.108500000000E+00 0.000000000000E+00 1.054250000000E+00\r\n",
      "12 0.000000000000E+00 2.108500000000E+00 1.054250000000E+00\r\n",
      "8 2.108500000000E+00 2.108500000000E+00 1.054250000000E+00\r\n",
      "8 0.000000000000E+00 0.000000000000E+00 1.054250000000E+00\r\n",
      "8 0.000000000000E+00 2.108500000000E+00 -1.054250000000E+00\r\n",
      "8 2.108500000000E+00 0.000000000000E+00 -1.054250000000E+00\r\n",
      "225 32"
     ]
    }
   ],
   "source": [
    "! cat data/mgo_write_gui.gui"
   ]
  },
  {
   "cell_type": "markdown",
   "id": "1133ed57",
   "metadata": {},
   "source": [
    "#### slab (2D)"
   ]
  },
  {
   "cell_type": "code",
   "execution_count": 39,
   "id": "502ec530",
   "metadata": {},
   "outputs": [],
   "source": [
    "from pymatgen.core import Structure, Lattice\n",
    "from pymatgen.core.surface import SlabGenerator\n",
    "\n",
    "#Generate bulk structure\n",
    "substrate = Structure.from_spacegroup(\"Fm-3m\", Lattice.cubic(4.217), [\"Mg\",'O'], [[0, 0, 0],[0.5,0.5,0.5]])\n",
    "#Generate slab\n",
    "substrate = SlabGenerator(substrate, (1,0,0), 5., 10., center_slab=True).get_slab()\n",
    "\n",
    "#The dimensionality parameter is optional. \n",
    "mgo_slab_gui = cry_pmg2gui(substrate, dimensionality=2)\n",
    "\n",
    "mgo_slab_gui.write_crystal_gui('data/mgo_100_write_gui.gui',mgo_slab_gui)"
   ]
  },
  {
   "cell_type": "code",
   "execution_count": 40,
   "id": "dc48a185",
   "metadata": {
    "collapsed": true
   },
   "outputs": [
    {
     "name": "stdout",
     "output_type": "stream",
     "text": [
      "2   1   1\r\n",
      "2.981869296264E+00 0.000000000000E+00 0.000000000000E+00\r\n",
      "-0.000000000000E+00 2.981869296264E+00 0.000000000000E+00\r\n",
      "0.000000000000E+00 0.000000000000E+00 5.000000000000E+02\r\n",
      "8\r\n",
      "1.000000000000E+00 -0.000000000000E+00 0.000000000000E+00\r\n",
      "0.000000000000E+00 1.000000000000E+00 0.000000000000E+00\r\n",
      "0.000000000000E+00 0.000000000000E+00 1.000000000000E+00\r\n",
      "0.000000000000E+00 0.000000000000E+00 0.000000000000E+00\r\n",
      "-0.000000000000E+00 -1.000000000000E+00 0.000000000000E+00\r\n",
      "1.000000000000E+00 0.000000000000E+00 0.000000000000E+00\r\n",
      "0.000000000000E+00 -0.000000000000E+00 1.000000000000E+00\r\n",
      "0.000000000000E+00 0.000000000000E+00 0.000000000000E+00\r\n",
      "-1.000000000000E+00 0.000000000000E+00 0.000000000000E+00\r\n",
      "0.000000000000E+00 -1.000000000000E+00 0.000000000000E+00\r\n",
      "-0.000000000000E+00 -0.000000000000E+00 1.000000000000E+00\r\n",
      "0.000000000000E+00 0.000000000000E+00 0.000000000000E+00\r\n",
      "0.000000000000E+00 1.000000000000E+00 0.000000000000E+00\r\n",
      "-1.000000000000E+00 -0.000000000000E+00 0.000000000000E+00\r\n",
      "-0.000000000000E+00 0.000000000000E+00 1.000000000000E+00\r\n",
      "0.000000000000E+00 0.000000000000E+00 0.000000000000E+00\r\n",
      "-1.000000000000E+00 -0.000000000000E+00 0.000000000000E+00\r\n",
      "0.000000000000E+00 1.000000000000E+00 0.000000000000E+00\r\n",
      "-0.000000000000E+00 -0.000000000000E+00 1.000000000000E+00\r\n",
      "0.000000000000E+00 0.000000000000E+00 0.000000000000E+00\r\n",
      "-0.000000000000E+00 1.000000000000E+00 0.000000000000E+00\r\n",
      "1.000000000000E+00 0.000000000000E+00 0.000000000000E+00\r\n",
      "0.000000000000E+00 0.000000000000E+00 1.000000000000E+00\r\n",
      "0.000000000000E+00 0.000000000000E+00 0.000000000000E+00\r\n",
      "1.000000000000E+00 0.000000000000E+00 0.000000000000E+00\r\n",
      "0.000000000000E+00 -1.000000000000E+00 0.000000000000E+00\r\n",
      "0.000000000000E+00 -0.000000000000E+00 1.000000000000E+00\r\n",
      "0.000000000000E+00 0.000000000000E+00 0.000000000000E+00\r\n",
      "0.000000000000E+00 -1.000000000000E+00 0.000000000000E+00\r\n",
      "-1.000000000000E+00 -0.000000000000E+00 0.000000000000E+00\r\n",
      "-0.000000000000E+00 -0.000000000000E+00 1.000000000000E+00\r\n",
      "0.000000000000E+00 0.000000000000E+00 0.000000000000E+00\r\n",
      "8\r\n",
      "12 0.000000000000E+00 0.000000000000E+00 3.162750000000E+00\r\n",
      "12 1.490934648132E+00 1.490934648132E+00 1.054250000000E+00\r\n",
      "12 0.000000000000E+00 0.000000000000E+00 -1.054250000000E+00\r\n",
      "12 1.490934648132E+00 1.490934648132E+00 -3.162750000000E+00\r\n",
      "8 0.000000000000E+00 0.000000000000E+00 1.054250000000E+00\r\n",
      "8 1.490934648132E+00 1.490934648132E+00 3.162750000000E+00\r\n",
      "8 0.000000000000E+00 0.000000000000E+00 -3.162750000000E+00\r\n",
      "8 1.490934648132E+00 1.490934648132E+00 -1.054250000000E+00\r\n",
      "1 1"
     ]
    }
   ],
   "source": [
    "! cat data/mgo_100_write_gui.gui"
   ]
  }
 ],
 "metadata": {
  "kernelspec": {
   "display_name": "Python 3 (ipykernel)",
   "language": "python",
   "name": "python3"
  },
  "language_info": {
   "codemirror_mode": {
    "name": "ipython",
    "version": 3
   },
   "file_extension": ".py",
   "mimetype": "text/x-python",
   "name": "python",
   "nbconvert_exporter": "python",
   "pygments_lexer": "ipython3",
   "version": "3.9.15"
  }
 },
 "nbformat": 4,
 "nbformat_minor": 5
}
