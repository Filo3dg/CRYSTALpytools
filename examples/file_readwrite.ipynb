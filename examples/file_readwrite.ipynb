{
 "cells": [
  {
   "cell_type": "markdown",
   "id": "68158073",
   "metadata": {},
   "source": [
    "# Example notebook for the functions contained in cry_file_readwrite.py"
   ]
  },
  {
   "cell_type": "markdown",
   "id": "56179e55",
   "metadata": {},
   "source": [
    "### Crystal_input class"
   ]
  },
  {
   "cell_type": "code",
   "execution_count": 1,
   "id": "032121ab",
   "metadata": {},
   "outputs": [],
   "source": [
    "from crystal_functions.file_readwrite import Crystal_input"
   ]
  },
  {
   "cell_type": "markdown",
   "id": "cbfdbe40",
   "metadata": {},
   "source": [
    "Create a crystal input object"
   ]
  },
  {
   "cell_type": "code",
   "execution_count": 7,
   "id": "ed435d4f",
   "metadata": {},
   "outputs": [
    {
     "data": {
      "text/plain": [
       "['MGO BULK - GEOMETRY TEST\\n',\n",
       " 'CRYSTAL\\n',\n",
       " '0 0 0\\n',\n",
       " '225\\n',\n",
       " '4.217\\n',\n",
       " '2\\n',\n",
       " '12 0.    0.    0.\\n',\n",
       " '8 0.5   0.5   0.5\\n',\n",
       " 'OPTGEOM\\n',\n",
       " 'END\\n',\n",
       " 'END\\n']"
      ]
     },
     "execution_count": 7,
     "metadata": {},
     "output_type": "execute_result"
    }
   ],
   "source": [
    "mgo_input = Crystal_input('data/mgo.d12')\n",
    "mgo_input.sp_to_opt()\n",
    "mgo_input.geom_block"
   ]
  },
  {
   "cell_type": "markdown",
   "id": "fe2d3647",
   "metadata": {},
   "source": [
    "### Crystal_output class"
   ]
  },
  {
   "cell_type": "code",
   "execution_count": 29,
   "id": "0a495139",
   "metadata": {},
   "outputs": [],
   "source": [
    "from crystal_functions.file_readwrite import Crystal_output"
   ]
  },
  {
   "cell_type": "code",
   "execution_count": 34,
   "id": "bfb6e6f8",
   "metadata": {},
   "outputs": [
    {
     "data": {
      "text/plain": [
       "-7495.341792877063"
      ]
     },
     "execution_count": 34,
     "metadata": {},
     "output_type": "execute_result"
    }
   ],
   "source": [
    "mgo_output = Crystal_output('data/mgo_optgeom.out')\n",
    "mgo_output.final_energy()"
   ]
  },
  {
   "cell_type": "markdown",
   "id": "58b3f761",
   "metadata": {},
   "source": [
    "#### Functions and properties"
   ]
  },
  {
   "cell_type": "code",
   "execution_count": 25,
   "id": "0bf048c7",
   "metadata": {},
   "outputs": [
    {
     "name": "stdout",
     "output_type": "stream",
     "text": [
      "Final energy = -7495.341792877063 eV \n",
      "\n",
      "Fermi energy = -4.13671240282 eV \n",
      "\n",
      "Primitive lattice \n",
      " [[0.     2.1085 2.1085]\n",
      " [2.1085 0.     2.1085]\n",
      " [2.1085 2.1085 0.    ]] \n",
      "\n",
      "Reciprocal lattice \n",
      " [[-1.48996571  1.48996571  1.48996571]\n",
      " [ 1.48996571 -1.48996571  1.48996571]\n",
      " [ 1.48996571  1.48996571 -1.48996571]] \n",
      "\n",
      "Band gap = 7.1237 eV \n",
      "\n",
      "Last geometry = \n",
      " [[0.         0.         0.        ]\n",
      " [2.12011001 2.12011001 2.12011001]] \n",
      "\n",
      "Symmetry operators = \n",
      " [['1.00' '0.00' '0.00' '0.00' '1.00' '0.00' '0.00' '0.00' '1.00' '0.00'\n",
      "  '0.00' '0.00']\n",
      " ['0.00' '1.00' '0.00' '1.00' '0.00' '0.00' '-1.00' '-1.00' '-1.00'\n",
      "  '0.00' '0.00' '0.00']\n",
      " ['-1.00' '-1.00' '-1.00' '0.00' '0.00' '1.00' '0.00' '1.00' '0.00'\n",
      "  '0.00' '0.00' '0.00']\n",
      " ['0.00' '0.00' '1.00' '-1.00' '-1.00' '-1.00' '1.00' '0.00' '0.00'\n",
      "  '0.00' '0.00' '0.00']\n",
      " ['0.00' '0.00' '1.00' '1.00' '0.00' '0.00' '0.00' '1.00' '0.00' '0.00'\n",
      "  '0.00' '0.00']\n",
      " ['0.00' '1.00' '0.00' '0.00' '0.00' '1.00' '1.00' '0.00' '0.00' '0.00'\n",
      "  '0.00' '0.00']\n",
      " ['1.00' '0.00' '0.00' '0.00' '0.00' '1.00' '-1.00' '-1.00' '-1.00'\n",
      "  '0.00' '0.00' '0.00']\n",
      " ['1.00' '0.00' '0.00' '-1.00' '-1.00' '-1.00' '0.00' '1.00' '0.00'\n",
      "  '0.00' '0.00' '0.00']\n",
      " ['-1.00' '-1.00' '-1.00' '0.00' '1.00' '0.00' '1.00' '0.00' '0.00'\n",
      "  '0.00' '0.00' '0.00']\n",
      " ['0.00' '0.00' '1.00' '0.00' '1.00' '0.00' '-1.00' '-1.00' '-1.00'\n",
      "  '0.00' '0.00' '0.00']\n",
      " ['0.00' '1.00' '0.00' '-1.00' '-1.00' '-1.00' '0.00' '0.00' '1.00'\n",
      "  '0.00' '0.00' '0.00']\n",
      " ['-1.00' '-1.00' '-1.00' '1.00' '0.00' '0.00' '0.00' '0.00' '1.00'\n",
      "  '0.00' '0.00' '0.00']\n",
      " ['0.00' '-1.00' '0.00' '-1.00' '0.00' '0.00' '0.00' '0.00' '-1.00'\n",
      "  '0.00' '0.00' '0.00']\n",
      " ['-1.00' '0.00' '0.00' '0.00' '-1.00' '0.00' '1.00' '1.00' '1.00' '0.00'\n",
      "  '0.00' '0.00']\n",
      " ['0.00' '0.00' '-1.00' '1.00' '1.00' '1.00' '0.00' '-1.00' '0.00' '0.00'\n",
      "  '0.00' '0.00']\n",
      " ['1.00' '1.00' '1.00' '0.00' '0.00' '-1.00' '-1.00' '0.00' '0.00' '0.00'\n",
      "  '0.00' '0.00']\n",
      " ['-1.00' '0.00' '0.00' '0.00' '0.00' '-1.00' '0.00' '-1.00' '0.00'\n",
      "  '0.00' '0.00' '0.00']\n",
      " ['0.00' '0.00' '-1.00' '0.00' '-1.00' '0.00' '-1.00' '0.00' '0.00'\n",
      "  '0.00' '0.00' '0.00']\n",
      " ['0.00' '0.00' '-1.00' '-1.00' '0.00' '0.00' '1.00' '1.00' '1.00' '0.00'\n",
      "  '0.00' '0.00']\n",
      " ['1.00' '1.00' '1.00' '-1.00' '0.00' '0.00' '0.00' '-1.00' '0.00' '0.00'\n",
      "  '0.00' '0.00']\n",
      " ['0.00' '-1.00' '0.00' '1.00' '1.00' '1.00' '-1.00' '0.00' '0.00' '0.00'\n",
      "  '0.00' '0.00']\n",
      " ['0.00' '-1.00' '0.00' '0.00' '0.00' '-1.00' '1.00' '1.00' '1.00' '0.00'\n",
      "  '0.00' '0.00']\n",
      " ['1.00' '1.00' '1.00' '0.00' '-1.00' '0.00' '0.00' '0.00' '-1.00' '0.00'\n",
      "  '0.00' '0.00']\n",
      " ['-1.00' '0.00' '0.00' '1.00' '1.00' '1.00' '0.00' '0.00' '-1.00' '0.00'\n",
      "  '0.00' '0.00']\n",
      " ['-1.00' '0.00' '0.00' '0.00' '-1.00' '0.00' '0.00' '0.00' '-1.00'\n",
      "  '0.00' '0.00' '0.00']\n",
      " ['0.00' '-1.00' '0.00' '-1.00' '0.00' '0.00' '1.00' '1.00' '1.00' '0.00'\n",
      "  '0.00' '0.00']\n",
      " ['1.00' '1.00' '1.00' '0.00' '0.00' '-1.00' '0.00' '-1.00' '0.00' '0.00'\n",
      "  '0.00' '0.00']\n",
      " ['0.00' '0.00' '-1.00' '1.00' '1.00' '1.00' '-1.00' '0.00' '0.00' '0.00'\n",
      "  '0.00' '0.00']\n",
      " ['0.00' '0.00' '-1.00' '-1.00' '0.00' '0.00' '0.00' '-1.00' '0.00'\n",
      "  '0.00' '0.00' '0.00']\n",
      " ['0.00' '-1.00' '0.00' '0.00' '0.00' '-1.00' '-1.00' '0.00' '0.00'\n",
      "  '0.00' '0.00' '0.00']\n",
      " ['-1.00' '0.00' '0.00' '0.00' '0.00' '-1.00' '1.00' '1.00' '1.00' '0.00'\n",
      "  '0.00' '0.00']\n",
      " ['-1.00' '0.00' '0.00' '1.00' '1.00' '1.00' '0.00' '-1.00' '0.00' '0.00'\n",
      "  '0.00' '0.00']\n",
      " ['1.00' '1.00' '1.00' '0.00' '-1.00' '0.00' '-1.00' '0.00' '0.00' '0.00'\n",
      "  '0.00' '0.00']\n",
      " ['0.00' '0.00' '-1.00' '0.00' '-1.00' '0.00' '1.00' '1.00' '1.00' '0.00'\n",
      "  '0.00' '0.00']\n",
      " ['0.00' '-1.00' '0.00' '1.00' '1.00' '1.00' '0.00' '0.00' '-1.00' '0.00'\n",
      "  '0.00' '0.00']\n",
      " ['1.00' '1.00' '1.00' '-1.00' '0.00' '0.00' '0.00' '0.00' '-1.00' '0.00'\n",
      "  '0.00' '0.00']\n",
      " ['0.00' '1.00' '0.00' '1.00' '0.00' '0.00' '0.00' '0.00' '1.00' '0.00'\n",
      "  '0.00' '0.00']\n",
      " ['1.00' '0.00' '0.00' '0.00' '1.00' '0.00' '-1.00' '-1.00' '-1.00'\n",
      "  '0.00' '0.00' '0.00']\n",
      " ['0.00' '0.00' '1.00' '-1.00' '-1.00' '-1.00' '0.00' '1.00' '0.00'\n",
      "  '0.00' '0.00' '0.00']\n",
      " ['-1.00' '-1.00' '-1.00' '0.00' '0.00' '1.00' '1.00' '0.00' '0.00'\n",
      "  '0.00' '0.00' '0.00']\n",
      " ['1.00' '0.00' '0.00' '0.00' '0.00' '1.00' '0.00' '1.00' '0.00' '0.00'\n",
      "  '0.00' '0.00']\n",
      " ['0.00' '0.00' '1.00' '0.00' '1.00' '0.00' '1.00' '0.00' '0.00' '0.00'\n",
      "  '0.00' '0.00']\n",
      " ['0.00' '0.00' '1.00' '1.00' '0.00' '0.00' '-1.00' '-1.00' '-1.00'\n",
      "  '0.00' '0.00' '0.00']\n",
      " ['-1.00' '-1.00' '-1.00' '1.00' '0.00' '0.00' '0.00' '1.00' '0.00'\n",
      "  '0.00' '0.00' '0.00']\n",
      " ['0.00' '1.00' '0.00' '-1.00' '-1.00' '-1.00' '1.00' '0.00' '0.00'\n",
      "  '0.00' '0.00' '0.00']\n",
      " ['0.00' '1.00' '0.00' '0.00' '0.00' '1.00' '-1.00' '-1.00' '-1.00'\n",
      "  '0.00' '0.00' '0.00']\n",
      " ['-1.00' '-1.00' '-1.00' '0.00' '1.00' '0.00' '0.00' '0.00' '1.00'\n",
      "  '0.00' '0.00' '0.00']\n",
      " ['1.00' '0.00' '0.00' '-1.00' '-1.00' '-1.00' '0.00' '0.00' '1.00'\n",
      "  '0.00' '0.00' '0.00']] \n",
      "\n",
      "Forces on atoms = \n",
      " [[-4.18889278e-16 -4.11372640e-16 -4.14981546e-16]\n",
      " [ 4.14263349e-16  4.13107364e-16  4.14981546e-16]] \n",
      " Forces on cell = \n",
      " [[-0.00148273  0.00148273  0.00148273]\n",
      " [ 0.00148273 -0.00148273  0.00148273]\n",
      " [ 0.00148273  0.00148273 -0.00148273]] \n",
      " Gradient = \n",
      " ['0.020466', '0.004693', '0.000069', '0.000032'] \n",
      "\n",
      "Total energy = \n",
      " [-274.76833675 -275.2516679  -275.43320012 -275.44853243 -275.44858649\n",
      " -275.44859107 -275.44859113 -275.44859114] \n",
      " Delta energy = \n",
      " [-2.75e+02 -4.83e-01 -1.82e-01 -1.53e-02 -5.41e-05 -4.58e-06 -6.45e-08\n",
      " -3.77e-09] \n",
      "\n"
     ]
    }
   ],
   "source": [
    "#Final energy\n",
    "print(\"Final energy = %s eV \\n\" % mgo_output.final_energy())\n",
    "\n",
    "#Fermi energy\n",
    "print(\"Fermi energy = %s eV \\n\" % mgo_output.fermi_energy())\n",
    "\n",
    "#Primitive lattice\n",
    "print(\"Primitive lattice \\n %s \\n\" % mgo_output.primitive_lattice())\n",
    "\n",
    "#Reciprocal lattice\n",
    "print(\"Reciprocal lattice \\n %s \\n\" % mgo_output.reciprocal_lattice())\n",
    "\n",
    "#Band gap\n",
    "print(\"Band gap = %s eV \\n\" % mgo_output.get_band_gap())\n",
    "\n",
    "#Last geometry\n",
    "mgo_output.extract_last_geom(print_cart=False)\n",
    "print(\"Last geometry = \\n %s \\n\" % mgo_output.atom_positions_cart)\n",
    "\n",
    "#Symmetry operators\n",
    "print(\"Symmetry operators = \\n %s \\n\" % mgo_output.symm_ops())\n",
    "\n",
    "#Forces\n",
    "print(\"Forces on atoms = \\n %s \\n Forces on cell = \\n %s \\n Gradient = \\n %s \\n\" % (mgo_output.forces(grad=True)[0],\n",
    "                                                                                    mgo_output.forces(grad=True)[1],\n",
    "                                                                                    mgo_output.grad))\n",
    "#Scf convergence\n",
    "print(\"Total energy = \\n %s \\n Delta energy = \\n %s \\n\" % (mgo_output.scf_convergence()[0],\n",
    "                                                           mgo_output.scf_convergence()[1]))"
   ]
  },
  {
   "cell_type": "markdown",
   "id": "bb1f72fe",
   "metadata": {},
   "source": [
    "### Bands class"
   ]
  },
  {
   "cell_type": "code",
   "execution_count": 1,
   "id": "844eb99c",
   "metadata": {},
   "outputs": [
    {
     "ename": "ModuleNotFoundError",
     "evalue": "No module named 'crystal_functions'",
     "output_type": "error",
     "traceback": [
      "\u001b[0;31m---------------------------------------------------------------------------\u001b[0m",
      "\u001b[0;31mModuleNotFoundError\u001b[0m                       Traceback (most recent call last)",
      "Input \u001b[0;32mIn [1]\u001b[0m, in \u001b[0;36m<cell line: 4>\u001b[0;34m()\u001b[0m\n\u001b[1;32m      1\u001b[0m \u001b[38;5;28;01mimport\u001b[39;00m \u001b[38;5;21;01msys\u001b[39;00m\n\u001b[1;32m      2\u001b[0m sys\u001b[38;5;241m.\u001b[39mpath\u001b[38;5;241m.\u001b[39minsert(\u001b[38;5;241m1\u001b[39m, \u001b[38;5;124m'\u001b[39m\u001b[38;5;124m../crystal_functions/\u001b[39m\u001b[38;5;124m'\u001b[39m)\n\u001b[0;32m----> 4\u001b[0m \u001b[38;5;28;01mfrom\u001b[39;00m \u001b[38;5;21;01mcrystal_functions\u001b[39;00m\u001b[38;5;21;01m.\u001b[39;00m\u001b[38;5;21;01mfile_readwrite\u001b[39;00m \u001b[38;5;28;01mimport\u001b[39;00m Crystal_bands\n",
      "\u001b[0;31mModuleNotFoundError\u001b[0m: No module named 'crystal_functions'"
     ]
    }
   ],
   "source": [
    "import sys\n",
    "sys.path.insert(1, '../crystal_functions/')\n",
    "\n",
    "from crystal_functions.file_readwrite import Crystal_bands"
   ]
  },
  {
   "cell_type": "code",
   "execution_count": 1,
   "id": "47123ef7",
   "metadata": {
    "collapsed": true
   },
   "outputs": [
    {
     "name": "stdout",
     "output_type": "stream",
     "text": [
      "[[ -46.502     ]\n",
      " [-511.710377  ]\n",
      " [ -75.90347916]\n",
      " [ -41.70419164]\n",
      " [ -41.70419164]\n",
      " [ -41.70419164]\n",
      " [ -18.37232094]\n",
      " [   0.        ]\n",
      " [   0.        ]\n",
      " [   0.        ]\n",
      " [   7.12367241]\n",
      " [  26.78499736]\n",
      " [  26.78499736]\n",
      " [  26.78499736]\n",
      " [  42.0280073 ]\n",
      " [  42.0280073 ]\n",
      " [  42.0280073 ]\n",
      " [  45.12738576]\n",
      " [  89.85748508]\n",
      " [  89.85748508]\n",
      " [  89.85748508]\n",
      " [ 117.19405752]\n",
      " [ 121.77917842]\n",
      " [ 121.77917842]\n",
      " [ 121.77917842]\n",
      " [ 151.3498068 ]]\n"
     ]
    },
    {
     "data": {
      "image/png": "[encoded data removed]",
      "text/plain": [
       "<Figure size 576x576 with 1 Axes>"
      ]
     },
     "metadata": {
      "needs_background": "light"
     },
     "output_type": "display_data"
    }
   ],
   "source": [
    "import sys\n",
    "sys.path.insert(1, '../crystal_functions/')\n",
    "\n",
    "from file_readwrite import Crystal_properties\n",
    "mgo_bands = Crystal_properties('data/mgo_BAND_dat.BAND')\n",
    "mgo_bands.read_bands()\n",
    "\n",
    "from plot import plot_cry_bands\n",
    "plot_cry_bands(mgo_bands)"
   ]
  },
  {
   "cell_type": "code",
   "execution_count": 18,
   "id": "168f8919",
   "metadata": {},
   "outputs": [
    {
     "data": {
      "text/plain": [
       "array([-511.710377, -511.710377, -511.710377, -511.710377, -511.710377,\n",
       "       -511.710377, -511.710377, -511.710377, -511.710377, -511.710377,\n",
       "       -511.710377, -511.710377, -511.710377, -511.710377, -511.710377,\n",
       "       -511.710377, -511.710377, -511.710377, -511.710377, -511.710377,\n",
       "       -511.710377, -511.710377, -511.710377, -511.710377, -511.710377,\n",
       "       -511.710377, -511.710377, -511.710377, -511.710377, -511.710377,\n",
       "       -511.710377, -511.710377, -511.710377, -511.710377, -511.710377,\n",
       "       -511.710377, -511.710377, -511.710377, -511.710377, -511.710377,\n",
       "       -511.710377, -511.710377, -511.710377, -511.710377, -511.710377,\n",
       "       -511.710377, -511.710377, -511.710377, -511.710377, -511.710377,\n",
       "       -511.710377, -511.710377, -511.710377, -511.710377, -511.710377,\n",
       "       -511.710377, -511.710377, -511.710377, -511.710377, -511.710377,\n",
       "       -511.710377, -511.710377, -511.710377, -511.710377, -511.710377,\n",
       "       -511.710377, -511.710377, -511.710377, -511.710377, -511.710377,\n",
       "       -511.710377, -511.710377, -511.710377, -511.710377, -511.710377,\n",
       "       -511.710377, -511.710377, -511.710377, -511.710377, -511.710377,\n",
       "       -511.710377, -511.710377, -511.710377, -511.710377, -511.710377,\n",
       "       -511.710377, -511.710377, -511.710377, -511.710377, -511.710377,\n",
       "       -511.710377, -511.710377, -511.710377, -511.710377, -511.710377,\n",
       "       -511.710377, -511.710377, -511.710377, -511.710377, -511.710377,\n",
       "       -511.710377, -511.710377, -511.710377, -511.710377, -511.710377,\n",
       "       -511.710377, -511.710377, -511.710377, -511.710377, -511.710377,\n",
       "       -511.710377, -511.710377, -511.710377, -511.710377, -511.710377,\n",
       "       -511.710377, -511.710377, -511.710377, -511.710377, -511.710377,\n",
       "       -511.710377, -511.710377, -511.710377, -511.710377, -511.710377,\n",
       "       -511.710377, -511.710377, -511.710377, -511.710377, -511.710377,\n",
       "       -511.710377, -511.710377, -511.710377, -511.710377, -511.710377,\n",
       "       -511.710377, -511.710377, -511.710377, -511.710377, -511.710377,\n",
       "       -511.710377, -511.710377, -511.710377, -511.710377, -511.710377,\n",
       "       -511.710377, -511.710377, -511.710377, -511.710377, -511.710377,\n",
       "       -511.710377, -511.710377, -511.710377, -511.710377, -511.710377,\n",
       "       -511.710377, -511.710377, -511.710377, -511.710377, -511.710377,\n",
       "       -511.710377, -511.710377, -511.710377, -511.710377, -511.710377,\n",
       "       -511.710377, -511.710377, -511.710377, -511.710377, -511.710377,\n",
       "       -511.710377, -511.710377, -511.710377, -511.710377, -511.710377,\n",
       "       -511.710377, -511.710377, -511.710377, -511.710377, -511.710377,\n",
       "       -511.710377, -511.710377, -511.710377, -511.710377, -511.710377,\n",
       "       -511.710377, -511.710377, -511.710377, -511.710377, -511.710377,\n",
       "       -511.710377, -511.710377, -511.710377, -511.710377, -511.710377,\n",
       "       -511.710377, -511.710377, -511.710377, -511.710377, -511.710377,\n",
       "       -511.710377])"
      ]
     },
     "execution_count": 18,
     "metadata": {},
     "output_type": "execute_result"
    }
   ],
   "source": [
    "mgo_bands.bands[1,:,0]"
   ]
  },
  {
   "cell_type": "code",
   "execution_count": 3,
   "id": "b1f57691",
   "metadata": {},
   "outputs": [
    {
     "data": {
      "image/png": "[encoded data removed]",
      "text/plain": [
       "<Figure size 576x576 with 1 Axes>"
      ]
     },
     "metadata": {
      "needs_background": "light"
     },
     "output_type": "display_data"
    }
   ],
   "source": []
  },
  {
   "cell_type": "markdown",
   "id": "17e06d40",
   "metadata": {},
   "source": [
    "### Doss class"
   ]
  },
  {
   "cell_type": "code",
   "execution_count": 21,
   "id": "da296dbc",
   "metadata": {},
   "outputs": [],
   "source": [
    "from crystal_functions.file_readwrite import Crystal_doss"
   ]
  },
  {
   "cell_type": "code",
   "execution_count": 22,
   "id": "ec69cfae",
   "metadata": {
    "scrolled": true
   },
   "outputs": [
    {
     "data": {
      "text/plain": [
       "<crystal_functions.file_readwrite.Crystal_doss at 0x10e917f40>"
      ]
     },
     "execution_count": 22,
     "metadata": {},
     "output_type": "execute_result"
    }
   ],
   "source": [
    "mgo_doss = Crystal_doss('data/mgo_DOSS_dat.DOSS')\n",
    "mgo_doss."
   ]
  },
  {
   "cell_type": "markdown",
   "id": "a42b438f",
   "metadata": {},
   "source": [
    "### write_cry_input function"
   ]
  },
  {
   "cell_type": "code",
   "execution_count": 10,
   "id": "2417bd82",
   "metadata": {},
   "outputs": [],
   "source": [
    "from crystal_functions.file_readwrite import Crystal_input\n",
    "from crystal_functions.file_readwrite import write_cry_input"
   ]
  },
  {
   "cell_type": "code",
   "execution_count": 11,
   "id": "f008e190",
   "metadata": {},
   "outputs": [],
   "source": [
    "#Write input starting from original input\n",
    "#Read the original input\n",
    "mgo_original_input = Crystal_input('data/mgo.d12')\n",
    "\n",
    "#Write the input\n",
    "new_input_name = 'data/mgo_from_file.d12'\n",
    "write_cry_input(new_input_name,crystal_input=mgo_original_input)"
   ]
  },
  {
   "cell_type": "code",
   "execution_count": 12,
   "id": "c894748b",
   "metadata": {},
   "outputs": [],
   "source": [
    "#Write input starting from blocks\n",
    "#Define the blocks\n",
    "geom_block = ['MGO BULK - GEOMETRY TEST\\n',\n",
    " 'CRYSTAL\\n',\n",
    " '0 0 0\\n',\n",
    " '225\\n',\n",
    " '4.217\\n',\n",
    " '2\\n',\n",
    " '12 0.    0.    0.\\n',\n",
    " '8 0.5   0.5   0.5\\n',\n",
    " 'END\\n']\n",
    "bs_block = ['12 4\\n',\n",
    " '0 0 8 2.0 1.0\\n',\n",
    " ' 68370.0 0.0002226\\n',\n",
    " ' 9661.0 0.001901\\n',\n",
    " ' 2041.0 0.011042\\n',\n",
    " ' 529.6 0.05005\\n',\n",
    " ' 159.17 0.1690\\n',\n",
    " ' 54.71 0.36695\\n',\n",
    " ' 21.236 0.4008\\n',\n",
    " ' 8.791 0.1487\\n',\n",
    " '0 1 5 8.0 1.0\\n',\n",
    " ' 143.7 -0.00671 0.00807\\n',\n",
    " ' 31.27 -0.07927 0.06401\\n',\n",
    " ' 9.661 -0.08088 0.2092\\n',\n",
    " ' 3.726 0.2947 0.3460\\n',\n",
    " ' 1.598 0.5714 0.3731\\n',\n",
    " '0 1 1 2.0 1.0\\n',\n",
    " ' 0.688 1.0 1.0\\n',\n",
    " '0 1 1 0.0 1.0\\n',\n",
    " ' 0.28 1.0 1.0\\n',\n",
    " '8 4\\n',\n",
    " '0 0 8 2.0 1.0\\n',\n",
    " ' 8020.0 0.00108\\n',\n",
    " ' 1338.0 0.00804\\n',\n",
    " ' 255.4 0.05324\\n',\n",
    " ' 69.22 0.1681\\n',\n",
    " ' 23.90 0.3581\\n',\n",
    " ' 9.264 0.3855\\n',\n",
    " ' 3.851 0.1468\\n',\n",
    " ' 1.212 0.0728\\n',\n",
    " '0 1 4 6.0 1.0\\n',\n",
    " ' 49.43 -0.00883 0.00958\\n',\n",
    " ' 10.47 -0.0915 0.0696\\n',\n",
    " ' 3.235 -0.0402 0.2065\\n',\n",
    " ' 1.217 0.379 0.347\\n',\n",
    " '0 1 1 0.0 1.0\\n',\n",
    " ' 0.4764 1.0 1.0\\n',\n",
    " '0 1 1 0.0 1.0\\n',\n",
    " ' 0.1802 1.0 1.0\\n',\n",
    " '99 0\\n',\n",
    " 'ENDBS\\n']\n",
    "func_block = ['DFT\\n', 'B3LYP\\n', 'XXLGRID\\n', 'ENDDFT\\n']\n",
    "scf_block = [['TOLINTEG\\n', '7 7 7 7 14\\n'],\n",
    " ['SHRINK\\n', '12 24\\n'],\n",
    " ['MAXCYCLE\\n', '200\\n'],\n",
    " ['FMIXING\\n', '70\\n'],\n",
    " 'DIIS\\n',\n",
    " 'ENDSCF\\n']\n",
    "\n",
    "#Write the input\n",
    "new_input_name = 'data/mgo_from_blocks.d12'\n",
    "write_cry_input(new_input_name,crystal_blocks=[geom_block,bs_block,func_block,scf_block])"
   ]
  },
  {
   "cell_type": "code",
   "execution_count": 13,
   "id": "a5e86f39",
   "metadata": {},
   "outputs": [
    {
     "name": "stderr",
     "output_type": "stream",
     "text": [
      "<frozen importlib._bootstrap>:228: RuntimeWarning: scipy._lib.messagestream.MessageStream size changed, may indicate binary incompatibility. Expected 56 from C header, got 64 from PyObject\n"
     ]
    },
    {
     "name": "stdout",
     "output_type": "stream",
     "text": [
      "[12, 8] ['0.0 0.0 0.0', '2.1085 2.1085 2.1085']\n"
     ]
    }
   ],
   "source": [
    "#Write input for external object (ASE or pymatgen)\n",
    "#Start from original inout \n",
    "mgo_original_input = Crystal_input('data/mgo.d12')\n",
    "\n",
    "#Generate the external object\n",
    "from pymatgen.core import Structure, Lattice             \n",
    "from pymatgen.symmetry.analyzer import SpacegroupAnalyzer\n",
    "\n",
    "substrate = Structure.from_spacegroup(\"Fm-3m\", Lattice.cubic(4.217), [\"Mg\",\"O\"], [[0, 0, 0],[0.5,0.5,0.5]])\n",
    "substrate_primitive = SpacegroupAnalyzer(substrate).get_primitive_standard_structure() \n",
    "\n",
    "#Write the input\n",
    "new_input_name = 'data/mgo_external_obj.d12'\n",
    "write_cry_input(new_input_name,crystal_input=mgo_original_input,external_obj=substrate_primitive)"
   ]
  },
  {
   "cell_type": "markdown",
   "id": "ac37f16d",
   "metadata": {},
   "source": [
    "### write_cry_properties function"
   ]
  },
  {
   "cell_type": "markdown",
   "id": "1c9d3903",
   "metadata": {},
   "source": [
    "#### bands from k points coordinates"
   ]
  },
  {
   "cell_type": "code",
   "execution_count": 35,
   "id": "1aa05d78",
   "metadata": {},
   "outputs": [],
   "source": [
    "from crystal_functions.file_readwrite import write_cry_properties\n",
    "from crystal_functions.properties import cry_newk, cry_bands\n",
    "\n",
    "#Prepare the newk_block\n",
    "newk_block = cry_newk(12,24)\n",
    "\n",
    "#Prepare the band_block\n",
    "k_path = [[0,0,0],[0.5,0,0],[0.5,0.5,0.5],[0.25,0,0.5]]\n",
    "n_kpoints = 200\n",
    "first_band = 1\n",
    "last_band = 26\n",
    "bands_block = cry_bands(k_path,n_kpoints,first_band,last_band)\n",
    "\n",
    "#Write the input\n",
    "write_cry_properties('data/bands_input_1.d3',bands_block,newk_block)"
   ]
  },
  {
   "cell_type": "code",
   "execution_count": 24,
   "id": "35d046b6",
   "metadata": {},
   "outputs": [
    {
     "data": {
      "text/plain": [
       "['BAND\\n',\n",
       " 'BAND STRUCTURE CALCULATION\\n',\n",
       " '3 4 200 1 26 1 0\\n',\n",
       " '0 0 0  2 0 0\\n',\n",
       " '2 0 0  2 2 2\\n',\n",
       " '2 2 2  1 0 2\\n',\n",
       " 'END\\n']"
      ]
     },
     "execution_count": 24,
     "metadata": {},
     "output_type": "execute_result"
    }
   ],
   "source": [
    "bands_block"
   ]
  },
  {
   "cell_type": "markdown",
   "id": "b74efb1e",
   "metadata": {},
   "source": [
    "#### bands from pymatgen HighSymmKpath object"
   ]
  },
  {
   "cell_type": "code",
   "execution_count": 37,
   "id": "9698e3ba",
   "metadata": {},
   "outputs": [],
   "source": [
    "from pymatgen.symmetry.bandstructure import HighSymmKpath\n",
    "from pymatgen.symmetry.analyzer import SpacegroupAnalyzer\n",
    "from crystal_functions.file_readwrite import write_cry_properties\n",
    "from crystal_functions.file_readwrite import Crystal_output\n",
    "from crystal_functions.convert import cry_out2pmg\n",
    "from crystal_functions.properties import cry_bands, cry_newk\n",
    "\n",
    "#Prepare the newk_block\n",
    "newk_block = cry_newk(12,24)\n",
    "\n",
    "#Read the structure\n",
    "mgo = Crystal_output('data/mgo.out')\n",
    "mgo = cry_out2pmg(mgo)\n",
    "mgo_prim = SpacegroupAnalyzer(mgo).get_primitive_standard_structure(international_monoclinic=False)\n",
    "\n",
    "#Obtain the k path object\n",
    "k_path = HighSymmKpath(mgo_prim)\n",
    "\n",
    "n_kpoints = 200\n",
    "first_band = 1\n",
    "last_band = 26\n",
    "bands_block = cry_bands(k_path,n_kpoints,first_band,last_band)\n",
    "\n",
    "#Write the input\n",
    "write_cry_properties('data/bands_input_2.d3',bands_block,newk_block)"
   ]
  },
  {
   "cell_type": "code",
   "execution_count": 41,
   "id": "90cba974",
   "metadata": {},
   "outputs": [
    {
     "data": {
      "text/plain": [
       "['BAND\\n',\n",
       " 'BAND STRUCTURE CALCULATION\\n',\n",
       " '11 8 200 1 26 1 0\\n',\n",
       " '0 0 0  4 0 4\\n',\n",
       " '4 0 4  4 2 5\\n',\n",
       " '4 2 5  2 2 5\\n',\n",
       " '2 2 5  0 0 0\\n',\n",
       " '0 0 0  4 4 4\\n',\n",
       " '4 4 4  5 2 5\\n',\n",
       " '5 2 5  4 2 5\\n',\n",
       " '4 2 5  4 4 4\\n',\n",
       " '4 4 4  2 2 5\\n',\n",
       " '2 2 5  5 2 5\\n',\n",
       " '5 2 5  4 0 4\\n',\n",
       " 'END\\n']"
      ]
     },
     "execution_count": 41,
     "metadata": {},
     "output_type": "execute_result"
    }
   ],
   "source": [
    "bands_block"
   ]
  },
  {
   "cell_type": "code",
   "execution_count": 28,
   "id": "254c9b5c",
   "metadata": {},
   "outputs": [
    {
     "data": {
      "text/plain": [
       "['BAND\\n',\n",
       " 'BAND STRUCTURE CALCULATION\\n',\n",
       " '11 8 200 1 26 1 0\\n',\n",
       " '0 0 0  4 0 4\\n',\n",
       " '4 0 4  4 2 5\\n',\n",
       " '4 2 5  2 2 5\\n',\n",
       " '2 2 5  0 0 0\\n',\n",
       " '0 0 0  4 4 4\\n',\n",
       " '4 4 4  5 2 5\\n',\n",
       " '5 2 5  4 2 5\\n',\n",
       " '4 2 5  4 4 4\\n',\n",
       " '4 4 4  2 2 5\\n',\n",
       " '2 2 5  5 2 5\\n',\n",
       " '5 2 5  4 0 4\\n',\n",
       " 'END\\n']"
      ]
     },
     "execution_count": 28,
     "metadata": {},
     "output_type": "execute_result"
    }
   ],
   "source": [
    "bands_block"
   ]
  },
  {
   "cell_type": "code",
   "execution_count": 16,
   "id": "248e9606",
   "metadata": {},
   "outputs": [
    {
     "name": "stdout",
     "output_type": "stream",
     "text": [
      "BAND\r\n",
      "BAND STRUCTURE CALCULATION\r\n",
      "11 8 200 1 26 1 0\r\n",
      "0 0 0  4 0 4\r\n",
      "4 0 4  4 2 5\r\n",
      "4 2 5  2 2 5\r\n",
      "2 2 5  0 0 0\r\n",
      "0 0 0  4 4 4\r\n",
      "4 4 4  5 2 5\r\n",
      "5 2 5  4 2 5\r\n",
      "4 2 5  4 4 4\r\n",
      "4 4 4  2 2 5\r\n",
      "2 2 5  5 2 5\r\n",
      "5 2 5  4 0 4\r\n",
      "END\r\n",
      "NEWK\r\n",
      "12 24\r\n",
      "1 0\r\n"
     ]
    }
   ],
   "source": [
    "!cat data/bands_input_2.d3"
   ]
  },
  {
   "cell_type": "markdown",
   "id": "1b252258",
   "metadata": {},
   "source": [
    "#### doss"
   ]
  },
  {
   "cell_type": "code",
   "execution_count": 17,
   "id": "1ce65af5",
   "metadata": {},
   "outputs": [],
   "source": [
    "from crystal_functions.file_readwrite import write_cry_properties\n",
    "from crystal_functions.properties import cry_newk, cry_doss\n",
    "\n",
    "#Prepare the newk_block\n",
    "newk_block = cry_newk(12,24)\n",
    "\n",
    "#Prepare the doss_block\n",
    "\n",
    "doss_block = cry_doss(n_points=200,e_range=[-5,15],plotting_option=2,poly=12,print_option=1)\n",
    "\n",
    "#Write the input\n",
    "write_cry_properties('data/doss_input.d3',doss_block,newk_block)"
   ]
  },
  {
   "cell_type": "markdown",
   "id": "503866da",
   "metadata": {},
   "source": [
    "#### pdoss"
   ]
  },
  {
   "cell_type": "code",
   "execution_count": 18,
   "id": "62c51e8e",
   "metadata": {
    "collapsed": true
   },
   "outputs": [
    {
     "ename": "ModuleNotFoundError",
     "evalue": "No module named 'cry_file_readwrite'",
     "output_type": "error",
     "traceback": [
      "\u001b[0;31m---------------------------------------------------------------------------\u001b[0m",
      "\u001b[0;31mModuleNotFoundError\u001b[0m                       Traceback (most recent call last)",
      "\u001b[0;32m/var/folders/f2/8kc7y9697m59bwltxjd42y300000gn/T/ipykernel_63371/3313207614.py\u001b[0m in \u001b[0;36m<module>\u001b[0;34m\u001b[0m\n\u001b[1;32m      7\u001b[0m \u001b[0;31m#Prepare the pdoss_block\u001b[0m\u001b[0;34m\u001b[0m\u001b[0;34m\u001b[0m\u001b[0m\n\u001b[1;32m      8\u001b[0m \u001b[0mprojections\u001b[0m \u001b[0;34m=\u001b[0m \u001b[0;34m[\u001b[0m\u001b[0;34m[\u001b[0m\u001b[0;36m1\u001b[0m\u001b[0;34m]\u001b[0m\u001b[0;34m,\u001b[0m\u001b[0;34m[\u001b[0m\u001b[0;36m2\u001b[0m\u001b[0;34m]\u001b[0m\u001b[0;34m]\u001b[0m\u001b[0;34m\u001b[0m\u001b[0;34m\u001b[0m\u001b[0m\n\u001b[0;32m----> 9\u001b[0;31m pdoss_block = cry_pdoss(projections,proj_type='atom',n_points=200,band_range=[1,26],\n\u001b[0m\u001b[1;32m     10\u001b[0m                        plotting_option=2,poly=12,print_option=1)\n\u001b[1;32m     11\u001b[0m \u001b[0;34m\u001b[0m\u001b[0m\n",
      "\u001b[0;32m~/miniconda3/envs/test_env/lib/python3.9/site-packages/crystal_functions/properties.py\u001b[0m in \u001b[0;36mcry_pdoss\u001b[0;34m(projections, proj_type, output_file, n_points, band_range, e_range, plotting_option, poly, print_option)\u001b[0m\n\u001b[1;32m    132\u001b[0m \u001b[0;34m\u001b[0m\u001b[0m\n\u001b[1;32m    133\u001b[0m     \u001b[0;32mimport\u001b[0m \u001b[0msys\u001b[0m\u001b[0;34m\u001b[0m\u001b[0;34m\u001b[0m\u001b[0m\n\u001b[0;32m--> 134\u001b[0;31m     \u001b[0;32mfrom\u001b[0m \u001b[0mcry_file_readwrite\u001b[0m \u001b[0;32mimport\u001b[0m \u001b[0mCrystal_output\u001b[0m\u001b[0;34m\u001b[0m\u001b[0;34m\u001b[0m\u001b[0m\n\u001b[0m\u001b[1;32m    135\u001b[0m \u001b[0;34m\u001b[0m\u001b[0m\n\u001b[1;32m    136\u001b[0m     \u001b[0mpdoss_block\u001b[0m \u001b[0;34m=\u001b[0m \u001b[0;34m[\u001b[0m\u001b[0;34m]\u001b[0m\u001b[0;34m\u001b[0m\u001b[0;34m\u001b[0m\u001b[0m\n",
      "\u001b[0;31mModuleNotFoundError\u001b[0m: No module named 'cry_file_readwrite'"
     ]
    }
   ],
   "source": [
    "from crystal_functions.file_readwrite import write_cry_properties\n",
    "from crystal_functions.properties import cry_newk, cry_pdoss\n",
    "\n",
    "#Prepare the newk_block\n",
    "newk_block = cry_newk(12,24)\n",
    "\n",
    "#Prepare the pdoss_block\n",
    "projections = [[1],[2]]\n",
    "pdoss_block = cry_pdoss(projections,proj_type='atom',n_points=200,band_range=[1,26],\n",
    "                       plotting_option=2,poly=12,print_option=1)\n",
    "\n",
    "#Write the input\n",
    "write_cry_properties('data/pdoss_input.d3',pdoss_block,newk_block)"
   ]
  },
  {
   "cell_type": "code",
   "execution_count": 19,
   "id": "85e99284",
   "metadata": {},
   "outputs": [
    {
     "name": "stdout",
     "output_type": "stream",
     "text": [
      "DOSS\r\n",
      "2 200 1 26 2 12 1\r\n",
      "-1 1\r\n",
      "-1 2\r\n",
      "END\r\n",
      "NEWK\r\n",
      "12 24\r\n",
      "1 0\r\n"
     ]
    }
   ],
   "source": [
    "!cat data/pdoss_input.d3"
   ]
  },
  {
   "cell_type": "markdown",
   "id": "8666bd36",
   "metadata": {},
   "source": [
    "### write_cry_gui function"
   ]
  },
  {
   "cell_type": "markdown",
   "id": "0b70b5b3",
   "metadata": {},
   "source": [
    "#### from pymatgen structure"
   ]
  },
  {
   "cell_type": "markdown",
   "id": "176df04b",
   "metadata": {},
   "source": [
    "#### bulk (3D)"
   ]
  },
  {
   "cell_type": "code",
   "execution_count": 20,
   "id": "36f7ffd0",
   "metadata": {},
   "outputs": [
    {
     "name": "stdout",
     "output_type": "stream",
     "text": [
      "[12, 12, 12, 12, 8, 8, 8, 8] ['0.0 0.0 0.0', '0.0 2.1085 2.1085', '2.1085 0.0 2.1085', '2.1085 2.1085 0.0', '2.1085 2.1085 2.1085', '2.1085 0.0 0.0', '0.0 2.1085 0.0', '0.0 0.0 2.1085']\n"
     ]
    }
   ],
   "source": [
    "from crystal_functions.file_readwrite import write_cry_gui\n",
    "\n",
    "from pymatgen.core import Structure, Lattice\n",
    "from pymatgen.core.surface import SlabGenerator\n",
    "\n",
    "#Generate bulk structure\n",
    "substrate = Structure.from_spacegroup(\"Fm-3m\", Lattice.cubic(4.217), [\"Mg\",'O'], [[0, 0, 0],[0.5,0.5,0.5]])\n",
    "\n",
    "#The dimensionality parameter is optional. The function will recognise it is a pymatgen bulk object\n",
    "write_cry_gui('data/mgo_write_gui.gui',substrate,dimensionality=3)"
   ]
  },
  {
   "cell_type": "code",
   "execution_count": null,
   "id": "0e385da4",
   "metadata": {},
   "outputs": [],
   "source": [
    "! cat 'data/mgo_write_gui.gui'"
   ]
  },
  {
   "cell_type": "markdown",
   "id": "1133ed57",
   "metadata": {},
   "source": [
    "#### slab (2D)"
   ]
  },
  {
   "cell_type": "code",
   "execution_count": 21,
   "id": "502ec530",
   "metadata": {},
   "outputs": [
    {
     "name": "stdout",
     "output_type": "stream",
     "text": [
      "[12, 12, 12, 12, 8, 8, 8, 8] ['0.0 0.0 0.0', '1.49093 1.49093 18.9765', '0.0 0.0 16.868', '1.49093 1.49093 14.7595', '0.0 0.0 18.9765', '1.49093 1.49093 0.0', '0.0 0.0 14.7595', '1.49093 1.49093 16.868']\n"
     ]
    }
   ],
   "source": [
    "from crystal_functions.file_readwrite import write_cry_gui\n",
    "\n",
    "from pymatgen.core import Structure, Lattice\n",
    "from pymatgen.core.surface import SlabGenerator\n",
    "\n",
    "#Generate bulk structure\n",
    "substrate = Structure.from_spacegroup(\"Fm-3m\", Lattice.cubic(4.217), [\"Mg\",'O'], [[0, 0, 0],[0.5,0.5,0.5]])\n",
    "#Generate slab\n",
    "substrate = SlabGenerator(substrate, (1,0,0), 5., 10., center_slab=False).get_slab()\n",
    "\n",
    "#The dimensionality parameter is optional. The function will recognise it is a pymatgen Slab object\n",
    "write_cry_gui('data/mgo_100_write_gui.gui',substrate,dimensionality=2)"
   ]
  },
  {
   "cell_type": "code",
   "execution_count": 22,
   "id": "df852c28",
   "metadata": {},
   "outputs": [
    {
     "name": "stdout",
     "output_type": "stream",
     "text": [
      "2   1   1\r\n",
      "2.9818692962636706 0.0 0.0000\r\n",
      "-1.8258683445725374e-16 2.9818692962636706 0.00000\r\n",
      "0.0 0.0 500.00000\r\n",
      "8\r\n",
      "1.0 -0.0 0.0\r\n",
      "0.0 1.0 0.0\r\n",
      "0.0 0.0 1.0\r\n",
      "0.0 0.0 0.0\r\n",
      "-1.0 0.0 0.0\r\n",
      "0.0 -1.0 0.0\r\n",
      "-0.0 -0.0 1.0\r\n",
      "0.0 0.0 0.0\r\n",
      "0.0 -1.0 0.0\r\n",
      "-1.0 -0.0 0.0\r\n",
      "-0.0 -0.0 -1.0\r\n",
      "0.0 0.0 0.0\r\n",
      "-0.0 1.0 0.0\r\n",
      "1.0 0.0 0.0\r\n",
      "0.0 0.0 -1.0\r\n",
      "0.0 0.0 0.0\r\n",
      "0.0 1.0 0.0\r\n",
      "-1.0 -0.0 0.0\r\n",
      "-0.0 0.0 -1.0\r\n",
      "0.0 0.0 0.0\r\n",
      "-0.0 -1.0 0.0\r\n",
      "1.0 0.0 0.0\r\n",
      "0.0 -0.0 -1.0\r\n",
      "0.0 0.0 0.0\r\n",
      "-1.0 -0.0 0.0\r\n",
      "0.0 1.0 0.0\r\n",
      "-0.0 -0.0 1.0\r\n",
      "0.0 0.0 0.0\r\n",
      "1.0 0.0 0.0\r\n",
      "0.0 -1.0 0.0\r\n",
      "0.0 -0.0 1.0\r\n",
      "0.0 0.0 0.0\r\n",
      "8\r\n",
      "12 0.0 0.0 0.0\r\n",
      "12 1.49093 1.49093 18.9765\r\n",
      "12 0.0 0.0 16.868\r\n",
      "12 1.49093 1.49093 14.7595\r\n",
      "8 0.0 0.0 18.9765\r\n",
      "8 1.49093 1.49093 0.0\r\n",
      "8 0.0 0.0 14.7595\r\n",
      "8 1.49093 1.49093 16.868\r\n",
      "129 16"
     ]
    }
   ],
   "source": [
    "! cat 'data/mgo_100_write_gui.gui'"
   ]
  }
 ],
 "metadata": {
  "kernelspec": {
   "display_name": "Python 3 (ipykernel)",
   "language": "python",
   "name": "python3"
  },
  "language_info": {
   "codemirror_mode": {
    "name": "ipython",
    "version": 3
   },
   "file_extension": ".py",
   "mimetype": "text/x-python",
   "name": "python",
   "nbconvert_exporter": "python",
   "pygments_lexer": "ipython3",
   "version": "3.9.10"
  }
 },
 "nbformat": 4,
 "nbformat_minor": 5
}
